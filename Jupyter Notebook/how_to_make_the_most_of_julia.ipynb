{
 "cells": [
  {
   "cell_type": "markdown",
   "metadata": {},
   "source": [
    "## Welcome to part 3 of the workshop.\n",
    "##### Here, we will explore ways to make Julia run even faster as well as more advanced packages.\n",
    "\n",
    "# PARALLEL COMPUTING\n",
    "\n",
    "## Threads.jl\n",
    "\n",
    "https://docs.julialang.org/en/v1/manual/multi-threading/"
   ]
  },
  {
   "cell_type": "code",
   "execution_count": 3,
   "metadata": {},
   "outputs": [
    {
     "data": {
      "text/plain": [
       "\"8\""
      ]
     },
     "metadata": {},
     "output_type": "display_data"
    }
   ],
   "source": [
    "# Threads is built in so no need to import it\n",
    "\n",
    "# You can find out how many threads you have active by:\n",
    "# If this number is 1, set ENV[\"JULIA_NUM_THREADS\"] = 8 and restart your kernel\n",
    "\n",
    "Threads.nthreads()"
   ]
  },
  {
   "cell_type": "code",
   "execution_count": 2,
   "metadata": {},
   "outputs": [
    {
     "data": {
      "text/plain": [
       "parallel_loop (generic function with 1 method)"
      ]
     },
     "metadata": {},
     "output_type": "display_data"
    }
   ],
   "source": [
    "# Threads gives us a very useful and powerful macro called 'Threads.@threads'\n",
    "# that lets us run for loops in parallel to speed them up\n",
    "\n",
    "using BenchmarkTools\n",
    "\n",
    "function non_parallel_loop(N)\n",
    "    array_to_be_filled = zeros(Float64, 8);\n",
    "    for i in 1:8\n",
    "        array_to_be_filled[i] = factorial(big(N))/factorial(big(N-1))\n",
    "    end\n",
    "    return array_to_be_filled\n",
    "end\n",
    "\n",
    "function parallel_loop(N)\n",
    "    array_to_be_filled = zeros(Float64, 8);\n",
    "    Threads.@threads for i in 1:8\n",
    "        array_to_be_filled[i] = factorial(big(N))/factorial(big(N-1))\n",
    "    end\n",
    "    return array_to_be_filled\n",
    "end"
   ]
  },
  {
   "cell_type": "code",
   "execution_count": 9,
   "metadata": {},
   "outputs": [
    {
     "name": "stdout",
     "output_type": "stream",
     "text": [
      "  77.713 ms (3793 allocations: 44.34 MiB)\n",
      "  17.366 ms (3834 allocations: 44.35 MiB)\n"
     ]
    }
   ],
   "source": [
    "# Expensive processes get biggest benefits of multithreading\n",
    "@btime non_parallel_loop(100000)\n",
    "@btime parallel_loop(100000);"
   ]
  },
  {
   "cell_type": "code",
   "execution_count": 10,
   "metadata": {},
   "outputs": [
    {
     "name": "stdout",
     "output_type": "stream",
     "text": [
      "  48.375 μs (193 allocations: 20.44 KiB)\n",
      "  24.292 μs (234 allocations: 24.67 KiB)\n"
     ]
    }
   ],
   "source": [
    "# As you can see below, cheaper processes have smaller gains\n",
    "@btime non_parallel_loop(1000)\n",
    "@btime parallel_loop(1000);"
   ]
  },
  {
   "cell_type": "code",
   "execution_count": 11,
   "metadata": {},
   "outputs": [
    {
     "name": "stdout",
     "output_type": "stream",
     "text": [
      "  2.269 μs (113 allocations: 3.81 KiB)\n",
      "  4.583 μs (154 allocations: 8.05 KiB)\n"
     ]
    }
   ],
   "source": [
    "# In some cases, multithreading actually slows things down!\n",
    "@btime non_parallel_loop(1)\n",
    "@btime parallel_loop(1);"
   ]
  },
  {
   "cell_type": "markdown",
   "metadata": {},
   "source": [
    "You must be careful that your code is free of a data race.\n",
    "A data race occurs when two or more threads in a single process access the same memory location concurrently, and at least one of the accesses is for writing,  and the threads are not using any exclusive locks to control their accesses to that memory. \n",
    "\n",
    "Below is an example of where there is a data race."
   ]
  },
  {
   "cell_type": "code",
   "execution_count": null,
   "metadata": {},
   "outputs": [],
   "source": [
    "function sum_multi_bad()\n",
    "    s = 0\n",
    "    Threads.@threads for i in 1:1000\n",
    "        s += i\n",
    "    end\n",
    "    return s\n",
    "end\n",
    "\n",
    "println(sum_multi_bad())\n",
    "println(sum_multi_bad())"
   ]
  },
  {
   "cell_type": "markdown",
   "metadata": {},
   "source": [
    "### EXERCISE 1\n",
    "\n",
    "Provided is an array of 20 matrices of 500x500 size. Your job is to compute the trace (`tr`) of the pseudoinverse (`pinv`) of each matrix, and store it in a sepate array. Do all of this using multithreading."
   ]
  },
  {
   "cell_type": "code",
   "execution_count": null,
   "metadata": {},
   "outputs": [],
   "source": [
    "matrices = [randn(500, 500) for _ in 1:20];\n",
    "\n",
    "##### TODO: CODE BELOW\n",
    "\n",
    "##### TODO: CODE ABOVE"
   ]
  },
  {
   "cell_type": "code",
   "execution_count": null,
   "metadata": {},
   "outputs": [],
   "source": [
    "# CHECK IF YOUR ANSWER IS CORRECT:\n",
    "\n",
    "CORRECT_ANSWER = tr.(pinv.(matrices)) # might take a few seconds to run"
   ]
  },
  {
   "cell_type": "markdown",
   "metadata": {},
   "source": [
    "## Distributed.jl\n",
    "\n",
    "https://docs.julialang.org/en/v1/manual/distributed-computing/\n",
    "\n",
    "Multithreading uses a shared memory and is best run on multiple cores of the same CPU. `Distributed.jl` allows you to create processes that work with separate memory (or on separate computers).\n",
    "\n",
    "`@distributed` provides the same functionality as `Threads.@threads`, but a shared data structure must be used. You can customize this by using Channels, but I won't get into that. The standard library package `SharedArrays.jl` provides this functionality for arrays."
   ]
  },
  {
   "cell_type": "code",
   "execution_count": 6,
   "metadata": {},
   "outputs": [],
   "source": [
    "using Distributed, SharedArrays\n",
    "\n",
    "# THe line below creates workers:\n",
    "\n",
    "addprocs(9 - nprocs())\n",
    "\n",
    "@everywhere using SharedArrays"
   ]
  },
  {
   "cell_type": "code",
   "execution_count": 8,
   "metadata": {},
   "outputs": [
    {
     "name": "stdout",
     "output_type": "stream",
     "text": [
      "  23.168 ms (1722 allocations: 96.03 KiB)\n"
     ]
    }
   ],
   "source": [
    "function distributed_loop(N)\n",
    "    array_to_be_filled = SharedVector{Float64}(8);\n",
    "    @distributed for i in 1:8\n",
    "        array_to_be_filled[i] = factorial(big(N))/factorial(big(N-1))\n",
    "    end\n",
    "    return array_to_be_filled\n",
    "end\n",
    "\n",
    "@btime non_parallel_loop(100000)\n",
    "@btime parallel_loop(100000)\n",
    "@btime distributed_loop(100000);"
   ]
  },
  {
   "cell_type": "code",
   "execution_count": 63,
   "metadata": {},
   "outputs": [
    {
     "data": {
      "text/plain": [
       "1"
      ]
     },
     "metadata": {},
     "output_type": "display_data"
    }
   ],
   "source": [
    "# Remove workers\n",
    "for i in 2:nprocs()+1\n",
    "    rmprocs(i)\n",
    "end\n",
    "nprocs()"
   ]
  },
  {
   "cell_type": "markdown",
   "metadata": {},
   "source": [
    "# ADVANCED DATA STRUCTURES\n",
    "\n",
    "## DataStructures.jl\n",
    "\n",
    "https://juliacollections.github.io/DataStructures.jl/latest/\n",
    "\n",
    "This package allows us to use more interesting data structuers than the ones vanilla Julia provides us."
   ]
  },
  {
   "cell_type": "code",
   "execution_count": 9,
   "metadata": {},
   "outputs": [
    {
     "name": "stderr",
     "output_type": "stream",
     "text": [
      "\u001b[32m\u001b[1m   Resolving\u001b[22m\u001b[39m package versions...\n",
      "\u001b[32m\u001b[1m  No Changes\u001b[22m\u001b[39m to `~/.julia/environments/v1.10/Project.toml`\n",
      "\u001b[32m\u001b[1m  No Changes\u001b[22m\u001b[39m to `~/.julia/environments/v1.10/Manifest.toml`\n"
     ]
    }
   ],
   "source": [
    "using Pkg; Pkg.add(\"DataStructures\")\n",
    "using DataStructures "
   ]
  },
  {
   "cell_type": "code",
   "execution_count": 10,
   "metadata": {},
   "outputs": [
    {
     "data": {
      "text/plain": [
       "DefaultDict{String, Vector{Float64}, Vector{Any}} with 3 entries:\n",
       "  \"C3\" => [0.15352, 0.551711, 0.239829, 0.391283, 0.845971, 0.758001, 0.762192,…\n",
       "  \"B2\" => [0.280648, 0.228827, 0.0368981, 0.469656, 0.329822, 0.502859, 0.29631…\n",
       "  \"A1\" => [0.776883, 0.82019, 0.863056, 0.293879, 0.144432, 0.14913, 0.914107, …"
      ]
     },
     "metadata": {},
     "output_type": "display_data"
    }
   ],
   "source": [
    "# In my opinion, the most useful data structure from this package is the DefaultDict\n",
    "# This works just like a dictionary, but has a default value for each key.\n",
    "# This can be useful if you want to increment/add onto arrays in dictionaries\n",
    "# The default value goes into the parentheses after the definition\n",
    "\n",
    "dict = DefaultDict{String, Vector{Float64}}([]);\n",
    "subjs = [\"A1\", \"B2\", \"C3\"];\n",
    "for subj in subjs\n",
    "    for i in 1:10\n",
    "        push!(dict[subj], rand())\n",
    "    end\n",
    "end\n",
    "display(dict)"
   ]
  },
  {
   "cell_type": "code",
   "execution_count": 13,
   "metadata": {},
   "outputs": [
    {
     "data": {
      "text/plain": [
       "PriorityQueue{String, Int64, Base.Order.ForwardOrdering} with 3 entries:\n",
       "  \"B2\" => 2\n",
       "  \"A1\" => 4\n",
       "  \"C3\" => 10"
      ]
     },
     "metadata": {},
     "output_type": "display_data"
    },
    {
     "data": {
      "text/plain": [
       "\"B2\""
      ]
     },
     "metadata": {},
     "output_type": "display_data"
    },
    {
     "data": {
      "text/plain": [
       "PriorityQueue{String, Int64, Base.Order.ForwardOrdering} with 3 entries:\n",
       "  \"A1\" => 4\n",
       "  \"C3\" => 5\n",
       "  \"B2\" => 8"
      ]
     },
     "metadata": {},
     "output_type": "display_data"
    },
    {
     "data": {
      "text/plain": [
       "\"A1\""
      ]
     },
     "metadata": {},
     "output_type": "display_data"
    }
   ],
   "source": [
    "# The other useful data structure is a PriorityQueue. In this structure, the elements\n",
    "# in your dict will be ordered based on their value.\n",
    "# 'dequeue!' will take out the top key from the queue\n",
    "\n",
    "pq = PriorityQueue{String, Int}()\n",
    "for subj in subjs\n",
    "    pq[subj] = rand(1:10)\n",
    "end\n",
    "display(pq)\n",
    "display(dequeue!(pq))\n",
    "\n",
    "PriorityQueue{String, Int}(Base.Order.Reverse)\n",
    "for subj in subjs\n",
    "    pq[subj] = rand(1:10)\n",
    "end\n",
    "display(pq)\n",
    "display(dequeue!(pq))"
   ]
  },
  {
   "cell_type": "code",
   "execution_count": 15,
   "metadata": {},
   "outputs": [
    {
     "name": "stdout",
     "output_type": "stream",
     "text": [
      "Deque [[1]]\n",
      "Deque [[2, 1]]\n",
      "1\n",
      "2\n"
     ]
    }
   ],
   "source": [
    "# In a Deque (double ended queue), you can efficiently push/pop items from the front or back.\n",
    "# In Julia, Arrays have the same capability, so there's little reason to use 'Deque'\n",
    "\n",
    "d = Deque{Int}()\n",
    "println(push!(d, 1))\n",
    "println(pushfirst!(d, 2))\n",
    "println(pop!(d))\n",
    "println(popfirst!(d))"
   ]
  },
  {
   "cell_type": "code",
   "execution_count": 16,
   "metadata": {},
   "outputs": [
    {
     "name": "stdout",
     "output_type": "stream",
     "text": [
      "3\n",
      "1\n"
     ]
    }
   ],
   "source": [
    "# A 'Stack' provides last-in-first-out (LIFO) access\n",
    "# 'push!' and 'pop!' are used to do this.\n",
    "# A 'Queue' provides first-in-first-out (FIFO) access\n",
    "# 'enqueue!' and 'dequeue!' are used to do this, but again I don't see any real benefit over the standard Arrays\n",
    "\n",
    "s = Stack{Int}()\n",
    "push!(s, 1)\n",
    "push!(s, 2)\n",
    "push!(s, 3)\n",
    "println(pop!(s))\n",
    "\n",
    "q = Queue{Int}()\n",
    "enqueue!(q, 1)\n",
    "enqueue!(q, 2)\n",
    "enqueue!(q, 3)\n",
    "println(dequeue!(q))"
   ]
  },
  {
   "cell_type": "markdown",
   "metadata": {},
   "source": [
    "## DataFrames.jl\n",
    "\n",
    "https://dataframes.juliadata.org/stable/\n",
    "\n",
    "This package is most similar to pandas in Python. Here is a comparison of the functions: https://dataframes.juliadata.org/stable/man/comparisons/"
   ]
  },
  {
   "cell_type": "code",
   "execution_count": 17,
   "metadata": {},
   "outputs": [
    {
     "name": "stderr",
     "output_type": "stream",
     "text": [
      "\u001b[32m\u001b[1m   Resolving\u001b[22m\u001b[39m package versions...\n",
      "\u001b[32m\u001b[1m  No Changes\u001b[22m\u001b[39m to `~/.julia/environments/v1.10/Project.toml`\n",
      "\u001b[32m\u001b[1m  No Changes\u001b[22m\u001b[39m to `~/.julia/environments/v1.10/Manifest.toml`\n"
     ]
    },
    {
     "data": {
      "text/html": [
       "<div><div style = \"float: left;\"><span>2952×10 DataFrame</span></div><div style = \"float: right;\"><span style = \"font-style: italic;\">2927 rows omitted</span></div><div style = \"clear: both;\"></div></div><div class = \"data-frame\" style = \"overflow-x: scroll;\"><table class = \"data-frame\" style = \"margin-bottom: 6px;\"><thead><tr class = \"header\"><th class = \"rowNumber\" style = \"font-weight: bold; text-align: right;\">Row</th><th style = \"text-align: left;\">Brand</th><th style = \"text-align: left;\">Product_Description</th><th style = \"text-align: left;\">Screen_Size</th><th style = \"text-align: left;\">RAM</th><th style = \"text-align: left;\">Processor</th><th style = \"text-align: left;\">GPU</th><th style = \"text-align: left;\">GPU_Type</th><th style = \"text-align: left;\">Resolution</th><th style = \"text-align: left;\">Condition</th><th style = \"text-align: left;\">Price</th></tr><tr class = \"subheader headerLastRow\"><th class = \"rowNumber\" style = \"font-weight: bold; text-align: right;\"></th><th title = \"String15\" style = \"text-align: left;\">String15</th><th title = \"String\" style = \"text-align: left;\">String</th><th title = \"Float64\" style = \"text-align: left;\">Float64</th><th title = \"String7\" style = \"text-align: left;\">String7</th><th title = \"String31\" style = \"text-align: left;\">String31</th><th title = \"Union{Missing, String}\" style = \"text-align: left;\">String?</th><th title = \"Union{Missing, String31}\" style = \"text-align: left;\">String31?</th><th title = \"Union{Missing, String}\" style = \"text-align: left;\">String?</th><th title = \"String31\" style = \"text-align: left;\">String31</th><th title = \"Float64\" style = \"text-align: left;\">Float64</th></tr></thead><tbody><tr><td class = \"rowNumber\" style = \"font-weight: bold; text-align: right;\">1</td><td style = \"text-align: left;\">Lenovo</td><td style = \"text-align: left;\">Lenovo ThinkPad 14” HD Laptop PC Computer Core i5 16GB RAM 256GB SSD Windows 10</td><td style = \"text-align: right;\">14.0</td><td style = \"text-align: left;\">16</td><td style = \"text-align: left;\">Intel Core i5 7th Gen.</td><td style = \"text-align: left;\">Intel HD Graphics 520</td><td style = \"text-align: left;\">Integrated/On-Board Graphics</td><td style = \"font-style: italic; text-align: left;\">missing</td><td style = \"text-align: left;\">Very Good - Refurbished</td><td style = \"text-align: right;\">189.99</td></tr><tr><td class = \"rowNumber\" style = \"font-weight: bold; text-align: right;\">2</td><td style = \"text-align: left;\">Dell</td><td style = \"text-align: left;\">Dell Latitude 15.6&quot; Laptop Intel Core i5 64GB RAM 2TB SSD Wi-Fi Windows 11 Pro</td><td style = \"text-align: right;\">15.6</td><td style = \"text-align: left;\">64</td><td style = \"text-align: left;\">Intel Core i5 8th Gen.</td><td style = \"text-align: left;\">Intel UHD Graphics 620</td><td style = \"text-align: left;\">Integrated/On-Board Graphics</td><td style = \"text-align: left;\">1920 x 1080</td><td style = \"text-align: left;\">Very Good - Refurbished</td><td style = \"text-align: right;\">349.99</td></tr><tr><td class = \"rowNumber\" style = \"font-weight: bold; text-align: right;\">3</td><td style = \"text-align: left;\">HP</td><td style = \"text-align: left;\">NEW HP 15 Laptop. 15.6&quot; 1080p, i5-1135G7, 8GB RAM, 256GB SSD,Win 11 -15-dy2795wm</td><td style = \"text-align: right;\">15.6</td><td style = \"text-align: left;\">8</td><td style = \"text-align: left;\">Intel Core i5 11th Gen.</td><td style = \"text-align: left;\">Intel Iris Xe Graphics</td><td style = \"text-align: left;\">Integrated/On-Board Graphics</td><td style = \"text-align: left;\">1920 x 1080</td><td style = \"text-align: left;\">New</td><td style = \"text-align: right;\">369.95</td></tr><tr><td class = \"rowNumber\" style = \"font-weight: bold; text-align: right;\">4</td><td style = \"text-align: left;\">Lenovo</td><td style = \"text-align: left;\">2024 Lenovo Ideapad Laptop 15 FHD Touch Intel i5 Upto 40GB RAM&amp;2TB SSD Win 11Pro</td><td style = \"text-align: right;\">15.6</td><td style = \"text-align: left;\">Up</td><td style = \"text-align: left;\">Intel Core i5 11th Gen.</td><td style = \"text-align: left;\">Intel Iris Xe Graphics</td><td style = \"text-align: left;\">Integrated/On-Board Graphics</td><td style = \"text-align: left;\">1920 x 1080</td><td style = \"text-align: left;\">New</td><td style = \"text-align: right;\">459.0</td></tr><tr><td class = \"rowNumber\" style = \"font-weight: bold; text-align: right;\">5</td><td style = \"text-align: left;\">Lenovo</td><td style = \"text-align: left;\">2024 Lenovo Ideapad Laptop 15.6&quot; FHD Touch Intel i5 16GB RAM &amp; 512GB Win 11 Pro</td><td style = \"text-align: right;\">15.6</td><td style = \"text-align: left;\">16</td><td style = \"text-align: left;\">Intel Core i5 11th Gen.</td><td style = \"text-align: left;\">Intel Iris Xe Graphics</td><td style = \"text-align: left;\">Integrated/On-Board Graphics</td><td style = \"text-align: left;\">1920 x 1080</td><td style = \"text-align: left;\">New</td><td style = \"text-align: right;\">499.0</td></tr><tr><td class = \"rowNumber\" style = \"font-weight: bold; text-align: right;\">6</td><td style = \"text-align: left;\">Microsoft</td><td style = \"text-align: left;\">Microsoft Surface Laptop 5 13.5&quot; - 512GB SSD, Intel Core i5 12th Gen., 8Gb RAM</td><td style = \"text-align: right;\">13.5</td><td style = \"text-align: left;\">8</td><td style = \"text-align: left;\">Intel Core i5 12th Gen.</td><td style = \"text-align: left;\">Intel Iris Xe Graphics</td><td style = \"text-align: left;\">Integrated/On-Board Graphics</td><td style = \"text-align: left;\">2256 x 1504</td><td style = \"text-align: left;\">Open box</td><td style = \"text-align: right;\">349.0</td></tr><tr><td class = \"rowNumber\" style = \"font-weight: bold; text-align: right;\">7</td><td style = \"text-align: left;\">Lenovo</td><td style = \"text-align: left;\">Lenovo V15 G4 IRU 15.6&quot; Full HD Laptop, i7-1355U, 16GB RAM, 1TB SSD, W11P, Black</td><td style = \"text-align: right;\">15.6</td><td style = \"text-align: left;\">16</td><td style = \"text-align: left;\">Intel Core i7 13th Gen.</td><td style = \"text-align: left;\">Intel Iris Xe Graphics</td><td style = \"text-align: left;\">Integrated/On-Board Graphics</td><td style = \"text-align: left;\">1920 x 1080</td><td style = \"text-align: left;\">Open box</td><td style = \"text-align: right;\">529.98</td></tr><tr><td class = \"rowNumber\" style = \"font-weight: bold; text-align: right;\">8</td><td style = \"text-align: left;\">Dell</td><td style = \"text-align: left;\">Dell Latitude 15.6&quot; Laptop Intel Core i5 64GB RAM 2TB SSD Wi-Fi Windows 10 Pro</td><td style = \"text-align: right;\">15.6</td><td style = \"text-align: left;\">64</td><td style = \"text-align: left;\">Intel Core i5 7th Gen.</td><td style = \"text-align: left;\">Intel HD Graphics 620</td><td style = \"text-align: left;\">Integrated/On-Board Graphics</td><td style = \"text-align: left;\">1920 x 1080</td><td style = \"text-align: left;\">Very Good - Refurbished</td><td style = \"text-align: right;\">319.99</td></tr><tr><td class = \"rowNumber\" style = \"font-weight: bold; text-align: right;\">9</td><td style = \"text-align: left;\">Microsoft</td><td style = \"text-align: left;\">Microsoft Surface Laptop 2 -8th Gen - i5 - 1.70GHz - 8GB RAM - 256GB SSD (937)</td><td style = \"text-align: right;\">13.5</td><td style = \"text-align: left;\">8</td><td style = \"text-align: left;\">Intel Core i5 8th Gen.</td><td style = \"text-align: left;\">Intel HD Graphics 620</td><td style = \"text-align: left;\">Integrated/On-Board Graphics</td><td style = \"text-align: left;\">2256 x 1504</td><td style = \"text-align: left;\">Very Good - Refurbished</td><td style = \"text-align: right;\">245.0</td></tr><tr><td class = \"rowNumber\" style = \"font-weight: bold; text-align: right;\">10</td><td style = \"text-align: left;\">Lenovo</td><td style = \"text-align: left;\">Lenovo ThinkPad T470 14&apos; LCD i5 Laptop PC 16GB RAM 256GB SSD Win 11 pro Cam Wifi</td><td style = \"text-align: right;\">14.0</td><td style = \"text-align: left;\">16</td><td style = \"text-align: left;\">Intel Core i5 6th Gen.</td><td style = \"text-align: left;\">Intel HD Graphics</td><td style = \"text-align: left;\">Integrated/On-Board Graphics</td><td style = \"font-style: italic; text-align: left;\">missing</td><td style = \"text-align: left;\">Excellent - Refurbished</td><td style = \"text-align: right;\">179.99</td></tr><tr><td class = \"rowNumber\" style = \"font-weight: bold; text-align: right;\">11</td><td style = \"text-align: left;\">Lenovo</td><td style = \"text-align: left;\">Lenovo ThinkPad P51 15.6&quot; Laptop i7 NVIDIA 256GB SSD 16GB RAM Win 10 Pro (OC)</td><td style = \"text-align: right;\">15.6</td><td style = \"text-align: left;\">16</td><td style = \"text-align: left;\">Intel Core i7 7th Gen.</td><td style = \"text-align: left;\">NVIDIA Quadro M2200</td><td style = \"text-align: left;\">Dedicated Graphics</td><td style = \"text-align: left;\">1920 x 1080</td><td style = \"text-align: left;\">Very Good - Refurbished</td><td style = \"text-align: right;\">314.96</td></tr><tr><td class = \"rowNumber\" style = \"font-weight: bold; text-align: right;\">12</td><td style = \"text-align: left;\">Dell</td><td style = \"text-align: left;\">New Dell Latitude 5440 256GB SSD, Intel Core i5 13th Gen 4.6GHz, 16GB Laptop</td><td style = \"text-align: right;\">14.0</td><td style = \"text-align: left;\">16</td><td style = \"text-align: left;\">Intel Core i5 13th Gen.</td><td style = \"text-align: left;\">Intel Iris Xe Graphics</td><td style = \"text-align: left;\">Integrated/On-Board Graphics</td><td style = \"text-align: left;\">1920 x 1080</td><td style = \"text-align: left;\">New</td><td style = \"text-align: right;\">550.0</td></tr><tr><td class = \"rowNumber\" style = \"font-weight: bold; text-align: right;\">13</td><td style = \"text-align: left;\">Dell</td><td style = \"text-align: left;\">Dell Latitude 5440 14&quot; Intel Core I5-1335U 16GB RAM 512GB SSD WIN 11 P WARRANTY</td><td style = \"text-align: right;\">14.0</td><td style = \"text-align: left;\">16</td><td style = \"text-align: left;\">Intel Core i5 13th Gen.</td><td style = \"text-align: left;\">Intel Iris Xe Graphics</td><td style = \"text-align: left;\">Integrated/On-Board Graphics</td><td style = \"text-align: left;\">1920 x 1080</td><td style = \"text-align: left;\">Open box</td><td style = \"text-align: right;\">459.0</td></tr><tr><td style = \"text-align: right;\">&vellip;</td><td style = \"text-align: right;\">&vellip;</td><td style = \"text-align: right;\">&vellip;</td><td style = \"text-align: right;\">&vellip;</td><td style = \"text-align: right;\">&vellip;</td><td style = \"text-align: right;\">&vellip;</td><td style = \"text-align: right;\">&vellip;</td><td style = \"text-align: right;\">&vellip;</td><td style = \"text-align: right;\">&vellip;</td><td style = \"text-align: right;\">&vellip;</td><td style = \"text-align: right;\">&vellip;</td></tr><tr><td class = \"rowNumber\" style = \"font-weight: bold; text-align: right;\">2941</td><td style = \"text-align: left;\">Lenovo</td><td style = \"text-align: left;\">NEW Lenovo 21JK0052US ThinkPad E14 Gen 5 14&quot; Touchscreen Notebook - WUXGA Intel</td><td style = \"text-align: right;\">14.0</td><td style = \"text-align: left;\">16</td><td style = \"text-align: left;\">Intel Core i5 13th Gen.</td><td style = \"text-align: left;\">Intel Iris Xe Graphics</td><td style = \"text-align: left;\">Integrated/On-Board Graphics</td><td style = \"text-align: left;\">1900 x 1200</td><td style = \"text-align: left;\">New</td><td style = \"text-align: right;\">64.71</td></tr><tr><td class = \"rowNumber\" style = \"font-weight: bold; text-align: right;\">2942</td><td style = \"text-align: left;\">Lenovo</td><td style = \"text-align: left;\">NEW Lenovo 83CR0005US V15 G4 ABP 15.6&quot; Notebook - Full HD AMD Ryzen 5 5500U 8 GB</td><td style = \"text-align: right;\">15.6</td><td style = \"text-align: left;\">8</td><td style = \"text-align: left;\">AMD Ryzen 5 5000 Series</td><td style = \"text-align: left;\">AMD Radeon Graphics</td><td style = \"text-align: left;\">Integrated/On-Board Graphics</td><td style = \"text-align: left;\">1920 x 1080</td><td style = \"text-align: left;\">New</td><td style = \"text-align: right;\">688.13</td></tr><tr><td class = \"rowNumber\" style = \"font-weight: bold; text-align: right;\">2943</td><td style = \"text-align: left;\">HP</td><td style = \"text-align: left;\">HARMONY Gelish VITAGEL Nail Strengthener LED / UV Light Cured .5 oz 1 Piece</td><td style = \"text-align: right;\">14.0</td><td style = \"text-align: left;\">8</td><td style = \"text-align: left;\">Intel Core i5 6th Gen.</td><td style = \"text-align: left;\">Intel HD Graphics 520</td><td style = \"text-align: left;\">Integrated/On-Board Graphics</td><td style = \"text-align: left;\">1920 x 1080</td><td style = \"text-align: left;\">New</td><td style = \"text-align: right;\">14.85</td></tr><tr><td class = \"rowNumber\" style = \"font-weight: bold; text-align: right;\">2944</td><td style = \"text-align: left;\">Lenovo</td><td style = \"text-align: left;\">NEW Lenovo 82XF001TUS IdeaPad Slim 5 16IRL8 16&quot; Touchscreen Notebook - WUXGA</td><td style = \"text-align: right;\">16.0</td><td style = \"text-align: left;\">16</td><td style = \"text-align: left;\">Intel Core i7 13th Gen.</td><td style = \"text-align: left;\">Intel Iris Xe Graphics</td><td style = \"text-align: left;\">Integrated/On-Board Graphics</td><td style = \"text-align: left;\">1920 x 1200</td><td style = \"text-align: left;\">New</td><td style = \"text-align: right;\">159.56</td></tr><tr><td class = \"rowNumber\" style = \"font-weight: bold; text-align: right;\">2945</td><td style = \"text-align: left;\">Lenovo</td><td style = \"text-align: left;\">Lenovo ThinkPad T15 Gen 2 15.6&quot; FHD i5-1145G7 - 16GB RAM - 1TB SSD - Brand New</td><td style = \"text-align: right;\">15.6</td><td style = \"text-align: left;\">16</td><td style = \"text-align: left;\">Intel Core i5 11th Gen.</td><td style = \"text-align: left;\">Intel Iris Xe Graphics</td><td style = \"text-align: left;\">Integrated/On-Board Graphics</td><td style = \"text-align: left;\">1920 x 1080</td><td style = \"text-align: left;\">New</td><td style = \"text-align: right;\">993.0</td></tr><tr><td class = \"rowNumber\" style = \"font-weight: bold; text-align: right;\">2946</td><td style = \"text-align: left;\">Dell</td><td style = \"text-align: left;\">New Dell XPS 13 9360 FHD Infinity Touch i5-7200U 3.1GHz 8GBRAM 128GBSSD W10H 1Yr</td><td style = \"text-align: right;\">13.3</td><td style = \"text-align: left;\">8</td><td style = \"text-align: left;\">Intel Core i5 7th Gen.</td><td style = \"font-style: italic; text-align: left;\">missing</td><td style = \"text-align: left;\">Integrated/On-Board Graphics</td><td style = \"font-style: italic; text-align: left;\">missing</td><td style = \"text-align: left;\">New</td><td style = \"text-align: right;\">999.96</td></tr><tr><td class = \"rowNumber\" style = \"font-weight: bold; text-align: right;\">2947</td><td style = \"text-align: left;\">Microsoft</td><td style = \"text-align: left;\">Microsoft 12.4&quot; Surface Laptop Go 2 (Intel Core i5, 8GB, 256GB SSD, Sandstone)</td><td style = \"text-align: right;\">12.4</td><td style = \"text-align: left;\">8</td><td style = \"text-align: left;\">Intel Core i5 11th Gen.</td><td style = \"text-align: left;\">Intel Iris Xe Graphics</td><td style = \"text-align: left;\">Integrated/On-Board Graphics</td><td style = \"font-style: italic; text-align: left;\">missing</td><td style = \"text-align: left;\">New</td><td style = \"text-align: right;\">649.99</td></tr><tr><td class = \"rowNumber\" style = \"font-weight: bold; text-align: right;\">2948</td><td style = \"text-align: left;\">Dell</td><td style = \"text-align: left;\">Dell Latitude 7320 i5-1145G7 8GB 256GB BT5 WiFi6 13.3T W10P 2JPFT New WTY ✅❤️️✅❤</td><td style = \"text-align: right;\">13.3</td><td style = \"text-align: left;\">8</td><td style = \"text-align: left;\">Intel Core i5 11th Gen.</td><td style = \"text-align: left;\">Intel Iris Xe Graphics</td><td style = \"text-align: left;\">Integrated/On-Board Graphics</td><td style = \"text-align: left;\">1920 x 1080</td><td style = \"text-align: left;\">Open box</td><td style = \"text-align: right;\">789.99</td></tr><tr><td class = \"rowNumber\" style = \"font-weight: bold; text-align: right;\">2949</td><td style = \"text-align: left;\">MSI</td><td style = \"text-align: left;\">NEW MSI COMPUTER Sword 15 A12UC-295 Sword1512295 A12U 15.6&quot; Gaming Notebook -</td><td style = \"text-align: right;\">15.6</td><td style = \"text-align: left;\">8</td><td style = \"text-align: left;\">Intel Core i5 12th Gen.</td><td style = \"text-align: left;\">NVIDIA GeForce RTX 3050</td><td style = \"text-align: left;\">Dedicated Graphics</td><td style = \"text-align: left;\">1920 x 1080</td><td style = \"text-align: left;\">New</td><td style = \"text-align: right;\">895.55</td></tr><tr><td class = \"rowNumber\" style = \"font-weight: bold; text-align: right;\">2950</td><td style = \"text-align: left;\">Dell</td><td style = \"text-align: left;\">Dell Precision 5550 Workstation 15 15.6 Laptop Core i7 4k uhd Touchscreen F</td><td style = \"text-align: right;\">15.6</td><td style = \"text-align: left;\">8</td><td style = \"text-align: left;\">Intel Core i5 10th Gen.</td><td style = \"text-align: left;\">Intel HD Graphics</td><td style = \"text-align: left;\">Integrated/On-Board Graphics</td><td style = \"text-align: left;\">1920 x 1200</td><td style = \"text-align: left;\">Excellent - Refurbished</td><td style = \"text-align: right;\">635.65</td></tr><tr><td class = \"rowNumber\" style = \"font-weight: bold; text-align: right;\">2951</td><td style = \"text-align: left;\">HP</td><td style = \"text-align: left;\">HP 15 Laptop 15.6&quot; FHD i5-1135G7 8GB RAM 256GB SSD Win 11 -15-dy2795wm</td><td style = \"text-align: right;\">15.6</td><td style = \"text-align: left;\">8</td><td style = \"text-align: left;\">Intel Core i5 11th Gen.</td><td style = \"text-align: left;\">Intel Iris Xe Graphics</td><td style = \"text-align: left;\">Integrated/On-Board Graphics</td><td style = \"text-align: left;\">1920 x 1080</td><td style = \"text-align: left;\">New</td><td style = \"text-align: right;\">405.99</td></tr><tr><td class = \"rowNumber\" style = \"font-weight: bold; text-align: right;\">2952</td><td style = \"text-align: left;\">HP</td><td style = \"text-align: left;\">3 PCS Karlash 6 Column Undated Appointment Book – Six Person Daily and Hourly...</td><td style = \"text-align: right;\">14.0</td><td style = \"text-align: left;\">8</td><td style = \"text-align: left;\">Intel Core i5 6th Gen.</td><td style = \"text-align: left;\">Intel HD Graphics 520</td><td style = \"text-align: left;\">Integrated/On-Board Graphics</td><td style = \"text-align: left;\">1920 x 1080</td><td style = \"text-align: left;\">New</td><td style = \"text-align: right;\">17.5</td></tr></tbody></table></div>"
      ],
      "text/latex": [
       "\\begin{tabular}{r|ccc}\n",
       "\t& Brand & Product\\_Description & \\\\\n",
       "\t\\hline\n",
       "\t& String15 & String & \\\\\n",
       "\t\\hline\n",
       "\t1 & Lenovo & Lenovo ThinkPad 14” HD Laptop PC Computer Core i5 16GB RAM 256GB SSD Windows 10 & $\\dots$ \\\\\n",
       "\t2 & Dell & Dell Latitude 15.6\" Laptop Intel Core i5 64GB RAM 2TB SSD Wi-Fi Windows 11 Pro & $\\dots$ \\\\\n",
       "\t3 & HP & NEW HP 15 Laptop. 15.6\" 1080p, i5-1135G7, 8GB RAM, 256GB SSD,Win 11 -15-dy2795wm & $\\dots$ \\\\\n",
       "\t4 & Lenovo & 2024 Lenovo Ideapad Laptop 15 FHD Touch Intel i5 Upto 40GB RAM\\&2TB SSD Win 11Pro & $\\dots$ \\\\\n",
       "\t5 & Lenovo & 2024 Lenovo Ideapad Laptop 15.6\" FHD Touch Intel i5 16GB RAM \\& 512GB Win 11 Pro & $\\dots$ \\\\\n",
       "\t6 & Microsoft & Microsoft Surface Laptop 5 13.5\" - 512GB SSD, Intel Core i5 12th Gen., 8Gb RAM & $\\dots$ \\\\\n",
       "\t7 & Lenovo & Lenovo V15 G4 IRU 15.6\" Full HD Laptop, i7-1355U, 16GB RAM, 1TB SSD, W11P, Black & $\\dots$ \\\\\n",
       "\t8 & Dell & Dell Latitude 15.6\" Laptop Intel Core i5 64GB RAM 2TB SSD Wi-Fi Windows 10 Pro & $\\dots$ \\\\\n",
       "\t9 & Microsoft & Microsoft Surface Laptop 2 -8th Gen - i5 - 1.70GHz - 8GB RAM - 256GB SSD (937) & $\\dots$ \\\\\n",
       "\t10 & Lenovo & Lenovo ThinkPad T470 14' LCD i5 Laptop PC 16GB RAM 256GB SSD Win 11 pro Cam Wifi & $\\dots$ \\\\\n",
       "\t11 & Lenovo & Lenovo ThinkPad P51 15.6\" Laptop i7 NVIDIA 256GB SSD 16GB RAM Win 10 Pro (OC) & $\\dots$ \\\\\n",
       "\t12 & Dell & New Dell Latitude 5440 256GB SSD, Intel Core i5 13th Gen 4.6GHz, 16GB Laptop & $\\dots$ \\\\\n",
       "\t13 & Dell & Dell Latitude 5440 14\" Intel Core I5-1335U 16GB RAM 512GB SSD WIN 11 P WARRANTY & $\\dots$ \\\\\n",
       "\t14 & Asus & ASUS ROG Flow Z13 120Hz FHD+ i7 RTX 3050 16GB RAM 256GB SSD GZ301ZC-PS73 & $\\dots$ \\\\\n",
       "\t15 & Dell & Dell Latitude 5420 - i7-1185G7 3.0GHz QC 32GB 512GB SSD 14\" FHD Webcam W11P & $\\dots$ \\\\\n",
       "\t16 & Dell & Dell laptop Latitude 7480 14\" i5 2.60GHz 16GB NEW 512GB SSD Win 11 Pro WIFI cam & $\\dots$ \\\\\n",
       "\t17 & Lenovo & Lenovo ThinkPad L13 Gen 2 13.3\" Laptop i5 11th Gen 256GB SSD 8GB RAM Win 10 (OC) & $\\dots$ \\\\\n",
       "\t18 & Asus & ASUS 15.6\" Q530VJ- I73050 512GB SSD Intel Core i7 13th Gen 4.90 GHz 16GB Laptop & $\\dots$ \\\\\n",
       "\t19 & Dell & Dell 5500 15.6\" Touch Light Gaming Laptop Intel Core i5 4.10GHz 64GB RAM 2TB SSD & $\\dots$ \\\\\n",
       "\t20 & Dell & Dell Latitude 5500 Laptop PC Intel Core i5 4.10GHz 64GB RAM 2TB SSD Win 11 Pro & $\\dots$ \\\\\n",
       "\t21 & Dell & Dell Latitude 5414 Rugged 14” Laptop PC Core i5 8GB RAM 256GB SSD Windows 10 Pro & $\\dots$ \\\\\n",
       "\t22 & Dell & Dell Latitude laptop 7300 13.3\" FHD QC i7-8665U 16GB 256gb SSD Win 11 pro WIFI & $\\dots$ \\\\\n",
       "\t23 & Asus & ASUS VivoBook 15.6” (512GB SSD, Intel Core i7-1255U, 4.70GHz, 16GB RAM, Intel... & $\\dots$ \\\\\n",
       "\t24 & Asus & ASUS Vivobook 15.6\" Laptop, i5-1235U, 16GB RAM, 512GB SSD,Wins 11 Home, Blue & $\\dots$ \\\\\n",
       "\t$\\dots$ & $\\dots$ & $\\dots$ &  \\\\\n",
       "\\end{tabular}\n"
      ],
      "text/plain": [
       "\u001b[1m2952×10 DataFrame\u001b[0m\n",
       "\u001b[1m  Row \u001b[0m│\u001b[1m Brand     \u001b[0m\u001b[1m Product_Description               \u001b[0m\u001b[1m Screen_Size \u001b[0m\u001b[1m RAM     \u001b[0m\u001b[1m Pr\u001b[0m ⋯\n",
       "      │\u001b[90m String15  \u001b[0m\u001b[90m String                            \u001b[0m\u001b[90m Float64     \u001b[0m\u001b[90m String7 \u001b[0m\u001b[90m St\u001b[0m ⋯\n",
       "──────┼─────────────────────────────────────────────────────────────────────────\n",
       "    1 │ Lenovo     Lenovo ThinkPad 14” HD Laptop PC…         14.0  16       In ⋯\n",
       "    2 │ Dell       Dell Latitude 15.6\" Laptop Intel…         15.6  64       In\n",
       "    3 │ HP         NEW HP 15 Laptop. 15.6\" 1080p, i…         15.6  8        In\n",
       "    4 │ Lenovo     2024 Lenovo Ideapad Laptop 15 FH…         15.6  Up       In\n",
       "    5 │ Lenovo     2024 Lenovo Ideapad Laptop 15.6\"…         15.6  16       In ⋯\n",
       "    6 │ Microsoft  Microsoft Surface Laptop 5 13.5\"…         13.5  8        In\n",
       "    7 │ Lenovo     Lenovo V15 G4 IRU 15.6\" Full HD …         15.6  16       In\n",
       "    8 │ Dell       Dell Latitude 15.6\" Laptop Intel…         15.6  64       In\n",
       "  ⋮   │     ⋮                      ⋮                       ⋮          ⋮        ⋱\n",
       " 2946 │ Dell       New Dell XPS 13 9360 FHD Infinit…         13.3  8        In ⋯\n",
       " 2947 │ Microsoft  Microsoft 12.4\" Surface Laptop G…         12.4  8        In\n",
       " 2948 │ Dell       Dell Latitude 7320 i5-1145G7 8GB…         13.3  8        In\n",
       " 2949 │ MSI        NEW MSI COMPUTER Sword 15 A12UC-…         15.6  8        In\n",
       " 2950 │ Dell       Dell Precision 5550 Workstation …         15.6  8        In ⋯\n",
       " 2951 │ HP         HP 15 Laptop 15.6\" FHD i5-1135G7…         15.6  8        In\n",
       " 2952 │ HP         3 PCS Karlash 6 Column Undated A…         14.0  8        In\n",
       "\u001b[36m                                                 6 columns and 2937 rows omitted\u001b[0m"
      ]
     },
     "metadata": {},
     "output_type": "display_data"
    }
   ],
   "source": [
    "Pkg.add([\"DataFrames\", \"CSV\"])\n",
    "using DataFrames, CSV\n",
    "\n",
    "# As we've seen in the previous section, it's easy to load CSVs into DataFrames\n",
    "\n",
    "df = CSV.read(\"data/laptops.csv\", DataFrame)"
   ]
  },
  {
   "cell_type": "code",
   "execution_count": 18,
   "metadata": {},
   "outputs": [
    {
     "data": {
      "text/html": [
       "<div><div style = \"float: left;\"><span>10×7 DataFrame</span></div><div style = \"clear: both;\"></div></div><div class = \"data-frame\" style = \"overflow-x: scroll;\"><table class = \"data-frame\" style = \"margin-bottom: 6px;\"><thead><tr class = \"header\"><th class = \"rowNumber\" style = \"font-weight: bold; text-align: right;\">Row</th><th style = \"text-align: left;\">variable</th><th style = \"text-align: left;\">mean</th><th style = \"text-align: left;\">min</th><th style = \"text-align: left;\">median</th><th style = \"text-align: left;\">max</th><th style = \"text-align: left;\">nmissing</th><th style = \"text-align: left;\">eltype</th></tr><tr class = \"subheader headerLastRow\"><th class = \"rowNumber\" style = \"font-weight: bold; text-align: right;\"></th><th title = \"Symbol\" style = \"text-align: left;\">Symbol</th><th title = \"Union{Nothing, Float64}\" style = \"text-align: left;\">Union…</th><th title = \"Any\" style = \"text-align: left;\">Any</th><th title = \"Union{Nothing, Float64}\" style = \"text-align: left;\">Union…</th><th title = \"Any\" style = \"text-align: left;\">Any</th><th title = \"Int64\" style = \"text-align: left;\">Int64</th><th title = \"Type\" style = \"text-align: left;\">Type</th></tr></thead><tbody><tr><td class = \"rowNumber\" style = \"font-weight: bold; text-align: right;\">1</td><td style = \"text-align: left;\">Brand</td><td style = \"font-style: italic; text-align: left;\"></td><td style = \"text-align: left;\">AVITA</td><td style = \"font-style: italic; text-align: left;\"></td><td style = \"text-align: left;\">Sony</td><td style = \"text-align: right;\">0</td><td style = \"text-align: left;\">String15</td></tr><tr><td class = \"rowNumber\" style = \"font-weight: bold; text-align: right;\">2</td><td style = \"text-align: left;\">Product_Description</td><td style = \"font-style: italic; text-align: left;\"></td><td style = \"text-align: left;\">* SEALED NEW * HP ProBook 450 G10 15.6&apos;&apos; 256GB SSD Intel i5-1335U 8GB RAM Laptop</td><td style = \"font-style: italic; text-align: left;\"></td><td style = \"text-align: left;\">🔥New ASUS Vivobook 15.6 FHD TouchScreen Intel Core i7-1255U 16GB 512GB F1502ZA</td><td style = \"text-align: right;\">0</td><td style = \"text-align: left;\">String</td></tr><tr><td class = \"rowNumber\" style = \"font-weight: bold; text-align: right;\">3</td><td style = \"text-align: left;\">Screen_Size</td><td style = \"text-align: left;\">14.5502</td><td style = \"text-align: left;\">10.0</td><td style = \"text-align: left;\">14.0</td><td style = \"text-align: left;\">18.0</td><td style = \"text-align: right;\">0</td><td style = \"text-align: left;\">Float64</td></tr><tr><td class = \"rowNumber\" style = \"font-weight: bold; text-align: right;\">4</td><td style = \"text-align: left;\">RAM</td><td style = \"font-style: italic; text-align: left;\"></td><td style = \"text-align: left;\">12</td><td style = \"font-style: italic; text-align: left;\"></td><td style = \"text-align: left;\">upto</td><td style = \"text-align: right;\">0</td><td style = \"text-align: left;\">String7</td></tr><tr><td class = \"rowNumber\" style = \"font-weight: bold; text-align: right;\">5</td><td style = \"text-align: left;\">Processor</td><td style = \"font-style: italic; text-align: left;\"></td><td style = \"text-align: left;\">AMD Ryzen 3 3000 Series</td><td style = \"font-style: italic; text-align: left;\"></td><td style = \"text-align: left;\">Intel Core i9 9th Gen.</td><td style = \"text-align: right;\">0</td><td style = \"text-align: left;\">String31</td></tr><tr><td class = \"rowNumber\" style = \"font-weight: bold; text-align: right;\">6</td><td style = \"text-align: left;\">GPU</td><td style = \"font-style: italic; text-align: left;\"></td><td style = \"text-align: left;\">AMD FirePro M4100</td><td style = \"font-style: italic; text-align: left;\"></td><td style = \"text-align: left;\">radeon pro wx vega</td><td style = \"text-align: right;\">348</td><td style = \"text-align: left;\">Union{Missing, String}</td></tr><tr><td class = \"rowNumber\" style = \"font-weight: bold; text-align: right;\">7</td><td style = \"text-align: left;\">GPU_Type</td><td style = \"font-style: italic; text-align: left;\"></td><td style = \"text-align: left;\">Dedicated Graphics</td><td style = \"font-style: italic; text-align: left;\"></td><td style = \"text-align: left;\">Iris Xe Graphics</td><td style = \"text-align: right;\">234</td><td style = \"text-align: left;\">Union{Missing, String31}</td></tr><tr><td class = \"rowNumber\" style = \"font-weight: bold; text-align: right;\">8</td><td style = \"text-align: left;\">Resolution</td><td style = \"font-style: italic; text-align: left;\"></td><td style = \"text-align: left;\">1024 x 768</td><td style = \"font-style: italic; text-align: left;\"></td><td style = \"text-align: left;\">Touchscreen</td><td style = \"text-align: right;\">387</td><td style = \"text-align: left;\">Union{Missing, String}</td></tr><tr><td class = \"rowNumber\" style = \"font-weight: bold; text-align: right;\">9</td><td style = \"text-align: left;\">Condition</td><td style = \"font-style: italic; text-align: left;\"></td><td style = \"text-align: left;\">Excellent - Refurbished</td><td style = \"font-style: italic; text-align: left;\"></td><td style = \"text-align: left;\">Very Good - Refurbished</td><td style = \"text-align: right;\">0</td><td style = \"text-align: left;\">String31</td></tr><tr><td class = \"rowNumber\" style = \"font-weight: bold; text-align: right;\">10</td><td style = \"text-align: left;\">Price</td><td style = \"text-align: left;\">517.553</td><td style = \"text-align: left;\">0.0</td><td style = \"text-align: left;\">489.99</td><td style = \"text-align: left;\">999.99</td><td style = \"text-align: right;\">0</td><td style = \"text-align: left;\">Float64</td></tr></tbody></table></div>"
      ],
      "text/latex": [
       "\\begin{tabular}{r|cccc}\n",
       "\t& variable & mean & min & \\\\\n",
       "\t\\hline\n",
       "\t& Symbol & Union… & Any & \\\\\n",
       "\t\\hline\n",
       "\t1 & Brand &  & AVITA & $\\dots$ \\\\\n",
       "\t2 & Product\\_Description &  & * SEALED NEW * HP ProBook 450 G10 15.6'' 256GB SSD Intel i5-1335U 8GB RAM Laptop & $\\dots$ \\\\\n",
       "\t3 & Screen\\_Size & 14.5502 & 10.0 & $\\dots$ \\\\\n",
       "\t4 & RAM &  & 12 & $\\dots$ \\\\\n",
       "\t5 & Processor &  & AMD Ryzen 3 3000 Series & $\\dots$ \\\\\n",
       "\t6 & GPU &  & AMD FirePro M4100 & $\\dots$ \\\\\n",
       "\t7 & GPU\\_Type &  & Dedicated Graphics & $\\dots$ \\\\\n",
       "\t8 & Resolution &  & 1024 x 768 & $\\dots$ \\\\\n",
       "\t9 & Condition &  & Excellent - Refurbished & $\\dots$ \\\\\n",
       "\t10 & Price & 517.553 & 0.0 & $\\dots$ \\\\\n",
       "\\end{tabular}\n"
      ],
      "text/plain": [
       "\u001b[1m10×7 DataFrame\u001b[0m\n",
       "\u001b[1m Row \u001b[0m│\u001b[1m variable            \u001b[0m\u001b[1m mean    \u001b[0m\u001b[1m min                               \u001b[0m\u001b[1m median\u001b[0m ⋯\n",
       "     │\u001b[90m Symbol              \u001b[0m\u001b[90m Union…  \u001b[0m\u001b[90m Any                               \u001b[0m\u001b[90m Union…\u001b[0m ⋯\n",
       "─────┼──────────────────────────────────────────────────────────────────────────\n",
       "   1 │ Brand               \u001b[90m         \u001b[0m AVITA                             \u001b[90m       \u001b[0m ⋯\n",
       "   2 │ Product_Description \u001b[90m         \u001b[0m * SEALED NEW * HP ProBook 450 G1… \u001b[90m       \u001b[0m\n",
       "   3 │ Screen_Size          14.5502  10.0                               14.0\n",
       "   4 │ RAM                 \u001b[90m         \u001b[0m 12                                \u001b[90m       \u001b[0m\n",
       "   5 │ Processor           \u001b[90m         \u001b[0m AMD Ryzen 3 3000 Series           \u001b[90m       \u001b[0m ⋯\n",
       "   6 │ GPU                 \u001b[90m         \u001b[0m AMD FirePro M4100                 \u001b[90m       \u001b[0m\n",
       "   7 │ GPU_Type            \u001b[90m         \u001b[0m Dedicated Graphics                \u001b[90m       \u001b[0m\n",
       "   8 │ Resolution          \u001b[90m         \u001b[0m 1024 x 768                        \u001b[90m       \u001b[0m\n",
       "   9 │ Condition           \u001b[90m         \u001b[0m Excellent - Refurbished           \u001b[90m       \u001b[0m ⋯\n",
       "  10 │ Price                517.553  0.0                                489.99\n",
       "\u001b[36m                                                               3 columns omitted\u001b[0m"
      ]
     },
     "metadata": {},
     "output_type": "display_data"
    }
   ],
   "source": [
    "# We can get a quick glance at the dataset by using 'describe'\n",
    "\n",
    "describe(df)"
   ]
  },
  {
   "cell_type": "code",
   "execution_count": 20,
   "metadata": {},
   "outputs": [
    {
     "name": "stdout",
     "output_type": "stream",
     "text": [
      "[\"Brand\", \"Product_Description\", \"Screen_Size\", \"RAM\", \"Processor\", \"GPU\", \"GPU_Type\", \"Resolution\", \"Condition\", \"Price\"]\n",
      "[:Brand, :Product_Description, :Screen_Size, :RAM, :Processor, :GPU, :GPU_Type, :Resolution, :Condition, :Price]\n"
     ]
    }
   ],
   "source": [
    "# To get the list of all columns, use 'names' or 'propertynames'\n",
    "\n",
    "println(names(df))\n",
    "println(propertynames(df))"
   ]
  },
  {
   "cell_type": "code",
   "execution_count": 21,
   "metadata": {},
   "outputs": [
    {
     "data": {
      "text/plain": [
       "(2952, 10)"
      ]
     },
     "metadata": {},
     "output_type": "display_data"
    }
   ],
   "source": [
    "# 'size' gives the dimensions of the dataframe\n",
    "\n",
    "size(df)"
   ]
  },
  {
   "cell_type": "code",
   "execution_count": 26,
   "metadata": {},
   "outputs": [
    {
     "name": "stdout",
     "output_type": "stream",
     "text": [
      "[189.99, 349.99, 369.95, 459.0, 499.0, 349.0, 529.98, 319.99, 245.0, 179.99, 314.96, 550.0, 459.0, 732.0, 429.0, 219.99, 247.45, 699.0, 322.0, 299.99, 319.99, 229.99, 214.5, 365.0, 509.99, 279.99, 119.99, 494.99, 399.99, 237.99, 446.0, 299.0, 425.0, 269.0, 239.99, 249.99, 404.99, 799.99, 899.99, 399.0, 339.0, 499.0, 499.99, 799.99, 239.99, 579.0, 459.95, 269.95, 525.0, 291.46, 515.0, 390.0, 629.0, 234.59, 152.99, 129.99, 160.99, 409.94, 159.99, 349.99, 799.99, 494.1, 199.99, 555.99, 319.99, 499.0, 419.0, 139.99, 697.99, 289.0, 750.0, 194.0, 519.99, 310.25, 669.0, 189.99, 699.99, 868.88, 559.0, 419.99, 528.95, 309.95, 489.99, 600.0, 603.99, 475.0, 352.85, 649.0, 249.99, 589.0, 329.99, 499.0, 449.99, 231.99, 404.96, 344.99, 329.99, 599.99, 179.99, 399.99, 409.99, 105.5, 499.0, 159.99, 394.99, 675.0, 789.99, 399.0, 399.99, 399.99, 389.99, 969.99, 398.75, 369.99, 249.99, 489.99, 249.99, 518.0, 669.0, 439.99, 499.0, 650.0, 314.5, 959.99, 679.99, 199.99, 359.75, 585.0, 299.0, 319.99, 315.99, 699.99, 379.99, 299.95, 399.99, 499.99, 179.95, 265.0, 288.99, 293.99, 479.99, 369.55, 299.99, 345.95, 538.75, 699.99, 999.99, 534.86, 329.99, 314.99, 239.99, 355.0, 940.0, 219.88, 449.99, 299.99, 128.99, 399.99, 619.99, 879.0, 601.79, 259.99, 750.0, 479.99, 195.0, 209.99, 549.99, 50.0, 289.0, 929.99, 650.0, 219.0, 239.0, 259.99, 570.0, 169.99, 324.99, 278.98, 224.95, 274.99, 699.0, 256.45, 239.99, 550.0, 599.0, 668.95, 199.0, 399.0, 309.99, 250.0, 381.99, 159.95, 810.0, 859.99, 237.5, 274.99, 474.95, 319.99, 377.99, 179.99, 349.95, 159.99, 349.0, 274.99, 399.99, 399.99, 339.99, 369.0, 699.99, 279.99, 199.99, 339.99, 309.99, 499.0, 358.0, 398.75, 296.96, 334.99, 359.96, 499.99, 999.99, 319.0, 422.96, 384.0, 387.99, 698.98, 399.6, 186.5, 279.95, 215.3, 428.99, 496.99, 389.99, 509.99, 249.99, 459.99, 199.0, 449.99, 349.99, 629.99, 769.99, 689.99, 215.95, 329.0, 450.0, 429.99, 759.49, 329.99, 350.0, 869.95, 818.88, 412.0, 989.99, 427.99, 449.99, 249.99, 159.11, 219.99, 369.99, 495.95, 779.99, 409.99, 199.99, 749.99, 219.99, 474.95, 424.99, 499.0, 349.49, 349.0, 244.99, 499.99, 398.0, 449.95, 299.95, 200.0, 881.27, 342.99, 499.99, 265.99, 229.99, 581.99, 249.99, 229.45, 249.99, 315.0, 199.99, 189.71, 395.99, 635.0, 495.45, 233.95, 399.94, 215.95, 549.99, 650.0, 269.99, 289.99, 399.99, 430.99, 469.06, 599.98, 989.99, 489.99, 317.77, 379.99, 699.99, 694.99, 739.99, 359.99, 747.12, 635.4, 299.99, 429.99, 832.99, 649.99, 325.0, 269.95, 599.99, 368.95, 830.0, 544.99, 289.99, 544.0, 569.99, 489.99, 101.0, 239.99, 294.99, 668.65, 369.99, 169.0, 531.15, 399.99, 269.99, 829.0, 369.99, 849.0, 300.0, 379.99, 525.0, 299.99, 799.89, 270.0, 320.0, 879.0, 242.95, 874.99, 189.99, 233.95, 199.0, 349.99, 549.0, 219.99, 574.99, 674.99, 300.0, 649.99, 645.32, 199.99, 648.0, 550.0, 379.95, 99.99, 229.0, 268.0, 640.0, 899.99, 279.99, 150.0, 99.99, 389.95, 229.0, 449.99, 292.46, 799.0, 344.99, 279.99, 649.0, 339.0, 849.99, 499.99, 259.99, 449.99, 830.0, 269.95, 209.99, 645.0, 269.99, 485.0, 419.99, 279.99, 319.0, 305.0, 169.99, 384.46, 179.0, 170.99, 259.99, 819.99, 247.45, 577.07, 170.95, 899.95, 849.99, 449.88, 379.0, 215.95, 151.99, 328.99, 339.0, 699.95, 344.99, 850.0, 170.99, 510.0, 299.0, 499.99, 225.0, 799.99, 329.99, 449.99, 459.99, 150.95, 199.0, 699.99, 669.99, 169.95, 544.94, 699.99, 449.99, 539.99, 282.49, 579.99, 629.99, 449.0, 499.95, 279.99, 519.99, 379.66, 290.0, 649.77, 499.99, 299.0, 599.95, 441.99, 244.99, 789.99, 229.99, 275.39, 649.99, 359.1, 399.99, 949.99, 389.99, 239.99, 645.0, 399.0, 669.99, 549.0, 365.75, 199.98, 279.99, 699.99, 59.99, 353.99, 604.99, 724.99, 598.0, 359.99, 469.99, 699.0, 469.99, 200.0, 189.71, 749.0, 799.0, 829.99, 349.0, 499.99, 149.99, 999.99, 305.96, 319.99, 619.99, 374.99, 370.0, 375.0, 497.99, 474.95, 400.0, 299.99, 549.99, 389.99, 658.99, 169.99, 652.99, 869.99, 389.99, 168.99, 638.99, 499.99, 899.99, 422.1, 509.99, 456.0, 386.1, 899.0, 189.99, 974.99, 849.99, 329.0, 749.95, 429.99, 559.99, 975.0, 599.89, 899.0, 694.95, 219.99, 799.99, 549.99, 979.77, 456.49, 49.99, 387.0, 215.26, 659.45, 850.0, 376.29, 341.1, 199.0, 239.99, 329.99, 295.79, 377.97, 239.99, 191.99, 181.99, 399.99, 544.95, 699.88, 359.99, 251.95, 509.99, 233.95, 789.99, 319.0, 349.0, 750.49, 289.99, 99.99, 469.99, 499.99, 679.99, 799.99, 399.99, 364.0, 299.99, 599.99, 649.99, 327.0, 974.95, 188.95, 749.99, 319.99, 229.99, 319.99, 179.99, 569.99, 289.0, 719.99, 353.43, 300.89, 719.99, 724.95, 251.95, 574.99, 251.95, 349.85, 179.99, 329.99, 329.99, 389.0, 424.15, 399.99, 389.0, 825.0, 499.99, 395.96, 624.95, 259.99, 395.96, 422.06, 288.0, 384.46, 189.99, 269.99, 589.99, 649.99, 319.0, 419.95, 121.46, 329.99, 599.0, 449.95, 510.0, 326.75, 242.1, 200.0, 255.03, 292.46, 279.0, 332.1, 399.0, 320.0, 319.99, 329.99, 243.46, 849.53, 539.0, 325.99, 389.99, 99.99, 809.99, 774.99, 386.96, 379.99, 599.99, 790.0, 519.55, 233.95, 589.99, 249.99, 162.99, 510.0, 703.0, 225.0, 729.88, 332.96, 300.0, 529.99, 249.0, 399.95, 594.99, 349.0, 353.4, 724.99, 196.46, 289.0, 839.0, 419.99, 229.99, 694.99, 314.99, 799.99, 789.99, 214.0, 414.99, 349.99, 379.86, 575.0, 659.95, 320.0, 645.04, 879.99, 584.99, 288.99, 244.31, 759.99, 299.99, 669.99, 224.39, 899.0, 229.0, 247.45, 899.99, 649.0, 449.0, 445.0, 400.0, 269.1, 800.0, 559.99, 729.0, 549.0, 170.1, 228.99, 349.99, 999.95, 849.0, 259.98, 191.99, 579.0, 319.0, 440.86, 399.99, 359.96, 389.99, 649.45, 149.99, 999.0, 500.0, 199.99, 229.99, 479.99, 299.96, 541.99, 369.99, 999.99, 819.99, 289.0, 242.1, 609.99, 169.99, 449.99, 779.99, 469.99, 599.95, 449.99, 299.99, 529.99, 719.99, 449.95, 694.99, 700.0, 549.0, 239.99, 448.0, 337.49, 412.49, 369.99, 215.95, 299.99, 279.99, 849.95, 469.99, 234.06, 383.49, 161.95, 949.99, 385.0, 269.95, 499.99, 471.75, 881.27, 169.0, 274.99, 135.99, 345.0, 419.99, 242.95, 399.99, 699.0, 650.0, 639.99, 379.99, 328.46, 269.95, 251.95, 195.99, 599.99, 699.0, 159.99, 839.0, 569.99, 631.49, 229.0, 449.99, 499.99, 239.0, 749.95, 549.99, 514.99, 919.99, 424.15, 399.99, 139.99, 89.0, 337.46, 558.95, 470.0, 774.99, 269.99, 403.26, 305.99, 529.0, 377.64, 489.0, 378.99, 589.25, 439.99, 449.0, 269.99, 699.99, 699.0, 396.37, 751.06, 299.49, 513.0, 424.95, 679.0, 650.0, 849.95, 859.99, 514.41, 704.06, 469.99, 199.0, 299.0, 379.99, 559.99, 789.99, 572.99, 759.99, 399.99, 299.99, 298.95, 680.0, 429.99, 699.99, 219.99, 148.99, 525.0, 304.99, 400.0, 485.0, 589.99, 399.99, 289.99, 703.0, 290.0, 549.99, 539.99, 599.99, 975.0, 314.99, 249.99, 249.0, 999.99, 695.0, 599.99, 319.99, 579.99, 379.0, 471.75, 979.99, 299.0, 839.99, 328.06, 153.99, 429.0, 619.0, 377.99, 589.99, 287.95, 400.0, 719.99, 880.0, 323.96, 769.99, 699.99, 589.0, 560.0, 499.99, 425.99, 499.99, 699.0, 449.99, 239.95, 409.99, 999.99, 195.99, 499.88, 300.0, 666.0, 549.99, 314.96, 339.99, 510.0, 724.99, 899.99, 484.99, 229.0, 185.0, 816.66, 469.99, 365.0, 395.96, 399.99, 666.99, 729.99, 849.95, 510.0, 829.99, 385.97, 399.99, 949.95, 781.79, 199.99, 449.0, 649.99, 459.99, 998.0, 899.99, 180.49, 251.95, 242.95, 199.99, 283.45, 169.99, 279.0, 839.99, 249.99, 799.95, 374.99, 269.95, 349.99, 599.99, 535.0, 700.0, 247.45, 457.99, 489.0, 549.0, 472.22, 469.0, 959.64, 549.0, 323.96, 269.95, 999.99, 445.99, 499.99, 270.0, 268.99, 289.0, 800.0, 569.0, 242.95, 99.99, 300.0, 429.95, 319.99, 299.0, 516.06, 292.46, 499.0, 0.0, 938.59, 599.99, 499.0, 373.99, 785.99, 289.99, 889.99, 459.99, 499.99, 233.95, 815.99, 849.0, 281.99, 699.99, 950.0, 349.99, 589.0, 842.98, 219.99, 190.0, 224.95, 499.0, 849.99, 499.0, 400.0, 288.97, 879.99, 799.99, 215.0, 289.98, 379.99, 321.19, 400.0, 499.99, 328.06, 340.0, 799.99, 749.95, 405.0, 389.0, 483.99, 525.0, 869.99, 749.0, 299.99, 199.99, 260.95, 539.99, 229.0, 841.99, 379.99, 551.8, 539.96, 399.0, 399.0, 449.0, 265.0, 249.99, 339.0, 399.0, 558.88, 639.0, 949.95, 560.0, 399.99, 449.99, 699.0, 650.0, 298.0, 649.99, 299.99, 215.26, 873.26, 549.99, 649.99, 549.99, 599.0, 400.0, 574.99, 519.75, 459.99, 234.06, 289.49, 350.96, 849.99, 229.99, 799.99, 481.46, 939.0, 999.99, 505.75, 990.0, 845.06, 589.45, 850.0, 899.99, 385.0, 704.06, 509.99, 334.15, 799.0, 419.99, 379.95, 478.49, 429.69, 195.99, 589.0, 539.96, 291.2, 519.99, 205.0, 607.45, 368.96, 449.0, 899.88, 399.0, 815.99, 427.99, 674.98, 629.99, 921.99, 199.0, 85.0, 379.99, 225.0, 599.0, 469.0, 206.95, 299.99, 779.49, 800.0, 527.99, 325.0, 499.0, 699.0, 999.95, 379.99, 619.99, 215.26, 299.0, 662.99, 44.45, 454.33, 329.0, 271.66, 214.0, 800.0, 864.49, 959.99, 789.99, 429.99, 459.33, 249.22, 767.99, 495.0, 269.95, 197.95, 224.95, 184.45, 899.99, 649.99, 285.0, 349.99, 377.4, 624.95, 290.46, 562.49, 269.95, 224.95, 644.95, 329.99, 279.0, 319.99, 275.99, 400.0, 341.1, 319.0, 854.99, 929.0, 679.0, 292.46, 374.99, 480.0, 499.0, 549.5, 229.99, 850.0, 329.99, 224.95, 749.99, 909.99, 354.99, 919.99, 268.99, 391.46, 499.99, 383.99, 199.99, 369.99, 729.99, 509.99, 490.0, 649.99, 332.1, 599.99, 739.99, 999.0, 774.95, 274.98, 215.95, 309.26, 225.0, 269.1, 179.0, 320.0, 479.0, 869.99, 548.88, 674.99, 499.0, 378.99, 949.99, 969.0, 259.99, 859.0, 299.99, 500.0, 611.99, 346.86, 799.99, 939.0, 489.0, 199.99, 225.0, 279.99, 829.99, 509.15, 764.99, 365.66, 529.99, 399.0, 451.99, 529.99, 429.99, 769.99, 529.77, 379.99, 349.99, 749.0, 950.0, 377.97, 332.1, 339.99, 499.98, 449.99, 418.47, 489.99, 399.99, 559.99, 234.06, 699.0, 449.0, 256.45, 581.56, 283.05, 869.99, 480.69, 341.1, 328.06, 300.0, 290.0, 179.99, 468.71, 499.0, 229.0, 584.0, 539.99, 175.0, 949.0, 393.86, 379.99, 549.99, 850.0, 211.99, 275.0, 260.95, 649.49, 599.99, 349.45, 533.32, 799.99, 369.99, 332.75, 624.95, 373.99, 187.99, 369.99, 599.0, 299.99, 499.99, 800.0, 329.75, 829.99, 719.99, 99.99, 272.24, 729.99, 849.0, 881.99, 981.0, 779.99, 285.0, 399.99, 475.0, 450.0, 750.0, 813.7, 429.99, 349.99, 276.66, 639.0, 550.0, 469.99, 99.99, 359.99, 614.99, 279.99, 299.0, 424.99, 229.99, 474.99, 669.37, 835.66, 242.1, 99.99, 349.99, 475.0, 388.26, 780.0, 429.99, 195.99, 329.89, 649.99, 900.0, 560.0, 439.0, 210.0, 770.0, 550.0, 649.45, 349.99, 699.0, 278.95, 389.0, 349.99, 314.96, 336.99, 305.96, 819.99, 542.99, 359.99, 269.95, 399.55, 855.3, 389.0, 251.95, 500.0, 575.0, 799.99, 205.86, 314.96, 393.86, 629.99, 780.0, 800.0, 825.0, 499.99, 350.96, 469.06, 589.88, 549.0, 449.96, 644.95, 325.0, 314.96, 220.45, 949.99, 184.45, 649.0, 329.99, 175.99, 529.99, 549.99, 250.99, 899.0, 604.99, 299.99, 569.95, 449.99, 198.0, 295.0, 400.0, 799.88, 379.99, 375.06, 199.99, 305.96, 179.99, 449.99, 400.0, 559.99, 799.2, 539.99, 330.0, 614.99, 386.96, 422.06, 95.0, 429.95, 559.99, 0.0, 749.99, 671.99, 479.99, 499.99, 317.95, 242.1, 759.99, 549.0, 489.99, 242.1, 319.99, 549.0, 459.0, 254.99, 515.0, 499.99, 801.71, 362.74, 450.0, 340.0, 349.99, 320.0, 495.0, 549.99, 649.99, 199.0, 397.71, 414.75, 242.1, 807.46, 719.95, 499.99, 306.55, 754.8, 374.99, 459.99, 332.99, 800.0, 215.95, 416.99, 337.46, 329.99, 379.0, 599.99, 749.99, 519.0, 348.95, 779.99, 249.99, 649.99, 429.0, 449.99, 699.99, 479.99, 428.98, 989.99, 269.99, 270.0, 599.0, 649.99, 199.99, 250.0, 509.0, 419.99, 149.49, 329.99, 215.95, 724.99, 509.99, 750.0, 699.99, 385.0, 355.97, 649.99, 29.99, 599.99, 289.99, 699.99, 989.99, 519.95, 699.99, 599.88, 733.99, 408.0, 599.0, 769.0, 329.99, 239.99, 379.99, 195.0, 569.99, 499.99, 699.89, 349.99, 639.45, 377.15, 280.0, 359.99, 623.99, 749.99, 647.75, 963.06, 794.99, 349.99, 589.0, 449.75, 999.88, 328.0, 670.0, 618.0, 479.99, 400.0, 270.0, 629.49, 310.0, 900.0, 337.49, 292.46, 211.45, 669.0, 215.95, 699.99, 424.99, 649.99, 359.96, 700.0, 496.99, 649.99, 224.95, 374.99, 224.95, 320.0, 460.99, 429.99, 349.99, 687.94, 271.66, 549.0, 329.99, 395.0, 283.49, 195.0, 789.0, 720.0, 417.75, 375.0, 325.97, 379.22, 374.99, 699.0, 581.56, 816.99, 999.0, 265.0, 429.99, 383.99, 749.0, 579.0, 240.0, 285.0, 469.99, 899.0, 540.0, 649.95, 215.0, 387.59, 553.66, 189.0, 589.0, 600.0, 599.95, 779.99, 829.0, 558.83, 679.99, 227.71, 250.0, 599.99, 374.99, 739.0, 299.0, 599.99, 764.01, 290.0, 250.0, 99.99, 239.99, 239.0, 649.99, 780.0, 519.99, 689.99, 559.97, 549.7, 329.99, 686.99, 975.0, 575.99, 995.0, 999.0, 719.99, 745.06, 239.99, 179.99, 700.0, 599.99, 360.0, 752.99, 490.0, 324.75, 899.99, 999.0, 185.0, 260.0, 669.99, 699.98, 373.46, 685.0, 185.0, 599.0, 658.99, 245.0, 619.99, 360.99, 375.0, 329.99, 637.49, 739.0, 449.49, 429.99, 539.99, 832.71, 449.96, 949.0, 475.0, 245.99, 634.99, 416.75, 272.99, 859.0, 329.99, 379.0, 479.0, 230.0, 679.0, 657.06, 412.66, 350.0, 899.99, 509.0, 700.0, 200.0, 819.98, 950.0, 799.99, 598.99, 599.99, 799.0, 999.99, 229.99, 892.06, 579.99, 399.99, 29.99, 349.0, 285.0, 215.0, 876.99, 422.99, 289.99, 536.99, 549.7, 400.0, 269.95, 549.0, 704.06, 850.0, 419.0, 427.0, 330.0, 195.0, 270.0, 260.0, 310.0, 359.99, 779.0, 543.99, 750.0, 849.99, 530.0, 569.95, 679.9, 389.0, 316.99, 900.0, 751.06, 420.0, 259.99, 350.0, 499.99, 224.95, 344.99, 384.0, 867.0, 599.0, 249.99, 719.1, 639.99, 468.0, 749.95, 419.0, 265.0, 314.96, 750.0, 549.0, 314.99, 500.0, 729.99, 419.99, 679.0, 469.06, 799.99, 612.99, 699.0, 744.99, 239.99, 379.99, 419.99, 695.99, 650.0, 405.99, 420.0, 279.0, 650.0, 519.0, 800.0, 346.86, 849.0, 499.99, 245.0, 999.99, 324.99, 499.99, 344.99, 230.0, 379.99, 439.99, 179.0, 789.88, 950.0, 424.87, 449.99, 290.0, 919.0, 299.0, 499.99, 250.0, 705.2, 449.0, 0.0, 381.99, 229.0, 349.99, 450.26, 645.0, 400.0, 799.99, 569.0, 279.99, 179.99, 240.0, 724.1, 165.0, 499.49, 399.0, 499.49, 449.0, 295.0, 850.0, 999.0, 299.95, 933.49, 375.0, 329.0, 429.0, 195.0, 789.65, 425.0, 620.99, 540.0, 779.49, 248.99, 599.99, 379.0, 559.0, 799.77, 690.0, 899.99, 229.99, 190.0, 599.0, 649.99, 433.99, 500.0, 350.0, 680.0, 899.99, 665.0, 899.0, 509.99, 249.0, 554.99, 420.0, 479.0, 375.99, 469.99, 629.0, 460.0, 959.95, 375.55, 499.99, 892.06, 480.0, 559.99, 299.86, 688.77, 255.0, 999.0, 600.9, 889.99, 775.99, 639.99, 437.49, 825.0, 699.99, 549.0, 503.87, 379.99, 649.0, 99.99, 849.95, 812.99, 950.0, 475.0, 660.45, 834.48, 549.99, 999.99, 719.46, 769.99, 999.99, 600.0, 995.0, 949.95, 499.0, 439.99, 299.99, 949.95, 849.99, 309.99, 379.95, 939.99, 585.98, 899.0, 469.0, 650.0, 799.99, 889.99, 268.0, 395.0, 599.0, 700.0, 679.99, 215.0, 399.0, 195.0, 235.0, 869.99, 999.88, 460.99, 252.86, 649.99, 899.95, 749.98, 850.0, 274.99, 404.96, 650.0, 550.0, 529.0, 460.0, 265.0, 998.48, 879.95, 699.99, 434.29, 400.99, 794.95, 300.0, 243.46, 647.98, 280.0, 767.99, 649.99, 477.0, 249.99, 949.99, 169.0, 475.0, 95.46, 519.0, 829.0, 322.99, 425.0, 544.26, 562.49, 658.66, 610.06, 807.46, 451.99, 420.0, 620.0, 449.99, 868.99, 299.99, 549.0, 708.99, 500.0, 320.0, 751.06, 750.0, 599.0, 349.99, 349.99, 490.0, 679.99, 899.99, 399.0, 300.0, 255.0, 823.24, 345.0, 799.99, 319.99, 833.99, 549.0, 827.0, 900.0, 914.26, 400.0, 449.99, 445.0, 909.82, 265.0, 898.99, 357.84, 489.0, 500.0, 350.0, 932.78, 525.0, 649.0, 599.0, 350.0, 299.0, 279.0, 449.0, 675.0, 699.0, 449.0, 750.0, 650.0, 499.99, 388.26, 350.0, 210.0, 699.99, 589.0, 473.54, 949.99, 265.0, 461.79, 605.0, 495.0, 293.82, 599.99, 439.99, 659.99, 898.0, 250.0, 500.0, 679.0, 599.99, 900.0, 399.0, 400.0, 499.99, 498.99, 242.1, 225.0, 999.0, 311.1, 989.99, 599.0, 969.0, 950.0, 604.99, 404.96, 628.86, 679.99, 750.0, 999.99, 989.99, 950.0, 510.0, 657.06, 699.99, 761.0, 849.0, 899.99, 599.99, 509.99, 260.0, 292.49, 191.99, 649.0, 610.84, 399.0, 450.0, 750.0, 885.0, 929.66, 691.99, 271.66, 245.0, 449.0, 450.0, 349.99, 300.0, 299.0, 549.0, 875.0, 900.0, 849.0, 599.0, 699.99, 649.99, 270.0, 265.0, 200.0, 600.0, 849.95, 950.0, 399.0, 439.0, 649.0, 235.0, 210.0, 549.47, 728.5, 295.0, 875.99, 529.99, 400.0, 699.99, 457.35, 350.0, 749.99, 799.99, 999.99, 410.04, 999.99, 588.0, 299.0, 566.87, 691.99, 635.49, 235.0, 524.99, 229.0, 479.99, 600.0, 551.99, 499.99, 669.99, 819.0, 620.0, 415.75, 479.0, 499.99, 649.0, 99.99, 299.0, 365.66, 577.99, 355.99, 339.99, 639.99, 900.0, 874.95, 999.99, 942.26, 699.99, 549.99, 599.0, 649.4, 379.99, 459.99, 335.0, 494.99, 364.99, 250.0, 870.0, 650.0, 497.26, 720.0, 899.99, 841.48, 99.0, 399.99, 650.0, 190.0, 553.66, 259.95, 116.11, 389.99, 399.0, 459.99, 473.99, 345.0, 449.99, 295.0, 479.35, 921.99, 404.99, 424.99, 85.15, 359.99, 799.99, 799.0, 599.0, 740.05, 680.0, 463.97, 489.0, 779.99, 419.9, 299.99, 575.0, 325.99, 897.01, 230.0, 495.0, 609.65, 309.26, 270.0, 611.77, 529.99, 650.0, 937.99, 374.99, 459.95, 190.0, 745.98, 760.0, 549.99, 879.99, 650.0, 418.75, 99.99, 899.0, 395.0, 221.8, 849.95, 195.0, 309.99, 349.99, 495.99, 807.99, 549.0, 245.0, 294.99, 319.99, 299.99, 269.99, 532.99, 604.99, 619.99, 255.0, 611.99, 281.99, 579.99, 412.49, 311.39, 995.0, 805.22, 389.0, 412.49, 900.0, 879.99, 899.99, 666.46, 489.47, 859.0, 875.55, 415.0, 649.95, 579.0, 499.0, 299.0, 499.0, 950.0, 599.99, 999.95, 575.96, 649.0, 275.0, 330.16, 350.0, 488.0, 625.0, 599.0, 950.0, 525.0, 873.26, 328.0, 508.68, 400.0, 589.0, 668.88, 594.99, 899.99, 926.0, 289.22, 649.0, 549.99, 369.99, 899.99, 441.99, 349.99, 350.0, 310.0, 699.99, 799.99, 329.99, 963.42, 399.0, 319.0, 699.99, 599.0, 699.99, 799.99, 949.99, 589.99, 49.99, 999.95, 249.49, 459.99, 849.99, 790.9, 669.75, 349.75, 299.99, 400.0, 239.99, 999.99, 579.99, 853.99, 486.99, 824.0, 972.47, 0.99, 728.83, 675.0, 323.31, 157.4, 445.0, 999.99, 699.99, 399.99, 955.0, 907.7, 800.0, 569.99, 359.99, 999.0, 647.66, 899.0, 955.71, 974.99, 799.99, 754.99, 942.55, 450.0, 483.96, 939.06, 360.98, 534.86, 849.99, 800.0, 469.99, 250.0, 611.99, 779.46, 799.0, 108.98, 675.0, 529.99, 316.99, 799.99, 799.0, 299.99, 299.88, 931.88, 359.0, 879.99, 175.0, 0.0, 429.0, 760.46, 422.06, 548.88, 450.0, 395.0, 999.0, 299.0, 540.0, 459.0, 939.06, 809.0, 330.0, 979.0, 329.6, 999.99, 498.71, 475.0, 29.99, 450.0, 589.0, 443.98, 229.99, 769.0, 479.99, 999.99, 965.77, 545.99, 699.49, 241.55, 149.99, 643.49, 479.99, 729.99, 240.0, 574.99, 840.99, 975.0, 599.99, 483.99, 404.96, 649.8, 640.0, 989.78, 484.99, 458.96, 658.49, 450.0, 524.99, 899.99, 699.99, 429.88, 497.47, 609.79, 355.0, 279.99, 899.99, 599.99, 849.95, 265.0, 879.99, 184.63, 235.0, 399.99, 225.0, 989.0, 659.98, 430.0, 339.99, 873.26, 449.99, 954.99, 950.0, 488.0, 565.0, 879.0, 700.0, 466.99, 579.0, 799.99, 509.99, 479.99, 724.03, 389.0, 569.0, 411.1, 450.0, 899.99, 782.1, 449.99, 529.99, 833.7, 653.99, 749.0, 950.0, 700.0, 579.0, 729.99, 899.49, 499.0, 739.0, 599.99, 329.0, 790.0, 999.89, 339.0, 195.0, 402.77, 525.99, 879.0, 225.0, 509.0, 699.0, 829.46, 449.0, 285.0, 499.49, 315.0, 770.0, 959.99, 749.0, 839.95, 400.0, 475.0, 549.99, 639.0, 599.0, 599.99, 400.0, 255.0, 749.99, 559.99, 270.0, 265.0, 799.99, 864.0, 750.0, 749.99, 679.35, 379.99, 777.22, 729.99, 749.99, 679.99, 900.0, 639.0, 588.99, 636.99, 489.95, 299.0, 450.0, 210.0, 530.0, 963.6, 700.0, 880.0, 499.99, 599.99, 409.99, 764.0, 689.95, 332.99, 273.1, 225.0, 749.99, 850.0, 999.99, 479.0, 629.99, 712.49, 629.0, 846.71, 666.66, 796.05, 669.0, 499.99, 427.82, 635.98, 245.0, 340.0, 674.1, 678.88, 194.71, 99.99, 699.0, 299.99, 949.0, 225.0, 146.66, 459.49, 816.33, 260.0, 230.0, 649.99, 849.0, 624.99, 949.99, 220.0, 980.0, 779.99, 599.99, 215.0, 467.04, 315.0, 245.0, 659.0, 639.99, 575.99, 799.99, 384.47, 700.0, 741.66, 445.0, 920.98, 295.0, 529.99, 255.0, 999.99, 402.77, 520.0, 599.47, 487.86, 285.0, 744.99, 399.0, 749.99, 999.99, 195.0, 349.47, 799.95, 550.0, 325.0, 424.99, 148.92, 220.0, 759.46, 225.0, 657.11, 899.99, 849.95, 450.0, 190.0, 999.99, 295.0, 674.99, 899.99, 599.99, 669.0, 469.0, 725.0, 514.99, 305.0, 558.86, 175.0, 700.0, 506.66, 736.53, 799.0, 144.95, 339.0, 499.0, 768.99, 457.99, 999.95, 344.99, 899.99, 900.0, 449.99, 999.0, 399.0, 827.15, 359.0, 844.99, 699.99, 349.99, 100.0, 215.0, 549.95, 795.0, 359.99, 449.0, 445.0, 689.99, 461.97, 519.99, 999.99, 999.99, 549.99, 950.0, 789.0, 165.0, 879.0, 823.99, 962.06, 280.0, 849.0, 699.99, 843.61, 679.0, 930.07, 550.0, 699.99, 604.99, 785.98, 499.99, 900.0, 825.25, 958.06, 204.0, 521.49, 820.39, 506.99, 999.0, 476.0, 220.0, 799.0, 649.0, 52.53, 199.0, 724.0, 499.99, 679.0, 695.77, 959.0, 699.99, 988.88, 328.99, 527.86, 800.0, 490.0, 800.0, 649.79, 353.99, 679.99, 649.99, 310.0, 499.0, 785.95, 365.0, 899.99, 758.0, 541.99, 305.99, 425.0, 413.0, 175.0, 330.0, 355.0, 397.0, 439.99, 724.05, 699.99, 200.0, 199.0, 899.99, 284.98, 724.09, 455.0, 769.98, 849.99, 699.0, 981.74, 265.0, 800.0, 175.0, 525.46, 849.89, 220.0, 949.8, 499.99, 850.0, 449.0, 500.0, 325.0, 769.89, 821.0, 335.0, 917.99, 150.0, 245.0, 999.99, 549.99, 225.0, 549.99, 549.49, 700.0, 440.0, 335.0, 900.0, 249.99, 563.99, 425.0, 699.0, 290.0, 759.99, 625.0, 649.0, 445.0, 644.49, 460.99, 116.99, 759.18, 835.66, 310.0, 799.0, 849.99, 978.57, 900.0, 418.51, 418.88, 0.0, 611.99, 899.99, 355.0, 325.0, 899.0, 474.99, 568.07, 433.75, 540.0, 613.0, 297.49, 799.0, 393.0, 912.99, 779.99, 465.0, 350.0, 147.99, 699.99, 451.99, 601.99, 275.0, 724.11, 449.0, 859.99, 880.0, 991.83, 527.22, 689.99, 124.5, 329.0, 899.99, 539.0, 469.0, 539.0, 475.0, 489.99, 170.0, 985.79, 980.49, 503.34, 89.0, 270.0, 433.75, 568.07, 900.0, 525.0, 175.0, 767.99, 949.99, 378.99, 599.99, 899.91, 569.99, 921.99, 605.27, 295.0, 500.0, 259.99, 405.0, 965.8, 471.02, 799.99, 785.98, 769.98, 643.99, 875.0, 995.0, 981.59, 500.0, 464.99, 596.1, 433.75, 197.99, 979.99, 749.99, 999.0, 648.79, 749.99, 960.36, 671.99, 599.99, 527.89, 889.99, 465.0, 500.0, 799.0, 398.0, 494.99, 648.79, 907.99, 759.18, 649.0, 729.99, 657.06, 799.0, 595.0, 388.0, 759.0, 531.49, 611.99, 385.0, 979.0, 807.99, 642.42, 805.98, 939.06, 465.0, 290.0, 599.99, 629.99, 688.98, 582.77, 590.28, 456.84, 899.0, 900.79, 749.99, 650.0, 999.0, 29.6, 929.99, 495.0, 599.99, 585.28, 129.39, 803.98, 999.99, 749.99, 328.0, 619.99, 820.0, 929.99, 299.0, 749.97, 999.99, 349.99, 749.0, 899.0, 653.95, 805.98, 725.0, 659.98, 529.99, 863.86, 648.88, 592.62, 456.84, 385.08, 399.99, 265.0, 791.61, 549.99, 434.49, 903.99, 549.99, 582.77, 315.0, 603.28, 39.49, 874.48, 879.99, 375.0, 639.96, 185.0, 685.0, 656.59, 671.99, 917.02, 794.78, 724.02, 800.0, 671.99, 999.99, 863.98, 529.99, 849.15, 902.68, 398.98, 275.0, 659.98, 650.0, 568.07, 885.78, 98.98, 599.99, 899.99, 889.99, 569.99, 539.99, 949.0, 994.99, 105.37, 899.99, 834.99, 569.99, 549.99, 161.98, 789.35, 275.0, 974.97, 329.95, 499.0, 679.99, 499.0, 175.0, 497.88, 930.13, 610.06, 899.99, 902.0, 999.0, 65.71, 999.0, 899.31, 590.28, 599.95, 385.08, 422.0, 377.0, 642.99, 899.99, 981.59, 729.99, 451.99, 719.0, 99.98, 794.98, 820.0, 949.0, 945.67, 614.97, 699.0, 449.99, 549.0, 335.99, 575.0, 789.49, 88.24, 205.0, 364.99, 64.71, 688.13, 14.85, 159.56, 993.0, 999.96, 649.99, 789.99, 895.55, 635.65, 405.99, 17.5]\n"
     ]
    }
   ],
   "source": [
    "# We can select columns in multiple ways. These will not produce a copy,\n",
    "# and altering them alters the original dataframe\n",
    "\n",
    "df.Price\n",
    "df[!, \"Price\"]\n",
    "\n",
    "# To make a copy, use either of the following:\n",
    "\n",
    "df[:, \"Price\"]\n",
    "println(df[:, :Price])"
   ]
  },
  {
   "cell_type": "code",
   "execution_count": 28,
   "metadata": {},
   "outputs": [
    {
     "data": {
      "text/html": [
       "<div><div style = \"float: left;\"><span>5×2 DataFrame</span></div><div style = \"clear: both;\"></div></div><div class = \"data-frame\" style = \"overflow-x: scroll;\"><table class = \"data-frame\" style = \"margin-bottom: 6px;\"><thead><tr class = \"header\"><th class = \"rowNumber\" style = \"font-weight: bold; text-align: right;\">Row</th><th style = \"text-align: left;\">Screen_Size</th><th style = \"text-align: left;\">Price</th></tr><tr class = \"subheader headerLastRow\"><th class = \"rowNumber\" style = \"font-weight: bold; text-align: right;\"></th><th title = \"Float64\" style = \"text-align: left;\">Float64</th><th title = \"Float64\" style = \"text-align: left;\">Float64</th></tr></thead><tbody><tr><td class = \"rowNumber\" style = \"font-weight: bold; text-align: right;\">1</td><td style = \"text-align: right;\">14.0</td><td style = \"text-align: right;\">189.99</td></tr><tr><td class = \"rowNumber\" style = \"font-weight: bold; text-align: right;\">2</td><td style = \"text-align: right;\">15.6</td><td style = \"text-align: right;\">349.99</td></tr><tr><td class = \"rowNumber\" style = \"font-weight: bold; text-align: right;\">3</td><td style = \"text-align: right;\">15.6</td><td style = \"text-align: right;\">369.95</td></tr><tr><td class = \"rowNumber\" style = \"font-weight: bold; text-align: right;\">4</td><td style = \"text-align: right;\">15.6</td><td style = \"text-align: right;\">459.0</td></tr><tr><td class = \"rowNumber\" style = \"font-weight: bold; text-align: right;\">5</td><td style = \"text-align: right;\">15.6</td><td style = \"text-align: right;\">499.0</td></tr></tbody></table></div>"
      ],
      "text/latex": [
       "\\begin{tabular}{r|cc}\n",
       "\t& Screen\\_Size & Price\\\\\n",
       "\t\\hline\n",
       "\t& Float64 & Float64\\\\\n",
       "\t\\hline\n",
       "\t1 & 14.0 & 189.99 \\\\\n",
       "\t2 & 15.6 & 349.99 \\\\\n",
       "\t3 & 15.6 & 369.95 \\\\\n",
       "\t4 & 15.6 & 459.0 \\\\\n",
       "\t5 & 15.6 & 499.0 \\\\\n",
       "\\end{tabular}\n"
      ],
      "text/plain": [
       "\u001b[1m5×2 DataFrame\u001b[0m\n",
       "\u001b[1m Row \u001b[0m│\u001b[1m Screen_Size \u001b[0m\u001b[1m Price   \u001b[0m\n",
       "     │\u001b[90m Float64     \u001b[0m\u001b[90m Float64 \u001b[0m\n",
       "─────┼──────────────────────\n",
       "   1 │        14.0   189.99\n",
       "   2 │        15.6   349.99\n",
       "   3 │        15.6   369.95\n",
       "   4 │        15.6   459.0\n",
       "   5 │        15.6   499.0"
      ]
     },
     "metadata": {},
     "output_type": "display_data"
    }
   ],
   "source": [
    "# You can select multiple rows/columns simply like this:\n",
    "\n",
    "df[1:5, [:Price, :Screen_Size]]\n",
    "df[1:5, [3, 10]]"
   ]
  },
  {
   "cell_type": "code",
   "execution_count": 30,
   "metadata": {},
   "outputs": [
    {
     "data": {
      "text/html": [
       "<div><div style = \"float: left;\"><span>5×2 SubDataFrame</span></div><div style = \"clear: both;\"></div></div><div class = \"data-frame\" style = \"overflow-x: scroll;\"><table class = \"data-frame\" style = \"margin-bottom: 6px;\"><thead><tr class = \"header\"><th class = \"rowNumber\" style = \"font-weight: bold; text-align: right;\">Row</th><th style = \"text-align: left;\">Screen_Size</th><th style = \"text-align: left;\">Price</th></tr><tr class = \"subheader headerLastRow\"><th class = \"rowNumber\" style = \"font-weight: bold; text-align: right;\"></th><th title = \"Float64\" style = \"text-align: left;\">Float64</th><th title = \"Float64\" style = \"text-align: left;\">Float64</th></tr></thead><tbody><tr><td class = \"rowNumber\" style = \"font-weight: bold; text-align: right;\">1</td><td style = \"text-align: right;\">14.0</td><td style = \"text-align: right;\">189.99</td></tr><tr><td class = \"rowNumber\" style = \"font-weight: bold; text-align: right;\">2</td><td style = \"text-align: right;\">15.6</td><td style = \"text-align: right;\">349.99</td></tr><tr><td class = \"rowNumber\" style = \"font-weight: bold; text-align: right;\">3</td><td style = \"text-align: right;\">15.6</td><td style = \"text-align: right;\">369.95</td></tr><tr><td class = \"rowNumber\" style = \"font-weight: bold; text-align: right;\">4</td><td style = \"text-align: right;\">15.6</td><td style = \"text-align: right;\">459.0</td></tr><tr><td class = \"rowNumber\" style = \"font-weight: bold; text-align: right;\">5</td><td style = \"text-align: right;\">15.6</td><td style = \"text-align: right;\">499.0</td></tr></tbody></table></div>"
      ],
      "text/latex": [
       "\\begin{tabular}{r|cc}\n",
       "\t& Screen\\_Size & Price\\\\\n",
       "\t\\hline\n",
       "\t& Float64 & Float64\\\\\n",
       "\t\\hline\n",
       "\t1 & 14.0 & 189.99 \\\\\n",
       "\t2 & 15.6 & 349.99 \\\\\n",
       "\t3 & 15.6 & 369.95 \\\\\n",
       "\t4 & 15.6 & 459.0 \\\\\n",
       "\t5 & 15.6 & 499.0 \\\\\n",
       "\\end{tabular}\n"
      ],
      "text/plain": [
       "\u001b[1m5×2 SubDataFrame\u001b[0m\n",
       "\u001b[1m Row \u001b[0m│\u001b[1m Screen_Size \u001b[0m\u001b[1m Price   \u001b[0m\n",
       "     │\u001b[90m Float64     \u001b[0m\u001b[90m Float64 \u001b[0m\n",
       "─────┼──────────────────────\n",
       "   1 │        14.0   189.99\n",
       "   2 │        15.6   349.99\n",
       "   3 │        15.6   369.95\n",
       "   4 │        15.6   459.0\n",
       "   5 │        15.6   499.0"
      ]
     },
     "metadata": {},
     "output_type": "display_data"
    }
   ],
   "source": [
    "# In Julia, you can use @view on indexed arrays/dataframes to force\n",
    "# it not to make a copy. This can be very memory efficient but dangerous\n",
    "\n",
    "@view df[1:5, [3, 10]] # creates a \"SubDataFrame'"
   ]
  },
  {
   "cell_type": "code",
   "execution_count": 31,
   "metadata": {},
   "outputs": [
    {
     "data": {
      "text/html": [
       "<div><div style = \"float: left;\"><span>1096×2 DataFrame</span></div><div style = \"float: right;\"><span style = \"font-style: italic;\">1071 rows omitted</span></div><div style = \"clear: both;\"></div></div><div class = \"data-frame\" style = \"overflow-x: scroll;\"><table class = \"data-frame\" style = \"margin-bottom: 6px;\"><thead><tr class = \"header\"><th class = \"rowNumber\" style = \"font-weight: bold; text-align: right;\">Row</th><th style = \"text-align: left;\">Price</th><th style = \"text-align: left;\">Screen_Size</th></tr><tr class = \"subheader headerLastRow\"><th class = \"rowNumber\" style = \"font-weight: bold; text-align: right;\"></th><th title = \"Float64\" style = \"text-align: left;\">Float64</th><th title = \"Float64\" style = \"text-align: left;\">Float64</th></tr></thead><tbody><tr><td class = \"rowNumber\" style = \"font-weight: bold; text-align: right;\">1</td><td style = \"text-align: right;\">189.99</td><td style = \"text-align: right;\">14.0</td></tr><tr><td class = \"rowNumber\" style = \"font-weight: bold; text-align: right;\">2</td><td style = \"text-align: right;\">179.99</td><td style = \"text-align: right;\">14.0</td></tr><tr><td class = \"rowNumber\" style = \"font-weight: bold; text-align: right;\">3</td><td style = \"text-align: right;\">550.0</td><td style = \"text-align: right;\">14.0</td></tr><tr><td class = \"rowNumber\" style = \"font-weight: bold; text-align: right;\">4</td><td style = \"text-align: right;\">459.0</td><td style = \"text-align: right;\">14.0</td></tr><tr><td class = \"rowNumber\" style = \"font-weight: bold; text-align: right;\">5</td><td style = \"text-align: right;\">429.0</td><td style = \"text-align: right;\">14.0</td></tr><tr><td class = \"rowNumber\" style = \"font-weight: bold; text-align: right;\">6</td><td style = \"text-align: right;\">219.99</td><td style = \"text-align: right;\">14.0</td></tr><tr><td class = \"rowNumber\" style = \"font-weight: bold; text-align: right;\">7</td><td style = \"text-align: right;\">319.99</td><td style = \"text-align: right;\">14.0</td></tr><tr><td class = \"rowNumber\" style = \"font-weight: bold; text-align: right;\">8</td><td style = \"text-align: right;\">279.99</td><td style = \"text-align: right;\">14.0</td></tr><tr><td class = \"rowNumber\" style = \"font-weight: bold; text-align: right;\">9</td><td style = \"text-align: right;\">494.99</td><td style = \"text-align: right;\">14.0</td></tr><tr><td class = \"rowNumber\" style = \"font-weight: bold; text-align: right;\">10</td><td style = \"text-align: right;\">399.99</td><td style = \"text-align: right;\">14.0</td></tr><tr><td class = \"rowNumber\" style = \"font-weight: bold; text-align: right;\">11</td><td style = \"text-align: right;\">239.99</td><td style = \"text-align: right;\">14.0</td></tr><tr><td class = \"rowNumber\" style = \"font-weight: bold; text-align: right;\">12</td><td style = \"text-align: right;\">404.99</td><td style = \"text-align: right;\">14.0</td></tr><tr><td class = \"rowNumber\" style = \"font-weight: bold; text-align: right;\">13</td><td style = \"text-align: right;\">459.95</td><td style = \"text-align: right;\">14.0</td></tr><tr><td style = \"text-align: right;\">&vellip;</td><td style = \"text-align: right;\">&vellip;</td><td style = \"text-align: right;\">&vellip;</td></tr><tr><td class = \"rowNumber\" style = \"font-weight: bold; text-align: right;\">1085</td><td style = \"text-align: right;\">642.99</td><td style = \"text-align: right;\">14.0</td></tr><tr><td class = \"rowNumber\" style = \"font-weight: bold; text-align: right;\">1086</td><td style = \"text-align: right;\">981.59</td><td style = \"text-align: right;\">14.0</td></tr><tr><td class = \"rowNumber\" style = \"font-weight: bold; text-align: right;\">1087</td><td style = \"text-align: right;\">451.99</td><td style = \"text-align: right;\">14.0</td></tr><tr><td class = \"rowNumber\" style = \"font-weight: bold; text-align: right;\">1088</td><td style = \"text-align: right;\">719.0</td><td style = \"text-align: right;\">14.0</td></tr><tr><td class = \"rowNumber\" style = \"font-weight: bold; text-align: right;\">1089</td><td style = \"text-align: right;\">794.98</td><td style = \"text-align: right;\">14.0</td></tr><tr><td class = \"rowNumber\" style = \"font-weight: bold; text-align: right;\">1090</td><td style = \"text-align: right;\">945.67</td><td style = \"text-align: right;\">14.0</td></tr><tr><td class = \"rowNumber\" style = \"font-weight: bold; text-align: right;\">1091</td><td style = \"text-align: right;\">614.97</td><td style = \"text-align: right;\">14.0</td></tr><tr><td class = \"rowNumber\" style = \"font-weight: bold; text-align: right;\">1092</td><td style = \"text-align: right;\">335.99</td><td style = \"text-align: right;\">14.0</td></tr><tr><td class = \"rowNumber\" style = \"font-weight: bold; text-align: right;\">1093</td><td style = \"text-align: right;\">205.0</td><td style = \"text-align: right;\">14.0</td></tr><tr><td class = \"rowNumber\" style = \"font-weight: bold; text-align: right;\">1094</td><td style = \"text-align: right;\">64.71</td><td style = \"text-align: right;\">14.0</td></tr><tr><td class = \"rowNumber\" style = \"font-weight: bold; text-align: right;\">1095</td><td style = \"text-align: right;\">14.85</td><td style = \"text-align: right;\">14.0</td></tr><tr><td class = \"rowNumber\" style = \"font-weight: bold; text-align: right;\">1096</td><td style = \"text-align: right;\">17.5</td><td style = \"text-align: right;\">14.0</td></tr></tbody></table></div>"
      ],
      "text/latex": [
       "\\begin{tabular}{r|cc}\n",
       "\t& Price & Screen\\_Size\\\\\n",
       "\t\\hline\n",
       "\t& Float64 & Float64\\\\\n",
       "\t\\hline\n",
       "\t1 & 189.99 & 14.0 \\\\\n",
       "\t2 & 179.99 & 14.0 \\\\\n",
       "\t3 & 550.0 & 14.0 \\\\\n",
       "\t4 & 459.0 & 14.0 \\\\\n",
       "\t5 & 429.0 & 14.0 \\\\\n",
       "\t6 & 219.99 & 14.0 \\\\\n",
       "\t7 & 319.99 & 14.0 \\\\\n",
       "\t8 & 279.99 & 14.0 \\\\\n",
       "\t9 & 494.99 & 14.0 \\\\\n",
       "\t10 & 399.99 & 14.0 \\\\\n",
       "\t11 & 239.99 & 14.0 \\\\\n",
       "\t12 & 404.99 & 14.0 \\\\\n",
       "\t13 & 459.95 & 14.0 \\\\\n",
       "\t14 & 159.99 & 14.0 \\\\\n",
       "\t15 & 319.99 & 14.0 \\\\\n",
       "\t16 & 419.0 & 14.0 \\\\\n",
       "\t17 & 139.99 & 14.0 \\\\\n",
       "\t18 & 194.0 & 14.0 \\\\\n",
       "\t19 & 519.99 & 14.0 \\\\\n",
       "\t20 & 310.25 & 14.0 \\\\\n",
       "\t21 & 189.99 & 14.0 \\\\\n",
       "\t22 & 600.0 & 14.0 \\\\\n",
       "\t23 & 475.0 & 14.0 \\\\\n",
       "\t24 & 249.99 & 14.0 \\\\\n",
       "\t$\\dots$ & $\\dots$ & $\\dots$ \\\\\n",
       "\\end{tabular}\n"
      ],
      "text/plain": [
       "\u001b[1m1096×2 DataFrame\u001b[0m\n",
       "\u001b[1m  Row \u001b[0m│\u001b[1m Price   \u001b[0m\u001b[1m Screen_Size \u001b[0m\n",
       "      │\u001b[90m Float64 \u001b[0m\u001b[90m Float64     \u001b[0m\n",
       "──────┼──────────────────────\n",
       "    1 │  189.99         14.0\n",
       "    2 │  179.99         14.0\n",
       "    3 │  550.0          14.0\n",
       "    4 │  459.0          14.0\n",
       "    5 │  429.0          14.0\n",
       "    6 │  219.99         14.0\n",
       "    7 │  319.99         14.0\n",
       "    8 │  279.99         14.0\n",
       "  ⋮   │    ⋮          ⋮\n",
       " 1090 │  945.67         14.0\n",
       " 1091 │  614.97         14.0\n",
       " 1092 │  335.99         14.0\n",
       " 1093 │  205.0          14.0\n",
       " 1094 │   64.71         14.0\n",
       " 1095 │   14.85         14.0\n",
       " 1096 │   17.5          14.0\n",
       "\u001b[36m            1081 rows omitted\u001b[0m"
      ]
     },
     "metadata": {},
     "output_type": "display_data"
    }
   ],
   "source": [
    "# If you want to select only some rows, use\n",
    "\n",
    "small_screens = df[df.Screen_Size .== 14.0, [:Price, :Screen_Size]]"
   ]
  },
  {
   "cell_type": "code",
   "execution_count": 32,
   "metadata": {},
   "outputs": [
    {
     "name": "stdout",
     "output_type": "stream",
     "text": [
      "[14.0, 14.0, 14.0, 14.0, 14.0, 14.0, 14.0, 14.0, 14.0, 14.0, 14.0, 14.0, 14.0, 14.0, 14.0, 14.0, 14.0, 14.0, 14.0, 14.0, 14.0, 14.0, 14.0, 14.0, 14.0, 14.0, 14.0, 14.0, 14.0, 14.0, 14.0, 14.0, 14.0, 14.0, 14.0, 14.0, 14.0, 14.0, 14.0, 14.0, 14.0, 14.0, 14.0, 14.0, 14.0, 14.0, 14.0, 14.0, 14.0, 14.0, 14.0, 14.0, 14.0, 14.0, 14.0, 14.0, 14.0, 14.0, 14.0, 14.0, 14.0, 14.0, 14.0, 14.0, 14.0, 14.0, 14.0, 14.0, 14.0, 14.0, 14.0, 14.0, 14.0, 14.0, 14.0, 14.0, 14.0, 14.0, 14.0, 14.0, 14.0, 14.0, 14.0, 14.0, 14.0, 14.0, 14.0, 14.0, 14.0, 14.0, 14.0, 14.0, 14.0, 14.0, 14.0, 14.0, 14.0, 14.0, 14.0, 14.0, 14.0, 14.0, 14.0, 14.0, 14.0, 14.0, 14.0, 14.0, 14.0, 14.0, 14.0, 14.0, 14.0, 14.0, 14.0, 14.0, 14.0, 14.0, 14.0, 14.0, 14.0, 14.0, 14.0, 14.0, 14.0, 14.0, 14.0, 14.0, 14.0, 14.0, 14.0, 14.0, 14.0, 14.0, 14.0, 14.0, 14.0, 14.0, 14.0, 14.0, 14.0, 14.0, 14.0, 14.0, 14.0, 14.0, 14.0, 14.0, 14.0, 14.0, 14.0, 14.0, 14.0, 14.0, 14.0, 14.0, 14.0, 14.0, 14.0, 14.0, 14.0, 14.0, 14.0, 14.0, 14.0, 14.0, 14.0, 14.0, 14.0, 14.0, 14.0, 14.0, 14.0, 14.0, 14.0, 14.0, 14.0, 14.0, 14.0, 14.0, 14.0, 14.0, 14.0, 14.0, 14.0, 14.0, 14.0, 14.0, 14.0, 14.0, 14.0, 14.0, 14.0, 14.0, 14.0, 14.0, 14.0, 14.0, 14.0, 14.0, 14.0, 14.0, 14.0, 14.0, 14.0, 14.0, 14.0, 14.0, 14.0, 14.0, 14.0, 14.0, 14.0, 14.0, 14.0, 14.0, 14.0, 14.0, 14.0, 14.0, 14.0, 14.0, 14.0, 14.0, 14.0, 14.0, 14.0, 14.0, 14.0, 14.0, 14.0, 14.0, 14.0, 14.0, 14.0, 14.0, 14.0, 14.0, 14.0, 14.0, 14.0, 14.0, 14.0, 14.0, 14.0, 14.0, 14.0, 14.0, 14.0, 14.0, 14.0, 14.0, 14.0, 14.0, 14.0, 14.0, 14.0, 14.0, 14.0, 14.0, 14.0, 14.0, 14.0, 14.0, 14.0, 14.0, 14.0, 14.0, 14.0, 14.0, 14.0, 14.0, 14.0, 14.0, 14.0, 14.0, 14.0, 14.0, 14.0, 14.0, 14.0, 14.0, 14.0, 14.0, 14.0, 14.0, 14.0, 14.0, 14.0, 14.0, 14.0, 14.0, 14.0, 14.0, 14.0, 14.0, 14.0, 14.0, 14.0, 14.0, 14.0, 14.0, 14.0, 14.0, 14.0, 14.0, 14.0, 14.0, 14.0, 14.0, 14.0, 14.0, 14.0, 14.0, 14.0, 14.0, 14.0, 14.0, 14.0, 14.0, 14.0, 14.0, 14.0, 14.0, 14.0, 14.0, 14.0, 14.0, 14.0, 14.0, 14.0, 14.0, 14.0, 14.0, 14.0, 14.0, 14.0, 14.0, 14.0, 14.0, 14.0, 14.0, 14.0, 14.0, 14.0, 14.0, 14.0, 14.0, 14.0, 14.0, 14.0, 14.0, 14.0, 14.0, 14.0, 14.0, 14.0, 14.0, 14.0, 14.0, 14.0, 14.0, 14.0, 14.0, 14.0, 14.0, 14.0, 14.0, 14.0, 14.0, 14.0, 14.0, 14.0, 14.0, 14.0, 14.0, 14.0, 14.0, 14.0, 14.0, 14.0, 14.0, 14.0, 14.0, 14.0, 14.0, 14.0, 14.0, 14.0, 14.0, 14.0, 14.0, 14.0, 14.0, 14.0, 14.0, 14.0, 14.0, 14.0, 14.0, 14.0, 14.0, 14.0, 14.0, 14.0, 14.0, 14.0, 14.0, 14.0, 14.0, 14.0, 14.0, 14.0, 14.0, 14.0, 14.0, 14.0, 14.0, 14.0, 14.0, 14.0, 14.0, 14.0, 14.0, 14.0, 14.0, 14.0, 14.0, 14.0, 14.0, 14.0, 14.0, 14.0, 14.0, 14.0, 14.0, 14.0, 14.0, 14.0, 14.0, 14.0, 14.0, 14.0, 14.0, 14.0, 14.0, 14.0, 14.0, 14.0, 14.0, 14.0, 14.0, 14.0, 14.0, 14.0, 14.0, 14.0, 14.0, 14.0, 14.0, 14.0, 14.0, 14.0, 14.0, 14.0, 14.0, 14.0, 14.0, 14.0, 14.0, 14.0, 14.0, 14.0, 14.0, 14.0, 14.0, 14.0, 14.0, 14.0, 14.0, 14.0, 14.0, 14.0, 14.0, 14.0, 14.0, 14.0, 14.0, 14.0, 14.0, 14.0, 14.0, 14.0, 14.0, 14.0, 14.0, 14.0, 14.0, 14.0, 14.0, 14.0, 14.0, 14.0, 14.0, 14.0, 14.0, 14.0, 14.0, 14.0, 14.0, 14.0, 14.0, 14.0, 14.0, 14.0, 14.0, 14.0, 14.0, 14.0, 14.0, 14.0, 14.0, 14.0, 14.0, 14.0, 14.0, 14.0, 14.0, 14.0, 14.0, 14.0, 14.0, 14.0, 14.0, 14.0, 14.0, 14.0, 14.0, 14.0, 14.0, 14.0, 14.0, 14.0, 14.0, 14.0, 14.0, 14.0, 14.0, 14.0, 14.0, 14.0, 14.0, 14.0, 14.0, 14.0, 14.0, 14.0, 14.0, 14.0, 14.0, 14.0, 14.0, 14.0, 14.0, 14.0, 14.0, 14.0, 14.0, 14.0, 14.0, 14.0, 14.0, 14.0, 14.0, 14.0, 14.0, 14.0, 14.0, 14.0, 14.0, 14.0, 14.0, 14.0, 14.0, 14.0, 14.0, 14.0, 14.0, 14.0, 14.0, 14.0, 14.0, 14.0, 14.0, 14.0, 14.0, 14.0, 14.0, 14.0, 14.0, 14.0, 14.0, 14.0, 14.0, 14.0, 14.0, 14.0, 14.0, 14.0, 14.0, 14.0, 14.0, 14.0, 14.0, 14.0, 14.0, 14.0, 14.0, 14.0, 14.0, 14.0, 14.0, 14.0, 14.0, 14.0, 14.0, 14.0, 14.0, 14.0, 14.0, 14.0, 14.0, 14.0, 14.0, 14.0, 14.0, 14.0, 14.0, 14.0, 14.0, 14.0, 14.0, 14.0, 14.0, 14.0, 14.0, 14.0, 14.0, 14.0, 14.0, 14.0, 14.0, 14.0, 14.0, 14.0, 14.0, 14.0, 14.0, 14.0, 14.0, 14.0, 14.0, 14.0, 14.0, 14.0, 14.0, 14.0, 14.0, 14.0, 14.0, 14.0, 14.0, 14.0, 14.0, 14.0, 14.0, 14.0, 14.0, 14.0, 14.0, 14.0, 14.0, 14.0, 14.0, 14.0, 14.0, 14.0, 14.0, 14.0, 14.0, 14.0, 14.0, 14.0, 14.0, 14.0, 14.0, 14.0, 14.0, 14.0, 14.0, 14.0, 14.0, 14.0, 14.0, 14.0, 14.0, 14.0, 14.0, 14.0, 14.0, 14.0, 14.0, 14.0, 14.0, 14.0, 14.0, 14.0, 14.0, 14.0, 14.0, 14.0, 14.0, 14.0, 14.0, 14.0, 14.0, 14.0, 14.0, 14.0, 14.0, 14.0, 14.0, 14.0, 14.0, 14.0, 14.0, 14.0, 14.0, 14.0, 14.0, 14.0, 14.0, 14.0, 14.0, 14.0, 14.0, 14.0, 14.0, 14.0, 14.0, 14.0, 14.0, 14.0, 14.0, 14.0, 14.0, 14.0, 14.0, 14.0, 14.0, 14.0, 14.0, 14.0, 14.0, 14.0, 14.0, 14.0, 14.0, 14.0, 14.0, 14.0, 14.0, 14.0, 14.0, 14.0, 14.0, 14.0, 14.0, 14.0, 14.0, 14.0, 14.0, 14.0, 14.0, 14.0, 14.0, 14.0, 14.0, 14.0, 14.0, 14.0, 14.0, 14.0, 14.0, 14.0, 14.0, 14.0, 14.0, 14.0, 14.0, 14.0, 14.0, 14.0, 14.0, 14.0, 14.0, 14.0, 14.0, 14.0, 14.0, 14.0, 14.0, 14.0, 14.0, 14.0, 14.0, 14.0, 14.0, 14.0, 14.0, 14.0, 14.0, 14.0, 14.0, 14.0, 14.0, 14.0, 14.0, 14.0, 14.0, 14.0, 14.0, 14.0, 14.0, 14.0, 14.0, 14.0, 14.0, 14.0, 14.0, 14.0, 14.0, 14.0, 14.0, 14.0, 14.0, 14.0, 14.0, 14.0, 14.0, 14.0, 14.0, 14.0, 14.0, 14.0, 14.0, 14.0, 14.0, 14.0, 14.0, 14.0, 14.0, 14.0, 14.0, 14.0, 14.0, 14.0, 14.0, 14.0, 14.0, 14.0, 14.0, 14.0, 14.0, 14.0, 14.0, 14.0, 14.0, 14.0, 14.0, 14.0, 14.0, 14.0, 14.0, 14.0, 14.0, 14.0, 14.0, 14.0, 14.0, 14.0, 14.0, 14.0, 14.0, 14.0, 14.0, 14.0, 14.0, 14.0, 14.0, 14.0, 14.0, 14.0, 14.0, 14.0, 14.0, 14.0, 14.0, 14.0, 14.0, 14.0, 14.0, 14.0, 14.0, 14.0, 14.0, 14.0, 14.0, 14.0, 14.0, 14.0, 14.0, 14.0, 14.0, 14.0, 14.0, 14.0, 14.0, 14.0, 14.0, 14.0, 14.0, 14.0, 14.0, 14.0, 14.0, 14.0, 14.0, 14.0, 14.0, 14.0, 14.0, 14.0, 14.0, 14.0, 14.0, 14.0, 14.0, 14.0, 14.0, 14.0, 14.0, 14.0, 14.0, 14.0, 14.0, 14.0, 14.0, 14.0, 14.0, 14.0, 14.0, 14.0, 14.0, 14.0, 14.0, 14.0, 14.0, 14.0, 14.0, 14.0, 14.0, 14.0, 14.0, 14.0, 14.0, 14.0, 14.0, 14.0, 14.0, 14.0, 14.0, 14.0, 14.0, 14.0, 14.0, 14.0, 14.0, 14.0, 14.0, 14.0, 14.0, 14.0, 14.0, 14.0, 14.0, 14.0, 14.0, 14.0, 14.0, 14.0, 14.0, 14.0, 14.0, 14.0, 14.0, 14.0, 14.0, 14.0, 14.0, 14.0, 14.0, 14.0, 14.0, 14.0, 14.0, 14.0, 14.0, 14.0, 14.0, 14.0, 14.0, 14.0, 14.0, 14.0, 14.0, 14.0, 14.0, 14.0, 14.0, 14.0, 14.0, 14.0, 14.0, 14.0, 14.0, 14.0, 14.0, 14.0, 14.0, 14.0, 14.0, 14.0, 14.0, 14.0, 14.0, 14.0, 14.0, 14.0, 14.0, 14.0, 14.0, 14.0, 14.0, 14.0, 14.0, 14.0, 14.0, 14.0, 14.0, 14.0, 14.0, 14.0, 14.0, 14.0, 14.0, 14.0, 14.0, 14.0, 14.0, 14.0, 14.0, 14.0, 14.0, 14.0, 14.0, 14.0, 14.0, 14.0, 14.0, 14.0, 14.0, 14.0, 14.0, 14.0, 14.0, 14.0, 14.0, 14.0, 14.0, 14.0, 14.0, 14.0, 14.0, 14.0, 14.0]\n",
      "[15.6, 15.6, 15.6, 15.6, 15.6, 15.6, 15.6, 15.6, 15.6, 15.6, 15.6, 15.6, 15.6, 15.6, 15.6, 15.6, 15.6, 15.6, 15.6, 15.6, 15.6, 15.6, 15.6, 15.6, 15.6, 15.6, 15.6, 15.6, 15.6, 15.6, 15.6, 15.6, 15.6, 15.6, 15.6, 15.6, 15.6, 15.6, 15.6, 15.6, 15.6, 15.6, 15.6, 15.6, 15.6, 15.6, 15.6, 15.6, 15.6, 15.6, 15.6, 15.6, 15.6, 15.6, 15.6, 15.6, 15.6, 15.6, 15.6, 15.6, 15.6, 15.6, 15.6, 15.6, 15.6, 15.6, 15.6, 15.6, 15.6, 15.6, 15.6, 15.6, 15.6, 15.6, 15.6, 15.6, 15.6, 15.6, 15.6, 15.6, 15.6, 15.6, 15.6, 15.6, 15.6, 15.6, 15.6, 15.6, 15.6, 15.6, 15.6, 15.6, 15.6, 15.6, 15.6, 15.6, 15.6, 15.6, 15.6, 15.6, 15.6, 15.6, 15.6, 15.6, 15.6, 15.6, 15.6, 15.6, 15.6, 15.6, 15.6, 15.6, 15.6, 15.6, 15.6, 15.6, 15.6, 15.6, 15.6, 15.6, 15.6, 15.6, 15.6, 15.6, 15.6, 15.6, 15.6, 15.6, 15.6, 15.6, 15.6, 15.6, 15.6, 15.6, 15.6, 15.6, 15.6, 15.6, 15.6, 15.6, 15.6, 15.6, 15.6, 15.6, 15.6, 15.6, 15.6, 15.6, 15.6, 15.6, 15.6, 15.6, 15.6, 15.6, 15.6, 15.6, 15.6, 15.6, 15.6, 15.6, 15.6, 15.6, 15.6, 15.6, 15.6, 15.6, 15.6, 15.6, 15.6, 15.6, 15.6, 15.6, 15.6, 15.6, 15.6, 15.6, 15.6, 15.6, 15.6, 15.6, 15.6, 15.6, 15.6, 15.6, 15.6, 15.6, 15.6, 15.6, 15.6, 15.6, 15.6, 15.6, 15.6, 15.6, 15.6, 15.6, 15.6, 15.6, 15.6, 15.6, 15.6, 15.6, 15.6, 15.6, 15.6, 15.6, 15.6, 15.6, 15.6, 15.6, 15.6, 15.6, 15.6, 15.6, 15.6, 15.6, 15.6, 15.6, 15.6, 15.6, 15.6, 15.6, 15.6, 15.6, 15.6, 15.6, 15.6, 15.6, 15.6, 15.6, 15.6, 15.6, 15.6, 15.6, 15.6, 15.6, 15.6, 15.6, 15.6, 15.6, 15.6, 15.6, 15.6, 15.6, 15.6, 15.6, 15.6, 15.6, 15.6, 15.6, 15.6, 15.6, 15.6, 15.6, 15.6, 15.6, 15.6, 15.6, 15.6, 15.6, 15.6, 15.6, 15.6, 15.6, 15.6, 15.6, 15.6, 15.6, 15.6, 15.6, 15.6, 15.6, 15.6, 15.6, 15.6, 15.6, 15.6, 15.6, 15.6, 15.6, 15.6, 15.6, 15.6, 15.6, 15.6, 15.6, 15.6, 15.6, 15.6, 15.6, 15.6, 15.6, 15.6, 15.6, 15.6, 15.6, 15.6, 15.6, 15.6, 15.6, 15.6, 15.6, 15.6, 15.6, 15.6, 15.6, 15.6, 15.6, 15.6, 15.6, 15.6, 15.6, 15.6, 15.6, 15.6, 15.6, 15.6, 15.6, 15.6, 15.6, 15.6, 15.6, 15.6, 15.6, 15.6, 15.6, 15.6, 15.6, 15.6, 15.6, 15.6, 15.6, 15.6, 15.6, 15.6, 15.6, 15.6, 15.6, 15.6, 15.6, 15.6, 15.6, 15.6, 15.6, 15.6, 15.6, 15.6, 15.6, 15.6, 15.6, 15.6, 15.6, 15.6, 15.6, 15.6, 15.6, 15.6, 15.6, 15.6, 15.6, 15.6, 15.6, 15.6, 15.6, 15.6, 15.6, 15.6, 15.6, 15.6, 15.6, 15.6, 15.6, 15.6, 15.6, 15.6, 15.6, 15.6, 15.6, 15.6, 15.6, 15.6, 15.6, 15.6, 15.6, 15.6, 15.6, 15.6, 15.6, 15.6, 15.6, 15.6, 15.6, 15.6, 15.6, 15.6, 15.6, 15.6, 15.6, 15.6, 15.6, 15.6, 15.6, 15.6, 15.6, 15.6, 15.6, 15.6, 15.6, 15.6, 15.6, 15.6, 15.6, 15.6, 15.6, 15.6, 15.6, 15.6, 15.6, 15.6, 15.6, 15.6, 15.6, 15.6, 15.6, 15.6, 15.6, 15.6, 15.6, 15.6, 15.6, 15.6, 15.6, 15.6, 15.6, 15.6, 15.6, 15.6, 15.6, 15.6, 15.6, 15.6, 15.6, 15.6, 15.6, 15.6, 15.6, 15.6, 15.6, 15.6, 15.6, 15.6, 15.6, 15.6, 15.6, 15.6, 15.6, 15.6, 15.6, 15.6, 15.6, 15.6, 15.6, 15.6, 15.6, 15.6, 15.6, 15.6, 15.6, 15.6, 15.6, 15.6, 15.6, 15.6, 15.6, 15.6, 15.6, 15.6, 15.6, 15.6, 15.6, 15.6, 15.6, 15.6, 15.6, 15.6, 15.6, 15.6, 15.6, 15.6, 15.6, 15.6, 15.6, 15.6, 15.6, 15.6, 15.6, 15.6, 15.6, 15.6, 15.6, 15.6, 15.6, 15.6, 15.6, 15.6, 15.6, 15.6, 15.6, 15.6, 15.6, 15.6, 15.6, 15.6, 15.6, 15.6, 15.6, 15.6, 15.6, 15.6, 15.6, 15.6, 15.6, 15.6, 15.6, 15.6, 15.6, 15.6, 15.6, 15.6, 15.6, 15.6, 15.6, 15.6, 15.6, 15.6, 15.6, 15.6, 15.6, 15.6, 15.6, 15.6, 15.6, 15.6, 15.6, 15.6, 15.6, 15.6, 15.6, 15.6, 15.6, 15.6, 15.6, 15.6, 15.6, 15.6, 15.6, 15.6, 15.6, 15.6, 15.6, 15.6, 15.6, 15.6, 15.6, 15.6, 15.6, 15.6, 15.6, 15.6, 15.6, 15.6, 15.6, 15.6, 15.6, 15.6, 15.6, 15.6, 15.6, 15.6, 15.6, 15.6, 15.6, 15.6, 15.6, 15.6, 15.6, 15.6, 15.6, 15.6, 15.6, 15.6, 15.6, 15.6, 15.6, 15.6, 15.6, 15.6, 15.6, 15.6, 15.6, 15.6, 15.6, 15.6, 15.6, 15.6, 15.6, 15.6, 15.6, 15.6, 15.6, 15.6, 15.6, 15.6, 15.6, 15.6, 15.6, 15.6, 15.6, 15.6, 15.6, 15.6, 15.6, 15.6, 15.6, 15.6, 15.6, 15.6, 15.6, 15.6, 15.6, 15.6, 15.6, 15.6, 15.6, 15.6, 15.6, 15.6, 15.6, 15.6, 15.6, 15.6, 15.6, 15.6, 15.6, 15.6, 15.6, 15.6, 15.6, 15.6, 15.6, 15.6, 15.6, 15.6, 15.6, 15.6, 15.6, 15.6, 15.6, 15.6, 15.6, 15.6, 15.6, 15.6, 15.6, 15.6, 15.6, 15.6, 15.6, 15.6, 15.6, 15.6, 15.6, 15.6, 15.6, 15.6, 15.6, 15.6, 15.6, 15.6, 15.6, 15.6, 15.6, 15.6, 15.6, 15.6, 15.6, 15.6, 15.6, 15.6, 15.6, 15.6, 15.6, 15.6, 15.6, 15.6, 15.6, 15.6, 15.6, 15.6, 15.6, 15.6, 15.6, 15.6, 15.6, 15.6, 15.6, 15.6, 15.6, 15.6, 15.6, 15.6, 15.6, 15.6, 15.6, 15.6, 15.6, 15.6, 15.6, 15.6, 15.6, 15.6, 15.6, 15.6, 15.6, 15.6, 15.6, 15.6, 15.6, 15.6, 15.6, 15.6, 15.6, 15.6, 15.6, 15.6, 15.6, 15.6, 15.6, 15.6, 15.6, 15.6, 15.6, 15.6, 15.6, 15.6, 15.6, 15.6, 15.6, 15.6, 15.6, 15.6, 15.6, 15.6, 15.6, 15.6, 15.6, 15.6, 15.6, 15.6, 15.6, 15.6, 15.6, 15.6, 15.6, 15.6, 15.6, 15.6, 15.6, 15.6, 15.6, 15.6, 15.6, 15.6, 15.6, 15.6, 15.6, 15.6, 15.6, 15.6, 15.6, 15.6, 15.6, 15.6, 15.6, 15.6, 15.6, 15.6, 15.6, 15.6, 15.6, 15.6, 15.6, 15.6, 15.6, 15.6, 15.6, 15.6, 15.6, 15.6, 15.6, 15.6, 15.6, 15.6, 15.6, 15.6, 15.6, 15.6, 15.6, 15.6, 15.6, 15.6, 15.6, 15.6, 15.6, 15.6, 15.6, 15.6, 15.6, 15.6, 15.6, 15.6, 15.6, 15.6, 15.6, 15.6, 15.6, 15.6, 15.6, 15.6, 15.6, 15.6, 15.6, 15.6, 15.6, 15.6, 15.6, 15.6, 15.6, 15.6, 15.6, 15.6, 15.6, 15.6, 15.6, 15.6, 15.6, 15.6, 15.6, 15.6, 15.6, 15.6, 15.6, 15.6, 15.6, 15.6, 15.6, 15.6, 15.6, 15.6, 15.6, 15.6, 15.6, 15.6, 15.6, 15.6, 15.6, 15.6, 15.6, 15.6, 15.6, 15.6, 15.6, 15.6, 15.6, 15.6, 15.6, 15.6, 15.6, 15.6, 15.6, 15.6, 15.6, 15.6, 15.6, 15.6, 15.6, 15.6, 15.6, 15.6, 15.6, 15.6, 15.6, 15.6, 15.6, 15.6, 15.6, 15.6, 15.6, 15.6, 15.6, 15.6, 15.6, 15.6, 15.6, 15.6, 15.6, 15.6, 15.6, 15.6, 15.6, 15.6, 15.6, 15.6, 15.6, 15.6, 15.6, 15.6, 15.6, 15.6, 15.6, 15.6, 15.6, 15.6, 15.6, 15.6, 15.6, 15.6, 15.6, 15.6, 15.6, 15.6, 15.6, 15.6, 15.6, 15.6, 15.6, 15.6, 15.6, 15.6, 15.6, 15.6]\n",
      "[13.5, 13.5, 13.5, 13.5, 13.5, 13.5, 13.5, 13.5, 13.5, 13.5, 13.5, 13.5, 13.5, 13.5, 13.5, 13.5, 13.5, 13.5, 13.5, 13.5, 13.5, 13.5, 13.5, 13.5, 13.5, 13.5, 13.5, 13.5, 13.5, 13.5, 13.5, 13.5, 13.5, 13.5, 13.5, 13.5, 13.5, 13.5, 13.5, 13.5, 13.5, 13.5, 13.5, 13.5, 13.5, 13.5, 13.5, 13.5, 13.5, 13.5, 13.5, 13.5, 13.5, 13.5, 13.5, 13.5, 13.5, 13.5, 13.5, 13.5, 13.5, 13.5, 13.5, 13.5, 13.5, 13.5, 13.5, 13.5, 13.5, 13.5, 13.5, 13.5, 13.5, 13.5, 13.5, 13.5, 13.5, 13.5, 13.5, 13.5, 13.5, 13.5, 13.5, 13.5]\n"
     ]
    }
   ],
   "source": [
    "# If you want to split up the dataframe based on a column, use\n",
    "\n",
    "scren_size_group = groupby(df, :Screen_Size)\n",
    "println(scren_size_group[1].Screen_Size)\n",
    "println(scren_size_group[2].Screen_Size)\n",
    "println(scren_size_group[3].Screen_Size)"
   ]
  },
  {
   "cell_type": "code",
   "execution_count": 33,
   "metadata": {},
   "outputs": [
    {
     "name": "stdout",
     "output_type": "stream",
     "text": [
      "(2952, 10)\n",
      "(2277, 10)\n"
     ]
    }
   ],
   "source": [
    "# The functions dropmissing and dropmissing! can be used to remove the rows containing missing values \n",
    "# from a data frame and either create a new DataFrame or mutate the original in-place respectively.\n",
    "\n",
    "println(size(df))\n",
    "println(size(dropmissing(df)))"
   ]
  },
  {
   "cell_type": "markdown",
   "metadata": {},
   "source": [
    "# ADVANCED STATS\n",
    "\n",
    "## StatsBase.jl\n",
    "\n",
    "https://juliastats.org/StatsBase.jl/stable/\n",
    "\n",
    "Think of StatsBase as an extension to Statistics, that adds a bit more detail"
   ]
  },
  {
   "cell_type": "code",
   "execution_count": 35,
   "metadata": {},
   "outputs": [
    {
     "name": "stderr",
     "output_type": "stream",
     "text": [
      "\u001b[32m\u001b[1m   Resolving\u001b[22m\u001b[39m package versions...\n",
      "\u001b[32m\u001b[1m  No Changes\u001b[22m\u001b[39m to `~/.julia/environments/v1.10/Project.toml`\n",
      "\u001b[32m\u001b[1m  No Changes\u001b[22m\u001b[39m to `~/.julia/environments/v1.10/Manifest.toml`\n"
     ]
    }
   ],
   "source": [
    "Pkg.add(\"StatsBase\")\n",
    "using StatsBase"
   ]
  },
  {
   "cell_type": "code",
   "execution_count": 36,
   "metadata": {},
   "outputs": [
    {
     "name": "stdout",
     "output_type": "stream",
     "text": [
      "0.09263519515556046\n",
      "1.047839691017999\n",
      "-0.11909516601874004\n",
      "-0.16443913964696127\n",
      "-0.37833896829001423\n"
     ]
    }
   ],
   "source": [
    "# We get can more fancy properties of data like the standard error of the mean, \n",
    "# inter-quantile range, mode, higher order moments like skew and kurtosis\n",
    "\n",
    "x = randn(100)\n",
    "println(sem(x))\n",
    "println(iqr(x))\n",
    "println(mode(x))\n",
    "println(skewness(x))\n",
    "println(kurtosis(x))"
   ]
  },
  {
   "cell_type": "code",
   "execution_count": 37,
   "metadata": {},
   "outputs": [
    {
     "name": "stdout",
     "output_type": "stream",
     "text": [
      "2.8421363646533147\n",
      "0.26679475112113593\n"
     ]
    }
   ],
   "source": [
    "# You can also calculate the fancy means:\n",
    "\n",
    "println(geomean(x .+ 3)) # doesnt work with negative numbers\n",
    "println(harmmean(x))"
   ]
  },
  {
   "cell_type": "code",
   "execution_count": 38,
   "metadata": {},
   "outputs": [
    {
     "name": "stdout",
     "output_type": "stream",
     "text": [
      "Summary Stats:\n",
      "Length:         100\n",
      "Missing Count:  0\n",
      "Mean:           0.008825\n",
      "Std. Deviation: 0.926352\n",
      "Minimum:        -2.141168\n",
      "1st Quartile:   -0.451673\n",
      "Median:         0.011751\n",
      "3rd Quartile:   0.596167\n",
      "Maximum:        1.846327\n",
      "Type:           Float64\n"
     ]
    }
   ],
   "source": [
    "# To get some base info on your vector, you can use 'describe'\n",
    "\n",
    "describe(x)"
   ]
  },
  {
   "cell_type": "code",
   "execution_count": 42,
   "metadata": {},
   "outputs": [
    {
     "name": "stdout",
     "output_type": "stream",
     "text": [
      "-5.273559366969494e-18\n",
      "1.0\n"
     ]
    }
   ],
   "source": [
    "# You can easily z-score you data using 'zscore'\n",
    "\n",
    "println(mean(zscore(x)))\n",
    "println(std(zscore(x)))"
   ]
  },
  {
   "cell_type": "code",
   "execution_count": 43,
   "metadata": {},
   "outputs": [
    {
     "name": "stdout",
     "output_type": "stream",
     "text": [
      "1.366158847569202\n",
      "1.3256123367583854\n",
      "0.04575811092471789\n"
     ]
    }
   ],
   "source": [
    "# Given a collection of probabilities, you can calculate the entropy, cross-entropy and KL divergence with:\n",
    "\n",
    "p = [0.1, 0.4, 0.2, 0.3];\n",
    "q = [0.2, 0.3, 0.2, 0.3];\n",
    "\n",
    "println(entropy(q))\n",
    "println(crossentropy(p, q))\n",
    "println(kldivergence(p, q))"
   ]
  },
  {
   "cell_type": "code",
   "execution_count": 44,
   "metadata": {},
   "outputs": [
    {
     "data": {
      "text/plain": [
       "3.4047731789430675"
      ]
     },
     "metadata": {},
     "output_type": "display_data"
    }
   ],
   "source": [
    "# We can also get the root mean squared deviation between two vectors\n",
    "\n",
    "x = randn(100)\n",
    "y = 3 .+ randn(100)\n",
    "rmsd(x, y)"
   ]
  },
  {
   "cell_type": "code",
   "execution_count": 45,
   "metadata": {},
   "outputs": [
    {
     "name": "stdout",
     "output_type": "stream",
     "text": [
      "[4, 1, 2, 3]\n",
      "[4, 1, 1, 3]\n",
      "[3, 1, 1, 2]\n"
     ]
    }
   ],
   "source": [
    "# 'ordinalrank' (no ties) 'competerank' and 'denserank' allow ranking of elements in an array\n",
    "\n",
    "x = [3, 1, 1, 2]\n",
    "println(ordinalrank(x))\n",
    "println(competerank(x))\n",
    "println(denserank(x))"
   ]
  },
  {
   "cell_type": "code",
   "execution_count": 46,
   "metadata": {},
   "outputs": [
    {
     "name": "stdout",
     "output_type": "stream",
     "text": [
      "[\"A\", \"B\", \"A\", \"A\", \"C\", \"A\", \"A\", \"A\", \"A\", \"A\"]\n",
      "[\"A\", \"C\"]\n"
     ]
    }
   ],
   "source": [
    "# 'wsample' lets you sample from an array given some probabilities (replace can be used to set sampling with/without replacement)\n",
    "\n",
    "println(wsample([\"A\", \"B\", \"C\"], [0.9, 0.05, 0.05], 10))\n",
    "println(wsample([\"A\", \"B\", \"C\"], [0.9, 0.05, 0.05], 2, replace=false))"
   ]
  },
  {
   "cell_type": "markdown",
   "metadata": {},
   "source": [
    "## Distributions.jl\n",
    "\n",
    "https://juliastats.org/Distributions.jl/stable/\n",
    "\n",
    "This package lets us sample from, get the pdf/cdf and other properties of many statistical distribitions.\n",
    "\n",
    "The list of available distributions in in their documentation. I will not list it since there are >100"
   ]
  },
  {
   "cell_type": "code",
   "execution_count": 48,
   "metadata": {},
   "outputs": [
    {
     "name": "stderr",
     "output_type": "stream",
     "text": [
      "\u001b[32m\u001b[1m   Resolving\u001b[22m\u001b[39m package versions...\n",
      "\u001b[32m\u001b[1m  No Changes\u001b[22m\u001b[39m to `~/.julia/environments/v1.10/Project.toml`\n",
      "\u001b[32m\u001b[1m  No Changes\u001b[22m\u001b[39m to `~/.julia/environments/v1.10/Manifest.toml`\n"
     ]
    }
   ],
   "source": [
    "Pkg.add([\"Distributions\", \"Plots\"])\n",
    "using Distributions, Plots"
   ]
  },
  {
   "cell_type": "code",
   "execution_count": 50,
   "metadata": {},
   "outputs": [
    {
     "name": "stdout",
     "output_type": "stream",
     "text": [
      "Normal{Float64}(μ=0.0, σ=1.0)\n",
      "0.0\n",
      "1.0\n"
     ]
    }
   ],
   "source": [
    "# The syntax is as follows: first, define a distribution object, and then call functions around it.\n",
    "\n",
    "d = Normal()\n",
    "println(d)\n",
    "println(mean(d))\n",
    "println(var(d))"
   ]
  },
  {
   "cell_type": "code",
   "execution_count": 52,
   "metadata": {},
   "outputs": [
    {
     "name": "stdout",
     "output_type": "stream",
     "text": [
      "[-0.3326743014880664, -1.4665583079525755, 0.1693884715143141, -0.5427684061232707, 1.517597666016467]\n"
     ]
    }
   ],
   "source": [
    "# To sample from the distribution, use 'rand'\n",
    "\n",
    "println(rand(d, 5))"
   ]
  },
  {
   "cell_type": "code",
   "execution_count": 53,
   "metadata": {},
   "outputs": [
    {
     "name": "stdout",
     "output_type": "stream",
     "text": [
      "(:μ, :σ)\n",
      "Normal{Float64}(μ=1.0, σ=2.0)\n"
     ]
    }
   ],
   "source": [
    "# 'fieldnames' tells you about the parameters of the distribution\n",
    "\n",
    "println(fieldnames(Normal))\n",
    "d = Normal(1, 2)\n",
    "println(d)"
   ]
  },
  {
   "cell_type": "code",
   "execution_count": 56,
   "metadata": {},
   "outputs": [
    {
     "data": {
      "image/png": "[encoded data removed]",
      "image/svg+xml": [
       "<?xml version=\"1.0\" encoding=\"utf-8\"?>\n",
       "<svg xmlns=\"http://www.w3.org/2000/svg\" xmlns:xlink=\"http://www.w3.org/1999/xlink\" width=\"200\" height=\"200\" viewBox=\"0 0 800 800\">\n",
       "<defs>\n",
       "  <clipPath id=\"clip960\">\n",
       "    <rect x=\"0\" y=\"0\" width=\"800\" height=\"800\"/>\n",
       "  </clipPath>\n",
       "</defs>\n",
       "<path clip-path=\"url(#clip960)\" d=\"M0 800 L800 800 L800 0 L0 0  Z\" fill=\"#ffffff\" fill-rule=\"evenodd\" fill-opacity=\"1\"/>\n",
       "<defs>\n",
       "  <clipPath id=\"clip961\">\n",
       "    <rect x=\"160\" y=\"79\" width=\"561\" height=\"561\"/>\n",
       "  </clipPath>\n",
       "</defs>\n",
       "<path clip-path=\"url(#clip960)\" d=\"M140.598 677.168 L752.756 677.168 L752.756 47.2441 L140.598 47.2441  Z\" fill=\"#ffffff\" fill-rule=\"evenodd\" fill-opacity=\"1\"/>\n",
       "<defs>\n",
       "  <clipPath id=\"clip962\">\n",
       "    <rect x=\"140\" y=\"47\" width=\"613\" height=\"631\"/>\n",
       "  </clipPath>\n",
       "</defs>\n",
       "<polyline clip-path=\"url(#clip962)\" style=\"stroke:#000000; stroke-linecap:round; stroke-linejoin:round; stroke-width:2; stroke-opacity:0.1; fill:none\" points=\"157.923,677.168 157.923,47.2441 \"/>\n",
       "<polyline clip-path=\"url(#clip962)\" style=\"stroke:#000000; stroke-linecap:round; stroke-linejoin:round; stroke-width:2; stroke-opacity:0.1; fill:none\" points=\"302.3,677.168 302.3,47.2441 \"/>\n",
       "<polyline clip-path=\"url(#clip962)\" style=\"stroke:#000000; stroke-linecap:round; stroke-linejoin:round; stroke-width:2; stroke-opacity:0.1; fill:none\" points=\"446.677,677.168 446.677,47.2441 \"/>\n",
       "<polyline clip-path=\"url(#clip962)\" style=\"stroke:#000000; stroke-linecap:round; stroke-linejoin:round; stroke-width:2; stroke-opacity:0.1; fill:none\" points=\"591.054,677.168 591.054,47.2441 \"/>\n",
       "<polyline clip-path=\"url(#clip962)\" style=\"stroke:#000000; stroke-linecap:round; stroke-linejoin:round; stroke-width:2; stroke-opacity:0.1; fill:none\" points=\"735.431,677.168 735.431,47.2441 \"/>\n",
       "<polyline clip-path=\"url(#clip960)\" style=\"stroke:#000000; stroke-linecap:round; stroke-linejoin:round; stroke-width:4; stroke-opacity:1; fill:none\" points=\"140.598,677.168 752.756,677.168 \"/>\n",
       "<polyline clip-path=\"url(#clip960)\" style=\"stroke:#000000; stroke-linecap:round; stroke-linejoin:round; stroke-width:4; stroke-opacity:1; fill:none\" points=\"157.923,677.168 157.923,658.27 \"/>\n",
       "<polyline clip-path=\"url(#clip960)\" style=\"stroke:#000000; stroke-linecap:round; stroke-linejoin:round; stroke-width:4; stroke-opacity:1; fill:none\" points=\"302.3,677.168 302.3,658.27 \"/>\n",
       "<polyline clip-path=\"url(#clip960)\" style=\"stroke:#000000; stroke-linecap:round; stroke-linejoin:round; stroke-width:4; stroke-opacity:1; fill:none\" points=\"446.677,677.168 446.677,658.27 \"/>\n",
       "<polyline clip-path=\"url(#clip960)\" style=\"stroke:#000000; stroke-linecap:round; stroke-linejoin:round; stroke-width:4; stroke-opacity:1; fill:none\" points=\"591.054,677.168 591.054,658.27 \"/>\n",
       "<polyline clip-path=\"url(#clip960)\" style=\"stroke:#000000; stroke-linecap:round; stroke-linejoin:round; stroke-width:4; stroke-opacity:1; fill:none\" points=\"735.431,677.168 735.431,658.27 \"/>\n",
       "<path clip-path=\"url(#clip960)\" d=\"M126.824 709.939 L156.5 709.939 L156.5 713.874 L126.824 713.874 L126.824 709.939 Z\" fill=\"#000000\" fill-rule=\"nonzero\" fill-opacity=\"1\" /><path clip-path=\"url(#clip960)\" d=\"M179.44 696.282 L167.634 714.731 L179.44 714.731 L179.44 696.282 M178.213 692.208 L184.092 692.208 L184.092 714.731 L189.023 714.731 L189.023 718.62 L184.092 718.62 L184.092 726.768 L179.44 726.768 L179.44 718.62 L163.838 718.62 L163.838 714.106 L178.213 692.208 Z\" fill=\"#000000\" fill-rule=\"nonzero\" fill-opacity=\"1\" /><path clip-path=\"url(#clip960)\" d=\"M272.243 709.939 L301.918 709.939 L301.918 713.874 L272.243 713.874 L272.243 709.939 Z\" fill=\"#000000\" fill-rule=\"nonzero\" fill-opacity=\"1\" /><path clip-path=\"url(#clip960)\" d=\"M316.039 722.833 L332.358 722.833 L332.358 726.768 L310.414 726.768 L310.414 722.833 Q313.076 720.078 317.659 715.448 Q322.265 710.796 323.446 709.453 Q325.691 706.93 326.571 705.194 Q327.474 703.435 327.474 701.745 Q327.474 698.99 325.529 697.254 Q323.608 695.518 320.506 695.518 Q318.307 695.518 315.853 696.282 Q313.423 697.046 310.645 698.597 L310.645 693.875 Q313.469 692.74 315.923 692.162 Q318.377 691.583 320.414 691.583 Q325.784 691.583 328.978 694.268 Q332.173 696.953 332.173 701.444 Q332.173 703.574 331.363 705.495 Q330.576 707.393 328.469 709.986 Q327.89 710.657 324.789 713.874 Q321.687 717.069 316.039 722.833 Z\" fill=\"#000000\" fill-rule=\"nonzero\" fill-opacity=\"1\" /><path clip-path=\"url(#clip960)\" d=\"M446.677 695.287 Q443.066 695.287 441.237 698.851 Q439.432 702.393 439.432 709.523 Q439.432 716.629 441.237 720.194 Q443.066 723.735 446.677 723.735 Q450.311 723.735 452.117 720.194 Q453.946 716.629 453.946 709.523 Q453.946 702.393 452.117 698.851 Q450.311 695.287 446.677 695.287 M446.677 691.583 Q452.487 691.583 455.543 696.189 Q458.621 700.773 458.621 709.523 Q458.621 718.249 455.543 722.856 Q452.487 727.439 446.677 727.439 Q440.867 727.439 437.788 722.856 Q434.733 718.249 434.733 709.523 Q434.733 700.773 437.788 696.189 Q440.867 691.583 446.677 691.583 Z\" fill=\"#000000\" fill-rule=\"nonzero\" fill-opacity=\"1\" /><path clip-path=\"url(#clip960)\" d=\"M585.707 722.833 L602.026 722.833 L602.026 726.768 L580.082 726.768 L580.082 722.833 Q582.744 720.078 587.327 715.448 Q591.934 710.796 593.114 709.453 Q595.359 706.93 596.239 705.194 Q597.142 703.435 597.142 701.745 Q597.142 698.99 595.197 697.254 Q593.276 695.518 590.174 695.518 Q587.975 695.518 585.522 696.282 Q583.091 697.046 580.313 698.597 L580.313 693.875 Q583.137 692.74 585.591 692.162 Q588.045 691.583 590.082 691.583 Q595.452 691.583 598.646 694.268 Q601.841 696.953 601.841 701.444 Q601.841 703.574 601.031 705.495 Q600.244 707.393 598.137 709.986 Q597.558 710.657 594.457 713.874 Q591.355 717.069 585.707 722.833 Z\" fill=\"#000000\" fill-rule=\"nonzero\" fill-opacity=\"1\" /><path clip-path=\"url(#clip960)\" d=\"M738.44 696.282 L726.634 714.731 L738.44 714.731 L738.44 696.282 M737.213 692.208 L743.093 692.208 L743.093 714.731 L748.023 714.731 L748.023 718.62 L743.093 718.62 L743.093 726.768 L738.44 726.768 L738.44 718.62 L722.838 718.62 L722.838 714.106 L737.213 692.208 Z\" fill=\"#000000\" fill-rule=\"nonzero\" fill-opacity=\"1\" /><polyline clip-path=\"url(#clip962)\" style=\"stroke:#000000; stroke-linecap:round; stroke-linejoin:round; stroke-width:2; stroke-opacity:0.1; fill:none\" points=\"140.598,663.321 752.756,663.321 \"/>\n",
       "<polyline clip-path=\"url(#clip962)\" style=\"stroke:#000000; stroke-linecap:round; stroke-linejoin:round; stroke-width:2; stroke-opacity:0.1; fill:none\" points=\"140.598,535.105 752.756,535.105 \"/>\n",
       "<polyline clip-path=\"url(#clip962)\" style=\"stroke:#000000; stroke-linecap:round; stroke-linejoin:round; stroke-width:2; stroke-opacity:0.1; fill:none\" points=\"140.598,406.89 752.756,406.89 \"/>\n",
       "<polyline clip-path=\"url(#clip962)\" style=\"stroke:#000000; stroke-linecap:round; stroke-linejoin:round; stroke-width:2; stroke-opacity:0.1; fill:none\" points=\"140.598,278.674 752.756,278.674 \"/>\n",
       "<polyline clip-path=\"url(#clip962)\" style=\"stroke:#000000; stroke-linecap:round; stroke-linejoin:round; stroke-width:2; stroke-opacity:0.1; fill:none\" points=\"140.598,150.459 752.756,150.459 \"/>\n",
       "<polyline clip-path=\"url(#clip960)\" style=\"stroke:#000000; stroke-linecap:round; stroke-linejoin:round; stroke-width:4; stroke-opacity:1; fill:none\" points=\"140.598,677.168 140.598,47.2441 \"/>\n",
       "<polyline clip-path=\"url(#clip960)\" style=\"stroke:#000000; stroke-linecap:round; stroke-linejoin:round; stroke-width:4; stroke-opacity:1; fill:none\" points=\"140.598,663.321 159.496,663.321 \"/>\n",
       "<polyline clip-path=\"url(#clip960)\" style=\"stroke:#000000; stroke-linecap:round; stroke-linejoin:round; stroke-width:4; stroke-opacity:1; fill:none\" points=\"140.598,535.105 159.496,535.105 \"/>\n",
       "<polyline clip-path=\"url(#clip960)\" style=\"stroke:#000000; stroke-linecap:round; stroke-linejoin:round; stroke-width:4; stroke-opacity:1; fill:none\" points=\"140.598,406.89 159.496,406.89 \"/>\n",
       "<polyline clip-path=\"url(#clip960)\" style=\"stroke:#000000; stroke-linecap:round; stroke-linejoin:round; stroke-width:4; stroke-opacity:1; fill:none\" points=\"140.598,278.674 159.496,278.674 \"/>\n",
       "<polyline clip-path=\"url(#clip960)\" style=\"stroke:#000000; stroke-linecap:round; stroke-linejoin:round; stroke-width:4; stroke-opacity:1; fill:none\" points=\"140.598,150.459 159.496,150.459 \"/>\n",
       "<path clip-path=\"url(#clip960)\" d=\"M71.4226 649.119 Q67.8115 649.119 65.9828 652.684 Q64.1773 656.226 64.1773 663.355 Q64.1773 670.462 65.9828 674.027 Q67.8115 677.568 71.4226 677.568 Q75.0569 677.568 76.8624 674.027 Q78.6911 670.462 78.6911 663.355 Q78.6911 656.226 76.8624 652.684 Q75.0569 649.119 71.4226 649.119 M71.4226 645.416 Q77.2328 645.416 80.2883 650.022 Q83.367 654.605 83.367 663.355 Q83.367 672.082 80.2883 676.689 Q77.2328 681.272 71.4226 681.272 Q65.6125 681.272 62.5338 676.689 Q59.4782 672.082 59.4782 663.355 Q59.4782 654.605 62.5338 650.022 Q65.6125 645.416 71.4226 645.416 Z\" fill=\"#000000\" fill-rule=\"nonzero\" fill-opacity=\"1\" /><path clip-path=\"url(#clip960)\" d=\"M91.5845 674.721 L96.4688 674.721 L96.4688 680.601 L91.5845 680.601 L91.5845 674.721 Z\" fill=\"#000000\" fill-rule=\"nonzero\" fill-opacity=\"1\" /><path clip-path=\"url(#clip960)\" d=\"M116.654 649.119 Q113.043 649.119 111.214 652.684 Q109.409 656.226 109.409 663.355 Q109.409 670.462 111.214 674.027 Q113.043 677.568 116.654 677.568 Q120.288 677.568 122.094 674.027 Q123.922 670.462 123.922 663.355 Q123.922 656.226 122.094 652.684 Q120.288 649.119 116.654 649.119 M116.654 645.416 Q122.464 645.416 125.52 650.022 Q128.598 654.605 128.598 663.355 Q128.598 672.082 125.52 676.689 Q122.464 681.272 116.654 681.272 Q110.844 681.272 107.765 676.689 Q104.709 672.082 104.709 663.355 Q104.709 654.605 107.765 650.022 Q110.844 645.416 116.654 645.416 Z\" fill=\"#000000\" fill-rule=\"nonzero\" fill-opacity=\"1\" /><path clip-path=\"url(#clip960)\" d=\"M73.0198 520.904 Q69.4087 520.904 67.58 524.469 Q65.7745 528.01 65.7745 535.14 Q65.7745 542.246 67.58 545.811 Q69.4087 549.353 73.0198 549.353 Q76.6541 549.353 78.4596 545.811 Q80.2883 542.246 80.2883 535.14 Q80.2883 528.01 78.4596 524.469 Q76.6541 520.904 73.0198 520.904 M73.0198 517.2 Q78.83 517.2 81.8855 521.807 Q84.9642 526.39 84.9642 535.14 Q84.9642 543.867 81.8855 548.473 Q78.83 553.057 73.0198 553.057 Q67.2097 553.057 64.131 548.473 Q61.0754 543.867 61.0754 535.14 Q61.0754 526.39 64.131 521.807 Q67.2097 517.2 73.0198 517.2 Z\" fill=\"#000000\" fill-rule=\"nonzero\" fill-opacity=\"1\" /><path clip-path=\"url(#clip960)\" d=\"M93.1818 546.506 L98.066 546.506 L98.066 552.385 L93.1818 552.385 L93.1818 546.506 Z\" fill=\"#000000\" fill-rule=\"nonzero\" fill-opacity=\"1\" /><path clip-path=\"url(#clip960)\" d=\"M112.279 548.45 L128.598 548.45 L128.598 552.385 L106.654 552.385 L106.654 548.45 Q109.316 545.696 113.899 541.066 Q118.506 536.413 119.686 535.071 Q121.932 532.547 122.811 530.811 Q123.714 529.052 123.714 527.362 Q123.714 524.608 121.77 522.872 Q119.848 521.135 116.746 521.135 Q114.547 521.135 112.094 521.899 Q109.663 522.663 106.885 524.214 L106.885 519.492 Q109.709 518.358 112.163 517.779 Q114.617 517.2 116.654 517.2 Q122.024 517.2 125.219 519.885 Q128.413 522.571 128.413 527.061 Q128.413 529.191 127.603 531.112 Q126.816 533.01 124.709 535.603 Q124.131 536.274 121.029 539.492 Q117.927 542.686 112.279 548.45 Z\" fill=\"#000000\" fill-rule=\"nonzero\" fill-opacity=\"1\" /><path clip-path=\"url(#clip960)\" d=\"M70.9365 392.689 Q67.3254 392.689 65.4967 396.253 Q63.6912 399.795 63.6912 406.925 Q63.6912 414.031 65.4967 417.596 Q67.3254 421.137 70.9365 421.137 Q74.5707 421.137 76.3763 417.596 Q78.205 414.031 78.205 406.925 Q78.205 399.795 76.3763 396.253 Q74.5707 392.689 70.9365 392.689 M70.9365 388.985 Q76.7467 388.985 79.8022 393.591 Q82.8809 398.175 82.8809 406.925 Q82.8809 415.651 79.8022 420.258 Q76.7467 424.841 70.9365 424.841 Q65.1264 424.841 62.0477 420.258 Q58.9921 415.651 58.9921 406.925 Q58.9921 398.175 62.0477 393.591 Q65.1264 388.985 70.9365 388.985 Z\" fill=\"#000000\" fill-rule=\"nonzero\" fill-opacity=\"1\" /><path clip-path=\"url(#clip960)\" d=\"M91.0984 418.29 L95.9827 418.29 L95.9827 424.17 L91.0984 424.17 L91.0984 418.29 Z\" fill=\"#000000\" fill-rule=\"nonzero\" fill-opacity=\"1\" /><path clip-path=\"url(#clip960)\" d=\"M119.015 393.684 L107.209 412.133 L119.015 412.133 L119.015 393.684 M117.788 389.61 L123.668 389.61 L123.668 412.133 L128.598 412.133 L128.598 416.022 L123.668 416.022 L123.668 424.17 L119.015 424.17 L119.015 416.022 L103.413 416.022 L103.413 411.508 L117.788 389.61 Z\" fill=\"#000000\" fill-rule=\"nonzero\" fill-opacity=\"1\" /><path clip-path=\"url(#clip960)\" d=\"M71.2606 264.473 Q67.6495 264.473 65.8208 268.038 Q64.0152 271.58 64.0152 278.709 Q64.0152 285.816 65.8208 289.38 Q67.6495 292.922 71.2606 292.922 Q74.8948 292.922 76.7004 289.38 Q78.5291 285.816 78.5291 278.709 Q78.5291 271.58 76.7004 268.038 Q74.8948 264.473 71.2606 264.473 M71.2606 260.769 Q77.0707 260.769 80.1263 265.376 Q83.205 269.959 83.205 278.709 Q83.205 287.436 80.1263 292.042 Q77.0707 296.626 71.2606 296.626 Q65.4504 296.626 62.3717 292.042 Q59.3162 287.436 59.3162 278.709 Q59.3162 269.959 62.3717 265.376 Q65.4504 260.769 71.2606 260.769 Z\" fill=\"#000000\" fill-rule=\"nonzero\" fill-opacity=\"1\" /><path clip-path=\"url(#clip960)\" d=\"M91.4225 290.075 L96.3067 290.075 L96.3067 295.954 L91.4225 295.954 L91.4225 290.075 Z\" fill=\"#000000\" fill-rule=\"nonzero\" fill-opacity=\"1\" /><path clip-path=\"url(#clip960)\" d=\"M117.071 276.811 Q113.922 276.811 112.071 278.964 Q110.242 281.117 110.242 284.867 Q110.242 288.593 112.071 290.769 Q113.922 292.922 117.071 292.922 Q120.219 292.922 122.047 290.769 Q123.899 288.593 123.899 284.867 Q123.899 281.117 122.047 278.964 Q120.219 276.811 117.071 276.811 M126.353 262.158 L126.353 266.418 Q124.594 265.584 122.788 265.144 Q121.006 264.705 119.246 264.705 Q114.617 264.705 112.163 267.83 Q109.733 270.955 109.385 277.274 Q110.751 275.26 112.811 274.195 Q114.871 273.107 117.348 273.107 Q122.557 273.107 125.566 276.279 Q128.598 279.427 128.598 284.867 Q128.598 290.191 125.45 293.408 Q122.302 296.626 117.071 296.626 Q111.075 296.626 107.904 292.042 Q104.733 287.436 104.733 278.709 Q104.733 270.515 108.621 265.654 Q112.51 260.769 119.061 260.769 Q120.82 260.769 122.603 261.117 Q124.408 261.464 126.353 262.158 Z\" fill=\"#000000\" fill-rule=\"nonzero\" fill-opacity=\"1\" /><path clip-path=\"url(#clip960)\" d=\"M71.5152 136.258 Q67.9041 136.258 66.0754 139.822 Q64.2699 143.364 64.2699 150.494 Q64.2699 157.6 66.0754 161.165 Q67.9041 164.707 71.5152 164.707 Q75.1494 164.707 76.955 161.165 Q78.7837 157.6 78.7837 150.494 Q78.7837 143.364 76.955 139.822 Q75.1494 136.258 71.5152 136.258 M71.5152 132.554 Q77.3254 132.554 80.3809 137.16 Q83.4596 141.744 83.4596 150.494 Q83.4596 159.221 80.3809 163.827 Q77.3254 168.41 71.5152 168.41 Q65.7051 168.41 62.6264 163.827 Q59.5708 159.221 59.5708 150.494 Q59.5708 141.744 62.6264 137.16 Q65.7051 132.554 71.5152 132.554 Z\" fill=\"#000000\" fill-rule=\"nonzero\" fill-opacity=\"1\" /><path clip-path=\"url(#clip960)\" d=\"M91.6771 161.859 L96.5614 161.859 L96.5614 167.739 L91.6771 167.739 L91.6771 161.859 Z\" fill=\"#000000\" fill-rule=\"nonzero\" fill-opacity=\"1\" /><path clip-path=\"url(#clip960)\" d=\"M116.746 151.327 Q113.413 151.327 111.492 153.109 Q109.594 154.892 109.594 158.017 Q109.594 161.142 111.492 162.924 Q113.413 164.707 116.746 164.707 Q120.08 164.707 122.001 162.924 Q123.922 161.119 123.922 158.017 Q123.922 154.892 122.001 153.109 Q120.103 151.327 116.746 151.327 M112.071 149.336 Q109.061 148.596 107.371 146.535 Q105.705 144.475 105.705 141.512 Q105.705 137.369 108.645 134.961 Q111.608 132.554 116.746 132.554 Q121.908 132.554 124.848 134.961 Q127.788 137.369 127.788 141.512 Q127.788 144.475 126.098 146.535 Q124.432 148.596 121.445 149.336 Q124.825 150.123 126.7 152.415 Q128.598 154.707 128.598 158.017 Q128.598 163.04 125.52 165.725 Q122.464 168.41 116.746 168.41 Q111.029 168.41 107.95 165.725 Q104.895 163.04 104.895 158.017 Q104.895 154.707 106.793 152.415 Q108.691 150.123 112.071 149.336 M110.358 141.952 Q110.358 144.637 112.024 146.142 Q113.714 147.647 116.746 147.647 Q119.756 147.647 121.445 146.142 Q123.158 144.637 123.158 141.952 Q123.158 139.267 121.445 137.762 Q119.756 136.258 116.746 136.258 Q113.714 136.258 112.024 137.762 Q110.358 139.267 110.358 141.952 Z\" fill=\"#000000\" fill-rule=\"nonzero\" fill-opacity=\"1\" /><polyline clip-path=\"url(#clip962)\" style=\"stroke:#009af9; stroke-linecap:round; stroke-linejoin:round; stroke-width:4; stroke-opacity:1; fill:none\" points=\"157.923,657.702 158.645,657.632 159.367,657.56 160.089,657.488 160.811,657.415 161.533,657.342 162.255,657.267 162.977,657.192 163.699,657.116 164.42,657.04 165.142,656.962 165.864,656.884 166.586,656.805 167.308,656.725 168.03,656.644 168.752,656.563 169.474,656.48 170.195,656.397 170.917,656.313 171.639,656.228 172.361,656.142 173.083,656.056 173.805,655.968 174.527,655.88 175.249,655.791 175.971,655.701 176.692,655.61 177.414,655.518 178.136,655.425 178.858,655.332 179.58,655.237 180.302,655.142 181.024,655.046 181.746,654.948 182.468,654.85 183.189,654.751 183.911,654.651 184.633,654.55 185.355,654.448 186.077,654.345 186.799,654.241 187.521,654.136 188.243,654.03 188.964,653.923 189.686,653.815 190.408,653.706 191.13,653.597 191.852,653.486 192.574,653.374 193.296,653.261 194.018,653.147 194.74,653.032 195.461,652.916 196.183,652.799 196.905,652.681 197.627,652.562 198.349,652.441 199.071,652.32 199.793,652.198 200.515,652.074 201.236,651.95 201.958,651.824 202.68,651.697 203.402,651.57 204.124,651.441 204.846,651.311 205.568,651.179 206.29,651.047 207.012,650.914 207.733,650.779 208.455,650.643 209.177,650.507 209.899,650.369 210.621,650.229 211.343,650.089 212.065,649.948 212.787,649.805 213.509,649.661 214.23,649.516 214.952,649.37 215.674,649.222 216.396,649.074 217.118,648.924 217.84,648.773 218.562,648.62 219.284,648.467 220.005,648.312 220.727,648.156 221.449,647.999 222.171,647.841 222.893,647.681 223.615,647.52 224.337,647.358 225.059,647.194 225.781,647.03 226.502,646.864 227.224,646.696 227.946,646.528 228.668,646.358 229.39,646.187 230.112,646.015 230.834,645.841 231.556,645.666 232.278,645.489 232.999,645.312 233.721,645.133 234.443,644.953 235.165,644.771 235.887,644.588 236.609,644.404 237.331,644.218 238.053,644.031 238.774,643.843 239.496,643.654 240.218,643.463 240.94,643.27 241.662,643.077 242.384,642.882 243.106,642.685 243.828,642.487 244.55,642.288 245.271,642.088 245.993,641.886 246.715,641.683 247.437,641.478 248.159,641.272 248.881,641.065 249.603,640.856 250.325,640.646 251.046,640.434 251.768,640.221 252.49,640.007 253.212,639.791 253.934,639.574 254.656,639.355 255.378,639.135 256.1,638.914 256.822,638.691 257.543,638.467 258.265,638.241 258.987,638.014 259.709,637.786 260.431,637.556 261.153,637.324 261.875,637.092 262.597,636.858 263.319,636.622 264.04,636.385 264.762,636.147 265.484,635.907 266.206,635.666 266.928,635.423 267.65,635.179 268.372,634.933 269.094,634.686 269.815,634.438 270.537,634.188 271.259,633.937 271.981,633.684 272.703,633.43 273.425,633.174 274.147,632.917 274.869,632.659 275.591,632.399 276.312,632.138 277.034,631.875 277.756,631.611 278.478,631.346 279.2,631.079 279.922,630.811 280.644,630.541 281.366,630.27 282.088,629.997 282.809,629.723 283.531,629.448 284.253,629.171 284.975,628.893 285.697,628.613 286.419,628.332 287.141,628.05 287.863,627.766 288.584,627.481 289.306,627.195 290.028,626.907 290.75,626.618 291.472,626.327 292.194,626.035 292.916,625.741 293.638,625.447 294.36,625.151 295.081,624.853 295.803,624.554 296.525,624.254 297.247,623.953 297.969,623.65 298.691,623.346 299.413,623.04 300.135,622.734 300.856,622.425 301.578,622.116 302.3,621.805 303.022,621.493 303.744,621.18 304.466,620.865 305.188,620.55 305.91,620.232 306.632,619.914 307.353,619.594 308.075,619.273 308.797,618.951 309.519,618.628 310.241,618.303 310.963,617.977 311.685,617.65 312.407,617.322 313.129,616.992 313.85,616.662 314.572,616.33 315.294,615.997 316.016,615.663 316.738,615.327 317.46,614.991 318.182,614.653 318.904,614.314 319.625,613.974 320.347,613.633 321.069,613.291 321.791,612.948 322.513,612.604 323.235,612.258 323.957,611.912 324.679,611.564 325.401,611.216 326.122,610.866 326.844,610.515 327.566,610.164 328.288,609.811 329.01,609.457 329.732,609.103 330.454,608.747 331.176,608.39 331.898,608.033 332.619,607.674 333.341,607.315 334.063,606.955 334.785,606.594 335.507,606.232 336.229,605.869 336.951,605.505 337.673,605.14 338.394,604.775 339.116,604.408 339.838,604.041 340.56,603.673 341.282,603.305 342.004,602.935 342.726,602.565 343.448,602.194 344.17,601.822 344.891,601.45 345.613,601.077 346.335,600.703 347.057,600.328 347.779,599.953 348.501,599.577 349.223,599.201 349.945,598.824 350.666,598.446 351.388,598.068 352.11,597.689 352.832,597.31 353.554,596.93 354.276,596.55 354.998,596.169 355.72,595.788 356.442,595.406 357.163,595.024 357.885,594.641 358.607,594.258 359.329,593.875 360.051,593.491 360.773,593.106 361.495,592.722 362.217,592.337 362.939,591.952 363.66,591.566 364.382,591.18 365.104,590.794 365.826,590.408 366.548,590.021 367.27,589.635 367.992,589.248 368.714,588.861 369.435,588.473 370.157,588.086 370.879,587.698 371.601,587.311 372.323,586.923 373.045,586.535 373.767,586.148 374.489,585.76 375.211,585.372 375.932,584.984 376.654,584.596 377.376,584.209 378.098,583.821 378.82,583.434 379.542,583.046 380.264,582.659 380.986,582.272 381.708,581.885 382.429,581.498 383.151,581.112 383.873,580.726 384.595,580.34 385.317,579.954 386.039,579.568 386.761,579.183 387.483,578.799 388.204,578.414 388.926,578.03 389.648,577.647 390.37,577.263 391.092,576.881 391.814,576.498 392.536,576.117 393.258,575.735 393.98,575.355 394.701,574.974 395.423,574.595 396.145,574.216 396.867,573.837 397.589,573.46 398.311,573.083 399.033,572.706 399.755,572.331 400.476,571.956 401.198,571.581 401.92,571.208 402.642,570.835 403.364,570.463 404.086,570.092 404.808,569.722 405.53,569.353 406.252,568.985 406.973,568.617 407.695,568.251 408.417,567.885 409.139,567.521 409.861,567.157 410.583,566.795 411.305,566.433 412.027,566.073 412.749,565.713 413.47,565.355 414.192,564.998 414.914,564.643 415.636,564.288 416.358,563.934 417.08,563.582 417.802,563.231 418.524,562.882 419.245,562.533 419.967,562.186 420.689,561.84 421.411,561.496 422.133,561.153 422.855,560.812 423.577,560.471 424.299,560.133 425.021,559.796 425.742,559.46 426.464,559.126 427.186,558.793 427.908,558.462 428.63,558.132 429.352,557.805 430.074,557.478 430.796,557.154 431.518,556.831 432.239,556.509 432.961,556.19 433.683,555.872 434.405,555.556 435.127,555.242 435.849,554.929 436.571,554.618 437.293,554.309 438.014,554.002 438.736,553.697 439.458,553.394 440.18,553.093 440.902,552.793 441.624,552.496 442.346,552.2 443.068,551.907 443.79,551.615 444.511,551.326 445.233,551.039 445.955,550.753 446.677,550.47 447.399,550.189 448.121,549.91 448.843,549.633 449.565,549.359 450.286,549.086 451.008,548.816 451.73,548.548 452.452,548.283 453.174,548.019 453.896,547.758 454.618,547.499 455.34,547.243 456.062,546.988 456.783,546.736 457.505,546.487 458.227,546.24 458.949,545.995 459.671,545.753 460.393,545.513 461.115,545.276 461.837,545.041 462.559,544.809 463.28,544.579 464.002,544.352 464.724,544.127 465.446,543.905 466.168,543.685 466.89,543.468 467.612,543.254 468.334,543.042 469.055,542.833 469.777,542.626 470.499,542.422 471.221,542.221 471.943,542.023 472.665,541.827 473.387,541.634 474.109,541.444 474.831,541.256 475.552,541.071 476.274,540.889 476.996,540.71 477.718,540.534 478.44,540.36 479.162,540.189 479.884,540.021 480.606,539.856 481.328,539.694 482.049,539.535 482.771,539.379 483.493,539.225 484.215,539.075 484.937,538.927 485.659,538.782 486.381,538.641 487.103,538.502 487.824,538.366 488.546,538.233 489.268,538.103 489.99,537.976 490.712,537.853 491.434,537.732 492.156,537.614 492.878,537.499 493.6,537.388 494.321,537.279 495.043,537.173 495.765,537.071 496.487,536.971 497.209,536.875 497.931,536.782 498.653,536.691 499.375,536.604 500.096,536.52 500.818,536.439 501.54,536.362 502.262,536.287 502.984,536.216 503.706,536.147 504.428,536.082 505.15,536.02 505.872,535.961 506.593,535.905 507.315,535.853 508.037,535.803 508.759,535.757 509.481,535.714 510.203,535.674 510.925,535.638 511.647,535.604 512.369,535.574 513.09,535.547 513.812,535.523 514.534,535.502 515.256,535.484 515.978,535.47 516.7,535.459 517.422,535.451 518.144,535.446 518.865,535.444 519.587,535.446 520.309,535.451 521.031,535.459 521.753,535.47 522.475,535.484 523.197,535.502 523.919,535.523 524.641,535.547 525.362,535.574 526.084,535.604 526.806,535.638 527.528,535.674 528.25,535.714 528.972,535.757 529.694,535.803 530.416,535.853 531.138,535.905 531.859,535.961 532.581,536.02 533.303,536.082 534.025,536.147 534.747,536.216 535.469,536.287 536.191,536.362 536.913,536.439 537.634,536.52 538.356,536.604 539.078,536.691 539.8,536.782 540.522,536.875 541.244,536.971 541.966,537.071 542.688,537.173 543.41,537.279 544.131,537.388 544.853,537.499 545.575,537.614 546.297,537.732 547.019,537.853 547.741,537.976 548.463,538.103 549.185,538.233 549.906,538.366 550.628,538.502 551.35,538.641 552.072,538.782 552.794,538.927 553.516,539.075 554.238,539.225 554.96,539.379 555.682,539.535 556.403,539.694 557.125,539.856 557.847,540.021 558.569,540.189 559.291,540.36 560.013,540.534 560.735,540.71 561.457,540.889 562.179,541.071 562.9,541.256 563.622,541.444 564.344,541.634 565.066,541.827 565.788,542.023 566.51,542.221 567.232,542.422 567.954,542.626 568.675,542.833 569.397,543.042 570.119,543.254 570.841,543.468 571.563,543.685 572.285,543.905 573.007,544.127 573.729,544.352 574.451,544.579 575.172,544.809 575.894,545.041 576.616,545.276 577.338,545.513 578.06,545.753 578.782,545.995 579.504,546.24 580.226,546.487 580.948,546.736 581.669,546.988 582.391,547.243 583.113,547.499 583.835,547.758 584.557,548.019 585.279,548.283 586.001,548.548 586.723,548.816 587.444,549.086 588.166,549.359 588.888,549.633 589.61,549.91 590.332,550.189 591.054,550.47 591.776,550.753 592.498,551.039 593.22,551.326 593.941,551.615 594.663,551.907 595.385,552.2 596.107,552.496 596.829,552.793 597.551,553.093 598.273,553.394 598.995,553.697 599.716,554.002 600.438,554.309 601.16,554.618 601.882,554.929 602.604,555.242 603.326,555.556 604.048,555.872 604.77,556.19 605.492,556.509 606.213,556.831 606.935,557.154 607.657,557.478 608.379,557.805 609.101,558.132 609.823,558.462 610.545,558.793 611.267,559.126 611.989,559.46 612.71,559.796 613.432,560.133 614.154,560.471 614.876,560.812 615.598,561.153 616.32,561.496 617.042,561.84 617.764,562.186 618.485,562.533 619.207,562.882 619.929,563.231 620.651,563.582 621.373,563.934 622.095,564.288 622.817,564.643 623.539,564.998 624.261,565.355 624.982,565.713 625.704,566.073 626.426,566.433 627.148,566.795 627.87,567.157 628.592,567.521 629.314,567.885 630.036,568.251 630.758,568.617 631.479,568.985 632.201,569.353 632.923,569.722 633.645,570.092 634.367,570.463 635.089,570.835 635.811,571.208 636.533,571.581 637.254,571.956 637.976,572.331 638.698,572.706 639.42,573.083 640.142,573.46 640.864,573.837 641.586,574.216 642.308,574.595 643.03,574.974 643.751,575.355 644.473,575.735 645.195,576.117 645.917,576.498 646.639,576.881 647.361,577.263 648.083,577.647 648.805,578.03 649.526,578.414 650.248,578.799 650.97,579.183 651.692,579.568 652.414,579.954 653.136,580.34 653.858,580.726 654.58,581.112 655.302,581.498 656.023,581.885 656.745,582.272 657.467,582.659 658.189,583.046 658.911,583.434 659.633,583.821 660.355,584.209 661.077,584.596 661.799,584.984 662.52,585.372 663.242,585.76 663.964,586.148 664.686,586.535 665.408,586.923 666.13,587.311 666.852,587.698 667.574,588.086 668.295,588.473 669.017,588.861 669.739,589.248 670.461,589.635 671.183,590.021 671.905,590.408 672.627,590.794 673.349,591.18 674.071,591.566 674.792,591.952 675.514,592.337 676.236,592.722 676.958,593.106 677.68,593.491 678.402,593.875 679.124,594.258 679.846,594.641 680.568,595.024 681.289,595.406 682.011,595.788 682.733,596.169 683.455,596.55 684.177,596.93 684.899,597.31 685.621,597.689 686.343,598.068 687.064,598.446 687.786,598.824 688.508,599.201 689.23,599.577 689.952,599.953 690.674,600.328 691.396,600.703 692.118,601.077 692.84,601.45 693.561,601.822 694.283,602.194 695.005,602.565 695.727,602.935 696.449,603.305 697.171,603.673 697.893,604.041 698.615,604.408 699.336,604.775 700.058,605.14 700.78,605.505 701.502,605.869 702.224,606.232 702.946,606.594 703.668,606.955 704.39,607.315 705.112,607.674 705.833,608.033 706.555,608.39 707.277,608.747 707.999,609.103 708.721,609.457 709.443,609.811 710.165,610.164 710.887,610.515 711.609,610.866 712.33,611.216 713.052,611.564 713.774,611.912 714.496,612.258 715.218,612.604 715.94,612.948 716.662,613.291 717.384,613.633 718.105,613.974 718.827,614.314 719.549,614.653 720.271,614.991 720.993,615.327 721.715,615.663 722.437,615.997 723.159,616.33 723.881,616.662 724.602,616.992 725.324,617.322 726.046,617.65 726.768,617.977 727.49,618.303 728.212,618.628 728.934,618.951 729.656,619.273 730.378,619.594 731.099,619.914 731.821,620.232 732.543,620.55 733.265,620.865 733.987,621.18 734.709,621.493 735.431,621.805 \"/>\n",
       "<polyline clip-path=\"url(#clip962)\" style=\"stroke:#e26f46; stroke-linecap:round; stroke-linejoin:round; stroke-width:4; stroke-opacity:1; fill:none\" points=\"157.923,659.34 158.645,659.283 159.367,659.226 160.089,659.168 160.811,659.109 161.533,659.05 162.255,658.99 162.977,658.929 163.699,658.867 164.42,658.805 165.142,658.742 165.864,658.678 166.586,658.613 167.308,658.547 168.03,658.481 168.752,658.414 169.474,658.346 170.195,658.277 170.917,658.207 171.639,658.137 172.361,658.065 173.083,657.993 173.805,657.92 174.527,657.846 175.249,657.771 175.971,657.696 176.692,657.619 177.414,657.541 178.136,657.463 178.858,657.383 179.58,657.303 180.302,657.222 181.024,657.14 181.746,657.056 182.468,656.972 183.189,656.887 183.911,656.801 184.633,656.713 185.355,656.625 186.077,656.536 186.799,656.446 187.521,656.354 188.243,656.262 188.964,656.169 189.686,656.074 190.408,655.978 191.13,655.882 191.852,655.784 192.574,655.685 193.296,655.585 194.018,655.484 194.74,655.382 195.461,655.278 196.183,655.173 196.905,655.068 197.627,654.961 198.349,654.852 199.071,654.743 199.793,654.632 200.515,654.521 201.236,654.408 201.958,654.293 202.68,654.178 203.402,654.061 204.124,653.943 204.846,653.823 205.568,653.702 206.29,653.58 207.012,653.457 207.733,653.332 208.455,653.206 209.177,653.079 209.899,652.95 210.621,652.82 211.343,652.688 212.065,652.555 212.787,652.42 213.509,652.285 214.23,652.147 214.952,652.008 215.674,651.868 216.396,651.727 217.118,651.583 217.84,651.439 218.562,651.292 219.284,651.145 220.005,650.995 220.727,650.844 221.449,650.692 222.171,650.538 222.893,650.382 223.615,650.225 224.337,650.066 225.059,649.906 225.781,649.744 226.502,649.58 227.224,649.415 227.946,649.248 228.668,649.079 229.39,648.908 230.112,648.736 230.834,648.562 231.556,648.387 232.278,648.209 232.999,648.03 233.721,647.849 234.443,647.666 235.165,647.482 235.887,647.295 236.609,647.107 237.331,646.917 238.053,646.725 238.774,646.531 239.496,646.335 240.218,646.138 240.94,645.938 241.662,645.737 242.384,645.533 243.106,645.328 243.828,645.121 244.55,644.911 245.271,644.7 245.993,644.487 246.715,644.271 247.437,644.054 248.159,643.834 248.881,643.613 249.603,643.389 250.325,643.163 251.046,642.936 251.768,642.706 252.49,642.474 253.212,642.239 253.934,642.003 254.656,641.765 255.378,641.524 256.1,641.281 256.822,641.036 257.543,640.788 258.265,640.539 258.987,640.287 259.709,640.032 260.431,639.776 261.153,639.517 261.875,639.256 262.597,638.993 263.319,638.727 264.04,638.459 264.762,638.188 265.484,637.915 266.206,637.64 266.928,637.362 267.65,637.082 268.372,636.799 269.094,636.514 269.815,636.226 270.537,635.936 271.259,635.644 271.981,635.349 272.703,635.051 273.425,634.751 274.147,634.448 274.869,634.143 275.591,633.835 276.312,633.524 277.034,633.211 277.756,632.895 278.478,632.577 279.2,632.256 279.922,631.932 280.644,631.606 281.366,631.277 282.088,630.945 282.809,630.61 283.531,630.273 284.253,629.933 284.975,629.59 285.697,629.244 286.419,628.896 287.141,628.544 287.863,628.19 288.584,627.833 289.306,627.473 290.028,627.111 290.75,626.745 291.472,626.377 292.194,626.005 292.916,625.631 293.638,625.254 294.36,624.873 295.081,624.49 295.803,624.104 296.525,623.715 297.247,623.323 297.969,622.927 298.691,622.529 299.413,622.128 300.135,621.724 300.856,621.316 301.578,620.906 302.3,620.492 303.022,620.075 303.744,619.656 304.466,619.233 305.188,618.806 305.91,618.377 306.632,617.945 307.353,617.509 308.075,617.07 308.797,616.628 309.519,616.183 310.241,615.734 310.963,615.282 311.685,614.827 312.407,614.369 313.129,613.907 313.85,613.442 314.572,612.974 315.294,612.503 316.016,612.028 316.738,611.549 317.46,611.068 318.182,610.583 318.904,610.094 319.625,609.603 320.347,609.108 321.069,608.609 321.791,608.107 322.513,607.602 323.235,607.093 323.957,606.58 324.679,606.064 325.401,605.545 326.122,605.022 326.844,604.496 327.566,603.966 328.288,603.433 329.01,602.896 329.732,602.356 330.454,601.812 331.176,601.264 331.898,600.713 332.619,600.158 333.341,599.6 334.063,599.038 334.785,598.473 335.507,597.904 336.229,597.331 336.951,596.755 337.673,596.175 338.394,595.591 339.116,595.004 339.838,594.413 340.56,593.818 341.282,593.22 342.004,592.618 342.726,592.012 343.448,591.403 344.17,590.79 344.891,590.173 345.613,589.552 346.335,588.928 347.057,588.3 347.779,587.668 348.501,587.032 349.223,586.393 349.945,585.75 350.666,585.103 351.388,584.453 352.11,583.798 352.832,583.14 353.554,582.478 354.276,581.812 354.998,581.143 355.72,580.469 356.442,579.792 357.163,579.111 357.885,578.426 358.607,577.737 359.329,577.045 360.051,576.348 360.773,575.648 361.495,574.944 362.217,574.236 362.939,573.524 363.66,572.809 364.382,572.089 365.104,571.366 365.826,570.639 366.548,569.908 367.27,569.173 367.992,568.434 368.714,567.691 369.435,566.945 370.157,566.194 370.879,565.44 371.601,564.682 372.323,563.92 373.045,563.154 373.767,562.384 374.489,561.61 375.211,560.833 375.932,560.051 376.654,559.266 377.376,558.477 378.098,557.684 378.82,556.887 379.542,556.086 380.264,555.282 380.986,554.473 381.708,553.661 382.429,552.844 383.151,552.024 383.873,551.2 384.595,550.372 385.317,549.54 386.039,548.705 386.761,547.865 387.483,547.022 388.204,546.175 388.926,545.324 389.648,544.469 390.37,543.61 391.092,542.748 391.814,541.882 392.536,541.012 393.258,540.138 393.98,539.26 394.701,538.378 395.423,537.493 396.145,536.604 396.867,535.711 397.589,534.814 398.311,533.914 399.033,533.009 399.755,532.101 400.476,531.19 401.198,530.274 401.92,529.355 402.642,528.432 403.364,527.505 404.086,526.575 404.808,525.64 405.53,524.703 406.252,523.761 406.973,522.816 407.695,521.867 408.417,520.915 409.139,519.958 409.861,518.999 410.583,518.035 411.305,517.068 412.027,516.097 412.749,515.123 413.47,514.145 414.192,513.164 414.914,512.179 415.636,511.19 416.358,510.198 417.08,509.202 417.802,508.203 418.524,507.201 419.245,506.195 419.967,505.185 420.689,504.172 421.411,503.155 422.133,502.135 422.855,501.112 423.577,500.085 424.299,499.055 425.021,498.021 425.742,496.985 426.464,495.944 427.186,494.901 427.908,493.854 428.63,492.803 429.352,491.75 430.074,490.693 430.796,489.633 431.518,488.57 432.239,487.503 432.961,486.434 433.683,485.361 434.405,484.285 435.127,483.205 435.849,482.123 436.571,481.038 437.293,479.949 438.014,478.857 438.736,477.763 439.458,476.665 440.18,475.564 440.902,474.46 441.624,473.354 442.346,472.244 443.068,471.131 443.79,470.016 444.511,468.897 445.233,467.776 445.955,466.651 446.677,465.524 447.399,464.394 448.121,463.262 448.843,462.126 449.565,460.988 450.286,459.847 451.008,458.703 451.73,457.557 452.452,456.408 453.174,455.256 453.896,454.102 454.618,452.945 455.34,451.785 456.062,450.623 456.783,449.459 457.505,448.292 458.227,447.122 458.949,445.95 459.671,444.776 460.393,443.599 461.115,442.419 461.837,441.238 462.559,440.054 463.28,438.868 464.002,437.679 464.724,436.488 465.446,435.295 466.168,434.1 466.89,432.902 467.612,431.703 468.334,430.501 469.055,429.297 469.777,428.091 470.499,426.883 471.221,425.673 471.943,424.461 472.665,423.247 473.387,422.032 474.109,420.814 474.831,419.594 475.552,418.372 476.274,417.149 476.996,415.924 477.718,414.697 478.44,413.468 479.162,412.238 479.884,411.005 480.606,409.772 481.328,408.536 482.049,407.299 482.771,406.061 483.493,404.82 484.215,403.579 484.937,402.335 485.659,401.091 486.381,399.845 487.103,398.597 487.824,397.348 488.546,396.098 489.268,394.847 489.99,393.594 490.712,392.34 491.434,391.084 492.156,389.828 492.878,388.57 493.6,387.311 494.321,386.052 495.043,384.791 495.765,383.529 496.487,382.266 497.209,381.002 497.931,379.737 498.653,378.471 499.375,377.204 500.096,375.937 500.818,374.668 501.54,373.399 502.262,372.129 502.984,370.858 503.706,369.587 504.428,368.315 505.15,367.042 505.872,365.769 506.593,364.495 507.315,363.221 508.037,361.946 508.759,360.67 509.481,359.394 510.203,358.118 510.925,356.841 511.647,355.564 512.369,354.287 513.09,353.01 513.812,351.732 514.534,350.454 515.256,349.175 515.978,347.897 516.7,346.618 517.422,345.34 518.144,344.061 518.865,342.782 519.587,341.503 520.309,340.225 521.031,338.946 521.753,337.667 522.475,336.389 523.197,335.111 523.919,333.833 524.641,332.555 525.362,331.277 526.084,330 526.806,328.723 527.528,327.446 528.25,326.17 528.972,324.894 529.694,323.619 530.416,322.344 531.138,321.069 531.859,319.795 532.581,318.522 533.303,317.249 534.025,315.977 534.747,314.706 535.469,313.435 536.191,312.165 536.913,310.896 537.634,309.628 538.356,308.36 539.078,307.093 539.8,305.828 540.522,304.563 541.244,303.299 541.966,302.036 542.688,300.774 543.41,299.513 544.131,298.253 544.853,296.994 545.575,295.736 546.297,294.48 547.019,293.225 547.741,291.971 548.463,290.718 549.185,289.466 549.906,288.216 550.628,286.967 551.35,285.72 552.072,284.474 552.794,283.229 553.516,281.986 554.238,280.744 554.96,279.504 555.682,278.265 556.403,277.028 557.125,275.793 557.847,274.559 558.569,273.327 559.291,272.096 560.013,270.867 560.735,269.64 561.457,268.415 562.179,267.192 562.9,265.97 563.622,264.751 564.344,263.533 565.066,262.317 565.788,261.103 566.51,259.891 567.232,258.681 567.954,257.473 568.675,256.267 569.397,255.063 570.119,253.861 570.841,252.662 571.563,251.464 572.285,250.269 573.007,249.076 573.729,247.885 574.451,246.697 575.172,245.51 575.894,244.326 576.616,243.145 577.338,241.966 578.06,240.789 578.782,239.614 579.504,238.442 580.226,237.273 580.948,236.105 581.669,234.941 582.391,233.779 583.113,232.619 583.835,231.462 584.557,230.308 585.279,229.156 586.001,228.007 586.723,226.861 587.444,225.717 588.166,224.576 588.888,223.438 589.61,222.303 590.332,221.17 591.054,220.04 591.776,218.913 592.498,217.789 593.22,216.667 593.941,215.549 594.663,214.433 595.385,213.32 596.107,212.211 596.829,211.104 597.551,210 598.273,208.899 598.995,207.802 599.716,206.707 600.438,205.615 601.16,204.527 601.882,203.441 602.604,202.359 603.326,201.28 604.048,200.204 604.77,199.131 605.492,198.061 606.213,196.994 606.935,195.931 607.657,194.871 608.379,193.814 609.101,192.761 609.823,191.711 610.545,190.664 611.267,189.62 611.989,188.58 612.71,187.543 613.432,186.509 614.154,185.479 614.876,184.452 615.598,183.429 616.32,182.409 617.042,181.392 617.764,180.379 618.485,179.37 619.207,178.364 619.929,177.361 620.651,176.362 621.373,175.366 622.095,174.374 622.817,173.386 623.539,172.401 624.261,171.419 624.982,170.441 625.704,169.467 626.426,168.496 627.148,167.529 627.87,166.566 628.592,165.606 629.314,164.65 630.036,163.697 630.758,162.748 631.479,161.803 632.201,160.862 632.923,159.924 633.645,158.99 634.367,158.059 635.089,157.132 635.811,156.21 636.533,155.29 637.254,154.375 637.976,153.463 638.698,152.555 639.42,151.651 640.142,150.75 640.864,149.853 641.586,148.96 642.308,148.071 643.03,147.186 643.751,146.304 644.473,145.427 645.195,144.553 645.917,143.683 646.639,142.816 647.361,141.954 648.083,141.095 648.805,140.24 649.526,139.389 650.248,138.542 650.97,137.699 651.692,136.859 652.414,136.024 653.136,135.192 653.858,134.364 654.58,133.54 655.302,132.72 656.023,131.904 656.745,131.091 657.467,130.283 658.189,129.478 658.911,128.677 659.633,127.88 660.355,127.087 661.077,126.298 661.799,125.513 662.52,124.731 663.242,123.954 663.964,123.18 664.686,122.41 665.408,121.644 666.13,120.882 666.852,120.124 667.574,119.37 668.295,118.62 669.017,117.873 669.739,117.13 670.461,116.392 671.183,115.657 671.905,114.926 672.627,114.198 673.349,113.475 674.071,112.756 674.792,112.04 675.514,111.328 676.236,110.62 676.958,109.916 677.68,109.216 678.402,108.52 679.124,107.827 679.846,107.138 680.568,106.453 681.289,105.772 682.011,105.095 682.733,104.422 683.455,103.752 684.177,103.086 684.899,102.424 685.621,101.766 686.343,101.112 687.064,100.461 687.786,99.8142 688.508,99.1711 689.23,98.5318 689.952,97.8963 690.674,97.2645 691.396,96.6364 692.118,96.0121 692.84,95.3915 693.561,94.7747 694.283,94.1615 695.005,93.5521 695.727,92.9464 696.449,92.3444 697.171,91.7461 697.893,91.1515 698.615,90.5605 699.336,89.9732 700.058,89.3896 700.78,88.8096 701.502,88.2333 702.224,87.6606 702.946,87.0915 703.668,86.526 704.39,85.9642 705.112,85.4059 705.833,84.8512 706.555,84.3001 707.277,83.7526 707.999,83.2087 708.721,82.6683 709.443,82.1314 710.165,81.5981 710.887,81.0682 711.609,80.5419 712.33,80.0191 713.052,79.4998 713.774,78.984 714.496,78.4716 715.218,77.9628 715.94,77.4573 716.662,76.9553 717.384,76.4567 718.105,75.9615 718.827,75.4698 719.549,74.9814 720.271,74.4964 720.993,74.0148 721.715,73.5365 722.437,73.0616 723.159,72.5901 723.881,72.1218 724.602,71.6569 725.324,71.1953 726.046,70.7369 726.768,70.2818 727.49,69.83 728.212,69.3815 728.934,68.9362 729.656,68.4941 730.378,68.0552 731.099,67.6196 731.821,67.1871 732.543,66.7578 733.265,66.3317 733.987,65.9087 734.709,65.4888 735.431,65.0721 \"/>\n",
       "<path clip-path=\"url(#clip960)\" d=\"M161.003 223.762 L274.65 223.762 L274.65 68.2416 L161.003 68.2416  Z\" fill=\"#ffffff\" fill-rule=\"evenodd\" fill-opacity=\"1\"/>\n",
       "<polyline clip-path=\"url(#clip960)\" style=\"stroke:#000000; stroke-linecap:round; stroke-linejoin:round; stroke-width:4; stroke-opacity:1; fill:none\" points=\"161.003,223.762 274.65,223.762 274.65,68.2416 161.003,68.2416 161.003,223.762 \"/>\n",
       "<polyline clip-path=\"url(#clip960)\" style=\"stroke:#009af9; stroke-linecap:round; stroke-linejoin:round; stroke-width:4; stroke-opacity:1; fill:none\" points=\"167.805,120.082 208.616,120.082 \"/>\n",
       "<path clip-path=\"url(#clip960)\" d=\"M229.26 139.769 Q227.454 144.399 225.742 145.811 Q224.029 147.223 221.158 147.223 L217.755 147.223 L217.755 143.658 L220.255 143.658 Q222.015 143.658 222.987 142.824 Q223.959 141.991 225.14 138.889 L225.904 136.945 L215.418 111.436 L219.931 111.436 L228.033 131.713 L236.135 111.436 L240.649 111.436 L229.26 139.769 Z\" fill=\"#000000\" fill-rule=\"nonzero\" fill-opacity=\"1\" /><path clip-path=\"url(#clip960)\" d=\"M247.94 133.426 L255.579 133.426 L255.579 107.061 L247.269 108.727 L247.269 104.468 L255.533 102.802 L260.209 102.802 L260.209 133.426 L267.848 133.426 L267.848 137.362 L247.94 137.362 L247.94 133.426 Z\" fill=\"#000000\" fill-rule=\"nonzero\" fill-opacity=\"1\" /><polyline clip-path=\"url(#clip960)\" style=\"stroke:#e26f46; stroke-linecap:round; stroke-linejoin:round; stroke-width:4; stroke-opacity:1; fill:none\" points=\"167.805,171.922 208.616,171.922 \"/>\n",
       "<path clip-path=\"url(#clip960)\" d=\"M229.26 191.609 Q227.454 196.239 225.742 197.651 Q224.029 199.063 221.158 199.063 L217.755 199.063 L217.755 195.498 L220.255 195.498 Q222.015 195.498 222.987 194.664 Q223.959 193.831 225.14 190.729 L225.904 188.785 L215.418 163.276 L219.931 163.276 L228.033 183.553 L236.135 163.276 L240.649 163.276 L229.26 191.609 Z\" fill=\"#000000\" fill-rule=\"nonzero\" fill-opacity=\"1\" /><path clip-path=\"url(#clip960)\" d=\"M251.158 185.266 L267.477 185.266 L267.477 189.202 L245.533 189.202 L245.533 185.266 Q248.195 182.512 252.778 177.882 Q257.385 173.229 258.565 171.887 Q260.811 169.364 261.69 167.628 Q262.593 165.868 262.593 164.179 Q262.593 161.424 260.649 159.688 Q258.727 157.952 255.626 157.952 Q253.427 157.952 250.973 158.716 Q248.542 159.479 245.765 161.03 L245.765 156.308 Q248.589 155.174 251.042 154.595 Q253.496 154.017 255.533 154.017 Q260.903 154.017 264.098 156.702 Q267.292 159.387 267.292 163.878 Q267.292 166.007 266.482 167.929 Q265.695 169.827 263.589 172.419 Q263.01 173.091 259.908 176.308 Q256.806 179.503 251.158 185.266 Z\" fill=\"#000000\" fill-rule=\"nonzero\" fill-opacity=\"1\" /></svg>\n"
      ],
      "text/html": [
       "<?xml version=\"1.0\" encoding=\"utf-8\"?>\n",
       "<svg xmlns=\"http://www.w3.org/2000/svg\" xmlns:xlink=\"http://www.w3.org/1999/xlink\" width=\"200\" height=\"200\" viewBox=\"0 0 800 800\">\n",
       "<defs>\n",
       "  <clipPath id=\"clip010\">\n",
       "    <rect x=\"0\" y=\"0\" width=\"800\" height=\"800\"/>\n",
       "  </clipPath>\n",
       "</defs>\n",
       "<path clip-path=\"url(#clip010)\" d=\"M0 800 L800 800 L800 0 L0 0  Z\" fill=\"#ffffff\" fill-rule=\"evenodd\" fill-opacity=\"1\"/>\n",
       "<defs>\n",
       "  <clipPath id=\"clip011\">\n",
       "    <rect x=\"160\" y=\"79\" width=\"561\" height=\"561\"/>\n",
       "  </clipPath>\n",
       "</defs>\n",
       "<path clip-path=\"url(#clip010)\" d=\"M140.598 677.168 L752.756 677.168 L752.756 47.2441 L140.598 47.2441  Z\" fill=\"#ffffff\" fill-rule=\"evenodd\" fill-opacity=\"1\"/>\n",
       "<defs>\n",
       "  <clipPath id=\"clip012\">\n",
       "    <rect x=\"140\" y=\"47\" width=\"613\" height=\"631\"/>\n",
       "  </clipPath>\n",
       "</defs>\n",
       "<polyline clip-path=\"url(#clip012)\" style=\"stroke:#000000; stroke-linecap:round; stroke-linejoin:round; stroke-width:2; stroke-opacity:0.1; fill:none\" points=\"157.923,677.168 157.923,47.2441 \"/>\n",
       "<polyline clip-path=\"url(#clip012)\" style=\"stroke:#000000; stroke-linecap:round; stroke-linejoin:round; stroke-width:2; stroke-opacity:0.1; fill:none\" points=\"302.3,677.168 302.3,47.2441 \"/>\n",
       "<polyline clip-path=\"url(#clip012)\" style=\"stroke:#000000; stroke-linecap:round; stroke-linejoin:round; stroke-width:2; stroke-opacity:0.1; fill:none\" points=\"446.677,677.168 446.677,47.2441 \"/>\n",
       "<polyline clip-path=\"url(#clip012)\" style=\"stroke:#000000; stroke-linecap:round; stroke-linejoin:round; stroke-width:2; stroke-opacity:0.1; fill:none\" points=\"591.054,677.168 591.054,47.2441 \"/>\n",
       "<polyline clip-path=\"url(#clip012)\" style=\"stroke:#000000; stroke-linecap:round; stroke-linejoin:round; stroke-width:2; stroke-opacity:0.1; fill:none\" points=\"735.431,677.168 735.431,47.2441 \"/>\n",
       "<polyline clip-path=\"url(#clip010)\" style=\"stroke:#000000; stroke-linecap:round; stroke-linejoin:round; stroke-width:4; stroke-opacity:1; fill:none\" points=\"140.598,677.168 752.756,677.168 \"/>\n",
       "<polyline clip-path=\"url(#clip010)\" style=\"stroke:#000000; stroke-linecap:round; stroke-linejoin:round; stroke-width:4; stroke-opacity:1; fill:none\" points=\"157.923,677.168 157.923,658.27 \"/>\n",
       "<polyline clip-path=\"url(#clip010)\" style=\"stroke:#000000; stroke-linecap:round; stroke-linejoin:round; stroke-width:4; stroke-opacity:1; fill:none\" points=\"302.3,677.168 302.3,658.27 \"/>\n",
       "<polyline clip-path=\"url(#clip010)\" style=\"stroke:#000000; stroke-linecap:round; stroke-linejoin:round; stroke-width:4; stroke-opacity:1; fill:none\" points=\"446.677,677.168 446.677,658.27 \"/>\n",
       "<polyline clip-path=\"url(#clip010)\" style=\"stroke:#000000; stroke-linecap:round; stroke-linejoin:round; stroke-width:4; stroke-opacity:1; fill:none\" points=\"591.054,677.168 591.054,658.27 \"/>\n",
       "<polyline clip-path=\"url(#clip010)\" style=\"stroke:#000000; stroke-linecap:round; stroke-linejoin:round; stroke-width:4; stroke-opacity:1; fill:none\" points=\"735.431,677.168 735.431,658.27 \"/>\n",
       "<path clip-path=\"url(#clip010)\" d=\"M126.824 709.939 L156.5 709.939 L156.5 713.874 L126.824 713.874 L126.824 709.939 Z\" fill=\"#000000\" fill-rule=\"nonzero\" fill-opacity=\"1\" /><path clip-path=\"url(#clip010)\" d=\"M179.44 696.282 L167.634 714.731 L179.44 714.731 L179.44 696.282 M178.213 692.208 L184.092 692.208 L184.092 714.731 L189.023 714.731 L189.023 718.62 L184.092 718.62 L184.092 726.768 L179.44 726.768 L179.44 718.62 L163.838 718.62 L163.838 714.106 L178.213 692.208 Z\" fill=\"#000000\" fill-rule=\"nonzero\" fill-opacity=\"1\" /><path clip-path=\"url(#clip010)\" d=\"M272.243 709.939 L301.918 709.939 L301.918 713.874 L272.243 713.874 L272.243 709.939 Z\" fill=\"#000000\" fill-rule=\"nonzero\" fill-opacity=\"1\" /><path clip-path=\"url(#clip010)\" d=\"M316.039 722.833 L332.358 722.833 L332.358 726.768 L310.414 726.768 L310.414 722.833 Q313.076 720.078 317.659 715.448 Q322.265 710.796 323.446 709.453 Q325.691 706.93 326.571 705.194 Q327.474 703.435 327.474 701.745 Q327.474 698.99 325.529 697.254 Q323.608 695.518 320.506 695.518 Q318.307 695.518 315.853 696.282 Q313.423 697.046 310.645 698.597 L310.645 693.875 Q313.469 692.74 315.923 692.162 Q318.377 691.583 320.414 691.583 Q325.784 691.583 328.978 694.268 Q332.173 696.953 332.173 701.444 Q332.173 703.574 331.363 705.495 Q330.576 707.393 328.469 709.986 Q327.89 710.657 324.789 713.874 Q321.687 717.069 316.039 722.833 Z\" fill=\"#000000\" fill-rule=\"nonzero\" fill-opacity=\"1\" /><path clip-path=\"url(#clip010)\" d=\"M446.677 695.287 Q443.066 695.287 441.237 698.851 Q439.432 702.393 439.432 709.523 Q439.432 716.629 441.237 720.194 Q443.066 723.735 446.677 723.735 Q450.311 723.735 452.117 720.194 Q453.946 716.629 453.946 709.523 Q453.946 702.393 452.117 698.851 Q450.311 695.287 446.677 695.287 M446.677 691.583 Q452.487 691.583 455.543 696.189 Q458.621 700.773 458.621 709.523 Q458.621 718.249 455.543 722.856 Q452.487 727.439 446.677 727.439 Q440.867 727.439 437.788 722.856 Q434.733 718.249 434.733 709.523 Q434.733 700.773 437.788 696.189 Q440.867 691.583 446.677 691.583 Z\" fill=\"#000000\" fill-rule=\"nonzero\" fill-opacity=\"1\" /><path clip-path=\"url(#clip010)\" d=\"M585.707 722.833 L602.026 722.833 L602.026 726.768 L580.082 726.768 L580.082 722.833 Q582.744 720.078 587.327 715.448 Q591.934 710.796 593.114 709.453 Q595.359 706.93 596.239 705.194 Q597.142 703.435 597.142 701.745 Q597.142 698.99 595.197 697.254 Q593.276 695.518 590.174 695.518 Q587.975 695.518 585.522 696.282 Q583.091 697.046 580.313 698.597 L580.313 693.875 Q583.137 692.74 585.591 692.162 Q588.045 691.583 590.082 691.583 Q595.452 691.583 598.646 694.268 Q601.841 696.953 601.841 701.444 Q601.841 703.574 601.031 705.495 Q600.244 707.393 598.137 709.986 Q597.558 710.657 594.457 713.874 Q591.355 717.069 585.707 722.833 Z\" fill=\"#000000\" fill-rule=\"nonzero\" fill-opacity=\"1\" /><path clip-path=\"url(#clip010)\" d=\"M738.44 696.282 L726.634 714.731 L738.44 714.731 L738.44 696.282 M737.213 692.208 L743.093 692.208 L743.093 714.731 L748.023 714.731 L748.023 718.62 L743.093 718.62 L743.093 726.768 L738.44 726.768 L738.44 718.62 L722.838 718.62 L722.838 714.106 L737.213 692.208 Z\" fill=\"#000000\" fill-rule=\"nonzero\" fill-opacity=\"1\" /><polyline clip-path=\"url(#clip012)\" style=\"stroke:#000000; stroke-linecap:round; stroke-linejoin:round; stroke-width:2; stroke-opacity:0.1; fill:none\" points=\"140.598,663.321 752.756,663.321 \"/>\n",
       "<polyline clip-path=\"url(#clip012)\" style=\"stroke:#000000; stroke-linecap:round; stroke-linejoin:round; stroke-width:2; stroke-opacity:0.1; fill:none\" points=\"140.598,535.105 752.756,535.105 \"/>\n",
       "<polyline clip-path=\"url(#clip012)\" style=\"stroke:#000000; stroke-linecap:round; stroke-linejoin:round; stroke-width:2; stroke-opacity:0.1; fill:none\" points=\"140.598,406.89 752.756,406.89 \"/>\n",
       "<polyline clip-path=\"url(#clip012)\" style=\"stroke:#000000; stroke-linecap:round; stroke-linejoin:round; stroke-width:2; stroke-opacity:0.1; fill:none\" points=\"140.598,278.674 752.756,278.674 \"/>\n",
       "<polyline clip-path=\"url(#clip012)\" style=\"stroke:#000000; stroke-linecap:round; stroke-linejoin:round; stroke-width:2; stroke-opacity:0.1; fill:none\" points=\"140.598,150.459 752.756,150.459 \"/>\n",
       "<polyline clip-path=\"url(#clip010)\" style=\"stroke:#000000; stroke-linecap:round; stroke-linejoin:round; stroke-width:4; stroke-opacity:1; fill:none\" points=\"140.598,677.168 140.598,47.2441 \"/>\n",
       "<polyline clip-path=\"url(#clip010)\" style=\"stroke:#000000; stroke-linecap:round; stroke-linejoin:round; stroke-width:4; stroke-opacity:1; fill:none\" points=\"140.598,663.321 159.496,663.321 \"/>\n",
       "<polyline clip-path=\"url(#clip010)\" style=\"stroke:#000000; stroke-linecap:round; stroke-linejoin:round; stroke-width:4; stroke-opacity:1; fill:none\" points=\"140.598,535.105 159.496,535.105 \"/>\n",
       "<polyline clip-path=\"url(#clip010)\" style=\"stroke:#000000; stroke-linecap:round; stroke-linejoin:round; stroke-width:4; stroke-opacity:1; fill:none\" points=\"140.598,406.89 159.496,406.89 \"/>\n",
       "<polyline clip-path=\"url(#clip010)\" style=\"stroke:#000000; stroke-linecap:round; stroke-linejoin:round; stroke-width:4; stroke-opacity:1; fill:none\" points=\"140.598,278.674 159.496,278.674 \"/>\n",
       "<polyline clip-path=\"url(#clip010)\" style=\"stroke:#000000; stroke-linecap:round; stroke-linejoin:round; stroke-width:4; stroke-opacity:1; fill:none\" points=\"140.598,150.459 159.496,150.459 \"/>\n",
       "<path clip-path=\"url(#clip010)\" d=\"M71.4226 649.119 Q67.8115 649.119 65.9828 652.684 Q64.1773 656.226 64.1773 663.355 Q64.1773 670.462 65.9828 674.027 Q67.8115 677.568 71.4226 677.568 Q75.0569 677.568 76.8624 674.027 Q78.6911 670.462 78.6911 663.355 Q78.6911 656.226 76.8624 652.684 Q75.0569 649.119 71.4226 649.119 M71.4226 645.416 Q77.2328 645.416 80.2883 650.022 Q83.367 654.605 83.367 663.355 Q83.367 672.082 80.2883 676.689 Q77.2328 681.272 71.4226 681.272 Q65.6125 681.272 62.5338 676.689 Q59.4782 672.082 59.4782 663.355 Q59.4782 654.605 62.5338 650.022 Q65.6125 645.416 71.4226 645.416 Z\" fill=\"#000000\" fill-rule=\"nonzero\" fill-opacity=\"1\" /><path clip-path=\"url(#clip010)\" d=\"M91.5845 674.721 L96.4688 674.721 L96.4688 680.601 L91.5845 680.601 L91.5845 674.721 Z\" fill=\"#000000\" fill-rule=\"nonzero\" fill-opacity=\"1\" /><path clip-path=\"url(#clip010)\" d=\"M116.654 649.119 Q113.043 649.119 111.214 652.684 Q109.409 656.226 109.409 663.355 Q109.409 670.462 111.214 674.027 Q113.043 677.568 116.654 677.568 Q120.288 677.568 122.094 674.027 Q123.922 670.462 123.922 663.355 Q123.922 656.226 122.094 652.684 Q120.288 649.119 116.654 649.119 M116.654 645.416 Q122.464 645.416 125.52 650.022 Q128.598 654.605 128.598 663.355 Q128.598 672.082 125.52 676.689 Q122.464 681.272 116.654 681.272 Q110.844 681.272 107.765 676.689 Q104.709 672.082 104.709 663.355 Q104.709 654.605 107.765 650.022 Q110.844 645.416 116.654 645.416 Z\" fill=\"#000000\" fill-rule=\"nonzero\" fill-opacity=\"1\" /><path clip-path=\"url(#clip010)\" d=\"M73.0198 520.904 Q69.4087 520.904 67.58 524.469 Q65.7745 528.01 65.7745 535.14 Q65.7745 542.246 67.58 545.811 Q69.4087 549.353 73.0198 549.353 Q76.6541 549.353 78.4596 545.811 Q80.2883 542.246 80.2883 535.14 Q80.2883 528.01 78.4596 524.469 Q76.6541 520.904 73.0198 520.904 M73.0198 517.2 Q78.83 517.2 81.8855 521.807 Q84.9642 526.39 84.9642 535.14 Q84.9642 543.867 81.8855 548.473 Q78.83 553.057 73.0198 553.057 Q67.2097 553.057 64.131 548.473 Q61.0754 543.867 61.0754 535.14 Q61.0754 526.39 64.131 521.807 Q67.2097 517.2 73.0198 517.2 Z\" fill=\"#000000\" fill-rule=\"nonzero\" fill-opacity=\"1\" /><path clip-path=\"url(#clip010)\" d=\"M93.1818 546.506 L98.066 546.506 L98.066 552.385 L93.1818 552.385 L93.1818 546.506 Z\" fill=\"#000000\" fill-rule=\"nonzero\" fill-opacity=\"1\" /><path clip-path=\"url(#clip010)\" d=\"M112.279 548.45 L128.598 548.45 L128.598 552.385 L106.654 552.385 L106.654 548.45 Q109.316 545.696 113.899 541.066 Q118.506 536.413 119.686 535.071 Q121.932 532.547 122.811 530.811 Q123.714 529.052 123.714 527.362 Q123.714 524.608 121.77 522.872 Q119.848 521.135 116.746 521.135 Q114.547 521.135 112.094 521.899 Q109.663 522.663 106.885 524.214 L106.885 519.492 Q109.709 518.358 112.163 517.779 Q114.617 517.2 116.654 517.2 Q122.024 517.2 125.219 519.885 Q128.413 522.571 128.413 527.061 Q128.413 529.191 127.603 531.112 Q126.816 533.01 124.709 535.603 Q124.131 536.274 121.029 539.492 Q117.927 542.686 112.279 548.45 Z\" fill=\"#000000\" fill-rule=\"nonzero\" fill-opacity=\"1\" /><path clip-path=\"url(#clip010)\" d=\"M70.9365 392.689 Q67.3254 392.689 65.4967 396.253 Q63.6912 399.795 63.6912 406.925 Q63.6912 414.031 65.4967 417.596 Q67.3254 421.137 70.9365 421.137 Q74.5707 421.137 76.3763 417.596 Q78.205 414.031 78.205 406.925 Q78.205 399.795 76.3763 396.253 Q74.5707 392.689 70.9365 392.689 M70.9365 388.985 Q76.7467 388.985 79.8022 393.591 Q82.8809 398.175 82.8809 406.925 Q82.8809 415.651 79.8022 420.258 Q76.7467 424.841 70.9365 424.841 Q65.1264 424.841 62.0477 420.258 Q58.9921 415.651 58.9921 406.925 Q58.9921 398.175 62.0477 393.591 Q65.1264 388.985 70.9365 388.985 Z\" fill=\"#000000\" fill-rule=\"nonzero\" fill-opacity=\"1\" /><path clip-path=\"url(#clip010)\" d=\"M91.0984 418.29 L95.9827 418.29 L95.9827 424.17 L91.0984 424.17 L91.0984 418.29 Z\" fill=\"#000000\" fill-rule=\"nonzero\" fill-opacity=\"1\" /><path clip-path=\"url(#clip010)\" d=\"M119.015 393.684 L107.209 412.133 L119.015 412.133 L119.015 393.684 M117.788 389.61 L123.668 389.61 L123.668 412.133 L128.598 412.133 L128.598 416.022 L123.668 416.022 L123.668 424.17 L119.015 424.17 L119.015 416.022 L103.413 416.022 L103.413 411.508 L117.788 389.61 Z\" fill=\"#000000\" fill-rule=\"nonzero\" fill-opacity=\"1\" /><path clip-path=\"url(#clip010)\" d=\"M71.2606 264.473 Q67.6495 264.473 65.8208 268.038 Q64.0152 271.58 64.0152 278.709 Q64.0152 285.816 65.8208 289.38 Q67.6495 292.922 71.2606 292.922 Q74.8948 292.922 76.7004 289.38 Q78.5291 285.816 78.5291 278.709 Q78.5291 271.58 76.7004 268.038 Q74.8948 264.473 71.2606 264.473 M71.2606 260.769 Q77.0707 260.769 80.1263 265.376 Q83.205 269.959 83.205 278.709 Q83.205 287.436 80.1263 292.042 Q77.0707 296.626 71.2606 296.626 Q65.4504 296.626 62.3717 292.042 Q59.3162 287.436 59.3162 278.709 Q59.3162 269.959 62.3717 265.376 Q65.4504 260.769 71.2606 260.769 Z\" fill=\"#000000\" fill-rule=\"nonzero\" fill-opacity=\"1\" /><path clip-path=\"url(#clip010)\" d=\"M91.4225 290.075 L96.3067 290.075 L96.3067 295.954 L91.4225 295.954 L91.4225 290.075 Z\" fill=\"#000000\" fill-rule=\"nonzero\" fill-opacity=\"1\" /><path clip-path=\"url(#clip010)\" d=\"M117.071 276.811 Q113.922 276.811 112.071 278.964 Q110.242 281.117 110.242 284.867 Q110.242 288.593 112.071 290.769 Q113.922 292.922 117.071 292.922 Q120.219 292.922 122.047 290.769 Q123.899 288.593 123.899 284.867 Q123.899 281.117 122.047 278.964 Q120.219 276.811 117.071 276.811 M126.353 262.158 L126.353 266.418 Q124.594 265.584 122.788 265.144 Q121.006 264.705 119.246 264.705 Q114.617 264.705 112.163 267.83 Q109.733 270.955 109.385 277.274 Q110.751 275.26 112.811 274.195 Q114.871 273.107 117.348 273.107 Q122.557 273.107 125.566 276.279 Q128.598 279.427 128.598 284.867 Q128.598 290.191 125.45 293.408 Q122.302 296.626 117.071 296.626 Q111.075 296.626 107.904 292.042 Q104.733 287.436 104.733 278.709 Q104.733 270.515 108.621 265.654 Q112.51 260.769 119.061 260.769 Q120.82 260.769 122.603 261.117 Q124.408 261.464 126.353 262.158 Z\" fill=\"#000000\" fill-rule=\"nonzero\" fill-opacity=\"1\" /><path clip-path=\"url(#clip010)\" d=\"M71.5152 136.258 Q67.9041 136.258 66.0754 139.822 Q64.2699 143.364 64.2699 150.494 Q64.2699 157.6 66.0754 161.165 Q67.9041 164.707 71.5152 164.707 Q75.1494 164.707 76.955 161.165 Q78.7837 157.6 78.7837 150.494 Q78.7837 143.364 76.955 139.822 Q75.1494 136.258 71.5152 136.258 M71.5152 132.554 Q77.3254 132.554 80.3809 137.16 Q83.4596 141.744 83.4596 150.494 Q83.4596 159.221 80.3809 163.827 Q77.3254 168.41 71.5152 168.41 Q65.7051 168.41 62.6264 163.827 Q59.5708 159.221 59.5708 150.494 Q59.5708 141.744 62.6264 137.16 Q65.7051 132.554 71.5152 132.554 Z\" fill=\"#000000\" fill-rule=\"nonzero\" fill-opacity=\"1\" /><path clip-path=\"url(#clip010)\" d=\"M91.6771 161.859 L96.5614 161.859 L96.5614 167.739 L91.6771 167.739 L91.6771 161.859 Z\" fill=\"#000000\" fill-rule=\"nonzero\" fill-opacity=\"1\" /><path clip-path=\"url(#clip010)\" d=\"M116.746 151.327 Q113.413 151.327 111.492 153.109 Q109.594 154.892 109.594 158.017 Q109.594 161.142 111.492 162.924 Q113.413 164.707 116.746 164.707 Q120.08 164.707 122.001 162.924 Q123.922 161.119 123.922 158.017 Q123.922 154.892 122.001 153.109 Q120.103 151.327 116.746 151.327 M112.071 149.336 Q109.061 148.596 107.371 146.535 Q105.705 144.475 105.705 141.512 Q105.705 137.369 108.645 134.961 Q111.608 132.554 116.746 132.554 Q121.908 132.554 124.848 134.961 Q127.788 137.369 127.788 141.512 Q127.788 144.475 126.098 146.535 Q124.432 148.596 121.445 149.336 Q124.825 150.123 126.7 152.415 Q128.598 154.707 128.598 158.017 Q128.598 163.04 125.52 165.725 Q122.464 168.41 116.746 168.41 Q111.029 168.41 107.95 165.725 Q104.895 163.04 104.895 158.017 Q104.895 154.707 106.793 152.415 Q108.691 150.123 112.071 149.336 M110.358 141.952 Q110.358 144.637 112.024 146.142 Q113.714 147.647 116.746 147.647 Q119.756 147.647 121.445 146.142 Q123.158 144.637 123.158 141.952 Q123.158 139.267 121.445 137.762 Q119.756 136.258 116.746 136.258 Q113.714 136.258 112.024 137.762 Q110.358 139.267 110.358 141.952 Z\" fill=\"#000000\" fill-rule=\"nonzero\" fill-opacity=\"1\" /><polyline clip-path=\"url(#clip012)\" style=\"stroke:#009af9; stroke-linecap:round; stroke-linejoin:round; stroke-width:4; stroke-opacity:1; fill:none\" points=\"157.923,657.702 158.645,657.632 159.367,657.56 160.089,657.488 160.811,657.415 161.533,657.342 162.255,657.267 162.977,657.192 163.699,657.116 164.42,657.04 165.142,656.962 165.864,656.884 166.586,656.805 167.308,656.725 168.03,656.644 168.752,656.563 169.474,656.48 170.195,656.397 170.917,656.313 171.639,656.228 172.361,656.142 173.083,656.056 173.805,655.968 174.527,655.88 175.249,655.791 175.971,655.701 176.692,655.61 177.414,655.518 178.136,655.425 178.858,655.332 179.58,655.237 180.302,655.142 181.024,655.046 181.746,654.948 182.468,654.85 183.189,654.751 183.911,654.651 184.633,654.55 185.355,654.448 186.077,654.345 186.799,654.241 187.521,654.136 188.243,654.03 188.964,653.923 189.686,653.815 190.408,653.706 191.13,653.597 191.852,653.486 192.574,653.374 193.296,653.261 194.018,653.147 194.74,653.032 195.461,652.916 196.183,652.799 196.905,652.681 197.627,652.562 198.349,652.441 199.071,652.32 199.793,652.198 200.515,652.074 201.236,651.95 201.958,651.824 202.68,651.697 203.402,651.57 204.124,651.441 204.846,651.311 205.568,651.179 206.29,651.047 207.012,650.914 207.733,650.779 208.455,650.643 209.177,650.507 209.899,650.369 210.621,650.229 211.343,650.089 212.065,649.948 212.787,649.805 213.509,649.661 214.23,649.516 214.952,649.37 215.674,649.222 216.396,649.074 217.118,648.924 217.84,648.773 218.562,648.62 219.284,648.467 220.005,648.312 220.727,648.156 221.449,647.999 222.171,647.841 222.893,647.681 223.615,647.52 224.337,647.358 225.059,647.194 225.781,647.03 226.502,646.864 227.224,646.696 227.946,646.528 228.668,646.358 229.39,646.187 230.112,646.015 230.834,645.841 231.556,645.666 232.278,645.489 232.999,645.312 233.721,645.133 234.443,644.953 235.165,644.771 235.887,644.588 236.609,644.404 237.331,644.218 238.053,644.031 238.774,643.843 239.496,643.654 240.218,643.463 240.94,643.27 241.662,643.077 242.384,642.882 243.106,642.685 243.828,642.487 244.55,642.288 245.271,642.088 245.993,641.886 246.715,641.683 247.437,641.478 248.159,641.272 248.881,641.065 249.603,640.856 250.325,640.646 251.046,640.434 251.768,640.221 252.49,640.007 253.212,639.791 253.934,639.574 254.656,639.355 255.378,639.135 256.1,638.914 256.822,638.691 257.543,638.467 258.265,638.241 258.987,638.014 259.709,637.786 260.431,637.556 261.153,637.324 261.875,637.092 262.597,636.858 263.319,636.622 264.04,636.385 264.762,636.147 265.484,635.907 266.206,635.666 266.928,635.423 267.65,635.179 268.372,634.933 269.094,634.686 269.815,634.438 270.537,634.188 271.259,633.937 271.981,633.684 272.703,633.43 273.425,633.174 274.147,632.917 274.869,632.659 275.591,632.399 276.312,632.138 277.034,631.875 277.756,631.611 278.478,631.346 279.2,631.079 279.922,630.811 280.644,630.541 281.366,630.27 282.088,629.997 282.809,629.723 283.531,629.448 284.253,629.171 284.975,628.893 285.697,628.613 286.419,628.332 287.141,628.05 287.863,627.766 288.584,627.481 289.306,627.195 290.028,626.907 290.75,626.618 291.472,626.327 292.194,626.035 292.916,625.741 293.638,625.447 294.36,625.151 295.081,624.853 295.803,624.554 296.525,624.254 297.247,623.953 297.969,623.65 298.691,623.346 299.413,623.04 300.135,622.734 300.856,622.425 301.578,622.116 302.3,621.805 303.022,621.493 303.744,621.18 304.466,620.865 305.188,620.55 305.91,620.232 306.632,619.914 307.353,619.594 308.075,619.273 308.797,618.951 309.519,618.628 310.241,618.303 310.963,617.977 311.685,617.65 312.407,617.322 313.129,616.992 313.85,616.662 314.572,616.33 315.294,615.997 316.016,615.663 316.738,615.327 317.46,614.991 318.182,614.653 318.904,614.314 319.625,613.974 320.347,613.633 321.069,613.291 321.791,612.948 322.513,612.604 323.235,612.258 323.957,611.912 324.679,611.564 325.401,611.216 326.122,610.866 326.844,610.515 327.566,610.164 328.288,609.811 329.01,609.457 329.732,609.103 330.454,608.747 331.176,608.39 331.898,608.033 332.619,607.674 333.341,607.315 334.063,606.955 334.785,606.594 335.507,606.232 336.229,605.869 336.951,605.505 337.673,605.14 338.394,604.775 339.116,604.408 339.838,604.041 340.56,603.673 341.282,603.305 342.004,602.935 342.726,602.565 343.448,602.194 344.17,601.822 344.891,601.45 345.613,601.077 346.335,600.703 347.057,600.328 347.779,599.953 348.501,599.577 349.223,599.201 349.945,598.824 350.666,598.446 351.388,598.068 352.11,597.689 352.832,597.31 353.554,596.93 354.276,596.55 354.998,596.169 355.72,595.788 356.442,595.406 357.163,595.024 357.885,594.641 358.607,594.258 359.329,593.875 360.051,593.491 360.773,593.106 361.495,592.722 362.217,592.337 362.939,591.952 363.66,591.566 364.382,591.18 365.104,590.794 365.826,590.408 366.548,590.021 367.27,589.635 367.992,589.248 368.714,588.861 369.435,588.473 370.157,588.086 370.879,587.698 371.601,587.311 372.323,586.923 373.045,586.535 373.767,586.148 374.489,585.76 375.211,585.372 375.932,584.984 376.654,584.596 377.376,584.209 378.098,583.821 378.82,583.434 379.542,583.046 380.264,582.659 380.986,582.272 381.708,581.885 382.429,581.498 383.151,581.112 383.873,580.726 384.595,580.34 385.317,579.954 386.039,579.568 386.761,579.183 387.483,578.799 388.204,578.414 388.926,578.03 389.648,577.647 390.37,577.263 391.092,576.881 391.814,576.498 392.536,576.117 393.258,575.735 393.98,575.355 394.701,574.974 395.423,574.595 396.145,574.216 396.867,573.837 397.589,573.46 398.311,573.083 399.033,572.706 399.755,572.331 400.476,571.956 401.198,571.581 401.92,571.208 402.642,570.835 403.364,570.463 404.086,570.092 404.808,569.722 405.53,569.353 406.252,568.985 406.973,568.617 407.695,568.251 408.417,567.885 409.139,567.521 409.861,567.157 410.583,566.795 411.305,566.433 412.027,566.073 412.749,565.713 413.47,565.355 414.192,564.998 414.914,564.643 415.636,564.288 416.358,563.934 417.08,563.582 417.802,563.231 418.524,562.882 419.245,562.533 419.967,562.186 420.689,561.84 421.411,561.496 422.133,561.153 422.855,560.812 423.577,560.471 424.299,560.133 425.021,559.796 425.742,559.46 426.464,559.126 427.186,558.793 427.908,558.462 428.63,558.132 429.352,557.805 430.074,557.478 430.796,557.154 431.518,556.831 432.239,556.509 432.961,556.19 433.683,555.872 434.405,555.556 435.127,555.242 435.849,554.929 436.571,554.618 437.293,554.309 438.014,554.002 438.736,553.697 439.458,553.394 440.18,553.093 440.902,552.793 441.624,552.496 442.346,552.2 443.068,551.907 443.79,551.615 444.511,551.326 445.233,551.039 445.955,550.753 446.677,550.47 447.399,550.189 448.121,549.91 448.843,549.633 449.565,549.359 450.286,549.086 451.008,548.816 451.73,548.548 452.452,548.283 453.174,548.019 453.896,547.758 454.618,547.499 455.34,547.243 456.062,546.988 456.783,546.736 457.505,546.487 458.227,546.24 458.949,545.995 459.671,545.753 460.393,545.513 461.115,545.276 461.837,545.041 462.559,544.809 463.28,544.579 464.002,544.352 464.724,544.127 465.446,543.905 466.168,543.685 466.89,543.468 467.612,543.254 468.334,543.042 469.055,542.833 469.777,542.626 470.499,542.422 471.221,542.221 471.943,542.023 472.665,541.827 473.387,541.634 474.109,541.444 474.831,541.256 475.552,541.071 476.274,540.889 476.996,540.71 477.718,540.534 478.44,540.36 479.162,540.189 479.884,540.021 480.606,539.856 481.328,539.694 482.049,539.535 482.771,539.379 483.493,539.225 484.215,539.075 484.937,538.927 485.659,538.782 486.381,538.641 487.103,538.502 487.824,538.366 488.546,538.233 489.268,538.103 489.99,537.976 490.712,537.853 491.434,537.732 492.156,537.614 492.878,537.499 493.6,537.388 494.321,537.279 495.043,537.173 495.765,537.071 496.487,536.971 497.209,536.875 497.931,536.782 498.653,536.691 499.375,536.604 500.096,536.52 500.818,536.439 501.54,536.362 502.262,536.287 502.984,536.216 503.706,536.147 504.428,536.082 505.15,536.02 505.872,535.961 506.593,535.905 507.315,535.853 508.037,535.803 508.759,535.757 509.481,535.714 510.203,535.674 510.925,535.638 511.647,535.604 512.369,535.574 513.09,535.547 513.812,535.523 514.534,535.502 515.256,535.484 515.978,535.47 516.7,535.459 517.422,535.451 518.144,535.446 518.865,535.444 519.587,535.446 520.309,535.451 521.031,535.459 521.753,535.47 522.475,535.484 523.197,535.502 523.919,535.523 524.641,535.547 525.362,535.574 526.084,535.604 526.806,535.638 527.528,535.674 528.25,535.714 528.972,535.757 529.694,535.803 530.416,535.853 531.138,535.905 531.859,535.961 532.581,536.02 533.303,536.082 534.025,536.147 534.747,536.216 535.469,536.287 536.191,536.362 536.913,536.439 537.634,536.52 538.356,536.604 539.078,536.691 539.8,536.782 540.522,536.875 541.244,536.971 541.966,537.071 542.688,537.173 543.41,537.279 544.131,537.388 544.853,537.499 545.575,537.614 546.297,537.732 547.019,537.853 547.741,537.976 548.463,538.103 549.185,538.233 549.906,538.366 550.628,538.502 551.35,538.641 552.072,538.782 552.794,538.927 553.516,539.075 554.238,539.225 554.96,539.379 555.682,539.535 556.403,539.694 557.125,539.856 557.847,540.021 558.569,540.189 559.291,540.36 560.013,540.534 560.735,540.71 561.457,540.889 562.179,541.071 562.9,541.256 563.622,541.444 564.344,541.634 565.066,541.827 565.788,542.023 566.51,542.221 567.232,542.422 567.954,542.626 568.675,542.833 569.397,543.042 570.119,543.254 570.841,543.468 571.563,543.685 572.285,543.905 573.007,544.127 573.729,544.352 574.451,544.579 575.172,544.809 575.894,545.041 576.616,545.276 577.338,545.513 578.06,545.753 578.782,545.995 579.504,546.24 580.226,546.487 580.948,546.736 581.669,546.988 582.391,547.243 583.113,547.499 583.835,547.758 584.557,548.019 585.279,548.283 586.001,548.548 586.723,548.816 587.444,549.086 588.166,549.359 588.888,549.633 589.61,549.91 590.332,550.189 591.054,550.47 591.776,550.753 592.498,551.039 593.22,551.326 593.941,551.615 594.663,551.907 595.385,552.2 596.107,552.496 596.829,552.793 597.551,553.093 598.273,553.394 598.995,553.697 599.716,554.002 600.438,554.309 601.16,554.618 601.882,554.929 602.604,555.242 603.326,555.556 604.048,555.872 604.77,556.19 605.492,556.509 606.213,556.831 606.935,557.154 607.657,557.478 608.379,557.805 609.101,558.132 609.823,558.462 610.545,558.793 611.267,559.126 611.989,559.46 612.71,559.796 613.432,560.133 614.154,560.471 614.876,560.812 615.598,561.153 616.32,561.496 617.042,561.84 617.764,562.186 618.485,562.533 619.207,562.882 619.929,563.231 620.651,563.582 621.373,563.934 622.095,564.288 622.817,564.643 623.539,564.998 624.261,565.355 624.982,565.713 625.704,566.073 626.426,566.433 627.148,566.795 627.87,567.157 628.592,567.521 629.314,567.885 630.036,568.251 630.758,568.617 631.479,568.985 632.201,569.353 632.923,569.722 633.645,570.092 634.367,570.463 635.089,570.835 635.811,571.208 636.533,571.581 637.254,571.956 637.976,572.331 638.698,572.706 639.42,573.083 640.142,573.46 640.864,573.837 641.586,574.216 642.308,574.595 643.03,574.974 643.751,575.355 644.473,575.735 645.195,576.117 645.917,576.498 646.639,576.881 647.361,577.263 648.083,577.647 648.805,578.03 649.526,578.414 650.248,578.799 650.97,579.183 651.692,579.568 652.414,579.954 653.136,580.34 653.858,580.726 654.58,581.112 655.302,581.498 656.023,581.885 656.745,582.272 657.467,582.659 658.189,583.046 658.911,583.434 659.633,583.821 660.355,584.209 661.077,584.596 661.799,584.984 662.52,585.372 663.242,585.76 663.964,586.148 664.686,586.535 665.408,586.923 666.13,587.311 666.852,587.698 667.574,588.086 668.295,588.473 669.017,588.861 669.739,589.248 670.461,589.635 671.183,590.021 671.905,590.408 672.627,590.794 673.349,591.18 674.071,591.566 674.792,591.952 675.514,592.337 676.236,592.722 676.958,593.106 677.68,593.491 678.402,593.875 679.124,594.258 679.846,594.641 680.568,595.024 681.289,595.406 682.011,595.788 682.733,596.169 683.455,596.55 684.177,596.93 684.899,597.31 685.621,597.689 686.343,598.068 687.064,598.446 687.786,598.824 688.508,599.201 689.23,599.577 689.952,599.953 690.674,600.328 691.396,600.703 692.118,601.077 692.84,601.45 693.561,601.822 694.283,602.194 695.005,602.565 695.727,602.935 696.449,603.305 697.171,603.673 697.893,604.041 698.615,604.408 699.336,604.775 700.058,605.14 700.78,605.505 701.502,605.869 702.224,606.232 702.946,606.594 703.668,606.955 704.39,607.315 705.112,607.674 705.833,608.033 706.555,608.39 707.277,608.747 707.999,609.103 708.721,609.457 709.443,609.811 710.165,610.164 710.887,610.515 711.609,610.866 712.33,611.216 713.052,611.564 713.774,611.912 714.496,612.258 715.218,612.604 715.94,612.948 716.662,613.291 717.384,613.633 718.105,613.974 718.827,614.314 719.549,614.653 720.271,614.991 720.993,615.327 721.715,615.663 722.437,615.997 723.159,616.33 723.881,616.662 724.602,616.992 725.324,617.322 726.046,617.65 726.768,617.977 727.49,618.303 728.212,618.628 728.934,618.951 729.656,619.273 730.378,619.594 731.099,619.914 731.821,620.232 732.543,620.55 733.265,620.865 733.987,621.18 734.709,621.493 735.431,621.805 \"/>\n",
       "<polyline clip-path=\"url(#clip012)\" style=\"stroke:#e26f46; stroke-linecap:round; stroke-linejoin:round; stroke-width:4; stroke-opacity:1; fill:none\" points=\"157.923,659.34 158.645,659.283 159.367,659.226 160.089,659.168 160.811,659.109 161.533,659.05 162.255,658.99 162.977,658.929 163.699,658.867 164.42,658.805 165.142,658.742 165.864,658.678 166.586,658.613 167.308,658.547 168.03,658.481 168.752,658.414 169.474,658.346 170.195,658.277 170.917,658.207 171.639,658.137 172.361,658.065 173.083,657.993 173.805,657.92 174.527,657.846 175.249,657.771 175.971,657.696 176.692,657.619 177.414,657.541 178.136,657.463 178.858,657.383 179.58,657.303 180.302,657.222 181.024,657.14 181.746,657.056 182.468,656.972 183.189,656.887 183.911,656.801 184.633,656.713 185.355,656.625 186.077,656.536 186.799,656.446 187.521,656.354 188.243,656.262 188.964,656.169 189.686,656.074 190.408,655.978 191.13,655.882 191.852,655.784 192.574,655.685 193.296,655.585 194.018,655.484 194.74,655.382 195.461,655.278 196.183,655.173 196.905,655.068 197.627,654.961 198.349,654.852 199.071,654.743 199.793,654.632 200.515,654.521 201.236,654.408 201.958,654.293 202.68,654.178 203.402,654.061 204.124,653.943 204.846,653.823 205.568,653.702 206.29,653.58 207.012,653.457 207.733,653.332 208.455,653.206 209.177,653.079 209.899,652.95 210.621,652.82 211.343,652.688 212.065,652.555 212.787,652.42 213.509,652.285 214.23,652.147 214.952,652.008 215.674,651.868 216.396,651.727 217.118,651.583 217.84,651.439 218.562,651.292 219.284,651.145 220.005,650.995 220.727,650.844 221.449,650.692 222.171,650.538 222.893,650.382 223.615,650.225 224.337,650.066 225.059,649.906 225.781,649.744 226.502,649.58 227.224,649.415 227.946,649.248 228.668,649.079 229.39,648.908 230.112,648.736 230.834,648.562 231.556,648.387 232.278,648.209 232.999,648.03 233.721,647.849 234.443,647.666 235.165,647.482 235.887,647.295 236.609,647.107 237.331,646.917 238.053,646.725 238.774,646.531 239.496,646.335 240.218,646.138 240.94,645.938 241.662,645.737 242.384,645.533 243.106,645.328 243.828,645.121 244.55,644.911 245.271,644.7 245.993,644.487 246.715,644.271 247.437,644.054 248.159,643.834 248.881,643.613 249.603,643.389 250.325,643.163 251.046,642.936 251.768,642.706 252.49,642.474 253.212,642.239 253.934,642.003 254.656,641.765 255.378,641.524 256.1,641.281 256.822,641.036 257.543,640.788 258.265,640.539 258.987,640.287 259.709,640.032 260.431,639.776 261.153,639.517 261.875,639.256 262.597,638.993 263.319,638.727 264.04,638.459 264.762,638.188 265.484,637.915 266.206,637.64 266.928,637.362 267.65,637.082 268.372,636.799 269.094,636.514 269.815,636.226 270.537,635.936 271.259,635.644 271.981,635.349 272.703,635.051 273.425,634.751 274.147,634.448 274.869,634.143 275.591,633.835 276.312,633.524 277.034,633.211 277.756,632.895 278.478,632.577 279.2,632.256 279.922,631.932 280.644,631.606 281.366,631.277 282.088,630.945 282.809,630.61 283.531,630.273 284.253,629.933 284.975,629.59 285.697,629.244 286.419,628.896 287.141,628.544 287.863,628.19 288.584,627.833 289.306,627.473 290.028,627.111 290.75,626.745 291.472,626.377 292.194,626.005 292.916,625.631 293.638,625.254 294.36,624.873 295.081,624.49 295.803,624.104 296.525,623.715 297.247,623.323 297.969,622.927 298.691,622.529 299.413,622.128 300.135,621.724 300.856,621.316 301.578,620.906 302.3,620.492 303.022,620.075 303.744,619.656 304.466,619.233 305.188,618.806 305.91,618.377 306.632,617.945 307.353,617.509 308.075,617.07 308.797,616.628 309.519,616.183 310.241,615.734 310.963,615.282 311.685,614.827 312.407,614.369 313.129,613.907 313.85,613.442 314.572,612.974 315.294,612.503 316.016,612.028 316.738,611.549 317.46,611.068 318.182,610.583 318.904,610.094 319.625,609.603 320.347,609.108 321.069,608.609 321.791,608.107 322.513,607.602 323.235,607.093 323.957,606.58 324.679,606.064 325.401,605.545 326.122,605.022 326.844,604.496 327.566,603.966 328.288,603.433 329.01,602.896 329.732,602.356 330.454,601.812 331.176,601.264 331.898,600.713 332.619,600.158 333.341,599.6 334.063,599.038 334.785,598.473 335.507,597.904 336.229,597.331 336.951,596.755 337.673,596.175 338.394,595.591 339.116,595.004 339.838,594.413 340.56,593.818 341.282,593.22 342.004,592.618 342.726,592.012 343.448,591.403 344.17,590.79 344.891,590.173 345.613,589.552 346.335,588.928 347.057,588.3 347.779,587.668 348.501,587.032 349.223,586.393 349.945,585.75 350.666,585.103 351.388,584.453 352.11,583.798 352.832,583.14 353.554,582.478 354.276,581.812 354.998,581.143 355.72,580.469 356.442,579.792 357.163,579.111 357.885,578.426 358.607,577.737 359.329,577.045 360.051,576.348 360.773,575.648 361.495,574.944 362.217,574.236 362.939,573.524 363.66,572.809 364.382,572.089 365.104,571.366 365.826,570.639 366.548,569.908 367.27,569.173 367.992,568.434 368.714,567.691 369.435,566.945 370.157,566.194 370.879,565.44 371.601,564.682 372.323,563.92 373.045,563.154 373.767,562.384 374.489,561.61 375.211,560.833 375.932,560.051 376.654,559.266 377.376,558.477 378.098,557.684 378.82,556.887 379.542,556.086 380.264,555.282 380.986,554.473 381.708,553.661 382.429,552.844 383.151,552.024 383.873,551.2 384.595,550.372 385.317,549.54 386.039,548.705 386.761,547.865 387.483,547.022 388.204,546.175 388.926,545.324 389.648,544.469 390.37,543.61 391.092,542.748 391.814,541.882 392.536,541.012 393.258,540.138 393.98,539.26 394.701,538.378 395.423,537.493 396.145,536.604 396.867,535.711 397.589,534.814 398.311,533.914 399.033,533.009 399.755,532.101 400.476,531.19 401.198,530.274 401.92,529.355 402.642,528.432 403.364,527.505 404.086,526.575 404.808,525.64 405.53,524.703 406.252,523.761 406.973,522.816 407.695,521.867 408.417,520.915 409.139,519.958 409.861,518.999 410.583,518.035 411.305,517.068 412.027,516.097 412.749,515.123 413.47,514.145 414.192,513.164 414.914,512.179 415.636,511.19 416.358,510.198 417.08,509.202 417.802,508.203 418.524,507.201 419.245,506.195 419.967,505.185 420.689,504.172 421.411,503.155 422.133,502.135 422.855,501.112 423.577,500.085 424.299,499.055 425.021,498.021 425.742,496.985 426.464,495.944 427.186,494.901 427.908,493.854 428.63,492.803 429.352,491.75 430.074,490.693 430.796,489.633 431.518,488.57 432.239,487.503 432.961,486.434 433.683,485.361 434.405,484.285 435.127,483.205 435.849,482.123 436.571,481.038 437.293,479.949 438.014,478.857 438.736,477.763 439.458,476.665 440.18,475.564 440.902,474.46 441.624,473.354 442.346,472.244 443.068,471.131 443.79,470.016 444.511,468.897 445.233,467.776 445.955,466.651 446.677,465.524 447.399,464.394 448.121,463.262 448.843,462.126 449.565,460.988 450.286,459.847 451.008,458.703 451.73,457.557 452.452,456.408 453.174,455.256 453.896,454.102 454.618,452.945 455.34,451.785 456.062,450.623 456.783,449.459 457.505,448.292 458.227,447.122 458.949,445.95 459.671,444.776 460.393,443.599 461.115,442.419 461.837,441.238 462.559,440.054 463.28,438.868 464.002,437.679 464.724,436.488 465.446,435.295 466.168,434.1 466.89,432.902 467.612,431.703 468.334,430.501 469.055,429.297 469.777,428.091 470.499,426.883 471.221,425.673 471.943,424.461 472.665,423.247 473.387,422.032 474.109,420.814 474.831,419.594 475.552,418.372 476.274,417.149 476.996,415.924 477.718,414.697 478.44,413.468 479.162,412.238 479.884,411.005 480.606,409.772 481.328,408.536 482.049,407.299 482.771,406.061 483.493,404.82 484.215,403.579 484.937,402.335 485.659,401.091 486.381,399.845 487.103,398.597 487.824,397.348 488.546,396.098 489.268,394.847 489.99,393.594 490.712,392.34 491.434,391.084 492.156,389.828 492.878,388.57 493.6,387.311 494.321,386.052 495.043,384.791 495.765,383.529 496.487,382.266 497.209,381.002 497.931,379.737 498.653,378.471 499.375,377.204 500.096,375.937 500.818,374.668 501.54,373.399 502.262,372.129 502.984,370.858 503.706,369.587 504.428,368.315 505.15,367.042 505.872,365.769 506.593,364.495 507.315,363.221 508.037,361.946 508.759,360.67 509.481,359.394 510.203,358.118 510.925,356.841 511.647,355.564 512.369,354.287 513.09,353.01 513.812,351.732 514.534,350.454 515.256,349.175 515.978,347.897 516.7,346.618 517.422,345.34 518.144,344.061 518.865,342.782 519.587,341.503 520.309,340.225 521.031,338.946 521.753,337.667 522.475,336.389 523.197,335.111 523.919,333.833 524.641,332.555 525.362,331.277 526.084,330 526.806,328.723 527.528,327.446 528.25,326.17 528.972,324.894 529.694,323.619 530.416,322.344 531.138,321.069 531.859,319.795 532.581,318.522 533.303,317.249 534.025,315.977 534.747,314.706 535.469,313.435 536.191,312.165 536.913,310.896 537.634,309.628 538.356,308.36 539.078,307.093 539.8,305.828 540.522,304.563 541.244,303.299 541.966,302.036 542.688,300.774 543.41,299.513 544.131,298.253 544.853,296.994 545.575,295.736 546.297,294.48 547.019,293.225 547.741,291.971 548.463,290.718 549.185,289.466 549.906,288.216 550.628,286.967 551.35,285.72 552.072,284.474 552.794,283.229 553.516,281.986 554.238,280.744 554.96,279.504 555.682,278.265 556.403,277.028 557.125,275.793 557.847,274.559 558.569,273.327 559.291,272.096 560.013,270.867 560.735,269.64 561.457,268.415 562.179,267.192 562.9,265.97 563.622,264.751 564.344,263.533 565.066,262.317 565.788,261.103 566.51,259.891 567.232,258.681 567.954,257.473 568.675,256.267 569.397,255.063 570.119,253.861 570.841,252.662 571.563,251.464 572.285,250.269 573.007,249.076 573.729,247.885 574.451,246.697 575.172,245.51 575.894,244.326 576.616,243.145 577.338,241.966 578.06,240.789 578.782,239.614 579.504,238.442 580.226,237.273 580.948,236.105 581.669,234.941 582.391,233.779 583.113,232.619 583.835,231.462 584.557,230.308 585.279,229.156 586.001,228.007 586.723,226.861 587.444,225.717 588.166,224.576 588.888,223.438 589.61,222.303 590.332,221.17 591.054,220.04 591.776,218.913 592.498,217.789 593.22,216.667 593.941,215.549 594.663,214.433 595.385,213.32 596.107,212.211 596.829,211.104 597.551,210 598.273,208.899 598.995,207.802 599.716,206.707 600.438,205.615 601.16,204.527 601.882,203.441 602.604,202.359 603.326,201.28 604.048,200.204 604.77,199.131 605.492,198.061 606.213,196.994 606.935,195.931 607.657,194.871 608.379,193.814 609.101,192.761 609.823,191.711 610.545,190.664 611.267,189.62 611.989,188.58 612.71,187.543 613.432,186.509 614.154,185.479 614.876,184.452 615.598,183.429 616.32,182.409 617.042,181.392 617.764,180.379 618.485,179.37 619.207,178.364 619.929,177.361 620.651,176.362 621.373,175.366 622.095,174.374 622.817,173.386 623.539,172.401 624.261,171.419 624.982,170.441 625.704,169.467 626.426,168.496 627.148,167.529 627.87,166.566 628.592,165.606 629.314,164.65 630.036,163.697 630.758,162.748 631.479,161.803 632.201,160.862 632.923,159.924 633.645,158.99 634.367,158.059 635.089,157.132 635.811,156.21 636.533,155.29 637.254,154.375 637.976,153.463 638.698,152.555 639.42,151.651 640.142,150.75 640.864,149.853 641.586,148.96 642.308,148.071 643.03,147.186 643.751,146.304 644.473,145.427 645.195,144.553 645.917,143.683 646.639,142.816 647.361,141.954 648.083,141.095 648.805,140.24 649.526,139.389 650.248,138.542 650.97,137.699 651.692,136.859 652.414,136.024 653.136,135.192 653.858,134.364 654.58,133.54 655.302,132.72 656.023,131.904 656.745,131.091 657.467,130.283 658.189,129.478 658.911,128.677 659.633,127.88 660.355,127.087 661.077,126.298 661.799,125.513 662.52,124.731 663.242,123.954 663.964,123.18 664.686,122.41 665.408,121.644 666.13,120.882 666.852,120.124 667.574,119.37 668.295,118.62 669.017,117.873 669.739,117.13 670.461,116.392 671.183,115.657 671.905,114.926 672.627,114.198 673.349,113.475 674.071,112.756 674.792,112.04 675.514,111.328 676.236,110.62 676.958,109.916 677.68,109.216 678.402,108.52 679.124,107.827 679.846,107.138 680.568,106.453 681.289,105.772 682.011,105.095 682.733,104.422 683.455,103.752 684.177,103.086 684.899,102.424 685.621,101.766 686.343,101.112 687.064,100.461 687.786,99.8142 688.508,99.1711 689.23,98.5318 689.952,97.8963 690.674,97.2645 691.396,96.6364 692.118,96.0121 692.84,95.3915 693.561,94.7747 694.283,94.1615 695.005,93.5521 695.727,92.9464 696.449,92.3444 697.171,91.7461 697.893,91.1515 698.615,90.5605 699.336,89.9732 700.058,89.3896 700.78,88.8096 701.502,88.2333 702.224,87.6606 702.946,87.0915 703.668,86.526 704.39,85.9642 705.112,85.4059 705.833,84.8512 706.555,84.3001 707.277,83.7526 707.999,83.2087 708.721,82.6683 709.443,82.1314 710.165,81.5981 710.887,81.0682 711.609,80.5419 712.33,80.0191 713.052,79.4998 713.774,78.984 714.496,78.4716 715.218,77.9628 715.94,77.4573 716.662,76.9553 717.384,76.4567 718.105,75.9615 718.827,75.4698 719.549,74.9814 720.271,74.4964 720.993,74.0148 721.715,73.5365 722.437,73.0616 723.159,72.5901 723.881,72.1218 724.602,71.6569 725.324,71.1953 726.046,70.7369 726.768,70.2818 727.49,69.83 728.212,69.3815 728.934,68.9362 729.656,68.4941 730.378,68.0552 731.099,67.6196 731.821,67.1871 732.543,66.7578 733.265,66.3317 733.987,65.9087 734.709,65.4888 735.431,65.0721 \"/>\n",
       "<path clip-path=\"url(#clip010)\" d=\"M161.003 223.762 L274.65 223.762 L274.65 68.2416 L161.003 68.2416  Z\" fill=\"#ffffff\" fill-rule=\"evenodd\" fill-opacity=\"1\"/>\n",
       "<polyline clip-path=\"url(#clip010)\" style=\"stroke:#000000; stroke-linecap:round; stroke-linejoin:round; stroke-width:4; stroke-opacity:1; fill:none\" points=\"161.003,223.762 274.65,223.762 274.65,68.2416 161.003,68.2416 161.003,223.762 \"/>\n",
       "<polyline clip-path=\"url(#clip010)\" style=\"stroke:#009af9; stroke-linecap:round; stroke-linejoin:round; stroke-width:4; stroke-opacity:1; fill:none\" points=\"167.805,120.082 208.616,120.082 \"/>\n",
       "<path clip-path=\"url(#clip010)\" d=\"M229.26 139.769 Q227.454 144.399 225.742 145.811 Q224.029 147.223 221.158 147.223 L217.755 147.223 L217.755 143.658 L220.255 143.658 Q222.015 143.658 222.987 142.824 Q223.959 141.991 225.14 138.889 L225.904 136.945 L215.418 111.436 L219.931 111.436 L228.033 131.713 L236.135 111.436 L240.649 111.436 L229.26 139.769 Z\" fill=\"#000000\" fill-rule=\"nonzero\" fill-opacity=\"1\" /><path clip-path=\"url(#clip010)\" d=\"M247.94 133.426 L255.579 133.426 L255.579 107.061 L247.269 108.727 L247.269 104.468 L255.533 102.802 L260.209 102.802 L260.209 133.426 L267.848 133.426 L267.848 137.362 L247.94 137.362 L247.94 133.426 Z\" fill=\"#000000\" fill-rule=\"nonzero\" fill-opacity=\"1\" /><polyline clip-path=\"url(#clip010)\" style=\"stroke:#e26f46; stroke-linecap:round; stroke-linejoin:round; stroke-width:4; stroke-opacity:1; fill:none\" points=\"167.805,171.922 208.616,171.922 \"/>\n",
       "<path clip-path=\"url(#clip010)\" d=\"M229.26 191.609 Q227.454 196.239 225.742 197.651 Q224.029 199.063 221.158 199.063 L217.755 199.063 L217.755 195.498 L220.255 195.498 Q222.015 195.498 222.987 194.664 Q223.959 193.831 225.14 190.729 L225.904 188.785 L215.418 163.276 L219.931 163.276 L228.033 183.553 L236.135 163.276 L240.649 163.276 L229.26 191.609 Z\" fill=\"#000000\" fill-rule=\"nonzero\" fill-opacity=\"1\" /><path clip-path=\"url(#clip010)\" d=\"M251.158 185.266 L267.477 185.266 L267.477 189.202 L245.533 189.202 L245.533 185.266 Q248.195 182.512 252.778 177.882 Q257.385 173.229 258.565 171.887 Q260.811 169.364 261.69 167.628 Q262.593 165.868 262.593 164.179 Q262.593 161.424 260.649 159.688 Q258.727 157.952 255.626 157.952 Q253.427 157.952 250.973 158.716 Q248.542 159.479 245.765 161.03 L245.765 156.308 Q248.589 155.174 251.042 154.595 Q253.496 154.017 255.533 154.017 Q260.903 154.017 264.098 156.702 Q267.292 159.387 267.292 163.878 Q267.292 166.007 266.482 167.929 Q265.695 169.827 263.589 172.419 Q263.01 173.091 259.908 176.308 Q256.806 179.503 251.158 185.266 Z\" fill=\"#000000\" fill-rule=\"nonzero\" fill-opacity=\"1\" /></svg>\n"
      ]
     },
     "metadata": {},
     "output_type": "display_data"
    }
   ],
   "source": [
    "# If we want to get the pdf/cdf (e.g. for plotting), we need to give the function\n",
    "# a range of x values to evaluate the pdf/cdf on\n",
    "\n",
    "using Plots\n",
    "\n",
    "x = -4:0.01:4\n",
    "plot(x, pdf.(d, x), size=(200, 200))\n",
    "plot!(x, cdf.(d, x))"
   ]
  },
  {
   "cell_type": "code",
   "execution_count": 57,
   "metadata": {},
   "outputs": [
    {
     "data": {
      "image/png": "[encoded data removed]",
      "image/svg+xml": [
       "<?xml version=\"1.0\" encoding=\"utf-8\"?>\n",
       "<svg xmlns=\"http://www.w3.org/2000/svg\" xmlns:xlink=\"http://www.w3.org/1999/xlink\" width=\"200\" height=\"200\" viewBox=\"0 0 800 800\">\n",
       "<defs>\n",
       "  <clipPath id=\"clip050\">\n",
       "    <rect x=\"0\" y=\"0\" width=\"800\" height=\"800\"/>\n",
       "  </clipPath>\n",
       "</defs>\n",
       "<path clip-path=\"url(#clip050)\" d=\"M0 800 L800 800 L800 0 L0 0  Z\" fill=\"#ffffff\" fill-rule=\"evenodd\" fill-opacity=\"1\"/>\n",
       "<defs>\n",
       "  <clipPath id=\"clip051\">\n",
       "    <rect x=\"160\" y=\"79\" width=\"561\" height=\"561\"/>\n",
       "  </clipPath>\n",
       "</defs>\n",
       "<path clip-path=\"url(#clip050)\" d=\"M140.598 677.168 L752.756 677.168 L752.756 47.2441 L140.598 47.2441  Z\" fill=\"#ffffff\" fill-rule=\"evenodd\" fill-opacity=\"1\"/>\n",
       "<defs>\n",
       "  <clipPath id=\"clip052\">\n",
       "    <rect x=\"140\" y=\"47\" width=\"613\" height=\"631\"/>\n",
       "  </clipPath>\n",
       "</defs>\n",
       "<polyline clip-path=\"url(#clip052)\" style=\"stroke:#000000; stroke-linecap:round; stroke-linejoin:round; stroke-width:2; stroke-opacity:0.1; fill:none\" points=\"157.923,677.168 157.923,47.2441 \"/>\n",
       "<polyline clip-path=\"url(#clip052)\" style=\"stroke:#000000; stroke-linecap:round; stroke-linejoin:round; stroke-width:2; stroke-opacity:0.1; fill:none\" points=\"302.3,677.168 302.3,47.2441 \"/>\n",
       "<polyline clip-path=\"url(#clip052)\" style=\"stroke:#000000; stroke-linecap:round; stroke-linejoin:round; stroke-width:2; stroke-opacity:0.1; fill:none\" points=\"446.677,677.168 446.677,47.2441 \"/>\n",
       "<polyline clip-path=\"url(#clip052)\" style=\"stroke:#000000; stroke-linecap:round; stroke-linejoin:round; stroke-width:2; stroke-opacity:0.1; fill:none\" points=\"591.054,677.168 591.054,47.2441 \"/>\n",
       "<polyline clip-path=\"url(#clip052)\" style=\"stroke:#000000; stroke-linecap:round; stroke-linejoin:round; stroke-width:2; stroke-opacity:0.1; fill:none\" points=\"735.431,677.168 735.431,47.2441 \"/>\n",
       "<polyline clip-path=\"url(#clip050)\" style=\"stroke:#000000; stroke-linecap:round; stroke-linejoin:round; stroke-width:4; stroke-opacity:1; fill:none\" points=\"140.598,677.168 752.756,677.168 \"/>\n",
       "<polyline clip-path=\"url(#clip050)\" style=\"stroke:#000000; stroke-linecap:round; stroke-linejoin:round; stroke-width:4; stroke-opacity:1; fill:none\" points=\"157.923,677.168 157.923,658.27 \"/>\n",
       "<polyline clip-path=\"url(#clip050)\" style=\"stroke:#000000; stroke-linecap:round; stroke-linejoin:round; stroke-width:4; stroke-opacity:1; fill:none\" points=\"302.3,677.168 302.3,658.27 \"/>\n",
       "<polyline clip-path=\"url(#clip050)\" style=\"stroke:#000000; stroke-linecap:round; stroke-linejoin:round; stroke-width:4; stroke-opacity:1; fill:none\" points=\"446.677,677.168 446.677,658.27 \"/>\n",
       "<polyline clip-path=\"url(#clip050)\" style=\"stroke:#000000; stroke-linecap:round; stroke-linejoin:round; stroke-width:4; stroke-opacity:1; fill:none\" points=\"591.054,677.168 591.054,658.27 \"/>\n",
       "<polyline clip-path=\"url(#clip050)\" style=\"stroke:#000000; stroke-linecap:round; stroke-linejoin:round; stroke-width:4; stroke-opacity:1; fill:none\" points=\"735.431,677.168 735.431,658.27 \"/>\n",
       "<path clip-path=\"url(#clip050)\" d=\"M126.824 709.939 L156.5 709.939 L156.5 713.874 L126.824 713.874 L126.824 709.939 Z\" fill=\"#000000\" fill-rule=\"nonzero\" fill-opacity=\"1\" /><path clip-path=\"url(#clip050)\" d=\"M179.44 696.282 L167.634 714.731 L179.44 714.731 L179.44 696.282 M178.213 692.208 L184.092 692.208 L184.092 714.731 L189.023 714.731 L189.023 718.62 L184.092 718.62 L184.092 726.768 L179.44 726.768 L179.44 718.62 L163.838 718.62 L163.838 714.106 L178.213 692.208 Z\" fill=\"#000000\" fill-rule=\"nonzero\" fill-opacity=\"1\" /><path clip-path=\"url(#clip050)\" d=\"M272.243 709.939 L301.918 709.939 L301.918 713.874 L272.243 713.874 L272.243 709.939 Z\" fill=\"#000000\" fill-rule=\"nonzero\" fill-opacity=\"1\" /><path clip-path=\"url(#clip050)\" d=\"M316.039 722.833 L332.358 722.833 L332.358 726.768 L310.414 726.768 L310.414 722.833 Q313.076 720.078 317.659 715.448 Q322.265 710.796 323.446 709.453 Q325.691 706.93 326.571 705.194 Q327.474 703.435 327.474 701.745 Q327.474 698.99 325.529 697.254 Q323.608 695.518 320.506 695.518 Q318.307 695.518 315.853 696.282 Q313.423 697.046 310.645 698.597 L310.645 693.875 Q313.469 692.74 315.923 692.162 Q318.377 691.583 320.414 691.583 Q325.784 691.583 328.978 694.268 Q332.173 696.953 332.173 701.444 Q332.173 703.574 331.363 705.495 Q330.576 707.393 328.469 709.986 Q327.89 710.657 324.789 713.874 Q321.687 717.069 316.039 722.833 Z\" fill=\"#000000\" fill-rule=\"nonzero\" fill-opacity=\"1\" /><path clip-path=\"url(#clip050)\" d=\"M446.677 695.287 Q443.066 695.287 441.237 698.851 Q439.432 702.393 439.432 709.523 Q439.432 716.629 441.237 720.194 Q443.066 723.735 446.677 723.735 Q450.311 723.735 452.117 720.194 Q453.946 716.629 453.946 709.523 Q453.946 702.393 452.117 698.851 Q450.311 695.287 446.677 695.287 M446.677 691.583 Q452.487 691.583 455.543 696.189 Q458.621 700.773 458.621 709.523 Q458.621 718.249 455.543 722.856 Q452.487 727.439 446.677 727.439 Q440.867 727.439 437.788 722.856 Q434.733 718.249 434.733 709.523 Q434.733 700.773 437.788 696.189 Q440.867 691.583 446.677 691.583 Z\" fill=\"#000000\" fill-rule=\"nonzero\" fill-opacity=\"1\" /><path clip-path=\"url(#clip050)\" d=\"M585.707 722.833 L602.026 722.833 L602.026 726.768 L580.082 726.768 L580.082 722.833 Q582.744 720.078 587.327 715.448 Q591.934 710.796 593.114 709.453 Q595.359 706.93 596.239 705.194 Q597.142 703.435 597.142 701.745 Q597.142 698.99 595.197 697.254 Q593.276 695.518 590.174 695.518 Q587.975 695.518 585.522 696.282 Q583.091 697.046 580.313 698.597 L580.313 693.875 Q583.137 692.74 585.591 692.162 Q588.045 691.583 590.082 691.583 Q595.452 691.583 598.646 694.268 Q601.841 696.953 601.841 701.444 Q601.841 703.574 601.031 705.495 Q600.244 707.393 598.137 709.986 Q597.558 710.657 594.457 713.874 Q591.355 717.069 585.707 722.833 Z\" fill=\"#000000\" fill-rule=\"nonzero\" fill-opacity=\"1\" /><path clip-path=\"url(#clip050)\" d=\"M738.44 696.282 L726.634 714.731 L738.44 714.731 L738.44 696.282 M737.213 692.208 L743.093 692.208 L743.093 714.731 L748.023 714.731 L748.023 718.62 L743.093 718.62 L743.093 726.768 L738.44 726.768 L738.44 718.62 L722.838 718.62 L722.838 714.106 L737.213 692.208 Z\" fill=\"#000000\" fill-rule=\"nonzero\" fill-opacity=\"1\" /><polyline clip-path=\"url(#clip052)\" style=\"stroke:#000000; stroke-linecap:round; stroke-linejoin:round; stroke-width:2; stroke-opacity:0.1; fill:none\" points=\"140.598,659.34 752.756,659.34 \"/>\n",
       "<polyline clip-path=\"url(#clip052)\" style=\"stroke:#000000; stroke-linecap:round; stroke-linejoin:round; stroke-width:2; stroke-opacity:0.1; fill:none\" points=\"140.598,517.157 752.756,517.157 \"/>\n",
       "<polyline clip-path=\"url(#clip052)\" style=\"stroke:#000000; stroke-linecap:round; stroke-linejoin:round; stroke-width:2; stroke-opacity:0.1; fill:none\" points=\"140.598,374.974 752.756,374.974 \"/>\n",
       "<polyline clip-path=\"url(#clip052)\" style=\"stroke:#000000; stroke-linecap:round; stroke-linejoin:round; stroke-width:2; stroke-opacity:0.1; fill:none\" points=\"140.598,232.791 752.756,232.791 \"/>\n",
       "<polyline clip-path=\"url(#clip052)\" style=\"stroke:#000000; stroke-linecap:round; stroke-linejoin:round; stroke-width:2; stroke-opacity:0.1; fill:none\" points=\"140.598,90.6076 752.756,90.6076 \"/>\n",
       "<polyline clip-path=\"url(#clip050)\" style=\"stroke:#000000; stroke-linecap:round; stroke-linejoin:round; stroke-width:4; stroke-opacity:1; fill:none\" points=\"140.598,677.168 140.598,47.2441 \"/>\n",
       "<polyline clip-path=\"url(#clip050)\" style=\"stroke:#000000; stroke-linecap:round; stroke-linejoin:round; stroke-width:4; stroke-opacity:1; fill:none\" points=\"140.598,659.34 159.496,659.34 \"/>\n",
       "<polyline clip-path=\"url(#clip050)\" style=\"stroke:#000000; stroke-linecap:round; stroke-linejoin:round; stroke-width:4; stroke-opacity:1; fill:none\" points=\"140.598,517.157 159.496,517.157 \"/>\n",
       "<polyline clip-path=\"url(#clip050)\" style=\"stroke:#000000; stroke-linecap:round; stroke-linejoin:round; stroke-width:4; stroke-opacity:1; fill:none\" points=\"140.598,374.974 159.496,374.974 \"/>\n",
       "<polyline clip-path=\"url(#clip050)\" style=\"stroke:#000000; stroke-linecap:round; stroke-linejoin:round; stroke-width:4; stroke-opacity:1; fill:none\" points=\"140.598,232.791 159.496,232.791 \"/>\n",
       "<polyline clip-path=\"url(#clip050)\" style=\"stroke:#000000; stroke-linecap:round; stroke-linejoin:round; stroke-width:4; stroke-opacity:1; fill:none\" points=\"140.598,90.6076 159.496,90.6076 \"/>\n",
       "<path clip-path=\"url(#clip050)\" d=\"M71.4226 645.139 Q67.8115 645.139 65.9828 648.703 Q64.1773 652.245 64.1773 659.375 Q64.1773 666.481 65.9828 670.046 Q67.8115 673.587 71.4226 673.587 Q75.0569 673.587 76.8624 670.046 Q78.6911 666.481 78.6911 659.375 Q78.6911 652.245 76.8624 648.703 Q75.0569 645.139 71.4226 645.139 M71.4226 641.435 Q77.2328 641.435 80.2883 646.041 Q83.367 650.625 83.367 659.375 Q83.367 668.101 80.2883 672.708 Q77.2328 677.291 71.4226 677.291 Q65.6125 677.291 62.5338 672.708 Q59.4782 668.101 59.4782 659.375 Q59.4782 650.625 62.5338 646.041 Q65.6125 641.435 71.4226 641.435 Z\" fill=\"#000000\" fill-rule=\"nonzero\" fill-opacity=\"1\" /><path clip-path=\"url(#clip050)\" d=\"M91.5845 670.74 L96.4688 670.74 L96.4688 676.62 L91.5845 676.62 L91.5845 670.74 Z\" fill=\"#000000\" fill-rule=\"nonzero\" fill-opacity=\"1\" /><path clip-path=\"url(#clip050)\" d=\"M116.654 645.139 Q113.043 645.139 111.214 648.703 Q109.409 652.245 109.409 659.375 Q109.409 666.481 111.214 670.046 Q113.043 673.587 116.654 673.587 Q120.288 673.587 122.094 670.046 Q123.922 666.481 123.922 659.375 Q123.922 652.245 122.094 648.703 Q120.288 645.139 116.654 645.139 M116.654 641.435 Q122.464 641.435 125.52 646.041 Q128.598 650.625 128.598 659.375 Q128.598 668.101 125.52 672.708 Q122.464 677.291 116.654 677.291 Q110.844 677.291 107.765 672.708 Q104.709 668.101 104.709 659.375 Q104.709 650.625 107.765 646.041 Q110.844 641.435 116.654 641.435 Z\" fill=\"#000000\" fill-rule=\"nonzero\" fill-opacity=\"1\" /><path clip-path=\"url(#clip050)\" d=\"M72.6495 502.955 Q69.0384 502.955 67.2097 506.52 Q65.4041 510.062 65.4041 517.191 Q65.4041 524.298 67.2097 527.863 Q69.0384 531.404 72.6495 531.404 Q76.2837 531.404 78.0892 527.863 Q79.9179 524.298 79.9179 517.191 Q79.9179 510.062 78.0892 506.52 Q76.2837 502.955 72.6495 502.955 M72.6495 499.252 Q78.4596 499.252 81.5152 503.858 Q84.5938 508.442 84.5938 517.191 Q84.5938 525.918 81.5152 530.525 Q78.4596 535.108 72.6495 535.108 Q66.8393 535.108 63.7606 530.525 Q60.7051 525.918 60.7051 517.191 Q60.7051 508.442 63.7606 503.858 Q66.8393 499.252 72.6495 499.252 Z\" fill=\"#000000\" fill-rule=\"nonzero\" fill-opacity=\"1\" /><path clip-path=\"url(#clip050)\" d=\"M92.8114 528.557 L97.6956 528.557 L97.6956 534.437 L92.8114 534.437 L92.8114 528.557 Z\" fill=\"#000000\" fill-rule=\"nonzero\" fill-opacity=\"1\" /><path clip-path=\"url(#clip050)\" d=\"M108.691 530.502 L116.33 530.502 L116.33 504.136 L108.02 505.803 L108.02 501.543 L116.283 499.877 L120.959 499.877 L120.959 530.502 L128.598 530.502 L128.598 534.437 L108.691 534.437 L108.691 530.502 Z\" fill=\"#000000\" fill-rule=\"nonzero\" fill-opacity=\"1\" /><path clip-path=\"url(#clip050)\" d=\"M73.0198 360.772 Q69.4087 360.772 67.58 364.337 Q65.7745 367.879 65.7745 375.008 Q65.7745 382.115 67.58 385.68 Q69.4087 389.221 73.0198 389.221 Q76.6541 389.221 78.4596 385.68 Q80.2883 382.115 80.2883 375.008 Q80.2883 367.879 78.4596 364.337 Q76.6541 360.772 73.0198 360.772 M73.0198 357.069 Q78.83 357.069 81.8855 361.675 Q84.9642 366.258 84.9642 375.008 Q84.9642 383.735 81.8855 388.342 Q78.83 392.925 73.0198 392.925 Q67.2097 392.925 64.131 388.342 Q61.0754 383.735 61.0754 375.008 Q61.0754 366.258 64.131 361.675 Q67.2097 357.069 73.0198 357.069 Z\" fill=\"#000000\" fill-rule=\"nonzero\" fill-opacity=\"1\" /><path clip-path=\"url(#clip050)\" d=\"M93.1818 386.374 L98.066 386.374 L98.066 392.254 L93.1818 392.254 L93.1818 386.374 Z\" fill=\"#000000\" fill-rule=\"nonzero\" fill-opacity=\"1\" /><path clip-path=\"url(#clip050)\" d=\"M112.279 388.319 L128.598 388.319 L128.598 392.254 L106.654 392.254 L106.654 388.319 Q109.316 385.564 113.899 380.934 Q118.506 376.282 119.686 374.939 Q121.932 372.416 122.811 370.68 Q123.714 368.92 123.714 367.231 Q123.714 364.476 121.77 362.74 Q119.848 361.004 116.746 361.004 Q114.547 361.004 112.094 361.768 Q109.663 362.532 106.885 364.083 L106.885 359.36 Q109.709 358.226 112.163 357.647 Q114.617 357.069 116.654 357.069 Q122.024 357.069 125.219 359.754 Q128.413 362.439 128.413 366.93 Q128.413 369.059 127.603 370.981 Q126.816 372.879 124.709 375.471 Q124.131 376.143 121.029 379.36 Q117.927 382.555 112.279 388.319 Z\" fill=\"#000000\" fill-rule=\"nonzero\" fill-opacity=\"1\" /><path clip-path=\"url(#clip050)\" d=\"M72.0708 218.589 Q68.4597 218.589 66.631 222.154 Q64.8254 225.696 64.8254 232.825 Q64.8254 239.932 66.631 243.497 Q68.4597 247.038 72.0708 247.038 Q75.705 247.038 77.5105 243.497 Q79.3392 239.932 79.3392 232.825 Q79.3392 225.696 77.5105 222.154 Q75.705 218.589 72.0708 218.589 M72.0708 214.886 Q77.8809 214.886 80.9365 219.492 Q84.0151 224.075 84.0151 232.825 Q84.0151 241.552 80.9365 246.159 Q77.8809 250.742 72.0708 250.742 Q66.2606 250.742 63.1819 246.159 Q60.1264 241.552 60.1264 232.825 Q60.1264 224.075 63.1819 219.492 Q66.2606 214.886 72.0708 214.886 Z\" fill=\"#000000\" fill-rule=\"nonzero\" fill-opacity=\"1\" /><path clip-path=\"url(#clip050)\" d=\"M92.2327 244.191 L97.1169 244.191 L97.1169 250.071 L92.2327 250.071 L92.2327 244.191 Z\" fill=\"#000000\" fill-rule=\"nonzero\" fill-opacity=\"1\" /><path clip-path=\"url(#clip050)\" d=\"M121.469 231.436 Q124.825 232.154 126.7 234.423 Q128.598 236.691 128.598 240.024 Q128.598 245.14 125.08 247.941 Q121.561 250.742 115.08 250.742 Q112.904 250.742 110.589 250.302 Q108.297 249.885 105.844 249.029 L105.844 244.515 Q107.788 245.649 110.103 246.228 Q112.418 246.807 114.941 246.807 Q119.339 246.807 121.631 245.071 Q123.945 243.335 123.945 240.024 Q123.945 236.969 121.793 235.256 Q119.663 233.52 115.844 233.52 L111.816 233.52 L111.816 229.677 L116.029 229.677 Q119.478 229.677 121.307 228.311 Q123.135 226.923 123.135 224.33 Q123.135 221.668 121.237 220.256 Q119.362 218.821 115.844 218.821 Q113.922 218.821 111.723 219.237 Q109.524 219.654 106.885 220.534 L106.885 216.367 Q109.547 215.626 111.862 215.256 Q114.2 214.886 116.26 214.886 Q121.584 214.886 124.686 217.316 Q127.788 219.724 127.788 223.844 Q127.788 226.714 126.145 228.705 Q124.501 230.673 121.469 231.436 Z\" fill=\"#000000\" fill-rule=\"nonzero\" fill-opacity=\"1\" /><path clip-path=\"url(#clip050)\" d=\"M70.9365 76.4063 Q67.3254 76.4063 65.4967 79.971 Q63.6912 83.5127 63.6912 90.6423 Q63.6912 97.7487 65.4967 101.314 Q67.3254 104.855 70.9365 104.855 Q74.5707 104.855 76.3763 101.314 Q78.205 97.7487 78.205 90.6423 Q78.205 83.5127 76.3763 79.971 Q74.5707 76.4063 70.9365 76.4063 M70.9365 72.7026 Q76.7467 72.7026 79.8022 77.309 Q82.8809 81.8923 82.8809 90.6423 Q82.8809 99.3691 79.8022 103.976 Q76.7467 108.559 70.9365 108.559 Q65.1264 108.559 62.0477 103.976 Q58.9921 99.3691 58.9921 90.6423 Q58.9921 81.8923 62.0477 77.309 Q65.1264 72.7026 70.9365 72.7026 Z\" fill=\"#000000\" fill-rule=\"nonzero\" fill-opacity=\"1\" /><path clip-path=\"url(#clip050)\" d=\"M91.0984 102.008 L95.9827 102.008 L95.9827 107.888 L91.0984 107.888 L91.0984 102.008 Z\" fill=\"#000000\" fill-rule=\"nonzero\" fill-opacity=\"1\" /><path clip-path=\"url(#clip050)\" d=\"M119.015 77.4016 L107.209 95.8506 L119.015 95.8506 L119.015 77.4016 M117.788 73.3276 L123.668 73.3276 L123.668 95.8506 L128.598 95.8506 L128.598 99.7395 L123.668 99.7395 L123.668 107.888 L119.015 107.888 L119.015 99.7395 L103.413 99.7395 L103.413 95.2256 L117.788 73.3276 Z\" fill=\"#000000\" fill-rule=\"nonzero\" fill-opacity=\"1\" /><polyline clip-path=\"url(#clip052)\" style=\"stroke:#009af9; stroke-linecap:round; stroke-linejoin:round; stroke-width:4; stroke-opacity:1; fill:none\" points=\"157.923,659.34 158.645,659.34 159.367,659.34 160.089,659.34 160.811,659.34 161.533,659.34 162.255,659.34 162.977,659.34 163.699,659.34 164.42,659.34 165.142,659.34 165.864,659.34 166.586,659.34 167.308,659.34 168.03,659.34 168.752,659.34 169.474,659.34 170.195,659.34 170.917,659.34 171.639,659.34 172.361,659.34 173.083,659.34 173.805,659.34 174.527,659.34 175.249,659.34 175.971,659.34 176.692,659.34 177.414,659.34 178.136,659.34 178.858,659.34 179.58,659.34 180.302,659.34 181.024,659.34 181.746,659.34 182.468,659.34 183.189,659.34 183.911,659.34 184.633,659.34 185.355,659.34 186.077,659.34 186.799,659.34 187.521,659.34 188.243,659.34 188.964,659.34 189.686,659.34 190.408,659.34 191.13,659.34 191.852,659.34 192.574,659.34 193.296,659.34 194.018,659.34 194.74,659.34 195.461,659.34 196.183,659.34 196.905,659.34 197.627,659.34 198.349,659.34 199.071,659.34 199.793,659.34 200.515,659.34 201.236,659.34 201.958,659.34 202.68,659.34 203.402,659.34 204.124,659.34 204.846,659.34 205.568,659.34 206.29,659.34 207.012,659.34 207.733,659.34 208.455,659.34 209.177,659.34 209.899,659.34 210.621,659.34 211.343,659.34 212.065,659.34 212.787,659.34 213.509,659.34 214.23,659.34 214.952,659.34 215.674,659.34 216.396,659.34 217.118,659.34 217.84,659.34 218.562,659.34 219.284,659.34 220.005,659.34 220.727,659.34 221.449,659.34 222.171,659.34 222.893,659.34 223.615,659.34 224.337,659.34 225.059,659.34 225.781,659.34 226.502,659.34 227.224,659.34 227.946,659.34 228.668,659.34 229.39,659.34 230.112,659.34 230.834,659.34 231.556,659.34 232.278,659.34 232.999,659.34 233.721,659.34 234.443,659.34 235.165,659.34 235.887,659.34 236.609,659.34 237.331,659.34 238.053,659.34 238.774,659.34 239.496,659.34 240.218,659.34 240.94,659.34 241.662,659.34 242.384,659.34 243.106,659.34 243.828,659.34 244.55,659.34 245.271,659.34 245.993,659.34 246.715,659.34 247.437,659.34 248.159,659.34 248.881,659.34 249.603,659.34 250.325,659.34 251.046,659.34 251.768,659.34 252.49,659.34 253.212,659.34 253.934,659.34 254.656,659.34 255.378,659.34 256.1,659.34 256.822,659.34 257.543,659.34 258.265,659.34 258.987,659.34 259.709,659.34 260.431,659.34 261.153,659.34 261.875,659.34 262.597,659.34 263.319,659.34 264.04,659.34 264.762,659.34 265.484,659.34 266.206,659.34 266.928,659.34 267.65,659.34 268.372,659.34 269.094,659.34 269.815,659.34 270.537,659.34 271.259,659.34 271.981,659.34 272.703,659.34 273.425,659.34 274.147,659.34 274.869,659.34 275.591,659.34 276.312,659.34 277.034,659.34 277.756,659.34 278.478,659.34 279.2,659.34 279.922,659.34 280.644,659.34 281.366,659.34 282.088,659.34 282.809,659.34 283.531,659.34 284.253,659.34 284.975,659.34 285.697,659.34 286.419,659.34 287.141,659.34 287.863,659.34 288.584,659.34 289.306,659.34 290.028,659.34 290.75,659.34 291.472,659.34 292.194,659.34 292.916,659.34 293.638,659.34 294.36,659.34 295.081,659.34 295.803,659.34 296.525,659.34 297.247,659.34 297.969,659.34 298.691,659.34 299.413,659.34 300.135,659.34 300.856,659.34 301.578,659.34 302.3,578.914 303.022,577.294 303.744,575.649 304.466,573.98 305.188,572.286 305.91,570.567 306.632,568.824 307.353,567.055 308.075,565.261 308.797,563.442 309.519,561.598 310.241,559.728 310.963,557.833 311.685,555.911 312.407,553.964 313.129,551.991 313.85,549.992 314.572,547.967 315.294,545.916 316.016,543.839 316.738,541.735 317.46,539.605 318.182,537.449 318.904,535.266 319.625,533.056 320.347,530.82 321.069,528.558 321.791,526.269 322.513,523.954 323.235,521.612 323.957,519.244 324.679,516.849 325.401,514.427 326.122,511.98 326.844,509.506 327.566,507.005 328.288,504.479 329.01,501.926 329.732,499.347 330.454,496.742 331.176,494.111 331.898,491.455 332.619,488.773 333.341,486.065 334.063,483.332 334.785,480.573 335.507,477.79 336.229,474.982 336.951,472.149 337.673,469.291 338.394,466.409 339.116,463.503 339.838,460.574 340.56,457.62 341.282,454.643 342.004,451.643 342.726,448.62 343.448,445.574 344.17,442.506 344.891,439.416 345.613,436.305 346.335,433.171 347.057,430.017 347.779,426.842 348.501,423.647 349.223,420.432 349.945,417.196 350.666,413.942 351.388,410.669 352.11,407.377 352.832,404.068 353.554,400.741 354.276,397.396 354.998,394.035 355.72,390.657 356.442,387.264 357.163,383.856 357.885,380.432 358.607,376.995 359.329,373.543 360.051,370.079 360.773,366.601 361.495,363.112 362.217,359.61 362.939,356.098 363.66,352.575 364.382,349.043 365.104,345.501 365.826,341.95 366.548,338.392 367.27,334.825 367.992,331.252 368.714,327.673 369.435,324.089 370.157,320.499 370.879,316.906 371.601,313.308 372.323,309.708 373.045,306.106 373.767,302.503 374.489,298.898 375.211,295.294 375.932,291.69 376.654,288.088 377.376,284.488 378.098,280.891 378.82,277.298 379.542,273.709 380.264,270.126 380.986,266.548 381.708,262.977 382.429,259.414 383.151,255.859 383.873,252.313 384.595,248.777 385.317,245.251 386.039,241.737 386.761,238.236 387.483,234.747 388.204,231.273 388.926,227.813 389.648,224.369 390.37,220.941 391.092,217.53 391.814,214.137 392.536,210.763 393.258,207.409 393.98,204.075 394.701,200.762 395.423,197.471 396.145,194.204 396.867,190.96 397.589,187.74 398.311,184.546 399.033,181.378 399.755,178.238 400.476,175.124 401.198,172.04 401.92,168.985 402.642,165.96 403.364,162.966 404.086,160.003 404.808,157.074 405.53,154.177 406.252,151.315 406.973,148.488 407.695,145.696 408.417,142.941 409.139,140.223 409.861,137.542 410.583,134.9 411.305,132.298 412.027,129.736 412.749,127.214 413.47,124.734 414.192,122.296 414.914,119.901 415.636,117.549 416.358,115.242 417.08,112.979 417.802,110.762 418.524,108.59 419.245,106.466 419.967,104.389 420.689,102.36 421.411,100.379 422.133,98.447 422.855,96.5648 423.577,94.7328 424.299,92.9515 425.021,91.2214 425.742,89.543 426.464,87.9167 427.186,86.3432 427.908,84.8227 428.63,83.3558 429.352,81.9429 430.074,80.5845 430.796,79.2808 431.518,78.0323 432.239,76.8394 432.961,75.7024 433.683,74.6217 434.405,73.5975 435.127,72.6303 435.849,71.7202 436.571,70.8675 437.293,70.0725 438.014,69.3355 438.736,68.6566 439.458,68.036 440.18,67.474 440.902,66.9707 441.624,66.5263 442.346,66.1408 443.068,65.8145 443.79,65.5474 444.511,65.3395 445.233,65.191 445.955,65.1018 446.677,65.0721 447.399,65.1018 448.121,65.191 448.843,65.3395 449.565,65.5474 450.286,65.8145 451.008,66.1408 451.73,66.5263 452.452,66.9707 453.174,67.474 453.896,68.036 454.618,68.6566 455.34,69.3355 456.062,70.0725 456.783,70.8675 457.505,71.7202 458.227,72.6303 458.949,73.5975 459.671,74.6217 460.393,75.7024 461.115,76.8394 461.837,78.0323 462.559,79.2808 463.28,80.5845 464.002,81.9429 464.724,83.3558 465.446,84.8227 466.168,86.3432 466.89,87.9167 467.612,89.543 468.334,91.2214 469.055,92.9515 469.777,94.7328 470.499,96.5648 471.221,98.447 471.943,100.379 472.665,102.36 473.387,104.389 474.109,106.466 474.831,108.59 475.552,110.762 476.274,112.979 476.996,115.242 477.718,117.549 478.44,119.901 479.162,122.296 479.884,124.734 480.606,127.214 481.328,129.736 482.049,132.298 482.771,134.9 483.493,137.542 484.215,140.223 484.937,142.941 485.659,145.696 486.381,148.488 487.103,151.315 487.824,154.177 488.546,157.074 489.268,160.003 489.99,162.966 490.712,165.96 491.434,168.985 492.156,172.04 492.878,175.124 493.6,178.238 494.321,181.378 495.043,184.546 495.765,187.74 496.487,190.96 497.209,194.204 497.931,197.471 498.653,200.762 499.375,204.075 500.096,207.409 500.818,210.763 501.54,214.137 502.262,217.53 502.984,220.941 503.706,224.369 504.428,227.813 505.15,231.273 505.872,234.747 506.593,238.236 507.315,241.737 508.037,245.251 508.759,248.777 509.481,252.313 510.203,255.859 510.925,259.414 511.647,262.977 512.369,266.548 513.09,270.126 513.812,273.709 514.534,277.298 515.256,280.891 515.978,284.488 516.7,288.088 517.422,291.69 518.144,295.294 518.865,298.898 519.587,302.503 520.309,306.106 521.031,309.708 521.753,313.308 522.475,316.906 523.197,320.499 523.919,324.089 524.641,327.673 525.362,331.252 526.084,334.825 526.806,338.392 527.528,341.95 528.25,345.501 528.972,349.043 529.694,352.575 530.416,356.098 531.138,359.61 531.859,363.112 532.581,366.601 533.303,370.079 534.025,373.543 534.747,376.995 535.469,380.432 536.191,383.856 536.913,387.264 537.634,390.657 538.356,394.035 539.078,397.396 539.8,400.741 540.522,404.068 541.244,407.377 541.966,410.669 542.688,413.942 543.41,417.196 544.131,420.432 544.853,423.647 545.575,426.842 546.297,430.017 547.019,433.171 547.741,436.305 548.463,439.416 549.185,442.506 549.906,445.574 550.628,448.62 551.35,451.643 552.072,454.643 552.794,457.62 553.516,460.574 554.238,463.503 554.96,466.409 555.682,469.291 556.403,472.149 557.125,474.982 557.847,477.79 558.569,480.573 559.291,483.332 560.013,486.065 560.735,488.773 561.457,491.455 562.179,494.111 562.9,496.742 563.622,499.347 564.344,501.926 565.066,504.479 565.788,507.005 566.51,509.506 567.232,511.98 567.954,514.427 568.675,516.849 569.397,519.244 570.119,521.612 570.841,523.954 571.563,526.269 572.285,528.558 573.007,530.82 573.729,533.056 574.451,535.266 575.172,537.449 575.894,539.605 576.616,541.735 577.338,543.839 578.06,545.916 578.782,547.967 579.504,549.992 580.226,551.991 580.948,553.964 581.669,555.911 582.391,557.833 583.113,559.728 583.835,561.598 584.557,563.442 585.279,565.261 586.001,567.055 586.723,568.824 587.444,570.567 588.166,572.286 588.888,573.98 589.61,575.649 590.332,577.294 591.054,578.914 591.776,659.34 592.498,659.34 593.22,659.34 593.941,659.34 594.663,659.34 595.385,659.34 596.107,659.34 596.829,659.34 597.551,659.34 598.273,659.34 598.995,659.34 599.716,659.34 600.438,659.34 601.16,659.34 601.882,659.34 602.604,659.34 603.326,659.34 604.048,659.34 604.77,659.34 605.492,659.34 606.213,659.34 606.935,659.34 607.657,659.34 608.379,659.34 609.101,659.34 609.823,659.34 610.545,659.34 611.267,659.34 611.989,659.34 612.71,659.34 613.432,659.34 614.154,659.34 614.876,659.34 615.598,659.34 616.32,659.34 617.042,659.34 617.764,659.34 618.485,659.34 619.207,659.34 619.929,659.34 620.651,659.34 621.373,659.34 622.095,659.34 622.817,659.34 623.539,659.34 624.261,659.34 624.982,659.34 625.704,659.34 626.426,659.34 627.148,659.34 627.87,659.34 628.592,659.34 629.314,659.34 630.036,659.34 630.758,659.34 631.479,659.34 632.201,659.34 632.923,659.34 633.645,659.34 634.367,659.34 635.089,659.34 635.811,659.34 636.533,659.34 637.254,659.34 637.976,659.34 638.698,659.34 639.42,659.34 640.142,659.34 640.864,659.34 641.586,659.34 642.308,659.34 643.03,659.34 643.751,659.34 644.473,659.34 645.195,659.34 645.917,659.34 646.639,659.34 647.361,659.34 648.083,659.34 648.805,659.34 649.526,659.34 650.248,659.34 650.97,659.34 651.692,659.34 652.414,659.34 653.136,659.34 653.858,659.34 654.58,659.34 655.302,659.34 656.023,659.34 656.745,659.34 657.467,659.34 658.189,659.34 658.911,659.34 659.633,659.34 660.355,659.34 661.077,659.34 661.799,659.34 662.52,659.34 663.242,659.34 663.964,659.34 664.686,659.34 665.408,659.34 666.13,659.34 666.852,659.34 667.574,659.34 668.295,659.34 669.017,659.34 669.739,659.34 670.461,659.34 671.183,659.34 671.905,659.34 672.627,659.34 673.349,659.34 674.071,659.34 674.792,659.34 675.514,659.34 676.236,659.34 676.958,659.34 677.68,659.34 678.402,659.34 679.124,659.34 679.846,659.34 680.568,659.34 681.289,659.34 682.011,659.34 682.733,659.34 683.455,659.34 684.177,659.34 684.899,659.34 685.621,659.34 686.343,659.34 687.064,659.34 687.786,659.34 688.508,659.34 689.23,659.34 689.952,659.34 690.674,659.34 691.396,659.34 692.118,659.34 692.84,659.34 693.561,659.34 694.283,659.34 695.005,659.34 695.727,659.34 696.449,659.34 697.171,659.34 697.893,659.34 698.615,659.34 699.336,659.34 700.058,659.34 700.78,659.34 701.502,659.34 702.224,659.34 702.946,659.34 703.668,659.34 704.39,659.34 705.112,659.34 705.833,659.34 706.555,659.34 707.277,659.34 707.999,659.34 708.721,659.34 709.443,659.34 710.165,659.34 710.887,659.34 711.609,659.34 712.33,659.34 713.052,659.34 713.774,659.34 714.496,659.34 715.218,659.34 715.94,659.34 716.662,659.34 717.384,659.34 718.105,659.34 718.827,659.34 719.549,659.34 720.271,659.34 720.993,659.34 721.715,659.34 722.437,659.34 723.159,659.34 723.881,659.34 724.602,659.34 725.324,659.34 726.046,659.34 726.768,659.34 727.49,659.34 728.212,659.34 728.934,659.34 729.656,659.34 730.378,659.34 731.099,659.34 731.821,659.34 732.543,659.34 733.265,659.34 733.987,659.34 734.709,659.34 735.431,659.34 \"/>\n",
       "<path clip-path=\"url(#clip050)\" d=\"M618.705 171.922 L732.351 171.922 L732.351 68.2416 L618.705 68.2416  Z\" fill=\"#ffffff\" fill-rule=\"evenodd\" fill-opacity=\"1\"/>\n",
       "<polyline clip-path=\"url(#clip050)\" style=\"stroke:#000000; stroke-linecap:round; stroke-linejoin:round; stroke-width:4; stroke-opacity:1; fill:none\" points=\"618.705,171.922 732.351,171.922 732.351,68.2416 618.705,68.2416 618.705,171.922 \"/>\n",
       "<polyline clip-path=\"url(#clip050)\" style=\"stroke:#009af9; stroke-linecap:round; stroke-linejoin:round; stroke-width:4; stroke-opacity:1; fill:none\" points=\"625.506,120.082 666.317,120.082 \"/>\n",
       "<path clip-path=\"url(#clip050)\" d=\"M686.961 139.769 Q685.156 144.399 683.443 145.811 Q681.73 147.223 678.859 147.223 L675.457 147.223 L675.457 143.658 L677.957 143.658 Q679.716 143.658 680.688 142.824 Q681.66 141.991 682.841 138.889 L683.605 136.945 L673.119 111.436 L677.632 111.436 L685.734 131.713 L693.836 111.436 L698.35 111.436 L686.961 139.769 Z\" fill=\"#000000\" fill-rule=\"nonzero\" fill-opacity=\"1\" /><path clip-path=\"url(#clip050)\" d=\"M705.642 133.426 L713.28 133.426 L713.28 107.061 L704.97 108.727 L704.97 104.468 L713.234 102.802 L717.91 102.802 L717.91 133.426 L725.549 133.426 L725.549 137.362 L705.642 137.362 L705.642 133.426 Z\" fill=\"#000000\" fill-rule=\"nonzero\" fill-opacity=\"1\" /></svg>\n"
      ],
      "text/html": [
       "<?xml version=\"1.0\" encoding=\"utf-8\"?>\n",
       "<svg xmlns=\"http://www.w3.org/2000/svg\" xmlns:xlink=\"http://www.w3.org/1999/xlink\" width=\"200\" height=\"200\" viewBox=\"0 0 800 800\">\n",
       "<defs>\n",
       "  <clipPath id=\"clip100\">\n",
       "    <rect x=\"0\" y=\"0\" width=\"800\" height=\"800\"/>\n",
       "  </clipPath>\n",
       "</defs>\n",
       "<path clip-path=\"url(#clip100)\" d=\"M0 800 L800 800 L800 0 L0 0  Z\" fill=\"#ffffff\" fill-rule=\"evenodd\" fill-opacity=\"1\"/>\n",
       "<defs>\n",
       "  <clipPath id=\"clip101\">\n",
       "    <rect x=\"160\" y=\"79\" width=\"561\" height=\"561\"/>\n",
       "  </clipPath>\n",
       "</defs>\n",
       "<path clip-path=\"url(#clip100)\" d=\"M140.598 677.168 L752.756 677.168 L752.756 47.2441 L140.598 47.2441  Z\" fill=\"#ffffff\" fill-rule=\"evenodd\" fill-opacity=\"1\"/>\n",
       "<defs>\n",
       "  <clipPath id=\"clip102\">\n",
       "    <rect x=\"140\" y=\"47\" width=\"613\" height=\"631\"/>\n",
       "  </clipPath>\n",
       "</defs>\n",
       "<polyline clip-path=\"url(#clip102)\" style=\"stroke:#000000; stroke-linecap:round; stroke-linejoin:round; stroke-width:2; stroke-opacity:0.1; fill:none\" points=\"157.923,677.168 157.923,47.2441 \"/>\n",
       "<polyline clip-path=\"url(#clip102)\" style=\"stroke:#000000; stroke-linecap:round; stroke-linejoin:round; stroke-width:2; stroke-opacity:0.1; fill:none\" points=\"302.3,677.168 302.3,47.2441 \"/>\n",
       "<polyline clip-path=\"url(#clip102)\" style=\"stroke:#000000; stroke-linecap:round; stroke-linejoin:round; stroke-width:2; stroke-opacity:0.1; fill:none\" points=\"446.677,677.168 446.677,47.2441 \"/>\n",
       "<polyline clip-path=\"url(#clip102)\" style=\"stroke:#000000; stroke-linecap:round; stroke-linejoin:round; stroke-width:2; stroke-opacity:0.1; fill:none\" points=\"591.054,677.168 591.054,47.2441 \"/>\n",
       "<polyline clip-path=\"url(#clip102)\" style=\"stroke:#000000; stroke-linecap:round; stroke-linejoin:round; stroke-width:2; stroke-opacity:0.1; fill:none\" points=\"735.431,677.168 735.431,47.2441 \"/>\n",
       "<polyline clip-path=\"url(#clip100)\" style=\"stroke:#000000; stroke-linecap:round; stroke-linejoin:round; stroke-width:4; stroke-opacity:1; fill:none\" points=\"140.598,677.168 752.756,677.168 \"/>\n",
       "<polyline clip-path=\"url(#clip100)\" style=\"stroke:#000000; stroke-linecap:round; stroke-linejoin:round; stroke-width:4; stroke-opacity:1; fill:none\" points=\"157.923,677.168 157.923,658.27 \"/>\n",
       "<polyline clip-path=\"url(#clip100)\" style=\"stroke:#000000; stroke-linecap:round; stroke-linejoin:round; stroke-width:4; stroke-opacity:1; fill:none\" points=\"302.3,677.168 302.3,658.27 \"/>\n",
       "<polyline clip-path=\"url(#clip100)\" style=\"stroke:#000000; stroke-linecap:round; stroke-linejoin:round; stroke-width:4; stroke-opacity:1; fill:none\" points=\"446.677,677.168 446.677,658.27 \"/>\n",
       "<polyline clip-path=\"url(#clip100)\" style=\"stroke:#000000; stroke-linecap:round; stroke-linejoin:round; stroke-width:4; stroke-opacity:1; fill:none\" points=\"591.054,677.168 591.054,658.27 \"/>\n",
       "<polyline clip-path=\"url(#clip100)\" style=\"stroke:#000000; stroke-linecap:round; stroke-linejoin:round; stroke-width:4; stroke-opacity:1; fill:none\" points=\"735.431,677.168 735.431,658.27 \"/>\n",
       "<path clip-path=\"url(#clip100)\" d=\"M126.824 709.939 L156.5 709.939 L156.5 713.874 L126.824 713.874 L126.824 709.939 Z\" fill=\"#000000\" fill-rule=\"nonzero\" fill-opacity=\"1\" /><path clip-path=\"url(#clip100)\" d=\"M179.44 696.282 L167.634 714.731 L179.44 714.731 L179.44 696.282 M178.213 692.208 L184.092 692.208 L184.092 714.731 L189.023 714.731 L189.023 718.62 L184.092 718.62 L184.092 726.768 L179.44 726.768 L179.44 718.62 L163.838 718.62 L163.838 714.106 L178.213 692.208 Z\" fill=\"#000000\" fill-rule=\"nonzero\" fill-opacity=\"1\" /><path clip-path=\"url(#clip100)\" d=\"M272.243 709.939 L301.918 709.939 L301.918 713.874 L272.243 713.874 L272.243 709.939 Z\" fill=\"#000000\" fill-rule=\"nonzero\" fill-opacity=\"1\" /><path clip-path=\"url(#clip100)\" d=\"M316.039 722.833 L332.358 722.833 L332.358 726.768 L310.414 726.768 L310.414 722.833 Q313.076 720.078 317.659 715.448 Q322.265 710.796 323.446 709.453 Q325.691 706.93 326.571 705.194 Q327.474 703.435 327.474 701.745 Q327.474 698.99 325.529 697.254 Q323.608 695.518 320.506 695.518 Q318.307 695.518 315.853 696.282 Q313.423 697.046 310.645 698.597 L310.645 693.875 Q313.469 692.74 315.923 692.162 Q318.377 691.583 320.414 691.583 Q325.784 691.583 328.978 694.268 Q332.173 696.953 332.173 701.444 Q332.173 703.574 331.363 705.495 Q330.576 707.393 328.469 709.986 Q327.89 710.657 324.789 713.874 Q321.687 717.069 316.039 722.833 Z\" fill=\"#000000\" fill-rule=\"nonzero\" fill-opacity=\"1\" /><path clip-path=\"url(#clip100)\" d=\"M446.677 695.287 Q443.066 695.287 441.237 698.851 Q439.432 702.393 439.432 709.523 Q439.432 716.629 441.237 720.194 Q443.066 723.735 446.677 723.735 Q450.311 723.735 452.117 720.194 Q453.946 716.629 453.946 709.523 Q453.946 702.393 452.117 698.851 Q450.311 695.287 446.677 695.287 M446.677 691.583 Q452.487 691.583 455.543 696.189 Q458.621 700.773 458.621 709.523 Q458.621 718.249 455.543 722.856 Q452.487 727.439 446.677 727.439 Q440.867 727.439 437.788 722.856 Q434.733 718.249 434.733 709.523 Q434.733 700.773 437.788 696.189 Q440.867 691.583 446.677 691.583 Z\" fill=\"#000000\" fill-rule=\"nonzero\" fill-opacity=\"1\" /><path clip-path=\"url(#clip100)\" d=\"M585.707 722.833 L602.026 722.833 L602.026 726.768 L580.082 726.768 L580.082 722.833 Q582.744 720.078 587.327 715.448 Q591.934 710.796 593.114 709.453 Q595.359 706.93 596.239 705.194 Q597.142 703.435 597.142 701.745 Q597.142 698.99 595.197 697.254 Q593.276 695.518 590.174 695.518 Q587.975 695.518 585.522 696.282 Q583.091 697.046 580.313 698.597 L580.313 693.875 Q583.137 692.74 585.591 692.162 Q588.045 691.583 590.082 691.583 Q595.452 691.583 598.646 694.268 Q601.841 696.953 601.841 701.444 Q601.841 703.574 601.031 705.495 Q600.244 707.393 598.137 709.986 Q597.558 710.657 594.457 713.874 Q591.355 717.069 585.707 722.833 Z\" fill=\"#000000\" fill-rule=\"nonzero\" fill-opacity=\"1\" /><path clip-path=\"url(#clip100)\" d=\"M738.44 696.282 L726.634 714.731 L738.44 714.731 L738.44 696.282 M737.213 692.208 L743.093 692.208 L743.093 714.731 L748.023 714.731 L748.023 718.62 L743.093 718.62 L743.093 726.768 L738.44 726.768 L738.44 718.62 L722.838 718.62 L722.838 714.106 L737.213 692.208 Z\" fill=\"#000000\" fill-rule=\"nonzero\" fill-opacity=\"1\" /><polyline clip-path=\"url(#clip102)\" style=\"stroke:#000000; stroke-linecap:round; stroke-linejoin:round; stroke-width:2; stroke-opacity:0.1; fill:none\" points=\"140.598,659.34 752.756,659.34 \"/>\n",
       "<polyline clip-path=\"url(#clip102)\" style=\"stroke:#000000; stroke-linecap:round; stroke-linejoin:round; stroke-width:2; stroke-opacity:0.1; fill:none\" points=\"140.598,517.157 752.756,517.157 \"/>\n",
       "<polyline clip-path=\"url(#clip102)\" style=\"stroke:#000000; stroke-linecap:round; stroke-linejoin:round; stroke-width:2; stroke-opacity:0.1; fill:none\" points=\"140.598,374.974 752.756,374.974 \"/>\n",
       "<polyline clip-path=\"url(#clip102)\" style=\"stroke:#000000; stroke-linecap:round; stroke-linejoin:round; stroke-width:2; stroke-opacity:0.1; fill:none\" points=\"140.598,232.791 752.756,232.791 \"/>\n",
       "<polyline clip-path=\"url(#clip102)\" style=\"stroke:#000000; stroke-linecap:round; stroke-linejoin:round; stroke-width:2; stroke-opacity:0.1; fill:none\" points=\"140.598,90.6076 752.756,90.6076 \"/>\n",
       "<polyline clip-path=\"url(#clip100)\" style=\"stroke:#000000; stroke-linecap:round; stroke-linejoin:round; stroke-width:4; stroke-opacity:1; fill:none\" points=\"140.598,677.168 140.598,47.2441 \"/>\n",
       "<polyline clip-path=\"url(#clip100)\" style=\"stroke:#000000; stroke-linecap:round; stroke-linejoin:round; stroke-width:4; stroke-opacity:1; fill:none\" points=\"140.598,659.34 159.496,659.34 \"/>\n",
       "<polyline clip-path=\"url(#clip100)\" style=\"stroke:#000000; stroke-linecap:round; stroke-linejoin:round; stroke-width:4; stroke-opacity:1; fill:none\" points=\"140.598,517.157 159.496,517.157 \"/>\n",
       "<polyline clip-path=\"url(#clip100)\" style=\"stroke:#000000; stroke-linecap:round; stroke-linejoin:round; stroke-width:4; stroke-opacity:1; fill:none\" points=\"140.598,374.974 159.496,374.974 \"/>\n",
       "<polyline clip-path=\"url(#clip100)\" style=\"stroke:#000000; stroke-linecap:round; stroke-linejoin:round; stroke-width:4; stroke-opacity:1; fill:none\" points=\"140.598,232.791 159.496,232.791 \"/>\n",
       "<polyline clip-path=\"url(#clip100)\" style=\"stroke:#000000; stroke-linecap:round; stroke-linejoin:round; stroke-width:4; stroke-opacity:1; fill:none\" points=\"140.598,90.6076 159.496,90.6076 \"/>\n",
       "<path clip-path=\"url(#clip100)\" d=\"M71.4226 645.139 Q67.8115 645.139 65.9828 648.703 Q64.1773 652.245 64.1773 659.375 Q64.1773 666.481 65.9828 670.046 Q67.8115 673.587 71.4226 673.587 Q75.0569 673.587 76.8624 670.046 Q78.6911 666.481 78.6911 659.375 Q78.6911 652.245 76.8624 648.703 Q75.0569 645.139 71.4226 645.139 M71.4226 641.435 Q77.2328 641.435 80.2883 646.041 Q83.367 650.625 83.367 659.375 Q83.367 668.101 80.2883 672.708 Q77.2328 677.291 71.4226 677.291 Q65.6125 677.291 62.5338 672.708 Q59.4782 668.101 59.4782 659.375 Q59.4782 650.625 62.5338 646.041 Q65.6125 641.435 71.4226 641.435 Z\" fill=\"#000000\" fill-rule=\"nonzero\" fill-opacity=\"1\" /><path clip-path=\"url(#clip100)\" d=\"M91.5845 670.74 L96.4688 670.74 L96.4688 676.62 L91.5845 676.62 L91.5845 670.74 Z\" fill=\"#000000\" fill-rule=\"nonzero\" fill-opacity=\"1\" /><path clip-path=\"url(#clip100)\" d=\"M116.654 645.139 Q113.043 645.139 111.214 648.703 Q109.409 652.245 109.409 659.375 Q109.409 666.481 111.214 670.046 Q113.043 673.587 116.654 673.587 Q120.288 673.587 122.094 670.046 Q123.922 666.481 123.922 659.375 Q123.922 652.245 122.094 648.703 Q120.288 645.139 116.654 645.139 M116.654 641.435 Q122.464 641.435 125.52 646.041 Q128.598 650.625 128.598 659.375 Q128.598 668.101 125.52 672.708 Q122.464 677.291 116.654 677.291 Q110.844 677.291 107.765 672.708 Q104.709 668.101 104.709 659.375 Q104.709 650.625 107.765 646.041 Q110.844 641.435 116.654 641.435 Z\" fill=\"#000000\" fill-rule=\"nonzero\" fill-opacity=\"1\" /><path clip-path=\"url(#clip100)\" d=\"M72.6495 502.955 Q69.0384 502.955 67.2097 506.52 Q65.4041 510.062 65.4041 517.191 Q65.4041 524.298 67.2097 527.863 Q69.0384 531.404 72.6495 531.404 Q76.2837 531.404 78.0892 527.863 Q79.9179 524.298 79.9179 517.191 Q79.9179 510.062 78.0892 506.52 Q76.2837 502.955 72.6495 502.955 M72.6495 499.252 Q78.4596 499.252 81.5152 503.858 Q84.5938 508.442 84.5938 517.191 Q84.5938 525.918 81.5152 530.525 Q78.4596 535.108 72.6495 535.108 Q66.8393 535.108 63.7606 530.525 Q60.7051 525.918 60.7051 517.191 Q60.7051 508.442 63.7606 503.858 Q66.8393 499.252 72.6495 499.252 Z\" fill=\"#000000\" fill-rule=\"nonzero\" fill-opacity=\"1\" /><path clip-path=\"url(#clip100)\" d=\"M92.8114 528.557 L97.6956 528.557 L97.6956 534.437 L92.8114 534.437 L92.8114 528.557 Z\" fill=\"#000000\" fill-rule=\"nonzero\" fill-opacity=\"1\" /><path clip-path=\"url(#clip100)\" d=\"M108.691 530.502 L116.33 530.502 L116.33 504.136 L108.02 505.803 L108.02 501.543 L116.283 499.877 L120.959 499.877 L120.959 530.502 L128.598 530.502 L128.598 534.437 L108.691 534.437 L108.691 530.502 Z\" fill=\"#000000\" fill-rule=\"nonzero\" fill-opacity=\"1\" /><path clip-path=\"url(#clip100)\" d=\"M73.0198 360.772 Q69.4087 360.772 67.58 364.337 Q65.7745 367.879 65.7745 375.008 Q65.7745 382.115 67.58 385.68 Q69.4087 389.221 73.0198 389.221 Q76.6541 389.221 78.4596 385.68 Q80.2883 382.115 80.2883 375.008 Q80.2883 367.879 78.4596 364.337 Q76.6541 360.772 73.0198 360.772 M73.0198 357.069 Q78.83 357.069 81.8855 361.675 Q84.9642 366.258 84.9642 375.008 Q84.9642 383.735 81.8855 388.342 Q78.83 392.925 73.0198 392.925 Q67.2097 392.925 64.131 388.342 Q61.0754 383.735 61.0754 375.008 Q61.0754 366.258 64.131 361.675 Q67.2097 357.069 73.0198 357.069 Z\" fill=\"#000000\" fill-rule=\"nonzero\" fill-opacity=\"1\" /><path clip-path=\"url(#clip100)\" d=\"M93.1818 386.374 L98.066 386.374 L98.066 392.254 L93.1818 392.254 L93.1818 386.374 Z\" fill=\"#000000\" fill-rule=\"nonzero\" fill-opacity=\"1\" /><path clip-path=\"url(#clip100)\" d=\"M112.279 388.319 L128.598 388.319 L128.598 392.254 L106.654 392.254 L106.654 388.319 Q109.316 385.564 113.899 380.934 Q118.506 376.282 119.686 374.939 Q121.932 372.416 122.811 370.68 Q123.714 368.92 123.714 367.231 Q123.714 364.476 121.77 362.74 Q119.848 361.004 116.746 361.004 Q114.547 361.004 112.094 361.768 Q109.663 362.532 106.885 364.083 L106.885 359.36 Q109.709 358.226 112.163 357.647 Q114.617 357.069 116.654 357.069 Q122.024 357.069 125.219 359.754 Q128.413 362.439 128.413 366.93 Q128.413 369.059 127.603 370.981 Q126.816 372.879 124.709 375.471 Q124.131 376.143 121.029 379.36 Q117.927 382.555 112.279 388.319 Z\" fill=\"#000000\" fill-rule=\"nonzero\" fill-opacity=\"1\" /><path clip-path=\"url(#clip100)\" d=\"M72.0708 218.589 Q68.4597 218.589 66.631 222.154 Q64.8254 225.696 64.8254 232.825 Q64.8254 239.932 66.631 243.497 Q68.4597 247.038 72.0708 247.038 Q75.705 247.038 77.5105 243.497 Q79.3392 239.932 79.3392 232.825 Q79.3392 225.696 77.5105 222.154 Q75.705 218.589 72.0708 218.589 M72.0708 214.886 Q77.8809 214.886 80.9365 219.492 Q84.0151 224.075 84.0151 232.825 Q84.0151 241.552 80.9365 246.159 Q77.8809 250.742 72.0708 250.742 Q66.2606 250.742 63.1819 246.159 Q60.1264 241.552 60.1264 232.825 Q60.1264 224.075 63.1819 219.492 Q66.2606 214.886 72.0708 214.886 Z\" fill=\"#000000\" fill-rule=\"nonzero\" fill-opacity=\"1\" /><path clip-path=\"url(#clip100)\" d=\"M92.2327 244.191 L97.1169 244.191 L97.1169 250.071 L92.2327 250.071 L92.2327 244.191 Z\" fill=\"#000000\" fill-rule=\"nonzero\" fill-opacity=\"1\" /><path clip-path=\"url(#clip100)\" d=\"M121.469 231.436 Q124.825 232.154 126.7 234.423 Q128.598 236.691 128.598 240.024 Q128.598 245.14 125.08 247.941 Q121.561 250.742 115.08 250.742 Q112.904 250.742 110.589 250.302 Q108.297 249.885 105.844 249.029 L105.844 244.515 Q107.788 245.649 110.103 246.228 Q112.418 246.807 114.941 246.807 Q119.339 246.807 121.631 245.071 Q123.945 243.335 123.945 240.024 Q123.945 236.969 121.793 235.256 Q119.663 233.52 115.844 233.52 L111.816 233.52 L111.816 229.677 L116.029 229.677 Q119.478 229.677 121.307 228.311 Q123.135 226.923 123.135 224.33 Q123.135 221.668 121.237 220.256 Q119.362 218.821 115.844 218.821 Q113.922 218.821 111.723 219.237 Q109.524 219.654 106.885 220.534 L106.885 216.367 Q109.547 215.626 111.862 215.256 Q114.2 214.886 116.26 214.886 Q121.584 214.886 124.686 217.316 Q127.788 219.724 127.788 223.844 Q127.788 226.714 126.145 228.705 Q124.501 230.673 121.469 231.436 Z\" fill=\"#000000\" fill-rule=\"nonzero\" fill-opacity=\"1\" /><path clip-path=\"url(#clip100)\" d=\"M70.9365 76.4063 Q67.3254 76.4063 65.4967 79.971 Q63.6912 83.5127 63.6912 90.6423 Q63.6912 97.7487 65.4967 101.314 Q67.3254 104.855 70.9365 104.855 Q74.5707 104.855 76.3763 101.314 Q78.205 97.7487 78.205 90.6423 Q78.205 83.5127 76.3763 79.971 Q74.5707 76.4063 70.9365 76.4063 M70.9365 72.7026 Q76.7467 72.7026 79.8022 77.309 Q82.8809 81.8923 82.8809 90.6423 Q82.8809 99.3691 79.8022 103.976 Q76.7467 108.559 70.9365 108.559 Q65.1264 108.559 62.0477 103.976 Q58.9921 99.3691 58.9921 90.6423 Q58.9921 81.8923 62.0477 77.309 Q65.1264 72.7026 70.9365 72.7026 Z\" fill=\"#000000\" fill-rule=\"nonzero\" fill-opacity=\"1\" /><path clip-path=\"url(#clip100)\" d=\"M91.0984 102.008 L95.9827 102.008 L95.9827 107.888 L91.0984 107.888 L91.0984 102.008 Z\" fill=\"#000000\" fill-rule=\"nonzero\" fill-opacity=\"1\" /><path clip-path=\"url(#clip100)\" d=\"M119.015 77.4016 L107.209 95.8506 L119.015 95.8506 L119.015 77.4016 M117.788 73.3276 L123.668 73.3276 L123.668 95.8506 L128.598 95.8506 L128.598 99.7395 L123.668 99.7395 L123.668 107.888 L119.015 107.888 L119.015 99.7395 L103.413 99.7395 L103.413 95.2256 L117.788 73.3276 Z\" fill=\"#000000\" fill-rule=\"nonzero\" fill-opacity=\"1\" /><polyline clip-path=\"url(#clip102)\" style=\"stroke:#009af9; stroke-linecap:round; stroke-linejoin:round; stroke-width:4; stroke-opacity:1; fill:none\" points=\"157.923,659.34 158.645,659.34 159.367,659.34 160.089,659.34 160.811,659.34 161.533,659.34 162.255,659.34 162.977,659.34 163.699,659.34 164.42,659.34 165.142,659.34 165.864,659.34 166.586,659.34 167.308,659.34 168.03,659.34 168.752,659.34 169.474,659.34 170.195,659.34 170.917,659.34 171.639,659.34 172.361,659.34 173.083,659.34 173.805,659.34 174.527,659.34 175.249,659.34 175.971,659.34 176.692,659.34 177.414,659.34 178.136,659.34 178.858,659.34 179.58,659.34 180.302,659.34 181.024,659.34 181.746,659.34 182.468,659.34 183.189,659.34 183.911,659.34 184.633,659.34 185.355,659.34 186.077,659.34 186.799,659.34 187.521,659.34 188.243,659.34 188.964,659.34 189.686,659.34 190.408,659.34 191.13,659.34 191.852,659.34 192.574,659.34 193.296,659.34 194.018,659.34 194.74,659.34 195.461,659.34 196.183,659.34 196.905,659.34 197.627,659.34 198.349,659.34 199.071,659.34 199.793,659.34 200.515,659.34 201.236,659.34 201.958,659.34 202.68,659.34 203.402,659.34 204.124,659.34 204.846,659.34 205.568,659.34 206.29,659.34 207.012,659.34 207.733,659.34 208.455,659.34 209.177,659.34 209.899,659.34 210.621,659.34 211.343,659.34 212.065,659.34 212.787,659.34 213.509,659.34 214.23,659.34 214.952,659.34 215.674,659.34 216.396,659.34 217.118,659.34 217.84,659.34 218.562,659.34 219.284,659.34 220.005,659.34 220.727,659.34 221.449,659.34 222.171,659.34 222.893,659.34 223.615,659.34 224.337,659.34 225.059,659.34 225.781,659.34 226.502,659.34 227.224,659.34 227.946,659.34 228.668,659.34 229.39,659.34 230.112,659.34 230.834,659.34 231.556,659.34 232.278,659.34 232.999,659.34 233.721,659.34 234.443,659.34 235.165,659.34 235.887,659.34 236.609,659.34 237.331,659.34 238.053,659.34 238.774,659.34 239.496,659.34 240.218,659.34 240.94,659.34 241.662,659.34 242.384,659.34 243.106,659.34 243.828,659.34 244.55,659.34 245.271,659.34 245.993,659.34 246.715,659.34 247.437,659.34 248.159,659.34 248.881,659.34 249.603,659.34 250.325,659.34 251.046,659.34 251.768,659.34 252.49,659.34 253.212,659.34 253.934,659.34 254.656,659.34 255.378,659.34 256.1,659.34 256.822,659.34 257.543,659.34 258.265,659.34 258.987,659.34 259.709,659.34 260.431,659.34 261.153,659.34 261.875,659.34 262.597,659.34 263.319,659.34 264.04,659.34 264.762,659.34 265.484,659.34 266.206,659.34 266.928,659.34 267.65,659.34 268.372,659.34 269.094,659.34 269.815,659.34 270.537,659.34 271.259,659.34 271.981,659.34 272.703,659.34 273.425,659.34 274.147,659.34 274.869,659.34 275.591,659.34 276.312,659.34 277.034,659.34 277.756,659.34 278.478,659.34 279.2,659.34 279.922,659.34 280.644,659.34 281.366,659.34 282.088,659.34 282.809,659.34 283.531,659.34 284.253,659.34 284.975,659.34 285.697,659.34 286.419,659.34 287.141,659.34 287.863,659.34 288.584,659.34 289.306,659.34 290.028,659.34 290.75,659.34 291.472,659.34 292.194,659.34 292.916,659.34 293.638,659.34 294.36,659.34 295.081,659.34 295.803,659.34 296.525,659.34 297.247,659.34 297.969,659.34 298.691,659.34 299.413,659.34 300.135,659.34 300.856,659.34 301.578,659.34 302.3,578.914 303.022,577.294 303.744,575.649 304.466,573.98 305.188,572.286 305.91,570.567 306.632,568.824 307.353,567.055 308.075,565.261 308.797,563.442 309.519,561.598 310.241,559.728 310.963,557.833 311.685,555.911 312.407,553.964 313.129,551.991 313.85,549.992 314.572,547.967 315.294,545.916 316.016,543.839 316.738,541.735 317.46,539.605 318.182,537.449 318.904,535.266 319.625,533.056 320.347,530.82 321.069,528.558 321.791,526.269 322.513,523.954 323.235,521.612 323.957,519.244 324.679,516.849 325.401,514.427 326.122,511.98 326.844,509.506 327.566,507.005 328.288,504.479 329.01,501.926 329.732,499.347 330.454,496.742 331.176,494.111 331.898,491.455 332.619,488.773 333.341,486.065 334.063,483.332 334.785,480.573 335.507,477.79 336.229,474.982 336.951,472.149 337.673,469.291 338.394,466.409 339.116,463.503 339.838,460.574 340.56,457.62 341.282,454.643 342.004,451.643 342.726,448.62 343.448,445.574 344.17,442.506 344.891,439.416 345.613,436.305 346.335,433.171 347.057,430.017 347.779,426.842 348.501,423.647 349.223,420.432 349.945,417.196 350.666,413.942 351.388,410.669 352.11,407.377 352.832,404.068 353.554,400.741 354.276,397.396 354.998,394.035 355.72,390.657 356.442,387.264 357.163,383.856 357.885,380.432 358.607,376.995 359.329,373.543 360.051,370.079 360.773,366.601 361.495,363.112 362.217,359.61 362.939,356.098 363.66,352.575 364.382,349.043 365.104,345.501 365.826,341.95 366.548,338.392 367.27,334.825 367.992,331.252 368.714,327.673 369.435,324.089 370.157,320.499 370.879,316.906 371.601,313.308 372.323,309.708 373.045,306.106 373.767,302.503 374.489,298.898 375.211,295.294 375.932,291.69 376.654,288.088 377.376,284.488 378.098,280.891 378.82,277.298 379.542,273.709 380.264,270.126 380.986,266.548 381.708,262.977 382.429,259.414 383.151,255.859 383.873,252.313 384.595,248.777 385.317,245.251 386.039,241.737 386.761,238.236 387.483,234.747 388.204,231.273 388.926,227.813 389.648,224.369 390.37,220.941 391.092,217.53 391.814,214.137 392.536,210.763 393.258,207.409 393.98,204.075 394.701,200.762 395.423,197.471 396.145,194.204 396.867,190.96 397.589,187.74 398.311,184.546 399.033,181.378 399.755,178.238 400.476,175.124 401.198,172.04 401.92,168.985 402.642,165.96 403.364,162.966 404.086,160.003 404.808,157.074 405.53,154.177 406.252,151.315 406.973,148.488 407.695,145.696 408.417,142.941 409.139,140.223 409.861,137.542 410.583,134.9 411.305,132.298 412.027,129.736 412.749,127.214 413.47,124.734 414.192,122.296 414.914,119.901 415.636,117.549 416.358,115.242 417.08,112.979 417.802,110.762 418.524,108.59 419.245,106.466 419.967,104.389 420.689,102.36 421.411,100.379 422.133,98.447 422.855,96.5648 423.577,94.7328 424.299,92.9515 425.021,91.2214 425.742,89.543 426.464,87.9167 427.186,86.3432 427.908,84.8227 428.63,83.3558 429.352,81.9429 430.074,80.5845 430.796,79.2808 431.518,78.0323 432.239,76.8394 432.961,75.7024 433.683,74.6217 434.405,73.5975 435.127,72.6303 435.849,71.7202 436.571,70.8675 437.293,70.0725 438.014,69.3355 438.736,68.6566 439.458,68.036 440.18,67.474 440.902,66.9707 441.624,66.5263 442.346,66.1408 443.068,65.8145 443.79,65.5474 444.511,65.3395 445.233,65.191 445.955,65.1018 446.677,65.0721 447.399,65.1018 448.121,65.191 448.843,65.3395 449.565,65.5474 450.286,65.8145 451.008,66.1408 451.73,66.5263 452.452,66.9707 453.174,67.474 453.896,68.036 454.618,68.6566 455.34,69.3355 456.062,70.0725 456.783,70.8675 457.505,71.7202 458.227,72.6303 458.949,73.5975 459.671,74.6217 460.393,75.7024 461.115,76.8394 461.837,78.0323 462.559,79.2808 463.28,80.5845 464.002,81.9429 464.724,83.3558 465.446,84.8227 466.168,86.3432 466.89,87.9167 467.612,89.543 468.334,91.2214 469.055,92.9515 469.777,94.7328 470.499,96.5648 471.221,98.447 471.943,100.379 472.665,102.36 473.387,104.389 474.109,106.466 474.831,108.59 475.552,110.762 476.274,112.979 476.996,115.242 477.718,117.549 478.44,119.901 479.162,122.296 479.884,124.734 480.606,127.214 481.328,129.736 482.049,132.298 482.771,134.9 483.493,137.542 484.215,140.223 484.937,142.941 485.659,145.696 486.381,148.488 487.103,151.315 487.824,154.177 488.546,157.074 489.268,160.003 489.99,162.966 490.712,165.96 491.434,168.985 492.156,172.04 492.878,175.124 493.6,178.238 494.321,181.378 495.043,184.546 495.765,187.74 496.487,190.96 497.209,194.204 497.931,197.471 498.653,200.762 499.375,204.075 500.096,207.409 500.818,210.763 501.54,214.137 502.262,217.53 502.984,220.941 503.706,224.369 504.428,227.813 505.15,231.273 505.872,234.747 506.593,238.236 507.315,241.737 508.037,245.251 508.759,248.777 509.481,252.313 510.203,255.859 510.925,259.414 511.647,262.977 512.369,266.548 513.09,270.126 513.812,273.709 514.534,277.298 515.256,280.891 515.978,284.488 516.7,288.088 517.422,291.69 518.144,295.294 518.865,298.898 519.587,302.503 520.309,306.106 521.031,309.708 521.753,313.308 522.475,316.906 523.197,320.499 523.919,324.089 524.641,327.673 525.362,331.252 526.084,334.825 526.806,338.392 527.528,341.95 528.25,345.501 528.972,349.043 529.694,352.575 530.416,356.098 531.138,359.61 531.859,363.112 532.581,366.601 533.303,370.079 534.025,373.543 534.747,376.995 535.469,380.432 536.191,383.856 536.913,387.264 537.634,390.657 538.356,394.035 539.078,397.396 539.8,400.741 540.522,404.068 541.244,407.377 541.966,410.669 542.688,413.942 543.41,417.196 544.131,420.432 544.853,423.647 545.575,426.842 546.297,430.017 547.019,433.171 547.741,436.305 548.463,439.416 549.185,442.506 549.906,445.574 550.628,448.62 551.35,451.643 552.072,454.643 552.794,457.62 553.516,460.574 554.238,463.503 554.96,466.409 555.682,469.291 556.403,472.149 557.125,474.982 557.847,477.79 558.569,480.573 559.291,483.332 560.013,486.065 560.735,488.773 561.457,491.455 562.179,494.111 562.9,496.742 563.622,499.347 564.344,501.926 565.066,504.479 565.788,507.005 566.51,509.506 567.232,511.98 567.954,514.427 568.675,516.849 569.397,519.244 570.119,521.612 570.841,523.954 571.563,526.269 572.285,528.558 573.007,530.82 573.729,533.056 574.451,535.266 575.172,537.449 575.894,539.605 576.616,541.735 577.338,543.839 578.06,545.916 578.782,547.967 579.504,549.992 580.226,551.991 580.948,553.964 581.669,555.911 582.391,557.833 583.113,559.728 583.835,561.598 584.557,563.442 585.279,565.261 586.001,567.055 586.723,568.824 587.444,570.567 588.166,572.286 588.888,573.98 589.61,575.649 590.332,577.294 591.054,578.914 591.776,659.34 592.498,659.34 593.22,659.34 593.941,659.34 594.663,659.34 595.385,659.34 596.107,659.34 596.829,659.34 597.551,659.34 598.273,659.34 598.995,659.34 599.716,659.34 600.438,659.34 601.16,659.34 601.882,659.34 602.604,659.34 603.326,659.34 604.048,659.34 604.77,659.34 605.492,659.34 606.213,659.34 606.935,659.34 607.657,659.34 608.379,659.34 609.101,659.34 609.823,659.34 610.545,659.34 611.267,659.34 611.989,659.34 612.71,659.34 613.432,659.34 614.154,659.34 614.876,659.34 615.598,659.34 616.32,659.34 617.042,659.34 617.764,659.34 618.485,659.34 619.207,659.34 619.929,659.34 620.651,659.34 621.373,659.34 622.095,659.34 622.817,659.34 623.539,659.34 624.261,659.34 624.982,659.34 625.704,659.34 626.426,659.34 627.148,659.34 627.87,659.34 628.592,659.34 629.314,659.34 630.036,659.34 630.758,659.34 631.479,659.34 632.201,659.34 632.923,659.34 633.645,659.34 634.367,659.34 635.089,659.34 635.811,659.34 636.533,659.34 637.254,659.34 637.976,659.34 638.698,659.34 639.42,659.34 640.142,659.34 640.864,659.34 641.586,659.34 642.308,659.34 643.03,659.34 643.751,659.34 644.473,659.34 645.195,659.34 645.917,659.34 646.639,659.34 647.361,659.34 648.083,659.34 648.805,659.34 649.526,659.34 650.248,659.34 650.97,659.34 651.692,659.34 652.414,659.34 653.136,659.34 653.858,659.34 654.58,659.34 655.302,659.34 656.023,659.34 656.745,659.34 657.467,659.34 658.189,659.34 658.911,659.34 659.633,659.34 660.355,659.34 661.077,659.34 661.799,659.34 662.52,659.34 663.242,659.34 663.964,659.34 664.686,659.34 665.408,659.34 666.13,659.34 666.852,659.34 667.574,659.34 668.295,659.34 669.017,659.34 669.739,659.34 670.461,659.34 671.183,659.34 671.905,659.34 672.627,659.34 673.349,659.34 674.071,659.34 674.792,659.34 675.514,659.34 676.236,659.34 676.958,659.34 677.68,659.34 678.402,659.34 679.124,659.34 679.846,659.34 680.568,659.34 681.289,659.34 682.011,659.34 682.733,659.34 683.455,659.34 684.177,659.34 684.899,659.34 685.621,659.34 686.343,659.34 687.064,659.34 687.786,659.34 688.508,659.34 689.23,659.34 689.952,659.34 690.674,659.34 691.396,659.34 692.118,659.34 692.84,659.34 693.561,659.34 694.283,659.34 695.005,659.34 695.727,659.34 696.449,659.34 697.171,659.34 697.893,659.34 698.615,659.34 699.336,659.34 700.058,659.34 700.78,659.34 701.502,659.34 702.224,659.34 702.946,659.34 703.668,659.34 704.39,659.34 705.112,659.34 705.833,659.34 706.555,659.34 707.277,659.34 707.999,659.34 708.721,659.34 709.443,659.34 710.165,659.34 710.887,659.34 711.609,659.34 712.33,659.34 713.052,659.34 713.774,659.34 714.496,659.34 715.218,659.34 715.94,659.34 716.662,659.34 717.384,659.34 718.105,659.34 718.827,659.34 719.549,659.34 720.271,659.34 720.993,659.34 721.715,659.34 722.437,659.34 723.159,659.34 723.881,659.34 724.602,659.34 725.324,659.34 726.046,659.34 726.768,659.34 727.49,659.34 728.212,659.34 728.934,659.34 729.656,659.34 730.378,659.34 731.099,659.34 731.821,659.34 732.543,659.34 733.265,659.34 733.987,659.34 734.709,659.34 735.431,659.34 \"/>\n",
       "<path clip-path=\"url(#clip100)\" d=\"M618.705 171.922 L732.351 171.922 L732.351 68.2416 L618.705 68.2416  Z\" fill=\"#ffffff\" fill-rule=\"evenodd\" fill-opacity=\"1\"/>\n",
       "<polyline clip-path=\"url(#clip100)\" style=\"stroke:#000000; stroke-linecap:round; stroke-linejoin:round; stroke-width:4; stroke-opacity:1; fill:none\" points=\"618.705,171.922 732.351,171.922 732.351,68.2416 618.705,68.2416 618.705,171.922 \"/>\n",
       "<polyline clip-path=\"url(#clip100)\" style=\"stroke:#009af9; stroke-linecap:round; stroke-linejoin:round; stroke-width:4; stroke-opacity:1; fill:none\" points=\"625.506,120.082 666.317,120.082 \"/>\n",
       "<path clip-path=\"url(#clip100)\" d=\"M686.961 139.769 Q685.156 144.399 683.443 145.811 Q681.73 147.223 678.859 147.223 L675.457 147.223 L675.457 143.658 L677.957 143.658 Q679.716 143.658 680.688 142.824 Q681.66 141.991 682.841 138.889 L683.605 136.945 L673.119 111.436 L677.632 111.436 L685.734 131.713 L693.836 111.436 L698.35 111.436 L686.961 139.769 Z\" fill=\"#000000\" fill-rule=\"nonzero\" fill-opacity=\"1\" /><path clip-path=\"url(#clip100)\" d=\"M705.642 133.426 L713.28 133.426 L713.28 107.061 L704.97 108.727 L704.97 104.468 L713.234 102.802 L717.91 102.802 L717.91 133.426 L725.549 133.426 L725.549 137.362 L705.642 137.362 L705.642 133.426 Z\" fill=\"#000000\" fill-rule=\"nonzero\" fill-opacity=\"1\" /></svg>\n"
      ]
     },
     "metadata": {},
     "output_type": "display_data"
    }
   ],
   "source": [
    "# To create truncated distributions, use:\n",
    "\n",
    "lower_limit = -2\n",
    "upper_limit = 2\n",
    "d = truncated(Normal(), lower_limit, upper_limit)\n",
    "plot(x, pdf.(d, x), size=(200, 200))"
   ]
  },
  {
   "cell_type": "code",
   "execution_count": 58,
   "metadata": {},
   "outputs": [
    {
     "data": {
      "image/png": "[encoded data removed]",
      "image/svg+xml": [
       "<?xml version=\"1.0\" encoding=\"utf-8\"?>\n",
       "<svg xmlns=\"http://www.w3.org/2000/svg\" xmlns:xlink=\"http://www.w3.org/1999/xlink\" width=\"200\" height=\"200\" viewBox=\"0 0 800 800\">\n",
       "<defs>\n",
       "  <clipPath id=\"clip140\">\n",
       "    <rect x=\"0\" y=\"0\" width=\"800\" height=\"800\"/>\n",
       "  </clipPath>\n",
       "</defs>\n",
       "<path clip-path=\"url(#clip140)\" d=\"M0 800 L800 800 L800 0 L0 0  Z\" fill=\"#ffffff\" fill-rule=\"evenodd\" fill-opacity=\"1\"/>\n",
       "<defs>\n",
       "  <clipPath id=\"clip141\">\n",
       "    <rect x=\"160\" y=\"79\" width=\"561\" height=\"561\"/>\n",
       "  </clipPath>\n",
       "</defs>\n",
       "<path clip-path=\"url(#clip140)\" d=\"M170.274 677.168 L752.756 677.168 L752.756 47.2441 L170.274 47.2441  Z\" fill=\"#ffffff\" fill-rule=\"evenodd\" fill-opacity=\"1\"/>\n",
       "<defs>\n",
       "  <clipPath id=\"clip142\">\n",
       "    <rect x=\"170\" y=\"47\" width=\"583\" height=\"631\"/>\n",
       "  </clipPath>\n",
       "</defs>\n",
       "<polyline clip-path=\"url(#clip142)\" style=\"stroke:#000000; stroke-linecap:round; stroke-linejoin:round; stroke-width:2; stroke-opacity:0.1; fill:none\" points=\"219.489,677.168 219.489,47.2441 \"/>\n",
       "<polyline clip-path=\"url(#clip142)\" style=\"stroke:#000000; stroke-linecap:round; stroke-linejoin:round; stroke-width:2; stroke-opacity:0.1; fill:none\" points=\"391.749,677.168 391.749,47.2441 \"/>\n",
       "<polyline clip-path=\"url(#clip142)\" style=\"stroke:#000000; stroke-linecap:round; stroke-linejoin:round; stroke-width:2; stroke-opacity:0.1; fill:none\" points=\"564.01,677.168 564.01,47.2441 \"/>\n",
       "<polyline clip-path=\"url(#clip142)\" style=\"stroke:#000000; stroke-linecap:round; stroke-linejoin:round; stroke-width:2; stroke-opacity:0.1; fill:none\" points=\"736.271,677.168 736.271,47.2441 \"/>\n",
       "<polyline clip-path=\"url(#clip140)\" style=\"stroke:#000000; stroke-linecap:round; stroke-linejoin:round; stroke-width:4; stroke-opacity:1; fill:none\" points=\"170.274,677.168 752.756,677.168 \"/>\n",
       "<polyline clip-path=\"url(#clip140)\" style=\"stroke:#000000; stroke-linecap:round; stroke-linejoin:round; stroke-width:4; stroke-opacity:1; fill:none\" points=\"219.489,677.168 219.489,658.27 \"/>\n",
       "<polyline clip-path=\"url(#clip140)\" style=\"stroke:#000000; stroke-linecap:round; stroke-linejoin:round; stroke-width:4; stroke-opacity:1; fill:none\" points=\"391.749,677.168 391.749,658.27 \"/>\n",
       "<polyline clip-path=\"url(#clip140)\" style=\"stroke:#000000; stroke-linecap:round; stroke-linejoin:round; stroke-width:4; stroke-opacity:1; fill:none\" points=\"564.01,677.168 564.01,658.27 \"/>\n",
       "<polyline clip-path=\"url(#clip140)\" style=\"stroke:#000000; stroke-linecap:round; stroke-linejoin:round; stroke-width:4; stroke-opacity:1; fill:none\" points=\"736.271,677.168 736.271,658.27 \"/>\n",
       "<path clip-path=\"url(#clip140)\" d=\"M219.489 695.287 Q215.878 695.287 214.049 698.851 Q212.244 702.393 212.244 709.523 Q212.244 716.629 214.049 720.194 Q215.878 723.735 219.489 723.735 Q223.123 723.735 224.929 720.194 Q226.757 716.629 226.757 709.523 Q226.757 702.393 224.929 698.851 Q223.123 695.287 219.489 695.287 M219.489 691.583 Q225.299 691.583 228.355 696.189 Q231.433 700.773 231.433 709.523 Q231.433 718.249 228.355 722.856 Q225.299 727.439 219.489 727.439 Q213.679 727.439 210.6 722.856 Q207.544 718.249 207.544 709.523 Q207.544 700.773 210.6 696.189 Q213.679 691.583 219.489 691.583 Z\" fill=\"#000000\" fill-rule=\"nonzero\" fill-opacity=\"1\" /><path clip-path=\"url(#clip140)\" d=\"M382.027 692.208 L400.384 692.208 L400.384 696.143 L386.31 696.143 L386.31 704.615 Q387.328 704.268 388.347 704.106 Q389.365 703.921 390.384 703.921 Q396.171 703.921 399.55 707.092 Q402.93 710.263 402.93 715.68 Q402.93 721.259 399.458 724.36 Q395.986 727.439 389.666 727.439 Q387.49 727.439 385.222 727.069 Q382.976 726.698 380.569 725.958 L380.569 721.259 Q382.652 722.393 384.874 722.948 Q387.097 723.504 389.574 723.504 Q393.578 723.504 395.916 721.398 Q398.254 719.291 398.254 715.68 Q398.254 712.069 395.916 709.962 Q393.578 707.856 389.574 707.856 Q387.699 707.856 385.824 708.273 Q383.972 708.689 382.027 709.569 L382.027 692.208 Z\" fill=\"#000000\" fill-rule=\"nonzero\" fill-opacity=\"1\" /><path clip-path=\"url(#clip140)\" d=\"M538.698 722.833 L546.336 722.833 L546.336 696.467 L538.026 698.134 L538.026 693.875 L546.29 692.208 L550.966 692.208 L550.966 722.833 L558.605 722.833 L558.605 726.768 L538.698 726.768 L538.698 722.833 Z\" fill=\"#000000\" fill-rule=\"nonzero\" fill-opacity=\"1\" /><path clip-path=\"url(#clip140)\" d=\"M578.049 695.287 Q574.438 695.287 572.609 698.851 Q570.804 702.393 570.804 709.523 Q570.804 716.629 572.609 720.194 Q574.438 723.735 578.049 723.735 Q581.684 723.735 583.489 720.194 Q585.318 716.629 585.318 709.523 Q585.318 702.393 583.489 698.851 Q581.684 695.287 578.049 695.287 M578.049 691.583 Q583.859 691.583 586.915 696.189 Q589.994 700.773 589.994 709.523 Q589.994 718.249 586.915 722.856 Q583.859 727.439 578.049 727.439 Q572.239 727.439 569.16 722.856 Q566.105 718.249 566.105 709.523 Q566.105 700.773 569.16 696.189 Q572.239 691.583 578.049 691.583 Z\" fill=\"#000000\" fill-rule=\"nonzero\" fill-opacity=\"1\" /><path clip-path=\"url(#clip140)\" d=\"M711.456 722.833 L719.095 722.833 L719.095 696.467 L710.785 698.134 L710.785 693.875 L719.048 692.208 L723.724 692.208 L723.724 722.833 L731.363 722.833 L731.363 726.768 L711.456 726.768 L711.456 722.833 Z\" fill=\"#000000\" fill-rule=\"nonzero\" fill-opacity=\"1\" /><path clip-path=\"url(#clip140)\" d=\"M740.854 692.208 L759.21 692.208 L759.21 696.143 L745.136 696.143 L745.136 704.615 Q746.155 704.268 747.173 704.106 Q748.192 703.921 749.21 703.921 Q754.997 703.921 758.377 707.092 Q761.757 710.263 761.757 715.68 Q761.757 721.259 758.284 724.36 Q754.812 727.439 748.493 727.439 Q746.317 727.439 744.048 727.069 Q741.803 726.698 739.396 725.958 L739.396 721.259 Q741.479 722.393 743.701 722.948 Q745.923 723.504 748.4 723.504 Q752.405 723.504 754.743 721.398 Q757.081 719.291 757.081 715.68 Q757.081 712.069 754.743 709.962 Q752.405 707.856 748.4 707.856 Q746.525 707.856 744.65 708.273 Q742.798 708.689 740.854 709.569 L740.854 692.208 Z\" fill=\"#000000\" fill-rule=\"nonzero\" fill-opacity=\"1\" /><polyline clip-path=\"url(#clip142)\" style=\"stroke:#000000; stroke-linecap:round; stroke-linejoin:round; stroke-width:2; stroke-opacity:0.1; fill:none\" points=\"170.274,677.168 752.756,677.168 \"/>\n",
       "<polyline clip-path=\"url(#clip142)\" style=\"stroke:#000000; stroke-linecap:round; stroke-linejoin:round; stroke-width:2; stroke-opacity:0.1; fill:none\" points=\"170.274,497.669 752.756,497.669 \"/>\n",
       "<polyline clip-path=\"url(#clip142)\" style=\"stroke:#000000; stroke-linecap:round; stroke-linejoin:round; stroke-width:2; stroke-opacity:0.1; fill:none\" points=\"170.274,318.17 752.756,318.17 \"/>\n",
       "<polyline clip-path=\"url(#clip142)\" style=\"stroke:#000000; stroke-linecap:round; stroke-linejoin:round; stroke-width:2; stroke-opacity:0.1; fill:none\" points=\"170.274,138.67 752.756,138.67 \"/>\n",
       "<polyline clip-path=\"url(#clip140)\" style=\"stroke:#000000; stroke-linecap:round; stroke-linejoin:round; stroke-width:4; stroke-opacity:1; fill:none\" points=\"170.274,677.168 170.274,47.2441 \"/>\n",
       "<polyline clip-path=\"url(#clip140)\" style=\"stroke:#000000; stroke-linecap:round; stroke-linejoin:round; stroke-width:4; stroke-opacity:1; fill:none\" points=\"170.274,677.168 189.172,677.168 \"/>\n",
       "<polyline clip-path=\"url(#clip140)\" style=\"stroke:#000000; stroke-linecap:round; stroke-linejoin:round; stroke-width:4; stroke-opacity:1; fill:none\" points=\"170.274,497.669 189.172,497.669 \"/>\n",
       "<polyline clip-path=\"url(#clip140)\" style=\"stroke:#000000; stroke-linecap:round; stroke-linejoin:round; stroke-width:4; stroke-opacity:1; fill:none\" points=\"170.274,318.17 189.172,318.17 \"/>\n",
       "<polyline clip-path=\"url(#clip140)\" style=\"stroke:#000000; stroke-linecap:round; stroke-linejoin:round; stroke-width:4; stroke-opacity:1; fill:none\" points=\"170.274,138.67 189.172,138.67 \"/>\n",
       "<path clip-path=\"url(#clip140)\" d=\"M70.9365 662.967 Q67.3254 662.967 65.4967 666.531 Q63.6912 670.073 63.6912 677.203 Q63.6912 684.309 65.4967 687.874 Q67.3254 691.415 70.9365 691.415 Q74.5707 691.415 76.3763 687.874 Q78.205 684.309 78.205 677.203 Q78.205 670.073 76.3763 666.531 Q74.5707 662.967 70.9365 662.967 M70.9365 659.263 Q76.7467 659.263 79.8022 663.869 Q82.8809 668.453 82.8809 677.203 Q82.8809 685.929 79.8022 690.536 Q76.7467 695.119 70.9365 695.119 Q65.1264 695.119 62.0477 690.536 Q58.9921 685.929 58.9921 677.203 Q58.9921 668.453 62.0477 663.869 Q65.1264 659.263 70.9365 659.263 Z\" fill=\"#000000\" fill-rule=\"nonzero\" fill-opacity=\"1\" /><path clip-path=\"url(#clip140)\" d=\"M91.0984 688.568 L95.9827 688.568 L95.9827 694.448 L91.0984 694.448 L91.0984 688.568 Z\" fill=\"#000000\" fill-rule=\"nonzero\" fill-opacity=\"1\" /><path clip-path=\"url(#clip140)\" d=\"M116.168 662.967 Q112.557 662.967 110.728 666.531 Q108.922 670.073 108.922 677.203 Q108.922 684.309 110.728 687.874 Q112.557 691.415 116.168 691.415 Q119.802 691.415 121.608 687.874 Q123.436 684.309 123.436 677.203 Q123.436 670.073 121.608 666.531 Q119.802 662.967 116.168 662.967 M116.168 659.263 Q121.978 659.263 125.033 663.869 Q128.112 668.453 128.112 677.203 Q128.112 685.929 125.033 690.536 Q121.978 695.119 116.168 695.119 Q110.358 695.119 107.279 690.536 Q104.223 685.929 104.223 677.203 Q104.223 668.453 107.279 663.869 Q110.358 659.263 116.168 659.263 Z\" fill=\"#000000\" fill-rule=\"nonzero\" fill-opacity=\"1\" /><path clip-path=\"url(#clip140)\" d=\"M146.33 662.967 Q142.719 662.967 140.89 666.531 Q139.084 670.073 139.084 677.203 Q139.084 684.309 140.89 687.874 Q142.719 691.415 146.33 691.415 Q149.964 691.415 151.769 687.874 Q153.598 684.309 153.598 677.203 Q153.598 670.073 151.769 666.531 Q149.964 662.967 146.33 662.967 M146.33 659.263 Q152.14 659.263 155.195 663.869 Q158.274 668.453 158.274 677.203 Q158.274 685.929 155.195 690.536 Q152.14 695.119 146.33 695.119 Q140.519 695.119 137.441 690.536 Q134.385 685.929 134.385 677.203 Q134.385 668.453 137.441 663.869 Q140.519 659.263 146.33 659.263 Z\" fill=\"#000000\" fill-rule=\"nonzero\" fill-opacity=\"1\" /><path clip-path=\"url(#clip140)\" d=\"M71.9319 483.467 Q68.3208 483.467 66.4921 487.032 Q64.6865 490.574 64.6865 497.703 Q64.6865 504.81 66.4921 508.375 Q68.3208 511.916 71.9319 511.916 Q75.5661 511.916 77.3717 508.375 Q79.2004 504.81 79.2004 497.703 Q79.2004 490.574 77.3717 487.032 Q75.5661 483.467 71.9319 483.467 M71.9319 479.764 Q77.742 479.764 80.7976 484.37 Q83.8763 488.954 83.8763 497.703 Q83.8763 506.43 80.7976 511.037 Q77.742 515.62 71.9319 515.62 Q66.1217 515.62 63.043 511.037 Q59.9875 506.43 59.9875 497.703 Q59.9875 488.954 63.043 484.37 Q66.1217 479.764 71.9319 479.764 Z\" fill=\"#000000\" fill-rule=\"nonzero\" fill-opacity=\"1\" /><path clip-path=\"url(#clip140)\" d=\"M92.0938 509.069 L96.978 509.069 L96.978 514.949 L92.0938 514.949 L92.0938 509.069 Z\" fill=\"#000000\" fill-rule=\"nonzero\" fill-opacity=\"1\" /><path clip-path=\"url(#clip140)\" d=\"M117.163 483.467 Q113.552 483.467 111.723 487.032 Q109.918 490.574 109.918 497.703 Q109.918 504.81 111.723 508.375 Q113.552 511.916 117.163 511.916 Q120.797 511.916 122.603 508.375 Q124.432 504.81 124.432 497.703 Q124.432 490.574 122.603 487.032 Q120.797 483.467 117.163 483.467 M117.163 479.764 Q122.973 479.764 126.029 484.37 Q129.107 488.954 129.107 497.703 Q129.107 506.43 126.029 511.037 Q122.973 515.62 117.163 515.62 Q111.353 515.62 108.274 511.037 Q105.219 506.43 105.219 497.703 Q105.219 488.954 108.274 484.37 Q111.353 479.764 117.163 479.764 Z\" fill=\"#000000\" fill-rule=\"nonzero\" fill-opacity=\"1\" /><path clip-path=\"url(#clip140)\" d=\"M137.371 480.389 L155.728 480.389 L155.728 484.324 L141.654 484.324 L141.654 492.796 Q142.672 492.449 143.691 492.287 Q144.709 492.102 145.728 492.102 Q151.515 492.102 154.894 495.273 Q158.274 498.444 158.274 503.861 Q158.274 509.44 154.802 512.541 Q151.33 515.62 145.01 515.62 Q142.834 515.62 140.566 515.25 Q138.32 514.879 135.913 514.139 L135.913 509.44 Q137.996 510.574 140.219 511.129 Q142.441 511.685 144.918 511.685 Q148.922 511.685 151.26 509.578 Q153.598 507.472 153.598 503.861 Q153.598 500.25 151.26 498.143 Q148.922 496.037 144.918 496.037 Q143.043 496.037 141.168 496.453 Q139.316 496.87 137.371 497.75 L137.371 480.389 Z\" fill=\"#000000\" fill-rule=\"nonzero\" fill-opacity=\"1\" /><path clip-path=\"url(#clip140)\" d=\"M70.9365 303.968 Q67.3254 303.968 65.4967 307.533 Q63.6912 311.075 63.6912 318.204 Q63.6912 325.311 65.4967 328.876 Q67.3254 332.417 70.9365 332.417 Q74.5707 332.417 76.3763 328.876 Q78.205 325.311 78.205 318.204 Q78.205 311.075 76.3763 307.533 Q74.5707 303.968 70.9365 303.968 M70.9365 300.265 Q76.7467 300.265 79.8022 304.871 Q82.8809 309.454 82.8809 318.204 Q82.8809 326.931 79.8022 331.538 Q76.7467 336.121 70.9365 336.121 Q65.1264 336.121 62.0477 331.538 Q58.9921 326.931 58.9921 318.204 Q58.9921 309.454 62.0477 304.871 Q65.1264 300.265 70.9365 300.265 Z\" fill=\"#000000\" fill-rule=\"nonzero\" fill-opacity=\"1\" /><path clip-path=\"url(#clip140)\" d=\"M91.0984 329.57 L95.9827 329.57 L95.9827 335.45 L91.0984 335.45 L91.0984 329.57 Z\" fill=\"#000000\" fill-rule=\"nonzero\" fill-opacity=\"1\" /><path clip-path=\"url(#clip140)\" d=\"M106.978 331.514 L114.617 331.514 L114.617 305.149 L106.307 306.816 L106.307 302.556 L114.571 300.89 L119.246 300.89 L119.246 331.514 L126.885 331.514 L126.885 335.45 L106.978 335.45 L106.978 331.514 Z\" fill=\"#000000\" fill-rule=\"nonzero\" fill-opacity=\"1\" /><path clip-path=\"url(#clip140)\" d=\"M146.33 303.968 Q142.719 303.968 140.89 307.533 Q139.084 311.075 139.084 318.204 Q139.084 325.311 140.89 328.876 Q142.719 332.417 146.33 332.417 Q149.964 332.417 151.769 328.876 Q153.598 325.311 153.598 318.204 Q153.598 311.075 151.769 307.533 Q149.964 303.968 146.33 303.968 M146.33 300.265 Q152.14 300.265 155.195 304.871 Q158.274 309.454 158.274 318.204 Q158.274 326.931 155.195 331.538 Q152.14 336.121 146.33 336.121 Q140.519 336.121 137.441 331.538 Q134.385 326.931 134.385 318.204 Q134.385 309.454 137.441 304.871 Q140.519 300.265 146.33 300.265 Z\" fill=\"#000000\" fill-rule=\"nonzero\" fill-opacity=\"1\" /><path clip-path=\"url(#clip140)\" d=\"M71.9319 124.469 Q68.3208 124.469 66.4921 128.034 Q64.6865 131.576 64.6865 138.705 Q64.6865 145.812 66.4921 149.376 Q68.3208 152.918 71.9319 152.918 Q75.5661 152.918 77.3717 149.376 Q79.2004 145.812 79.2004 138.705 Q79.2004 131.576 77.3717 128.034 Q75.5661 124.469 71.9319 124.469 M71.9319 120.766 Q77.742 120.766 80.7976 125.372 Q83.8763 129.955 83.8763 138.705 Q83.8763 147.432 80.7976 152.038 Q77.742 156.622 71.9319 156.622 Q66.1217 156.622 63.043 152.038 Q59.9875 147.432 59.9875 138.705 Q59.9875 129.955 63.043 125.372 Q66.1217 120.766 71.9319 120.766 Z\" fill=\"#000000\" fill-rule=\"nonzero\" fill-opacity=\"1\" /><path clip-path=\"url(#clip140)\" d=\"M92.0938 150.071 L96.978 150.071 L96.978 155.95 L92.0938 155.95 L92.0938 150.071 Z\" fill=\"#000000\" fill-rule=\"nonzero\" fill-opacity=\"1\" /><path clip-path=\"url(#clip140)\" d=\"M107.973 152.015 L115.612 152.015 L115.612 125.65 L107.302 127.316 L107.302 123.057 L115.566 121.39 L120.242 121.39 L120.242 152.015 L127.881 152.015 L127.881 155.95 L107.973 155.95 L107.973 152.015 Z\" fill=\"#000000\" fill-rule=\"nonzero\" fill-opacity=\"1\" /><path clip-path=\"url(#clip140)\" d=\"M137.371 121.39 L155.728 121.39 L155.728 125.326 L141.654 125.326 L141.654 133.798 Q142.672 133.451 143.691 133.289 Q144.709 133.103 145.728 133.103 Q151.515 133.103 154.894 136.275 Q158.274 139.446 158.274 144.863 Q158.274 150.441 154.802 153.543 Q151.33 156.622 145.01 156.622 Q142.834 156.622 140.566 156.251 Q138.32 155.881 135.913 155.14 L135.913 150.441 Q137.996 151.576 140.219 152.131 Q142.441 152.687 144.918 152.687 Q148.922 152.687 151.26 150.58 Q153.598 148.474 153.598 144.863 Q153.598 141.252 151.26 139.145 Q148.922 137.039 144.918 137.039 Q143.043 137.039 141.168 137.455 Q139.316 137.872 137.371 138.752 L137.371 121.39 Z\" fill=\"#000000\" fill-rule=\"nonzero\" fill-opacity=\"1\" /><path clip-path=\"url(#clip142)\" d=\"M202.263 662.808 L202.263 677.168 L236.715 677.168 L236.715 662.808 L202.263 662.808 L202.263 662.808  Z\" fill=\"#009af9\" fill-rule=\"evenodd\" fill-opacity=\"1\"/>\n",
       "<polyline clip-path=\"url(#clip142)\" style=\"stroke:#000000; stroke-linecap:round; stroke-linejoin:round; stroke-width:4; stroke-opacity:1; fill:none\" points=\"202.263,662.808 202.263,677.168 236.715,677.168 236.715,662.808 202.263,662.808 \"/>\n",
       "<path clip-path=\"url(#clip142)\" d=\"M236.715 576.648 L236.715 677.168 L271.167 677.168 L271.167 576.648 L236.715 576.648 L236.715 576.648  Z\" fill=\"#009af9\" fill-rule=\"evenodd\" fill-opacity=\"1\"/>\n",
       "<polyline clip-path=\"url(#clip142)\" style=\"stroke:#000000; stroke-linecap:round; stroke-linejoin:round; stroke-width:4; stroke-opacity:1; fill:none\" points=\"236.715,576.648 236.715,677.168 271.167,677.168 271.167,576.648 236.715,576.648 \"/>\n",
       "<path clip-path=\"url(#clip142)\" d=\"M271.167 303.81 L271.167 677.168 L305.619 677.168 L305.619 303.81 L271.167 303.81 L271.167 303.81  Z\" fill=\"#009af9\" fill-rule=\"evenodd\" fill-opacity=\"1\"/>\n",
       "<polyline clip-path=\"url(#clip142)\" style=\"stroke:#000000; stroke-linecap:round; stroke-linejoin:round; stroke-width:4; stroke-opacity:1; fill:none\" points=\"271.167,303.81 271.167,677.168 305.619,677.168 305.619,303.81 271.167,303.81 \"/>\n",
       "<path clip-path=\"url(#clip142)\" d=\"M305.619 160.21 L305.619 677.168 L340.071 677.168 L340.071 160.21 L305.619 160.21 L305.619 160.21  Z\" fill=\"#009af9\" fill-rule=\"evenodd\" fill-opacity=\"1\"/>\n",
       "<polyline clip-path=\"url(#clip142)\" style=\"stroke:#000000; stroke-linecap:round; stroke-linejoin:round; stroke-width:4; stroke-opacity:1; fill:none\" points=\"305.619,160.21 305.619,677.168 340.071,677.168 340.071,160.21 305.619,160.21 \"/>\n",
       "<path clip-path=\"url(#clip142)\" d=\"M340.071 92.0007 L340.071 677.168 L374.523 677.168 L374.523 92.0007 L340.071 92.0007 L340.071 92.0007  Z\" fill=\"#009af9\" fill-rule=\"evenodd\" fill-opacity=\"1\"/>\n",
       "<polyline clip-path=\"url(#clip142)\" style=\"stroke:#000000; stroke-linecap:round; stroke-linejoin:round; stroke-width:4; stroke-opacity:1; fill:none\" points=\"340.071,92.0007 340.071,677.168 374.523,677.168 374.523,92.0007 340.071,92.0007 \"/>\n",
       "<path clip-path=\"url(#clip142)\" d=\"M374.523 77.6408 L374.523 677.168 L408.975 677.168 L408.975 77.6408 L374.523 77.6408 L374.523 77.6408  Z\" fill=\"#009af9\" fill-rule=\"evenodd\" fill-opacity=\"1\"/>\n",
       "<polyline clip-path=\"url(#clip142)\" style=\"stroke:#000000; stroke-linecap:round; stroke-linejoin:round; stroke-width:4; stroke-opacity:1; fill:none\" points=\"374.523,77.6408 374.523,677.168 408.975,677.168 408.975,77.6408 374.523,77.6408 \"/>\n",
       "<path clip-path=\"url(#clip142)\" d=\"M408.975 142.26 L408.975 677.168 L443.428 677.168 L443.428 142.26 L408.975 142.26 L408.975 142.26  Z\" fill=\"#009af9\" fill-rule=\"evenodd\" fill-opacity=\"1\"/>\n",
       "<polyline clip-path=\"url(#clip142)\" style=\"stroke:#000000; stroke-linecap:round; stroke-linejoin:round; stroke-width:4; stroke-opacity:1; fill:none\" points=\"408.975,142.26 408.975,677.168 443.428,677.168 443.428,142.26 408.975,142.26 \"/>\n",
       "<path clip-path=\"url(#clip142)\" d=\"M443.428 300.22 L443.428 677.168 L477.88 677.168 L477.88 300.22 L443.428 300.22 L443.428 300.22  Z\" fill=\"#009af9\" fill-rule=\"evenodd\" fill-opacity=\"1\"/>\n",
       "<polyline clip-path=\"url(#clip142)\" style=\"stroke:#000000; stroke-linecap:round; stroke-linejoin:round; stroke-width:4; stroke-opacity:1; fill:none\" points=\"443.428,300.22 443.428,677.168 477.88,677.168 477.88,300.22 443.428,300.22 \"/>\n",
       "<path clip-path=\"url(#clip142)\" d=\"M477.88 447.409 L477.88 677.168 L512.332 677.168 L512.332 447.409 L477.88 447.409 L477.88 447.409  Z\" fill=\"#009af9\" fill-rule=\"evenodd\" fill-opacity=\"1\"/>\n",
       "<polyline clip-path=\"url(#clip142)\" style=\"stroke:#000000; stroke-linecap:round; stroke-linejoin:round; stroke-width:4; stroke-opacity:1; fill:none\" points=\"477.88,447.409 477.88,677.168 512.332,677.168 512.332,447.409 477.88,447.409 \"/>\n",
       "<path clip-path=\"url(#clip142)\" d=\"M512.332 547.929 L512.332 677.168 L546.784 677.168 L546.784 547.929 L512.332 547.929 L512.332 547.929  Z\" fill=\"#009af9\" fill-rule=\"evenodd\" fill-opacity=\"1\"/>\n",
       "<polyline clip-path=\"url(#clip142)\" style=\"stroke:#000000; stroke-linecap:round; stroke-linejoin:round; stroke-width:4; stroke-opacity:1; fill:none\" points=\"512.332,547.929 512.332,677.168 546.784,677.168 546.784,547.929 512.332,547.929 \"/>\n",
       "<path clip-path=\"url(#clip142)\" d=\"M546.784 601.778 L546.784 677.168 L581.236 677.168 L581.236 601.778 L546.784 601.778 L546.784 601.778  Z\" fill=\"#009af9\" fill-rule=\"evenodd\" fill-opacity=\"1\"/>\n",
       "<polyline clip-path=\"url(#clip142)\" style=\"stroke:#000000; stroke-linecap:round; stroke-linejoin:round; stroke-width:4; stroke-opacity:1; fill:none\" points=\"546.784,601.778 546.784,677.168 581.236,677.168 581.236,601.778 546.784,601.778 \"/>\n",
       "<path clip-path=\"url(#clip142)\" d=\"M581.236 641.268 L581.236 677.168 L615.688 677.168 L615.688 641.268 L581.236 641.268 L581.236 641.268  Z\" fill=\"#009af9\" fill-rule=\"evenodd\" fill-opacity=\"1\"/>\n",
       "<polyline clip-path=\"url(#clip142)\" style=\"stroke:#000000; stroke-linecap:round; stroke-linejoin:round; stroke-width:4; stroke-opacity:1; fill:none\" points=\"581.236,641.268 581.236,677.168 615.688,677.168 615.688,641.268 581.236,641.268 \"/>\n",
       "<path clip-path=\"url(#clip142)\" d=\"M615.688 669.988 L615.688 677.168 L650.14 677.168 L650.14 669.988 L615.688 669.988 L615.688 669.988  Z\" fill=\"#009af9\" fill-rule=\"evenodd\" fill-opacity=\"1\"/>\n",
       "<polyline clip-path=\"url(#clip142)\" style=\"stroke:#000000; stroke-linecap:round; stroke-linejoin:round; stroke-width:4; stroke-opacity:1; fill:none\" points=\"615.688,669.988 615.688,677.168 650.14,677.168 650.14,669.988 615.688,669.988 \"/>\n",
       "<path clip-path=\"url(#clip142)\" d=\"M650.14 669.988 L650.14 677.168 L684.592 677.168 L684.592 669.988 L650.14 669.988 L650.14 669.988  Z\" fill=\"#009af9\" fill-rule=\"evenodd\" fill-opacity=\"1\"/>\n",
       "<polyline clip-path=\"url(#clip142)\" style=\"stroke:#000000; stroke-linecap:round; stroke-linejoin:round; stroke-width:4; stroke-opacity:1; fill:none\" points=\"650.14,669.988 650.14,677.168 684.592,677.168 684.592,669.988 650.14,669.988 \"/>\n",
       "<path clip-path=\"url(#clip142)\" d=\"M684.592 673.578 L684.592 677.168 L719.045 677.168 L719.045 673.578 L684.592 673.578 L684.592 673.578  Z\" fill=\"#009af9\" fill-rule=\"evenodd\" fill-opacity=\"1\"/>\n",
       "<polyline clip-path=\"url(#clip142)\" style=\"stroke:#000000; stroke-linecap:round; stroke-linejoin:round; stroke-width:4; stroke-opacity:1; fill:none\" points=\"684.592,673.578 684.592,677.168 719.045,677.168 719.045,673.578 684.592,673.578 \"/>\n",
       "<circle clip-path=\"url(#clip142)\" style=\"fill:#009af9; stroke:none; fill-opacity:0\" cx=\"219.489\" cy=\"662.808\" r=\"2\"/>\n",
       "<circle clip-path=\"url(#clip142)\" style=\"fill:#009af9; stroke:none; fill-opacity:0\" cx=\"253.941\" cy=\"576.648\" r=\"2\"/>\n",
       "<circle clip-path=\"url(#clip142)\" style=\"fill:#009af9; stroke:none; fill-opacity:0\" cx=\"288.393\" cy=\"303.81\" r=\"2\"/>\n",
       "<circle clip-path=\"url(#clip142)\" style=\"fill:#009af9; stroke:none; fill-opacity:0\" cx=\"322.845\" cy=\"160.21\" r=\"2\"/>\n",
       "<circle clip-path=\"url(#clip142)\" style=\"fill:#009af9; stroke:none; fill-opacity:0\" cx=\"357.297\" cy=\"92.0007\" r=\"2\"/>\n",
       "<circle clip-path=\"url(#clip142)\" style=\"fill:#009af9; stroke:none; fill-opacity:0\" cx=\"391.749\" cy=\"77.6408\" r=\"2\"/>\n",
       "<circle clip-path=\"url(#clip142)\" style=\"fill:#009af9; stroke:none; fill-opacity:0\" cx=\"426.202\" cy=\"142.26\" r=\"2\"/>\n",
       "<circle clip-path=\"url(#clip142)\" style=\"fill:#009af9; stroke:none; fill-opacity:0\" cx=\"460.654\" cy=\"300.22\" r=\"2\"/>\n",
       "<circle clip-path=\"url(#clip142)\" style=\"fill:#009af9; stroke:none; fill-opacity:0\" cx=\"495.106\" cy=\"447.409\" r=\"2\"/>\n",
       "<circle clip-path=\"url(#clip142)\" style=\"fill:#009af9; stroke:none; fill-opacity:0\" cx=\"529.558\" cy=\"547.929\" r=\"2\"/>\n",
       "<circle clip-path=\"url(#clip142)\" style=\"fill:#009af9; stroke:none; fill-opacity:0\" cx=\"564.01\" cy=\"601.778\" r=\"2\"/>\n",
       "<circle clip-path=\"url(#clip142)\" style=\"fill:#009af9; stroke:none; fill-opacity:0\" cx=\"598.462\" cy=\"641.268\" r=\"2\"/>\n",
       "<circle clip-path=\"url(#clip142)\" style=\"fill:#009af9; stroke:none; fill-opacity:0\" cx=\"632.914\" cy=\"669.988\" r=\"2\"/>\n",
       "<circle clip-path=\"url(#clip142)\" style=\"fill:#009af9; stroke:none; fill-opacity:0\" cx=\"667.366\" cy=\"669.988\" r=\"2\"/>\n",
       "<circle clip-path=\"url(#clip142)\" style=\"fill:#009af9; stroke:none; fill-opacity:0\" cx=\"701.818\" cy=\"673.578\" r=\"2\"/>\n",
       "<polyline clip-path=\"url(#clip142)\" style=\"stroke:#e26f46; stroke-linecap:round; stroke-linejoin:round; stroke-width:12; stroke-opacity:1; fill:none\" points=\"219.489,653.075 253.941,556.609 288.393,375.529 322.845,174.034 357.297,47.7476 391.749,47.2441 426.202,151.811 460.654,301.613 495.106,442.258 529.558,546.558 564.01,611.811 598.462,647.436 632.914,664.77 667.366,672.396 701.818,675.462 736.271,676.599 \"/>\n",
       "<path clip-path=\"url(#clip140)\" d=\"M575.231 223.762 L733.34 223.762 L733.34 68.2416 L575.231 68.2416  Z\" fill=\"#ffffff\" fill-rule=\"evenodd\" fill-opacity=\"1\"/>\n",
       "<polyline clip-path=\"url(#clip140)\" style=\"stroke:#000000; stroke-linecap:round; stroke-linejoin:round; stroke-width:4; stroke-opacity:1; fill:none\" points=\"575.231,223.762 733.34,223.762 733.34,68.2416 575.231,68.2416 575.231,223.762 \"/>\n",
       "<path clip-path=\"url(#clip140)\" d=\"M581.703 140.818 L620.535 140.818 L620.535 99.3456 L581.703 99.3456 L581.703 140.818  Z\" fill=\"#009af9\" fill-rule=\"evenodd\" fill-opacity=\"1\"/>\n",
       "<polyline clip-path=\"url(#clip140)\" style=\"stroke:#000000; stroke-linecap:round; stroke-linejoin:round; stroke-width:4; stroke-opacity:1; fill:none\" points=\"581.703,140.818 620.535,140.818 620.535,99.3456 581.703,99.3456 581.703,140.818 \"/>\n",
       "<path clip-path=\"url(#clip140)\" d=\"M645.919 115.371 L645.919 101.343 L650.178 101.343 L650.178 137.362 L645.919 137.362 L645.919 133.473 Q644.577 135.787 642.516 136.922 Q640.479 138.033 637.609 138.033 Q632.91 138.033 629.947 134.283 Q627.007 130.533 627.007 124.422 Q627.007 118.311 629.947 114.561 Q632.91 110.811 637.609 110.811 Q640.479 110.811 642.516 111.945 Q644.577 113.056 645.919 115.371 M631.405 124.422 Q631.405 129.121 633.327 131.806 Q635.271 134.468 638.651 134.468 Q642.03 134.468 643.975 131.806 Q645.919 129.121 645.919 124.422 Q645.919 119.723 643.975 117.061 Q642.03 114.376 638.651 114.376 Q635.271 114.376 633.327 117.061 Q631.405 119.723 631.405 124.422 Z\" fill=\"#000000\" fill-rule=\"nonzero\" fill-opacity=\"1\" /><path clip-path=\"url(#clip140)\" d=\"M670.734 124.329 Q665.572 124.329 663.581 125.51 Q661.59 126.69 661.59 129.538 Q661.59 131.806 663.072 133.149 Q664.576 134.468 667.146 134.468 Q670.688 134.468 672.817 131.968 Q674.97 129.445 674.97 125.278 L674.97 124.329 L670.734 124.329 M679.229 122.57 L679.229 137.362 L674.97 137.362 L674.97 133.426 Q673.512 135.787 671.336 136.922 Q669.16 138.033 666.012 138.033 Q662.03 138.033 659.669 135.811 Q657.331 133.565 657.331 129.815 Q657.331 125.44 660.248 123.218 Q663.188 120.996 668.998 120.996 L674.97 120.996 L674.97 120.579 Q674.97 117.639 673.026 116.042 Q671.104 114.422 667.609 114.422 Q665.387 114.422 663.28 114.954 Q661.174 115.487 659.229 116.551 L659.229 112.616 Q661.567 111.714 663.766 111.274 Q665.965 110.811 668.049 110.811 Q673.674 110.811 676.451 113.727 Q679.229 116.644 679.229 122.57 Z\" fill=\"#000000\" fill-rule=\"nonzero\" fill-opacity=\"1\" /><path clip-path=\"url(#clip140)\" d=\"M692.215 104.075 L692.215 111.436 L700.988 111.436 L700.988 114.746 L692.215 114.746 L692.215 128.82 Q692.215 131.991 693.072 132.894 Q693.951 133.797 696.613 133.797 L700.988 133.797 L700.988 137.362 L696.613 137.362 Q691.683 137.362 689.808 135.533 Q687.933 133.681 687.933 128.82 L687.933 114.746 L684.808 114.746 L684.808 111.436 L687.933 111.436 L687.933 104.075 L692.215 104.075 Z\" fill=\"#000000\" fill-rule=\"nonzero\" fill-opacity=\"1\" /><path clip-path=\"url(#clip140)\" d=\"M718.372 124.329 Q713.21 124.329 711.22 125.51 Q709.229 126.69 709.229 129.538 Q709.229 131.806 710.711 133.149 Q712.215 134.468 714.785 134.468 Q718.326 134.468 720.456 131.968 Q722.609 129.445 722.609 125.278 L722.609 124.329 L718.372 124.329 M726.868 122.57 L726.868 137.362 L722.609 137.362 L722.609 133.426 Q721.15 135.787 718.974 136.922 Q716.798 138.033 713.65 138.033 Q709.669 138.033 707.308 135.811 Q704.97 133.565 704.97 129.815 Q704.97 125.44 707.886 123.218 Q710.826 120.996 716.636 120.996 L722.609 120.996 L722.609 120.579 Q722.609 117.639 720.664 116.042 Q718.743 114.422 715.248 114.422 Q713.025 114.422 710.919 114.954 Q708.812 115.487 706.868 116.551 L706.868 112.616 Q709.206 111.714 711.405 111.274 Q713.604 110.811 715.687 110.811 Q721.312 110.811 724.09 113.727 Q726.868 116.644 726.868 122.57 Z\" fill=\"#000000\" fill-rule=\"nonzero\" fill-opacity=\"1\" /><polyline clip-path=\"url(#clip140)\" style=\"stroke:#e26f46; stroke-linecap:round; stroke-linejoin:round; stroke-width:12; stroke-opacity:1; fill:none\" points=\"581.703,171.922 620.535,171.922 \"/>\n",
       "<path clip-path=\"url(#clip140)\" d=\"M643.512 153.183 L643.512 156.725 L639.438 156.725 Q637.146 156.725 636.243 157.651 Q635.364 158.577 635.364 160.984 L635.364 163.276 L642.378 163.276 L642.378 166.586 L635.364 166.586 L635.364 189.202 L631.081 189.202 L631.081 166.586 L627.007 166.586 L627.007 163.276 L631.081 163.276 L631.081 161.47 Q631.081 157.142 633.095 155.174 Q635.109 153.183 639.484 153.183 L643.512 153.183 Z\" fill=\"#000000\" fill-rule=\"nonzero\" fill-opacity=\"1\" /><path clip-path=\"url(#clip140)\" d=\"M647.077 163.276 L651.336 163.276 L651.336 189.202 L647.077 189.202 L647.077 163.276 M647.077 153.183 L651.336 153.183 L651.336 158.577 L647.077 158.577 L647.077 153.183 Z\" fill=\"#000000\" fill-rule=\"nonzero\" fill-opacity=\"1\" /><path clip-path=\"url(#clip140)\" d=\"M664.461 155.915 L664.461 163.276 L673.234 163.276 L673.234 166.586 L664.461 166.586 L664.461 180.66 Q664.461 183.831 665.317 184.734 Q666.197 185.637 668.859 185.637 L673.234 185.637 L673.234 189.202 L668.859 189.202 Q663.928 189.202 662.053 187.373 Q660.178 185.521 660.178 180.66 L660.178 166.586 L657.053 166.586 L657.053 163.276 L660.178 163.276 L660.178 155.915 L664.461 155.915 Z\" fill=\"#000000\" fill-rule=\"nonzero\" fill-opacity=\"1\" /></svg>\n"
      ],
      "text/html": [
       "<?xml version=\"1.0\" encoding=\"utf-8\"?>\n",
       "<svg xmlns=\"http://www.w3.org/2000/svg\" xmlns:xlink=\"http://www.w3.org/1999/xlink\" width=\"200\" height=\"200\" viewBox=\"0 0 800 800\">\n",
       "<defs>\n",
       "  <clipPath id=\"clip190\">\n",
       "    <rect x=\"0\" y=\"0\" width=\"800\" height=\"800\"/>\n",
       "  </clipPath>\n",
       "</defs>\n",
       "<path clip-path=\"url(#clip190)\" d=\"M0 800 L800 800 L800 0 L0 0  Z\" fill=\"#ffffff\" fill-rule=\"evenodd\" fill-opacity=\"1\"/>\n",
       "<defs>\n",
       "  <clipPath id=\"clip191\">\n",
       "    <rect x=\"160\" y=\"79\" width=\"561\" height=\"561\"/>\n",
       "  </clipPath>\n",
       "</defs>\n",
       "<path clip-path=\"url(#clip190)\" d=\"M170.274 677.168 L752.756 677.168 L752.756 47.2441 L170.274 47.2441  Z\" fill=\"#ffffff\" fill-rule=\"evenodd\" fill-opacity=\"1\"/>\n",
       "<defs>\n",
       "  <clipPath id=\"clip192\">\n",
       "    <rect x=\"170\" y=\"47\" width=\"583\" height=\"631\"/>\n",
       "  </clipPath>\n",
       "</defs>\n",
       "<polyline clip-path=\"url(#clip192)\" style=\"stroke:#000000; stroke-linecap:round; stroke-linejoin:round; stroke-width:2; stroke-opacity:0.1; fill:none\" points=\"219.489,677.168 219.489,47.2441 \"/>\n",
       "<polyline clip-path=\"url(#clip192)\" style=\"stroke:#000000; stroke-linecap:round; stroke-linejoin:round; stroke-width:2; stroke-opacity:0.1; fill:none\" points=\"391.749,677.168 391.749,47.2441 \"/>\n",
       "<polyline clip-path=\"url(#clip192)\" style=\"stroke:#000000; stroke-linecap:round; stroke-linejoin:round; stroke-width:2; stroke-opacity:0.1; fill:none\" points=\"564.01,677.168 564.01,47.2441 \"/>\n",
       "<polyline clip-path=\"url(#clip192)\" style=\"stroke:#000000; stroke-linecap:round; stroke-linejoin:round; stroke-width:2; stroke-opacity:0.1; fill:none\" points=\"736.271,677.168 736.271,47.2441 \"/>\n",
       "<polyline clip-path=\"url(#clip190)\" style=\"stroke:#000000; stroke-linecap:round; stroke-linejoin:round; stroke-width:4; stroke-opacity:1; fill:none\" points=\"170.274,677.168 752.756,677.168 \"/>\n",
       "<polyline clip-path=\"url(#clip190)\" style=\"stroke:#000000; stroke-linecap:round; stroke-linejoin:round; stroke-width:4; stroke-opacity:1; fill:none\" points=\"219.489,677.168 219.489,658.27 \"/>\n",
       "<polyline clip-path=\"url(#clip190)\" style=\"stroke:#000000; stroke-linecap:round; stroke-linejoin:round; stroke-width:4; stroke-opacity:1; fill:none\" points=\"391.749,677.168 391.749,658.27 \"/>\n",
       "<polyline clip-path=\"url(#clip190)\" style=\"stroke:#000000; stroke-linecap:round; stroke-linejoin:round; stroke-width:4; stroke-opacity:1; fill:none\" points=\"564.01,677.168 564.01,658.27 \"/>\n",
       "<polyline clip-path=\"url(#clip190)\" style=\"stroke:#000000; stroke-linecap:round; stroke-linejoin:round; stroke-width:4; stroke-opacity:1; fill:none\" points=\"736.271,677.168 736.271,658.27 \"/>\n",
       "<path clip-path=\"url(#clip190)\" d=\"M219.489 695.287 Q215.878 695.287 214.049 698.851 Q212.244 702.393 212.244 709.523 Q212.244 716.629 214.049 720.194 Q215.878 723.735 219.489 723.735 Q223.123 723.735 224.929 720.194 Q226.757 716.629 226.757 709.523 Q226.757 702.393 224.929 698.851 Q223.123 695.287 219.489 695.287 M219.489 691.583 Q225.299 691.583 228.355 696.189 Q231.433 700.773 231.433 709.523 Q231.433 718.249 228.355 722.856 Q225.299 727.439 219.489 727.439 Q213.679 727.439 210.6 722.856 Q207.544 718.249 207.544 709.523 Q207.544 700.773 210.6 696.189 Q213.679 691.583 219.489 691.583 Z\" fill=\"#000000\" fill-rule=\"nonzero\" fill-opacity=\"1\" /><path clip-path=\"url(#clip190)\" d=\"M382.027 692.208 L400.384 692.208 L400.384 696.143 L386.31 696.143 L386.31 704.615 Q387.328 704.268 388.347 704.106 Q389.365 703.921 390.384 703.921 Q396.171 703.921 399.55 707.092 Q402.93 710.263 402.93 715.68 Q402.93 721.259 399.458 724.36 Q395.986 727.439 389.666 727.439 Q387.49 727.439 385.222 727.069 Q382.976 726.698 380.569 725.958 L380.569 721.259 Q382.652 722.393 384.874 722.948 Q387.097 723.504 389.574 723.504 Q393.578 723.504 395.916 721.398 Q398.254 719.291 398.254 715.68 Q398.254 712.069 395.916 709.962 Q393.578 707.856 389.574 707.856 Q387.699 707.856 385.824 708.273 Q383.972 708.689 382.027 709.569 L382.027 692.208 Z\" fill=\"#000000\" fill-rule=\"nonzero\" fill-opacity=\"1\" /><path clip-path=\"url(#clip190)\" d=\"M538.698 722.833 L546.336 722.833 L546.336 696.467 L538.026 698.134 L538.026 693.875 L546.29 692.208 L550.966 692.208 L550.966 722.833 L558.605 722.833 L558.605 726.768 L538.698 726.768 L538.698 722.833 Z\" fill=\"#000000\" fill-rule=\"nonzero\" fill-opacity=\"1\" /><path clip-path=\"url(#clip190)\" d=\"M578.049 695.287 Q574.438 695.287 572.609 698.851 Q570.804 702.393 570.804 709.523 Q570.804 716.629 572.609 720.194 Q574.438 723.735 578.049 723.735 Q581.684 723.735 583.489 720.194 Q585.318 716.629 585.318 709.523 Q585.318 702.393 583.489 698.851 Q581.684 695.287 578.049 695.287 M578.049 691.583 Q583.859 691.583 586.915 696.189 Q589.994 700.773 589.994 709.523 Q589.994 718.249 586.915 722.856 Q583.859 727.439 578.049 727.439 Q572.239 727.439 569.16 722.856 Q566.105 718.249 566.105 709.523 Q566.105 700.773 569.16 696.189 Q572.239 691.583 578.049 691.583 Z\" fill=\"#000000\" fill-rule=\"nonzero\" fill-opacity=\"1\" /><path clip-path=\"url(#clip190)\" d=\"M711.456 722.833 L719.095 722.833 L719.095 696.467 L710.785 698.134 L710.785 693.875 L719.048 692.208 L723.724 692.208 L723.724 722.833 L731.363 722.833 L731.363 726.768 L711.456 726.768 L711.456 722.833 Z\" fill=\"#000000\" fill-rule=\"nonzero\" fill-opacity=\"1\" /><path clip-path=\"url(#clip190)\" d=\"M740.854 692.208 L759.21 692.208 L759.21 696.143 L745.136 696.143 L745.136 704.615 Q746.155 704.268 747.173 704.106 Q748.192 703.921 749.21 703.921 Q754.997 703.921 758.377 707.092 Q761.757 710.263 761.757 715.68 Q761.757 721.259 758.284 724.36 Q754.812 727.439 748.493 727.439 Q746.317 727.439 744.048 727.069 Q741.803 726.698 739.396 725.958 L739.396 721.259 Q741.479 722.393 743.701 722.948 Q745.923 723.504 748.4 723.504 Q752.405 723.504 754.743 721.398 Q757.081 719.291 757.081 715.68 Q757.081 712.069 754.743 709.962 Q752.405 707.856 748.4 707.856 Q746.525 707.856 744.65 708.273 Q742.798 708.689 740.854 709.569 L740.854 692.208 Z\" fill=\"#000000\" fill-rule=\"nonzero\" fill-opacity=\"1\" /><polyline clip-path=\"url(#clip192)\" style=\"stroke:#000000; stroke-linecap:round; stroke-linejoin:round; stroke-width:2; stroke-opacity:0.1; fill:none\" points=\"170.274,677.168 752.756,677.168 \"/>\n",
       "<polyline clip-path=\"url(#clip192)\" style=\"stroke:#000000; stroke-linecap:round; stroke-linejoin:round; stroke-width:2; stroke-opacity:0.1; fill:none\" points=\"170.274,497.669 752.756,497.669 \"/>\n",
       "<polyline clip-path=\"url(#clip192)\" style=\"stroke:#000000; stroke-linecap:round; stroke-linejoin:round; stroke-width:2; stroke-opacity:0.1; fill:none\" points=\"170.274,318.17 752.756,318.17 \"/>\n",
       "<polyline clip-path=\"url(#clip192)\" style=\"stroke:#000000; stroke-linecap:round; stroke-linejoin:round; stroke-width:2; stroke-opacity:0.1; fill:none\" points=\"170.274,138.67 752.756,138.67 \"/>\n",
       "<polyline clip-path=\"url(#clip190)\" style=\"stroke:#000000; stroke-linecap:round; stroke-linejoin:round; stroke-width:4; stroke-opacity:1; fill:none\" points=\"170.274,677.168 170.274,47.2441 \"/>\n",
       "<polyline clip-path=\"url(#clip190)\" style=\"stroke:#000000; stroke-linecap:round; stroke-linejoin:round; stroke-width:4; stroke-opacity:1; fill:none\" points=\"170.274,677.168 189.172,677.168 \"/>\n",
       "<polyline clip-path=\"url(#clip190)\" style=\"stroke:#000000; stroke-linecap:round; stroke-linejoin:round; stroke-width:4; stroke-opacity:1; fill:none\" points=\"170.274,497.669 189.172,497.669 \"/>\n",
       "<polyline clip-path=\"url(#clip190)\" style=\"stroke:#000000; stroke-linecap:round; stroke-linejoin:round; stroke-width:4; stroke-opacity:1; fill:none\" points=\"170.274,318.17 189.172,318.17 \"/>\n",
       "<polyline clip-path=\"url(#clip190)\" style=\"stroke:#000000; stroke-linecap:round; stroke-linejoin:round; stroke-width:4; stroke-opacity:1; fill:none\" points=\"170.274,138.67 189.172,138.67 \"/>\n",
       "<path clip-path=\"url(#clip190)\" d=\"M70.9365 662.967 Q67.3254 662.967 65.4967 666.531 Q63.6912 670.073 63.6912 677.203 Q63.6912 684.309 65.4967 687.874 Q67.3254 691.415 70.9365 691.415 Q74.5707 691.415 76.3763 687.874 Q78.205 684.309 78.205 677.203 Q78.205 670.073 76.3763 666.531 Q74.5707 662.967 70.9365 662.967 M70.9365 659.263 Q76.7467 659.263 79.8022 663.869 Q82.8809 668.453 82.8809 677.203 Q82.8809 685.929 79.8022 690.536 Q76.7467 695.119 70.9365 695.119 Q65.1264 695.119 62.0477 690.536 Q58.9921 685.929 58.9921 677.203 Q58.9921 668.453 62.0477 663.869 Q65.1264 659.263 70.9365 659.263 Z\" fill=\"#000000\" fill-rule=\"nonzero\" fill-opacity=\"1\" /><path clip-path=\"url(#clip190)\" d=\"M91.0984 688.568 L95.9827 688.568 L95.9827 694.448 L91.0984 694.448 L91.0984 688.568 Z\" fill=\"#000000\" fill-rule=\"nonzero\" fill-opacity=\"1\" /><path clip-path=\"url(#clip190)\" d=\"M116.168 662.967 Q112.557 662.967 110.728 666.531 Q108.922 670.073 108.922 677.203 Q108.922 684.309 110.728 687.874 Q112.557 691.415 116.168 691.415 Q119.802 691.415 121.608 687.874 Q123.436 684.309 123.436 677.203 Q123.436 670.073 121.608 666.531 Q119.802 662.967 116.168 662.967 M116.168 659.263 Q121.978 659.263 125.033 663.869 Q128.112 668.453 128.112 677.203 Q128.112 685.929 125.033 690.536 Q121.978 695.119 116.168 695.119 Q110.358 695.119 107.279 690.536 Q104.223 685.929 104.223 677.203 Q104.223 668.453 107.279 663.869 Q110.358 659.263 116.168 659.263 Z\" fill=\"#000000\" fill-rule=\"nonzero\" fill-opacity=\"1\" /><path clip-path=\"url(#clip190)\" d=\"M146.33 662.967 Q142.719 662.967 140.89 666.531 Q139.084 670.073 139.084 677.203 Q139.084 684.309 140.89 687.874 Q142.719 691.415 146.33 691.415 Q149.964 691.415 151.769 687.874 Q153.598 684.309 153.598 677.203 Q153.598 670.073 151.769 666.531 Q149.964 662.967 146.33 662.967 M146.33 659.263 Q152.14 659.263 155.195 663.869 Q158.274 668.453 158.274 677.203 Q158.274 685.929 155.195 690.536 Q152.14 695.119 146.33 695.119 Q140.519 695.119 137.441 690.536 Q134.385 685.929 134.385 677.203 Q134.385 668.453 137.441 663.869 Q140.519 659.263 146.33 659.263 Z\" fill=\"#000000\" fill-rule=\"nonzero\" fill-opacity=\"1\" /><path clip-path=\"url(#clip190)\" d=\"M71.9319 483.467 Q68.3208 483.467 66.4921 487.032 Q64.6865 490.574 64.6865 497.703 Q64.6865 504.81 66.4921 508.375 Q68.3208 511.916 71.9319 511.916 Q75.5661 511.916 77.3717 508.375 Q79.2004 504.81 79.2004 497.703 Q79.2004 490.574 77.3717 487.032 Q75.5661 483.467 71.9319 483.467 M71.9319 479.764 Q77.742 479.764 80.7976 484.37 Q83.8763 488.954 83.8763 497.703 Q83.8763 506.43 80.7976 511.037 Q77.742 515.62 71.9319 515.62 Q66.1217 515.62 63.043 511.037 Q59.9875 506.43 59.9875 497.703 Q59.9875 488.954 63.043 484.37 Q66.1217 479.764 71.9319 479.764 Z\" fill=\"#000000\" fill-rule=\"nonzero\" fill-opacity=\"1\" /><path clip-path=\"url(#clip190)\" d=\"M92.0938 509.069 L96.978 509.069 L96.978 514.949 L92.0938 514.949 L92.0938 509.069 Z\" fill=\"#000000\" fill-rule=\"nonzero\" fill-opacity=\"1\" /><path clip-path=\"url(#clip190)\" d=\"M117.163 483.467 Q113.552 483.467 111.723 487.032 Q109.918 490.574 109.918 497.703 Q109.918 504.81 111.723 508.375 Q113.552 511.916 117.163 511.916 Q120.797 511.916 122.603 508.375 Q124.432 504.81 124.432 497.703 Q124.432 490.574 122.603 487.032 Q120.797 483.467 117.163 483.467 M117.163 479.764 Q122.973 479.764 126.029 484.37 Q129.107 488.954 129.107 497.703 Q129.107 506.43 126.029 511.037 Q122.973 515.62 117.163 515.62 Q111.353 515.62 108.274 511.037 Q105.219 506.43 105.219 497.703 Q105.219 488.954 108.274 484.37 Q111.353 479.764 117.163 479.764 Z\" fill=\"#000000\" fill-rule=\"nonzero\" fill-opacity=\"1\" /><path clip-path=\"url(#clip190)\" d=\"M137.371 480.389 L155.728 480.389 L155.728 484.324 L141.654 484.324 L141.654 492.796 Q142.672 492.449 143.691 492.287 Q144.709 492.102 145.728 492.102 Q151.515 492.102 154.894 495.273 Q158.274 498.444 158.274 503.861 Q158.274 509.44 154.802 512.541 Q151.33 515.62 145.01 515.62 Q142.834 515.62 140.566 515.25 Q138.32 514.879 135.913 514.139 L135.913 509.44 Q137.996 510.574 140.219 511.129 Q142.441 511.685 144.918 511.685 Q148.922 511.685 151.26 509.578 Q153.598 507.472 153.598 503.861 Q153.598 500.25 151.26 498.143 Q148.922 496.037 144.918 496.037 Q143.043 496.037 141.168 496.453 Q139.316 496.87 137.371 497.75 L137.371 480.389 Z\" fill=\"#000000\" fill-rule=\"nonzero\" fill-opacity=\"1\" /><path clip-path=\"url(#clip190)\" d=\"M70.9365 303.968 Q67.3254 303.968 65.4967 307.533 Q63.6912 311.075 63.6912 318.204 Q63.6912 325.311 65.4967 328.876 Q67.3254 332.417 70.9365 332.417 Q74.5707 332.417 76.3763 328.876 Q78.205 325.311 78.205 318.204 Q78.205 311.075 76.3763 307.533 Q74.5707 303.968 70.9365 303.968 M70.9365 300.265 Q76.7467 300.265 79.8022 304.871 Q82.8809 309.454 82.8809 318.204 Q82.8809 326.931 79.8022 331.538 Q76.7467 336.121 70.9365 336.121 Q65.1264 336.121 62.0477 331.538 Q58.9921 326.931 58.9921 318.204 Q58.9921 309.454 62.0477 304.871 Q65.1264 300.265 70.9365 300.265 Z\" fill=\"#000000\" fill-rule=\"nonzero\" fill-opacity=\"1\" /><path clip-path=\"url(#clip190)\" d=\"M91.0984 329.57 L95.9827 329.57 L95.9827 335.45 L91.0984 335.45 L91.0984 329.57 Z\" fill=\"#000000\" fill-rule=\"nonzero\" fill-opacity=\"1\" /><path clip-path=\"url(#clip190)\" d=\"M106.978 331.514 L114.617 331.514 L114.617 305.149 L106.307 306.816 L106.307 302.556 L114.571 300.89 L119.246 300.89 L119.246 331.514 L126.885 331.514 L126.885 335.45 L106.978 335.45 L106.978 331.514 Z\" fill=\"#000000\" fill-rule=\"nonzero\" fill-opacity=\"1\" /><path clip-path=\"url(#clip190)\" d=\"M146.33 303.968 Q142.719 303.968 140.89 307.533 Q139.084 311.075 139.084 318.204 Q139.084 325.311 140.89 328.876 Q142.719 332.417 146.33 332.417 Q149.964 332.417 151.769 328.876 Q153.598 325.311 153.598 318.204 Q153.598 311.075 151.769 307.533 Q149.964 303.968 146.33 303.968 M146.33 300.265 Q152.14 300.265 155.195 304.871 Q158.274 309.454 158.274 318.204 Q158.274 326.931 155.195 331.538 Q152.14 336.121 146.33 336.121 Q140.519 336.121 137.441 331.538 Q134.385 326.931 134.385 318.204 Q134.385 309.454 137.441 304.871 Q140.519 300.265 146.33 300.265 Z\" fill=\"#000000\" fill-rule=\"nonzero\" fill-opacity=\"1\" /><path clip-path=\"url(#clip190)\" d=\"M71.9319 124.469 Q68.3208 124.469 66.4921 128.034 Q64.6865 131.576 64.6865 138.705 Q64.6865 145.812 66.4921 149.376 Q68.3208 152.918 71.9319 152.918 Q75.5661 152.918 77.3717 149.376 Q79.2004 145.812 79.2004 138.705 Q79.2004 131.576 77.3717 128.034 Q75.5661 124.469 71.9319 124.469 M71.9319 120.766 Q77.742 120.766 80.7976 125.372 Q83.8763 129.955 83.8763 138.705 Q83.8763 147.432 80.7976 152.038 Q77.742 156.622 71.9319 156.622 Q66.1217 156.622 63.043 152.038 Q59.9875 147.432 59.9875 138.705 Q59.9875 129.955 63.043 125.372 Q66.1217 120.766 71.9319 120.766 Z\" fill=\"#000000\" fill-rule=\"nonzero\" fill-opacity=\"1\" /><path clip-path=\"url(#clip190)\" d=\"M92.0938 150.071 L96.978 150.071 L96.978 155.95 L92.0938 155.95 L92.0938 150.071 Z\" fill=\"#000000\" fill-rule=\"nonzero\" fill-opacity=\"1\" /><path clip-path=\"url(#clip190)\" d=\"M107.973 152.015 L115.612 152.015 L115.612 125.65 L107.302 127.316 L107.302 123.057 L115.566 121.39 L120.242 121.39 L120.242 152.015 L127.881 152.015 L127.881 155.95 L107.973 155.95 L107.973 152.015 Z\" fill=\"#000000\" fill-rule=\"nonzero\" fill-opacity=\"1\" /><path clip-path=\"url(#clip190)\" d=\"M137.371 121.39 L155.728 121.39 L155.728 125.326 L141.654 125.326 L141.654 133.798 Q142.672 133.451 143.691 133.289 Q144.709 133.103 145.728 133.103 Q151.515 133.103 154.894 136.275 Q158.274 139.446 158.274 144.863 Q158.274 150.441 154.802 153.543 Q151.33 156.622 145.01 156.622 Q142.834 156.622 140.566 156.251 Q138.32 155.881 135.913 155.14 L135.913 150.441 Q137.996 151.576 140.219 152.131 Q142.441 152.687 144.918 152.687 Q148.922 152.687 151.26 150.58 Q153.598 148.474 153.598 144.863 Q153.598 141.252 151.26 139.145 Q148.922 137.039 144.918 137.039 Q143.043 137.039 141.168 137.455 Q139.316 137.872 137.371 138.752 L137.371 121.39 Z\" fill=\"#000000\" fill-rule=\"nonzero\" fill-opacity=\"1\" /><path clip-path=\"url(#clip192)\" d=\"M202.263 662.808 L202.263 677.168 L236.715 677.168 L236.715 662.808 L202.263 662.808 L202.263 662.808  Z\" fill=\"#009af9\" fill-rule=\"evenodd\" fill-opacity=\"1\"/>\n",
       "<polyline clip-path=\"url(#clip192)\" style=\"stroke:#000000; stroke-linecap:round; stroke-linejoin:round; stroke-width:4; stroke-opacity:1; fill:none\" points=\"202.263,662.808 202.263,677.168 236.715,677.168 236.715,662.808 202.263,662.808 \"/>\n",
       "<path clip-path=\"url(#clip192)\" d=\"M236.715 576.648 L236.715 677.168 L271.167 677.168 L271.167 576.648 L236.715 576.648 L236.715 576.648  Z\" fill=\"#009af9\" fill-rule=\"evenodd\" fill-opacity=\"1\"/>\n",
       "<polyline clip-path=\"url(#clip192)\" style=\"stroke:#000000; stroke-linecap:round; stroke-linejoin:round; stroke-width:4; stroke-opacity:1; fill:none\" points=\"236.715,576.648 236.715,677.168 271.167,677.168 271.167,576.648 236.715,576.648 \"/>\n",
       "<path clip-path=\"url(#clip192)\" d=\"M271.167 303.81 L271.167 677.168 L305.619 677.168 L305.619 303.81 L271.167 303.81 L271.167 303.81  Z\" fill=\"#009af9\" fill-rule=\"evenodd\" fill-opacity=\"1\"/>\n",
       "<polyline clip-path=\"url(#clip192)\" style=\"stroke:#000000; stroke-linecap:round; stroke-linejoin:round; stroke-width:4; stroke-opacity:1; fill:none\" points=\"271.167,303.81 271.167,677.168 305.619,677.168 305.619,303.81 271.167,303.81 \"/>\n",
       "<path clip-path=\"url(#clip192)\" d=\"M305.619 160.21 L305.619 677.168 L340.071 677.168 L340.071 160.21 L305.619 160.21 L305.619 160.21  Z\" fill=\"#009af9\" fill-rule=\"evenodd\" fill-opacity=\"1\"/>\n",
       "<polyline clip-path=\"url(#clip192)\" style=\"stroke:#000000; stroke-linecap:round; stroke-linejoin:round; stroke-width:4; stroke-opacity:1; fill:none\" points=\"305.619,160.21 305.619,677.168 340.071,677.168 340.071,160.21 305.619,160.21 \"/>\n",
       "<path clip-path=\"url(#clip192)\" d=\"M340.071 92.0007 L340.071 677.168 L374.523 677.168 L374.523 92.0007 L340.071 92.0007 L340.071 92.0007  Z\" fill=\"#009af9\" fill-rule=\"evenodd\" fill-opacity=\"1\"/>\n",
       "<polyline clip-path=\"url(#clip192)\" style=\"stroke:#000000; stroke-linecap:round; stroke-linejoin:round; stroke-width:4; stroke-opacity:1; fill:none\" points=\"340.071,92.0007 340.071,677.168 374.523,677.168 374.523,92.0007 340.071,92.0007 \"/>\n",
       "<path clip-path=\"url(#clip192)\" d=\"M374.523 77.6408 L374.523 677.168 L408.975 677.168 L408.975 77.6408 L374.523 77.6408 L374.523 77.6408  Z\" fill=\"#009af9\" fill-rule=\"evenodd\" fill-opacity=\"1\"/>\n",
       "<polyline clip-path=\"url(#clip192)\" style=\"stroke:#000000; stroke-linecap:round; stroke-linejoin:round; stroke-width:4; stroke-opacity:1; fill:none\" points=\"374.523,77.6408 374.523,677.168 408.975,677.168 408.975,77.6408 374.523,77.6408 \"/>\n",
       "<path clip-path=\"url(#clip192)\" d=\"M408.975 142.26 L408.975 677.168 L443.428 677.168 L443.428 142.26 L408.975 142.26 L408.975 142.26  Z\" fill=\"#009af9\" fill-rule=\"evenodd\" fill-opacity=\"1\"/>\n",
       "<polyline clip-path=\"url(#clip192)\" style=\"stroke:#000000; stroke-linecap:round; stroke-linejoin:round; stroke-width:4; stroke-opacity:1; fill:none\" points=\"408.975,142.26 408.975,677.168 443.428,677.168 443.428,142.26 408.975,142.26 \"/>\n",
       "<path clip-path=\"url(#clip192)\" d=\"M443.428 300.22 L443.428 677.168 L477.88 677.168 L477.88 300.22 L443.428 300.22 L443.428 300.22  Z\" fill=\"#009af9\" fill-rule=\"evenodd\" fill-opacity=\"1\"/>\n",
       "<polyline clip-path=\"url(#clip192)\" style=\"stroke:#000000; stroke-linecap:round; stroke-linejoin:round; stroke-width:4; stroke-opacity:1; fill:none\" points=\"443.428,300.22 443.428,677.168 477.88,677.168 477.88,300.22 443.428,300.22 \"/>\n",
       "<path clip-path=\"url(#clip192)\" d=\"M477.88 447.409 L477.88 677.168 L512.332 677.168 L512.332 447.409 L477.88 447.409 L477.88 447.409  Z\" fill=\"#009af9\" fill-rule=\"evenodd\" fill-opacity=\"1\"/>\n",
       "<polyline clip-path=\"url(#clip192)\" style=\"stroke:#000000; stroke-linecap:round; stroke-linejoin:round; stroke-width:4; stroke-opacity:1; fill:none\" points=\"477.88,447.409 477.88,677.168 512.332,677.168 512.332,447.409 477.88,447.409 \"/>\n",
       "<path clip-path=\"url(#clip192)\" d=\"M512.332 547.929 L512.332 677.168 L546.784 677.168 L546.784 547.929 L512.332 547.929 L512.332 547.929  Z\" fill=\"#009af9\" fill-rule=\"evenodd\" fill-opacity=\"1\"/>\n",
       "<polyline clip-path=\"url(#clip192)\" style=\"stroke:#000000; stroke-linecap:round; stroke-linejoin:round; stroke-width:4; stroke-opacity:1; fill:none\" points=\"512.332,547.929 512.332,677.168 546.784,677.168 546.784,547.929 512.332,547.929 \"/>\n",
       "<path clip-path=\"url(#clip192)\" d=\"M546.784 601.778 L546.784 677.168 L581.236 677.168 L581.236 601.778 L546.784 601.778 L546.784 601.778  Z\" fill=\"#009af9\" fill-rule=\"evenodd\" fill-opacity=\"1\"/>\n",
       "<polyline clip-path=\"url(#clip192)\" style=\"stroke:#000000; stroke-linecap:round; stroke-linejoin:round; stroke-width:4; stroke-opacity:1; fill:none\" points=\"546.784,601.778 546.784,677.168 581.236,677.168 581.236,601.778 546.784,601.778 \"/>\n",
       "<path clip-path=\"url(#clip192)\" d=\"M581.236 641.268 L581.236 677.168 L615.688 677.168 L615.688 641.268 L581.236 641.268 L581.236 641.268  Z\" fill=\"#009af9\" fill-rule=\"evenodd\" fill-opacity=\"1\"/>\n",
       "<polyline clip-path=\"url(#clip192)\" style=\"stroke:#000000; stroke-linecap:round; stroke-linejoin:round; stroke-width:4; stroke-opacity:1; fill:none\" points=\"581.236,641.268 581.236,677.168 615.688,677.168 615.688,641.268 581.236,641.268 \"/>\n",
       "<path clip-path=\"url(#clip192)\" d=\"M615.688 669.988 L615.688 677.168 L650.14 677.168 L650.14 669.988 L615.688 669.988 L615.688 669.988  Z\" fill=\"#009af9\" fill-rule=\"evenodd\" fill-opacity=\"1\"/>\n",
       "<polyline clip-path=\"url(#clip192)\" style=\"stroke:#000000; stroke-linecap:round; stroke-linejoin:round; stroke-width:4; stroke-opacity:1; fill:none\" points=\"615.688,669.988 615.688,677.168 650.14,677.168 650.14,669.988 615.688,669.988 \"/>\n",
       "<path clip-path=\"url(#clip192)\" d=\"M650.14 669.988 L650.14 677.168 L684.592 677.168 L684.592 669.988 L650.14 669.988 L650.14 669.988  Z\" fill=\"#009af9\" fill-rule=\"evenodd\" fill-opacity=\"1\"/>\n",
       "<polyline clip-path=\"url(#clip192)\" style=\"stroke:#000000; stroke-linecap:round; stroke-linejoin:round; stroke-width:4; stroke-opacity:1; fill:none\" points=\"650.14,669.988 650.14,677.168 684.592,677.168 684.592,669.988 650.14,669.988 \"/>\n",
       "<path clip-path=\"url(#clip192)\" d=\"M684.592 673.578 L684.592 677.168 L719.045 677.168 L719.045 673.578 L684.592 673.578 L684.592 673.578  Z\" fill=\"#009af9\" fill-rule=\"evenodd\" fill-opacity=\"1\"/>\n",
       "<polyline clip-path=\"url(#clip192)\" style=\"stroke:#000000; stroke-linecap:round; stroke-linejoin:round; stroke-width:4; stroke-opacity:1; fill:none\" points=\"684.592,673.578 684.592,677.168 719.045,677.168 719.045,673.578 684.592,673.578 \"/>\n",
       "<circle clip-path=\"url(#clip192)\" style=\"fill:#009af9; stroke:none; fill-opacity:0\" cx=\"219.489\" cy=\"662.808\" r=\"2\"/>\n",
       "<circle clip-path=\"url(#clip192)\" style=\"fill:#009af9; stroke:none; fill-opacity:0\" cx=\"253.941\" cy=\"576.648\" r=\"2\"/>\n",
       "<circle clip-path=\"url(#clip192)\" style=\"fill:#009af9; stroke:none; fill-opacity:0\" cx=\"288.393\" cy=\"303.81\" r=\"2\"/>\n",
       "<circle clip-path=\"url(#clip192)\" style=\"fill:#009af9; stroke:none; fill-opacity:0\" cx=\"322.845\" cy=\"160.21\" r=\"2\"/>\n",
       "<circle clip-path=\"url(#clip192)\" style=\"fill:#009af9; stroke:none; fill-opacity:0\" cx=\"357.297\" cy=\"92.0007\" r=\"2\"/>\n",
       "<circle clip-path=\"url(#clip192)\" style=\"fill:#009af9; stroke:none; fill-opacity:0\" cx=\"391.749\" cy=\"77.6408\" r=\"2\"/>\n",
       "<circle clip-path=\"url(#clip192)\" style=\"fill:#009af9; stroke:none; fill-opacity:0\" cx=\"426.202\" cy=\"142.26\" r=\"2\"/>\n",
       "<circle clip-path=\"url(#clip192)\" style=\"fill:#009af9; stroke:none; fill-opacity:0\" cx=\"460.654\" cy=\"300.22\" r=\"2\"/>\n",
       "<circle clip-path=\"url(#clip192)\" style=\"fill:#009af9; stroke:none; fill-opacity:0\" cx=\"495.106\" cy=\"447.409\" r=\"2\"/>\n",
       "<circle clip-path=\"url(#clip192)\" style=\"fill:#009af9; stroke:none; fill-opacity:0\" cx=\"529.558\" cy=\"547.929\" r=\"2\"/>\n",
       "<circle clip-path=\"url(#clip192)\" style=\"fill:#009af9; stroke:none; fill-opacity:0\" cx=\"564.01\" cy=\"601.778\" r=\"2\"/>\n",
       "<circle clip-path=\"url(#clip192)\" style=\"fill:#009af9; stroke:none; fill-opacity:0\" cx=\"598.462\" cy=\"641.268\" r=\"2\"/>\n",
       "<circle clip-path=\"url(#clip192)\" style=\"fill:#009af9; stroke:none; fill-opacity:0\" cx=\"632.914\" cy=\"669.988\" r=\"2\"/>\n",
       "<circle clip-path=\"url(#clip192)\" style=\"fill:#009af9; stroke:none; fill-opacity:0\" cx=\"667.366\" cy=\"669.988\" r=\"2\"/>\n",
       "<circle clip-path=\"url(#clip192)\" style=\"fill:#009af9; stroke:none; fill-opacity:0\" cx=\"701.818\" cy=\"673.578\" r=\"2\"/>\n",
       "<polyline clip-path=\"url(#clip192)\" style=\"stroke:#e26f46; stroke-linecap:round; stroke-linejoin:round; stroke-width:12; stroke-opacity:1; fill:none\" points=\"219.489,653.075 253.941,556.609 288.393,375.529 322.845,174.034 357.297,47.7476 391.749,47.2441 426.202,151.811 460.654,301.613 495.106,442.258 529.558,546.558 564.01,611.811 598.462,647.436 632.914,664.77 667.366,672.396 701.818,675.462 736.271,676.599 \"/>\n",
       "<path clip-path=\"url(#clip190)\" d=\"M575.231 223.762 L733.34 223.762 L733.34 68.2416 L575.231 68.2416  Z\" fill=\"#ffffff\" fill-rule=\"evenodd\" fill-opacity=\"1\"/>\n",
       "<polyline clip-path=\"url(#clip190)\" style=\"stroke:#000000; stroke-linecap:round; stroke-linejoin:round; stroke-width:4; stroke-opacity:1; fill:none\" points=\"575.231,223.762 733.34,223.762 733.34,68.2416 575.231,68.2416 575.231,223.762 \"/>\n",
       "<path clip-path=\"url(#clip190)\" d=\"M581.703 140.818 L620.535 140.818 L620.535 99.3456 L581.703 99.3456 L581.703 140.818  Z\" fill=\"#009af9\" fill-rule=\"evenodd\" fill-opacity=\"1\"/>\n",
       "<polyline clip-path=\"url(#clip190)\" style=\"stroke:#000000; stroke-linecap:round; stroke-linejoin:round; stroke-width:4; stroke-opacity:1; fill:none\" points=\"581.703,140.818 620.535,140.818 620.535,99.3456 581.703,99.3456 581.703,140.818 \"/>\n",
       "<path clip-path=\"url(#clip190)\" d=\"M645.919 115.371 L645.919 101.343 L650.178 101.343 L650.178 137.362 L645.919 137.362 L645.919 133.473 Q644.577 135.787 642.516 136.922 Q640.479 138.033 637.609 138.033 Q632.91 138.033 629.947 134.283 Q627.007 130.533 627.007 124.422 Q627.007 118.311 629.947 114.561 Q632.91 110.811 637.609 110.811 Q640.479 110.811 642.516 111.945 Q644.577 113.056 645.919 115.371 M631.405 124.422 Q631.405 129.121 633.327 131.806 Q635.271 134.468 638.651 134.468 Q642.03 134.468 643.975 131.806 Q645.919 129.121 645.919 124.422 Q645.919 119.723 643.975 117.061 Q642.03 114.376 638.651 114.376 Q635.271 114.376 633.327 117.061 Q631.405 119.723 631.405 124.422 Z\" fill=\"#000000\" fill-rule=\"nonzero\" fill-opacity=\"1\" /><path clip-path=\"url(#clip190)\" d=\"M670.734 124.329 Q665.572 124.329 663.581 125.51 Q661.59 126.69 661.59 129.538 Q661.59 131.806 663.072 133.149 Q664.576 134.468 667.146 134.468 Q670.688 134.468 672.817 131.968 Q674.97 129.445 674.97 125.278 L674.97 124.329 L670.734 124.329 M679.229 122.57 L679.229 137.362 L674.97 137.362 L674.97 133.426 Q673.512 135.787 671.336 136.922 Q669.16 138.033 666.012 138.033 Q662.03 138.033 659.669 135.811 Q657.331 133.565 657.331 129.815 Q657.331 125.44 660.248 123.218 Q663.188 120.996 668.998 120.996 L674.97 120.996 L674.97 120.579 Q674.97 117.639 673.026 116.042 Q671.104 114.422 667.609 114.422 Q665.387 114.422 663.28 114.954 Q661.174 115.487 659.229 116.551 L659.229 112.616 Q661.567 111.714 663.766 111.274 Q665.965 110.811 668.049 110.811 Q673.674 110.811 676.451 113.727 Q679.229 116.644 679.229 122.57 Z\" fill=\"#000000\" fill-rule=\"nonzero\" fill-opacity=\"1\" /><path clip-path=\"url(#clip190)\" d=\"M692.215 104.075 L692.215 111.436 L700.988 111.436 L700.988 114.746 L692.215 114.746 L692.215 128.82 Q692.215 131.991 693.072 132.894 Q693.951 133.797 696.613 133.797 L700.988 133.797 L700.988 137.362 L696.613 137.362 Q691.683 137.362 689.808 135.533 Q687.933 133.681 687.933 128.82 L687.933 114.746 L684.808 114.746 L684.808 111.436 L687.933 111.436 L687.933 104.075 L692.215 104.075 Z\" fill=\"#000000\" fill-rule=\"nonzero\" fill-opacity=\"1\" /><path clip-path=\"url(#clip190)\" d=\"M718.372 124.329 Q713.21 124.329 711.22 125.51 Q709.229 126.69 709.229 129.538 Q709.229 131.806 710.711 133.149 Q712.215 134.468 714.785 134.468 Q718.326 134.468 720.456 131.968 Q722.609 129.445 722.609 125.278 L722.609 124.329 L718.372 124.329 M726.868 122.57 L726.868 137.362 L722.609 137.362 L722.609 133.426 Q721.15 135.787 718.974 136.922 Q716.798 138.033 713.65 138.033 Q709.669 138.033 707.308 135.811 Q704.97 133.565 704.97 129.815 Q704.97 125.44 707.886 123.218 Q710.826 120.996 716.636 120.996 L722.609 120.996 L722.609 120.579 Q722.609 117.639 720.664 116.042 Q718.743 114.422 715.248 114.422 Q713.025 114.422 710.919 114.954 Q708.812 115.487 706.868 116.551 L706.868 112.616 Q709.206 111.714 711.405 111.274 Q713.604 110.811 715.687 110.811 Q721.312 110.811 724.09 113.727 Q726.868 116.644 726.868 122.57 Z\" fill=\"#000000\" fill-rule=\"nonzero\" fill-opacity=\"1\" /><polyline clip-path=\"url(#clip190)\" style=\"stroke:#e26f46; stroke-linecap:round; stroke-linejoin:round; stroke-width:12; stroke-opacity:1; fill:none\" points=\"581.703,171.922 620.535,171.922 \"/>\n",
       "<path clip-path=\"url(#clip190)\" d=\"M643.512 153.183 L643.512 156.725 L639.438 156.725 Q637.146 156.725 636.243 157.651 Q635.364 158.577 635.364 160.984 L635.364 163.276 L642.378 163.276 L642.378 166.586 L635.364 166.586 L635.364 189.202 L631.081 189.202 L631.081 166.586 L627.007 166.586 L627.007 163.276 L631.081 163.276 L631.081 161.47 Q631.081 157.142 633.095 155.174 Q635.109 153.183 639.484 153.183 L643.512 153.183 Z\" fill=\"#000000\" fill-rule=\"nonzero\" fill-opacity=\"1\" /><path clip-path=\"url(#clip190)\" d=\"M647.077 163.276 L651.336 163.276 L651.336 189.202 L647.077 189.202 L647.077 163.276 M647.077 153.183 L651.336 153.183 L651.336 158.577 L647.077 158.577 L647.077 153.183 Z\" fill=\"#000000\" fill-rule=\"nonzero\" fill-opacity=\"1\" /><path clip-path=\"url(#clip190)\" d=\"M664.461 155.915 L664.461 163.276 L673.234 163.276 L673.234 166.586 L664.461 166.586 L664.461 180.66 Q664.461 183.831 665.317 184.734 Q666.197 185.637 668.859 185.637 L673.234 185.637 L673.234 189.202 L668.859 189.202 Q663.928 189.202 662.053 187.373 Q660.178 185.521 660.178 180.66 L660.178 166.586 L657.053 166.586 L657.053 163.276 L660.178 163.276 L660.178 155.915 L664.461 155.915 Z\" fill=\"#000000\" fill-rule=\"nonzero\" fill-opacity=\"1\" /></svg>\n"
      ]
     },
     "metadata": {},
     "output_type": "display_data"
    }
   ],
   "source": [
    "# We can also easily fit the parameters of a distribution to some data:\n",
    "\n",
    "data = rand(Poisson(5), 1000)\n",
    "d = fit(Poisson, data)\n",
    "\n",
    "x = 0:15\n",
    "histogram(data, normalize=:probability, bins=x .- 0.5, label=\"data\", size=(200, 200))\n",
    "plot!(x, pdf.(d, x), linewidth=3, label=\"fit\")"
   ]
  },
  {
   "cell_type": "markdown",
   "metadata": {},
   "source": [
    "## HypothesisTests.jl\n",
    "\n",
    "https://juliastats.org/HypothesisTests.jl/stable/\n",
    "\n",
    "This package lets us do all sorts of hypothesis tests like t-test, ANOVA, Mann-Whitney, etc\n",
    "\n",
    "The documentation is amazing and can help you decide which test is best for your use case."
   ]
  },
  {
   "cell_type": "code",
   "execution_count": 59,
   "metadata": {},
   "outputs": [
    {
     "name": "stderr",
     "output_type": "stream",
     "text": [
      "\u001b[32m\u001b[1m   Resolving\u001b[22m\u001b[39m package versions...\n",
      "\u001b[32m\u001b[1m  No Changes\u001b[22m\u001b[39m to `~/.julia/environments/v1.10/Project.toml`\n",
      "\u001b[32m\u001b[1m  No Changes\u001b[22m\u001b[39m to `~/.julia/environments/v1.10/Manifest.toml`\n"
     ]
    }
   ],
   "source": [
    "Pkg.add(\"HypothesisTests\")\n",
    "using HypothesisTests"
   ]
  },
  {
   "cell_type": "code",
   "execution_count": 61,
   "metadata": {},
   "outputs": [
    {
     "name": "stdout",
     "output_type": "stream",
     "text": [
      "Two sample t-test (equal variance)\n",
      "----------------------------------\n",
      "Population details:\n",
      "    parameter of interest:   Mean difference\n",
      "    value under h_0:         0\n",
      "    point estimate:          -2.12028\n",
      "    95% confidence interval: (-2.505, -1.736)\n",
      "\n",
      "Test summary:\n",
      "    outcome with 95% confidence: reject h_0\n",
      "    two-sided p-value:           <1e-17\n",
      "\n",
      "Details:\n",
      "    number of observations:   [50,50]\n",
      "    t-statistic:              -10.940732380297383\n",
      "    degrees of freedom:       98\n",
      "    empirical standard error: 0.19379692788875252\n",
      "\n",
      "1.1134372690323597e-18\n",
      "EqualVarianceTTest\n",
      "  n_x: Int64 50\n",
      "  n_y: Int64 50\n",
      "  xbar: Float64 -2.1202803241546317\n",
      "  df: Int64 98\n",
      "  stderr: Float64 0.19379692788875252\n",
      "  t: Float64 -10.940732380297383\n",
      "  μ0: Int64 0\n"
     ]
    }
   ],
   "source": [
    "# The example below is for a two sample t-test. You can obtain the p-value using the 'pvalue' function\n",
    "\n",
    "x = randn(50)\n",
    "y = randn(50) .+ 2\n",
    "test = EqualVarianceTTest(x, y)\n",
    "println(test)\n",
    "println(pvalue(test))\n",
    "dump(test)"
   ]
  },
  {
   "cell_type": "markdown",
   "metadata": {},
   "source": [
    "### EXERCISE 2\n",
    "\n",
    "Identify for which subjects the mean of the data from `experiment1` and `experiment2` is statistically significantly different (assume unequal variance)."
   ]
  },
  {
   "cell_type": "code",
   "execution_count": null,
   "metadata": {},
   "outputs": [],
   "source": [
    "df = CSV.read(\"data/data_.csv\", DataFrame)\n",
    "\n",
    "##### TODO: CODE BELOW\n",
    "\n",
    "##### TODO: CODE ABOVE"
   ]
  },
  {
   "cell_type": "markdown",
   "metadata": {},
   "source": [
    "# INTERACTING WITH OTHER LANGUAGES\n",
    "\n",
    "## PythonCall.jl\n",
    "\n",
    "https://juliapy.github.io/PythonCall.jl/stable/\n",
    "\n",
    "CondaPkg.jl is used to install python packages (https://github.com/JuliaPy/CondaPkg.jl)"
   ]
  },
  {
   "cell_type": "code",
   "execution_count": 66,
   "metadata": {},
   "outputs": [
    {
     "name": "stderr",
     "output_type": "stream",
     "text": [
      "\u001b[32m\u001b[1m   Resolving\u001b[22m\u001b[39m package versions...\n",
      "\u001b[32m\u001b[1m    Updating\u001b[22m\u001b[39m `~/.julia/environments/v1.10/Project.toml`\n",
      "  \u001b[90m[992eb4ea] \u001b[39m\u001b[92m+ CondaPkg v0.2.22\u001b[39m\n",
      "\u001b[32m\u001b[1m  No Changes\u001b[22m\u001b[39m to `~/.julia/environments/v1.10/Manifest.toml`\n"
     ]
    }
   ],
   "source": [
    "Pkg.add([\"PythonCall\", \"CondaPkg\"])\n",
    "using PythonCall, CondaPkg"
   ]
  },
  {
   "cell_type": "code",
   "execution_count": 68,
   "metadata": {},
   "outputs": [
    {
     "name": "stderr",
     "output_type": "stream",
     "text": [
      "\u001b[32m\u001b[1m    CondaPkg \u001b[22m\u001b[39m\u001b[0mFound dependencies: /Users/jeroen/.julia/environments/v1.10/CondaPkg.toml\n",
      "\u001b[32m\u001b[1m    CondaPkg \u001b[22m\u001b[39m\u001b[0mFound dependencies: /Users/jeroen/.julia/packages/PythonCall/S5MOg/CondaPkg.toml\n",
      "\u001b[32m\u001b[1m    CondaPkg \u001b[22m\u001b[39m\u001b[0mDependencies already up to date\n"
     ]
    },
    {
     "data": {
      "text/plain": [
       "Python: None"
      ]
     },
     "metadata": {},
     "output_type": "display_data"
    }
   ],
   "source": [
    "# You can use 'pyimport' to import python packages/your own Python functions\n",
    "\n",
    "CondaPkg.add(\"matplotlib\")\n",
    "\n",
    "plt = pyimport(\"matplotlib.pyplot\")\n",
    "x = range(0;stop=2*pi,length=1000); y = sin.(3*x + 4*cos.(2*x));\n",
    "plt.plot(x, y, color=\"red\", linewidth=2.0, linestyle=\"--\")\n",
    "plt.show()"
   ]
  },
  {
   "cell_type": "code",
   "execution_count": 81,
   "metadata": {},
   "outputs": [],
   "source": [
    "# You can run python code directly in Julia using 'pyexec'\n",
    "# PRINT DOES NOT SHOW OUTPUT IN JUPYTER NOTEBOOK\n",
    "\n",
    "fib(x) = pyexec(\"\"\"\n",
    "def fib(n):\n",
    "    a, b = 0, 1\n",
    "    while a < n:\n",
    "        print(a, end=' ')\n",
    "        a, b = b, a+b\n",
    "    print()\n",
    "fib(y)\n",
    "\"\"\", Main, (y=x,))\n",
    "\n",
    "fib(10)"
   ]
  },
  {
   "cell_type": "markdown",
   "metadata": {},
   "source": [
    "## RCall.jl\n",
    "\n",
    "https://juliainterop.github.io/RCall.jl/stable/"
   ]
  },
  {
   "cell_type": "code",
   "execution_count": 82,
   "metadata": {},
   "outputs": [
    {
     "name": "stderr",
     "output_type": "stream",
     "text": [
      "\u001b[32m\u001b[1m   Resolving\u001b[22m\u001b[39m package versions...\n",
      "\u001b[32m\u001b[1m  No Changes\u001b[22m\u001b[39m to `~/.julia/environments/v1.10/Project.toml`\n",
      "\u001b[32m\u001b[1m  No Changes\u001b[22m\u001b[39m to `~/.julia/environments/v1.10/Manifest.toml`\n",
      "\u001b[32m\u001b[1m    Building\u001b[22m\u001b[39m Conda → `~/.julia/scratchspaces/44cfe95a-1eb2-52ea-b672-e2afdf69b78f/51cab8e982c5b598eea9c8ceaced4b58d9dd37c9/build.log`\n",
      "\u001b[32m\u001b[1m    Building\u001b[22m\u001b[39m RCall → `~/.julia/scratchspaces/44cfe95a-1eb2-52ea-b672-e2afdf69b78f/846b2aab2d312fda5e7b099fc217c661e8fae27e/build.log`\n"
     ]
    }
   ],
   "source": [
    "Pkg.add(\"RCall\")\n",
    "Pkg.build(\"RCall\")\n",
    "using RCall"
   ]
  },
  {
   "cell_type": "code",
   "execution_count": 83,
   "metadata": {},
   "outputs": [
    {
     "data": {
      "text/plain": [
       "RObject{IntSxp}\n",
       "[1] 1 2 3\n"
      ]
     },
     "metadata": {},
     "output_type": "display_data"
    }
   ],
   "source": [
    "# Place R before the string of R code to run it\n",
    "\n",
    "b = [1, 2, 3];\n",
    "R\"a <- $b\""
   ]
  },
  {
   "cell_type": "markdown",
   "metadata": {},
   "source": [
    "## MATLAB.jl\n",
    "\n",
    "https://github.com/JuliaInterop/MATLAB.jl"
   ]
  },
  {
   "cell_type": "code",
   "execution_count": null,
   "metadata": {},
   "outputs": [],
   "source": [
    "# # DOES NOT WORK ON APPLE SILICON (M1-3 chips)\n",
    "# Pkg.add(\"MATLAB\")\n",
    "# Pkg.build(\"MATLAB\")\n",
    "# using MATLAB\n",
    "# # You can use 'mxcall' to call existing/custom MATLAB functions\n",
    "# # Otherwise, you can use mat in front of a string of MATLAB code\n",
    "# mat\"a=[0 1; 1 0]\""
   ]
  }
 ],
 "metadata": {
  "kernelspec": {
   "display_name": "Julia 1.10.3",
   "language": "julia",
   "name": "julia-1.10"
  },
  "language_info": {
   "file_extension": ".jl",
   "mimetype": "application/julia",
   "name": "julia",
   "version": "1.10.3"
  }
 },
 "nbformat": 4,
 "nbformat_minor": 2
}
