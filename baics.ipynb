{
 "cells": [
  {
   "cell_type": "markdown",
   "metadata": {},
   "source": [
    "## Welcome to the Julia basics tutorial!\n",
    "\n",
    "##### Write comments just as in python with the '#' symbol\n",
    "\n",
    "##### Press [SHIFT] + [ENTER] to execute a cell"
   ]
  },
  {
   "cell_type": "code",
   "execution_count": 1,
   "metadata": {},
   "outputs": [
    {
     "name": "stdout",
     "output_type": "stream",
     "text": [
      "Hello world"
     ]
    }
   ],
   "source": [
    "print(\"Hello world\") # example of a comment"
   ]
  },
  {
   "cell_type": "markdown",
   "metadata": {},
   "source": [
    "Packages are central to any piece of Julia code (just as any language).\n",
    "They allow us to use other people's work, specializing what we want our code to do.\n",
    "Packages can either be from the standard library which comes with your Julia installation,\n",
    "or they are installed from the internet.\n",
    "To load a package, run the following line:"
   ]
  },
  {
   "cell_type": "code",
   "execution_count": 2,
   "metadata": {},
   "outputs": [],
   "source": [
    "using LinearAlgebra, Pkg"
   ]
  },
  {
   "cell_type": "markdown",
   "metadata": {},
   "source": [
    "These are two standard library packages, so you don't need to do any installations.\n",
    "For the next package, we will need to download it from the internet."
   ]
  },
  {
   "cell_type": "code",
   "execution_count": 3,
   "metadata": {},
   "outputs": [
    {
     "name": "stderr",
     "output_type": "stream",
     "text": [
      "\u001b[32m\u001b[1m   Resolving\u001b[22m\u001b[39m package versions...\n",
      "\u001b[32m\u001b[1m  No Changes\u001b[22m\u001b[39m to `~/.julia/environments/v1.10/Project.toml`\n",
      "\u001b[32m\u001b[1m  No Changes\u001b[22m\u001b[39m to `~/.julia/environments/v1.10/Manifest.toml`\n"
     ]
    }
   ],
   "source": [
    "Pkg.add(\"BenchmarkTools\")"
   ]
  },
  {
   "cell_type": "code",
   "execution_count": 23,
   "metadata": {},
   "outputs": [
    {
     "name": "stdout",
     "output_type": "stream",
     "text": [
      "1two[3]"
     ]
    }
   ],
   "source": [
    "# As we saw earlier, Julia is dynamically typed, which means we don't \n",
    "# have to specify a type for the variables we use.\n",
    "\n",
    "a = 1\n",
    "b = \"two\"\n",
    "c = [3]\n",
    "print(a, b, c)"
   ]
  },
  {
   "cell_type": "markdown",
   "metadata": {},
   "source": [
    "This is purely aesthetic, but you can use any unicode character from <a href=\"https://docs.julialang.org/en/v1/manual/unicode-input/\">https://docs.julialang.org/en/v1/manual/unicode-input/</a>.\n",
    "To use these, type the common name such as 'alpha' after a backslash, and press [TAB] (`\\alpha` + [TAB])"
   ]
  },
  {
   "cell_type": "code",
   "execution_count": null,
   "metadata": {},
   "outputs": [],
   "source": [
    "α = \"\\alpha\"\n",
    "😎 = \"\\:sunglasses:\"\n",
    "ℵ = \"\\aleph\""
   ]
  },
  {
   "cell_type": "code",
   "execution_count": null,
   "metadata": {},
   "outputs": [],
   "source": [
    "# You can also use this technique to do sub/super scripts. \n",
    "# To do this, type `\\_1` or `\\^2`. Note: you can't sub/super script anything\n",
    "\n",
    "σ² = \"\\sigma [TAB] \\^2 [TAB]\"\n",
    "Xₜ = \"X [TAB] \\_t [TAB]\"\n",
    "αᵅ = \"\\alpha [TAB] \\^alpha [TAB]\""
   ]
  },
  {
   "cell_type": "markdown",
   "metadata": {},
   "source": [
    "## Types\n",
    "While you don't have to worry/care about types if you wish, it still help in understanding, potentially speeding up, and safe-guarding your code. You can use the function `typeof` to check the type of any variable. (```println``` below makes sure each is printed on a separate line)"
   ]
  },
  {
   "cell_type": "code",
   "execution_count": 10,
   "metadata": {},
   "outputs": [
    {
     "name": "stdout",
     "output_type": "stream",
     "text": [
      "Int64\n",
      "String\n",
      "Vector{Int64}\n"
     ]
    }
   ],
   "source": [
    "println(typeof(a))\n",
    "println(typeof(b))\n",
    "println(typeof(c))"
   ]
  },
  {
   "cell_type": "code",
   "execution_count": 24,
   "metadata": {},
   "outputs": [
    {
     "name": "stdout",
     "output_type": "stream",
     "text": [
      "true\n",
      "true\n"
     ]
    }
   ],
   "source": [
    "# To check whether a variable is of a given type, you can use `isa`\n",
    "\n",
    "println(a isa Int)\n",
    "println(a isa Int64)"
   ]
  },
  {
   "cell_type": "markdown",
   "metadata": {},
   "source": [
    "Wait, what just happened? `a` is both an `Int` and an `Int64`? What does that mean?\n",
    "\n",
    "In Julia, there are two categories of types. Abstract types and Concrete types.\n",
    "Concrete types are what you get from `typeof`, and they are the most specific description of your variable.\n",
    "Abstract types are more general, and can be used to check broader categories.\n",
    "\n",
    "For example, whether your variable is a `Float64` or an `Int64`, they are both numbers.\n",
    "The type `Number` is an Abstract type that encompasses all numbers, for example:"
   ]
  },
  {
   "cell_type": "code",
   "execution_count": 15,
   "metadata": {},
   "outputs": [
    {
     "name": "stdout",
     "output_type": "stream",
     "text": [
      "true\n",
      "true\n",
      "true\n"
     ]
    }
   ],
   "source": [
    "println(1 isa Number)\n",
    "println(-2.5 isa Number)\n",
    "println(√π isa Number)"
   ]
  },
  {
   "cell_type": "markdown",
   "metadata": {},
   "source": [
    "The most common primitive (most basic) types are:\n",
    "- `Bool` (boolean, either true or false)\n",
    "- `Int64` (64 bit integer, most numbers without decimal places are `Int64`)\n",
    "- `Float64` (64 bit floating point number, most numbers with decimal places are `Float64`)\n",
    "- `Char` (character, strings are made of these)\n",
    "- `Symbol` (usually used for keyword arguments, will expand on later)"
   ]
  },
  {
   "cell_type": "markdown",
   "metadata": {},
   "source": [
    "## BASIC OPERATORS \n",
    "(https://www.geeksforgeeks.org/operators-in-julia/)"
   ]
  },
  {
   "cell_type": "code",
   "execution_count": 25,
   "metadata": {},
   "outputs": [
    {
     "name": "stdout",
     "output_type": "stream",
     "text": [
      "4\n",
      "1\n",
      "9\n",
      "4.0\n",
      "3\n",
      "0.3\n",
      "8\n",
      "1\n"
     ]
    }
   ],
   "source": [
    "# Here are the most common operators in Julia:\n",
    "\n",
    "println(2 + 2)\n",
    "println(4 - 3)\n",
    "println(3 * 3)\n",
    "println(8 / 2) #(returns float)\n",
    "println(10 ÷ 3) #('\\div' is integer division, it divides and ignores the decimal points)\n",
    "println(10 \\ 3) #(inverse division, only really useful when doing linear algebra)\n",
    "println(2 ^ 3)\n",
    "println(10 % 3) #(modulo operator, gives remainder after integer division)"
   ]
  },
  {
   "cell_type": "code",
   "execution_count": 26,
   "metadata": {},
   "outputs": [
    {
     "name": "stdout",
     "output_type": "stream",
     "text": [
      "3\n",
      "30\n"
     ]
    }
   ],
   "source": [
    "# You can also change the value of a variable in place:\n",
    "\n",
    "a = 2\n",
    "a += 1 #(same as a = a + 1)\n",
    "println(a)\n",
    "b = 6\n",
    "b *= 5 #(same as b = b * 5)\n",
    "println(b)"
   ]
  },
  {
   "cell_type": "code",
   "execution_count": 27,
   "metadata": {},
   "outputs": [
    {
     "name": "stdout",
     "output_type": "stream",
     "text": [
      "true\n",
      "true\n",
      "true\n",
      "false\n",
      "true\n",
      "true\n",
      "false\n"
     ]
    }
   ],
   "source": [
    "# Here are the most common logical operators:\n",
    "\n",
    "println(3 > 2)\n",
    "println(2 <= 4)\n",
    "println(4 == 4) #(checks if two values are the same)\n",
    "println(4 != 4) #(checks if two values are different)\n",
    "println((3 > 2) && (2 < 4)) #(logical and)\n",
    "println((3 > 2) || (4 != 4)) #(logical or)\n",
    "println(!(2 <= 4)) #(logical not)"
   ]
  },
  {
   "cell_type": "markdown",
   "metadata": {},
   "source": [
    "## STRINGS"
   ]
  },
  {
   "cell_type": "code",
   "execution_count": 20,
   "metadata": {},
   "outputs": [
    {
     "data": {
      "text/plain": [
       "\"This is a string\""
      ]
     },
     "metadata": {},
     "output_type": "display_data"
    }
   ],
   "source": [
    "# Strings are useful if we want to print/display some text.\n",
    "\n",
    "text = \"This is a string\""
   ]
  },
  {
   "cell_type": "code",
   "execution_count": 21,
   "metadata": {},
   "outputs": [
    {
     "data": {
      "text/plain": [
       "\"The value of a is: 3\""
      ]
     },
     "metadata": {},
     "output_type": "display_data"
    }
   ],
   "source": [
    "# If you want to incorporate a variable into your string, do the following:\n",
    "\n",
    "text = \"The value of a is: $(a)\""
   ]
  },
  {
   "cell_type": "code",
   "execution_count": 28,
   "metadata": {},
   "outputs": [
    {
     "data": {
      "text/plain": [
       "\"A bit of text.And some more text\""
      ]
     },
     "metadata": {},
     "output_type": "display_data"
    }
   ],
   "source": [
    "# Adding two strings together can be done using the '*' operator\n",
    "\n",
    "text = \"A bit of text.\" * \" And some more text\""
   ]
  },
  {
   "cell_type": "code",
   "execution_count": 29,
   "metadata": {},
   "outputs": [
    {
     "name": "stdout",
     "output_type": "stream",
     "text": [
      "Once upon a\ttime...\n",
      "Oops\n"
     ]
    }
   ],
   "source": [
    "# Use \\t to insert a tab, and \\n to insert a line break\n",
    "\n",
    "text = \"Once upon a\\ttime...\\nOops\"\n",
    "println(text)"
   ]
  },
  {
   "cell_type": "code",
   "execution_count": 30,
   "metadata": {},
   "outputs": [
    {
     "data": {
      "text/plain": [
       "true"
      ]
     },
     "metadata": {},
     "output_type": "display_data"
    }
   ],
   "source": [
    "# To go directly from numbers to strings:\n",
    "\n",
    "text = string(2)\n",
    "text isa String"
   ]
  },
  {
   "cell_type": "code",
   "execution_count": 31,
   "metadata": {},
   "outputs": [
    {
     "data": {
      "text/plain": [
       "true"
      ]
     },
     "metadata": {},
     "output_type": "display_data"
    }
   ],
   "source": [
    "# You can also go from text to numbers\n",
    "\n",
    "numbers = parse(Int64, \"10\")\n",
    "numbers isa Number"
   ]
  },
  {
   "cell_type": "code",
   "execution_count": 32,
   "metadata": {},
   "outputs": [
    {
     "data": {
      "text/plain": [
       "4-element Vector{SubString{String}}:\n",
       " \"This\"\n",
       " \"is\"\n",
       " \"a\"\n",
       " \"sentence.\""
      ]
     },
     "metadata": {},
     "output_type": "display_data"
    }
   ],
   "source": [
    "# You can split strings into arrays\n",
    "\n",
    "split(\"This is a sentence.\", \" \")"
   ]
  },
  {
   "cell_type": "code",
   "execution_count": 33,
   "metadata": {},
   "outputs": [
    {
     "data": {
      "text/plain": [
       "\"This-is-also-a-sentence.\""
      ]
     },
     "metadata": {},
     "output_type": "display_data"
    }
   ],
   "source": [
    "# Or join an array into a string\n",
    "\n",
    "join([\"This\", \"is\", \"also\", \"a\", \"sentence.\"], \"-\")"
   ]
  },
  {
   "cell_type": "markdown",
   "metadata": {},
   "source": [
    "## IF-ELSE\n",
    "\n",
    "One of the most common tools in programming are the if-else statements.\n",
    "In Julia, and `if` statement is always followed by an `end` (like in MATLAB)"
   ]
  },
  {
   "cell_type": "code",
   "execution_count": 35,
   "metadata": {},
   "outputs": [
    {
     "name": "stdout",
     "output_type": "stream",
     "text": [
      "not surprising\n",
      "a is odd\n"
     ]
    }
   ],
   "source": [
    "if 10 > 4\n",
    "    println(\"not surprising\")\n",
    "end \n",
    "\n",
    "a = 5\n",
    "if a % 2 == 0\n",
    "    println(\"a is even\")\n",
    "elseif a % 2 == 1\n",
    "    println(\"a is odd\")\n",
    "else\n",
    "    println(\"something went wrong...\")\n",
    "end"
   ]
  },
  {
   "cell_type": "markdown",
   "metadata": {},
   "source": [
    "A very useful tool to compact things is the ternary operator which uses the question mark `?`.\n",
    "The way this operator works is as follows: \n",
    "- You first provide a statement which could be true or false.\n",
    "- Then you write the questoin mark, and then you write what follows if the statement is true.\n",
    "- After this, you write a colon `:`, and then comes what has to happen is the statement is false."
   ]
  },
  {
   "cell_type": "code",
   "execution_count": 36,
   "metadata": {},
   "outputs": [
    {
     "name": "stdout",
     "output_type": "stream",
     "text": [
      "a is odd"
     ]
    }
   ],
   "source": [
    "a = 5\n",
    "a % 2 == 0 ? print(\"a is even\") : print(\"a is odd\")"
   ]
  },
  {
   "cell_type": "code",
   "execution_count": 37,
   "metadata": {},
   "outputs": [
    {
     "name": "stdout",
     "output_type": "stream",
     "text": [
      "a is odd"
     ]
    }
   ],
   "source": [
    "# You can also chain these together\n",
    "\n",
    "a = 5\n",
    "a % 2 == 0 ? print(\"a is even\") : a % 2 == 1 ? print(\"a is odd\") : print(\"something went wrong...\")"
   ]
  },
  {
   "cell_type": "markdown",
   "metadata": {},
   "source": [
    "## LOOPS\n",
    "\n",
    "Another very common sight in programming are loops. These let you execute bits of code multiple times.\n",
    "\n",
    "I will cover for loops, but not while loops, since I don't find them very useful (but they exist in Julia).\n",
    "\n",
    "If we want to iterate over 10 numbers, we first create the range of numbers as in MATLAB using `1:10`"
   ]
  },
  {
   "cell_type": "code",
   "execution_count": 38,
   "metadata": {},
   "outputs": [
    {
     "name": "stdout",
     "output_type": "stream",
     "text": [
      "12345678910"
     ]
    }
   ],
   "source": [
    "for i in 1:10\n",
    "    print(i)\n",
    "end"
   ]
  },
  {
   "cell_type": "code",
   "execution_count": 41,
   "metadata": {},
   "outputs": [
    {
     "name": "stdout",
     "output_type": "stream",
     "text": [
      "13579"
     ]
    }
   ],
   "source": [
    "# If we want to loop over every other number, we can use the following notation\n",
    "\n",
    "for i in 1:2:10\n",
    "    print(i)\n",
    "end"
   ]
  },
  {
   "cell_type": "code",
   "execution_count": 42,
   "metadata": {},
   "outputs": [
    {
     "name": "stdout",
     "output_type": "stream",
     "text": [
      "13579"
     ]
    }
   ],
   "source": [
    "# We can also achieve this by using the 'continue' functionn\n",
    "\n",
    "for i in 1:10\n",
    "    if i % 2 == 0 # if i is even, skip and continue to next iteration\n",
    "        continue\n",
    "    end\n",
    "    print(i)\n",
    "end"
   ]
  },
  {
   "cell_type": "code",
   "execution_count": 46,
   "metadata": {},
   "outputs": [
    {
     "name": "stdout",
     "output_type": "stream",
     "text": [
      "1 2 3 4 5 6 7 8 9 10 "
     ]
    }
   ],
   "source": [
    "# If you want to break the loop early, because you achieve what you wanted, you can use the break function\n",
    "\n",
    "for i in 1:100000\n",
    "    if i ^ 2 > 100 # stop the loop after the square of i is bigger than 100\n",
    "        break\n",
    "    end\n",
    "    print(\"$(i) \")\n",
    "end"
   ]
  },
  {
   "cell_type": "code",
   "execution_count": 49,
   "metadata": {},
   "outputs": [
    {
     "data": {
      "text/plain": [
       "10-element Vector{Int64}:\n",
       "  1\n",
       "  2\n",
       "  3\n",
       "  4\n",
       "  5\n",
       "  6\n",
       "  7\n",
       "  8\n",
       "  9\n",
       " 10"
      ]
     },
     "metadata": {},
     "output_type": "display_data"
    }
   ],
   "source": [
    "# Similarly to the ternary operator '?', we can do loops in a single line (same as Python's list comprehension)\n",
    "# Note that here, the results will go into an array (which we will cover next)\n",
    "\n",
    "a = [i for i in 1:10]\n",
    "println(a)"
   ]
  },
  {
   "cell_type": "markdown",
   "metadata": {},
   "source": [
    "## BASIC DATA STRUCTURES\n",
    "\n",
    "We have previously discussed primitive types, but we can do more interesting stuff with them.\n",
    "For example, once you have a number, you may be interested in forming a collection of numbers.\n",
    "\n",
    "In Julia, there is a number of ways to store these numbers, the simplest of them being the array.\n",
    "\n",
    "Like in MATLAB (and unlike Python), 1D arrays are vectors and 2D arrays are matrices.\n",
    "Unline MATLAB (and like Python), it is very easy to add onto these arrays."
   ]
  },
  {
   "cell_type": "code",
   "execution_count": 50,
   "metadata": {},
   "outputs": [
    {
     "data": {
      "text/plain": [
       "Vector{Int64}\u001b[90m (alias for \u001b[39m\u001b[90mArray{Int64, 1}\u001b[39m\u001b[90m)\u001b[39m"
      ]
     },
     "metadata": {},
     "output_type": "display_data"
    }
   ],
   "source": [
    "a = [5, 4, 3, 2, 1];\n",
    "typeof(a)"
   ]
  },
  {
   "cell_type": "code",
   "execution_count": 51,
   "metadata": {},
   "outputs": [
    {
     "data": {
      "text/plain": [
       "5"
      ]
     },
     "metadata": {},
     "output_type": "display_data"
    }
   ],
   "source": [
    "# We can find the length of the array with 'length'\n",
    "\n",
    "length(a)"
   ]
  },
  {
   "cell_type": "code",
   "execution_count": 52,
   "metadata": {},
   "outputs": [
    {
     "name": "stdout",
     "output_type": "stream",
     "text": [
      "15\n",
      "120\n"
     ]
    }
   ],
   "source": [
    "# The sum and product of elements in an array can be obtained with 'sum' and 'prod'\n",
    "\n",
    "println(sum(a))\n",
    "println(prod(a))"
   ]
  },
  {
   "cell_type": "code",
   "execution_count": 53,
   "metadata": {},
   "outputs": [
    {
     "data": {
      "text/plain": [
       "false"
      ]
     },
     "metadata": {},
     "output_type": "display_data"
    }
   ],
   "source": [
    "# To check whether the array is empty, use 'isempty'\n",
    "\n",
    "isempty(a)"
   ]
  },
  {
   "cell_type": "code",
   "execution_count": 55,
   "metadata": {},
   "outputs": [
    {
     "name": "stdout",
     "output_type": "stream",
     "text": [
      "54321"
     ]
    }
   ],
   "source": [
    "# Like with the range 1:10, we can loop over the contents of an array using 'in' (or ∈ = '\\in')\n",
    "\n",
    "for element in a\n",
    "    print(element)\n",
    "end"
   ]
  },
  {
   "cell_type": "code",
   "execution_count": 57,
   "metadata": {},
   "outputs": [
    {
     "name": "stdout",
     "output_type": "stream",
     "text": [
      "true\n",
      "false\n"
     ]
    }
   ],
   "source": [
    "# You can use 'in' (or '∉' '\\notin') to check if an array contains (or does not contain) an item\n",
    "\n",
    "println(2 ∈ a)\n",
    "println(3 ∉ a)"
   ]
  },
  {
   "cell_type": "code",
   "execution_count": 60,
   "metadata": {},
   "outputs": [
    {
     "name": "stdout",
     "output_type": "stream",
     "text": [
      "1 - 5\n",
      "2 - 4\n",
      "3 - 3\n",
      "4 - 2\n",
      "5 - 1\n"
     ]
    }
   ],
   "source": [
    "# You can use the 'enumerate' function to keep track of the index as well as the value\n",
    "\n",
    "for (index, element) in enumerate(a)\n",
    "    println(\"$(index) - $(element)\")\n",
    "end"
   ]
  },
  {
   "cell_type": "code",
   "execution_count": 68,
   "metadata": {},
   "outputs": [
    {
     "name": "stdout",
     "output_type": "stream",
     "text": [
      "[5, 4, 3, 2, 1, 0]\n"
     ]
    }
   ],
   "source": [
    "# To add onto an array, use the 'push!' function\n",
    "# This function works in place, and so no assignment using '=' is needed.\n",
    "# It adds the number to the end of the array. \n",
    "\n",
    "push!(a, 0)\n",
    "println(a)"
   ]
  },
  {
   "cell_type": "code",
   "execution_count": 64,
   "metadata": {},
   "outputs": [
    {
     "name": "stdout",
     "output_type": "stream",
     "text": [
      "0\n",
      "[5, 4, 3, 2, 1]\n"
     ]
    }
   ],
   "source": [
    "# To remove the element at the end of the array, use 'pop!'\n",
    "\n",
    "popped_number = pop!(a)\n",
    "println(popped_number)\n",
    "println(a)"
   ]
  },
  {
   "cell_type": "code",
   "execution_count": 67,
   "metadata": {},
   "outputs": [
    {
     "name": "stdout",
     "output_type": "stream",
     "text": [
      "[6, 5, 4, 3, 2, 1]\n"
     ]
    },
    {
     "data": {
      "text/plain": [
       "6"
      ]
     },
     "metadata": {},
     "output_type": "display_data"
    }
   ],
   "source": [
    "# If you want to add/remove numbers to the front of the array, use 'pushfirst!' and 'popfirst!'\n",
    "\n",
    "pushfirst!(a, 6)\n",
    "println(a)\n",
    "popped_number = popfirst!(a)"
   ]
  },
  {
   "cell_type": "code",
   "execution_count": 69,
   "metadata": {},
   "outputs": [
    {
     "data": {
      "text/plain": [
       "5"
      ]
     },
     "metadata": {},
     "output_type": "display_data"
    }
   ],
   "source": [
    "# Like MATLAB (and unline Python), Julia uses 1 indexing. \n",
    "# (Mathematical consistency, Readability and clarity, Reduced potential for off-by-one errors)\n",
    "# This means that to get the first element of an array you do:\n",
    "\n",
    "a[1]"
   ]
  },
  {
   "cell_type": "code",
   "execution_count": 71,
   "metadata": {},
   "outputs": [
    {
     "name": "stdout",
     "output_type": "stream",
     "text": [
      "0\n",
      "1\n"
     ]
    }
   ],
   "source": [
    "# And to get the last index, you do:\n",
    "\n",
    "println(a[end])\n",
    "println(a[end-1]) #(second to last index)"
   ]
  },
  {
   "cell_type": "code",
   "execution_count": 73,
   "metadata": {},
   "outputs": [
    {
     "name": "stdout",
     "output_type": "stream",
     "text": [
      "[5, 4, 3, 2, 1, 0]\n"
     ]
    }
   ],
   "source": [
    "# To get the array in reverse order, use 'reverse':\n",
    "\n",
    "reverse(a)\n",
    "println(a)"
   ]
  },
  {
   "cell_type": "code",
   "execution_count": 74,
   "metadata": {},
   "outputs": [
    {
     "name": "stdout",
     "output_type": "stream",
     "text": [
      "543210\n"
     ]
    }
   ],
   "source": [
    "# EXTRA DETAIL\n",
    "# This is not used very often, but to 'unpack' your array, you can use '...'\n",
    "\n",
    "println(a...)"
   ]
  },
  {
   "cell_type": "code",
   "execution_count": 76,
   "metadata": {},
   "outputs": [
    {
     "name": "stdout",
     "output_type": "stream",
     "text": [
      "[0.0, 0.0, 0.0, 0.0, 0.0]\n",
      "[1.0, 1.0, 1.0, 1.0, 1.0]\n"
     ]
    }
   ],
   "source": [
    "# If you want to initialize a Vector, you can use the 'zeros' or 'ones' functions\n",
    "\n",
    "println(zeros(5))\n",
    "println(ones(5))"
   ]
  },
  {
   "cell_type": "code",
   "execution_count": 81,
   "metadata": {},
   "outputs": [
    {
     "data": {
      "text/plain": [
       "2×2 Matrix{Float64}:\n",
       " 0.0  0.0\n",
       " 0.0  0.0"
      ]
     },
     "metadata": {},
     "output_type": "display_data"
    },
    {
     "data": {
      "text/plain": [
       "5×2 Matrix{Float64}:\n",
       " 1.0  1.0\n",
       " 1.0  1.0\n",
       " 1.0  1.0\n",
       " 1.0  1.0\n",
       " 1.0  1.0"
      ]
     },
     "metadata": {},
     "output_type": "display_data"
    },
    {
     "name": "stdout",
     "output_type": "stream",
     "text": [
      "[1.0 1.0; 1.0 1.0; 1.0 1.0; 1.0 1.0; 1.0 1.0]\n"
     ]
    }
   ],
   "source": [
    "# For higher order arrays, add more arguments\n",
    "# (display shows the variable as it is, it's an alternative to println)\n",
    "\n",
    "display(zeros(2, 2))\n",
    "display(ones(5, 2))\n",
    "println(ones(5, 2))"
   ]
  },
  {
   "cell_type": "code",
   "execution_count": 82,
   "metadata": {},
   "outputs": [
    {
     "data": {
      "text/plain": [
       "(10, 3)"
      ]
     },
     "metadata": {},
     "output_type": "display_data"
    }
   ],
   "source": [
    "# For higher dimensional arrays, use 'size' instead of 'length':\n",
    "\n",
    "a = zeros(10, 3)\n",
    "size(a)"
   ]
  },
  {
   "cell_type": "code",
   "execution_count": 83,
   "metadata": {},
   "outputs": [
    {
     "data": {
      "text/plain": [
       "Any[]"
      ]
     },
     "metadata": {},
     "output_type": "display_data"
    }
   ],
   "source": [
    "# If you want to initialize a Vector as being empty, I recommend setting the type of the Vector as follows:\n",
    "\n",
    "a = Vector{Int64}() #(this specifies what goes into your vector)\n",
    "a = Int64[] #(this is an alternative way of doing it)\n",
    "a = Vector{Vector{Int64}}() #(this is a vector of vectors, not a matrix!)\n",
    "a = [] #(this is an empty vector with type 'Any' that goes in it, which means it can contain anything)"
   ]
  },
  {
   "cell_type": "code",
   "execution_count": 84,
   "metadata": {},
   "outputs": [
    {
     "data": {
      "text/plain": [
       "2×2 Matrix{Int64}:\n",
       " 1  2\n",
       " 3  4"
      ]
     },
     "metadata": {},
     "output_type": "display_data"
    }
   ],
   "source": [
    "# Use MATLAB notation to create matrices\n",
    "\n",
    "A = [1 2; 3 4]"
   ]
  },
  {
   "cell_type": "code",
   "execution_count": 85,
   "metadata": {},
   "outputs": [
    {
     "data": {
      "text/plain": [
       "4×4 Matrix{Int64}:\n",
       " 1  2  1  2\n",
       " 3  4  3  4\n",
       " 1  2  1  2\n",
       " 3  4  3  4"
      ]
     },
     "metadata": {},
     "output_type": "display_data"
    }
   ],
   "source": [
    "# You can use this to create block matrices too\n",
    "\n",
    "B = [A A; A A]"
   ]
  },
  {
   "cell_type": "code",
   "execution_count": 86,
   "metadata": {},
   "outputs": [
    {
     "data": {
      "text/plain": [
       "3×3 Matrix{Int64}:\n",
       " 1  1  1\n",
       " 2  2  2\n",
       " 3  3  3"
      ]
     },
     "metadata": {},
     "output_type": "display_data"
    }
   ],
   "source": [
    "# You can also do this with vectors\n",
    "\n",
    "a = [1, 2, 3]\n",
    "A = [a a a]"
   ]
  },
  {
   "cell_type": "code",
   "execution_count": 88,
   "metadata": {},
   "outputs": [
    {
     "data": {
      "text/plain": [
       "3×2 Matrix{Int64}:\n",
       " 1  1\n",
       " 2  2\n",
       " 3  3"
      ]
     },
     "metadata": {},
     "output_type": "display_data"
    },
    {
     "data": {
      "text/plain": [
       "6-element Vector{Int64}:\n",
       " 1\n",
       " 2\n",
       " 3\n",
       " 1\n",
       " 2\n",
       " 3"
      ]
     },
     "metadata": {},
     "output_type": "display_data"
    }
   ],
   "source": [
    "# The 'hcat' and 'vcat' operators do the same thing:\n",
    "\n",
    "display(hcat(a, a))\n",
    "display(vcat(a, a))"
   ]
  },
  {
   "cell_type": "markdown",
   "metadata": {},
   "source": [
    "Arrays are mutable, which means that the data inside of them can be changed.\n",
    "This is often useful, but leads to memory and speed inefficiencies.\n",
    "\n",
    "The other way to store a series of number are tuples.\n",
    "Tuples are immutable meaning their content cannot be changed."
   ]
  },
  {
   "cell_type": "code",
   "execution_count": 92,
   "metadata": {},
   "outputs": [
    {
     "name": "stdout",
     "output_type": "stream",
     "text": [
      "Tuple{Int64, Int64, Int64}\n",
      "3\n"
     ]
    }
   ],
   "source": [
    "a = (1, 2, 3)\n",
    "println(typeof(a))\n",
    "println(a[end])"
   ]
  },
  {
   "cell_type": "markdown",
   "metadata": {},
   "source": [
    "The third basic data structure is the dictionary. This is implemented as a hash map. \n",
    "\n",
    "Dictionaries are useful if you want to index your data structure arbitrarily.\n",
    "\n",
    "For example, to store the data for different subjects, you may want to use a dictionary since you can use the subject IDs to access the data."
   ]
  },
  {
   "cell_type": "code",
   "execution_count": 123,
   "metadata": {},
   "outputs": [
    {
     "data": {
      "text/plain": [
       "Dict{String, Vector{Int64}} with 3 entries:\n",
       "  \"F4JK3\" => [0, 4, 4, 5, 5]\n",
       "  \"2HD7E\" => [6, 4, 3, 8, 2]\n",
       "  \"1A3CD\" => [1, 4, 2, 4]"
      ]
     },
     "metadata": {},
     "output_type": "display_data"
    },
    {
     "name": "stdout",
     "output_type": "stream",
     "text": [
      "[1, 4, 2, 4]\n"
     ]
    }
   ],
   "source": [
    "# This is one way to add elements to the dictionary\n",
    "data = Dict{String, Vector{Int}}(\"1A3CD\" => [1, 4, 2, 4], \"2HD7E\" => [6, 4, 3, 8, 2])\n",
    "data[\"F4JK3\"] = [0, 4, 4, 5, 5] # This is another way\n",
    "display(data)\n",
    "println(data[\"1A3CD\"])"
   ]
  },
  {
   "cell_type": "code",
   "execution_count": 95,
   "metadata": {},
   "outputs": [
    {
     "name": "stdout",
     "output_type": "stream",
     "text": [
      "[\"F4JK3\", \"2HD7E\", \"1A3CD\"]\n",
      "[[0, 4, 4, 5, 5], [6, 4, 3, 8, 2], [1, 4, 2, 4]]\n"
     ]
    }
   ],
   "source": [
    "# You can use the functions 'keys' and 'values' to access the set of keys and values of the dictionary.\n",
    "\n",
    "println(keys(data))\n",
    "println(values(data))"
   ]
  },
  {
   "cell_type": "code",
   "execution_count": 97,
   "metadata": {},
   "outputs": [
    {
     "name": "stdout",
     "output_type": "stream",
     "text": [
      "554"
     ]
    }
   ],
   "source": [
    "# This means we can loop over the data like so:\n",
    "\n",
    "for subj in keys(data)\n",
    "    print(length(data[subj])) # print length of data from each subject\n",
    "end"
   ]
  },
  {
   "cell_type": "code",
   "execution_count": 100,
   "metadata": {},
   "outputs": [
    {
     "name": "stdout",
     "output_type": "stream",
     "text": [
      "Vector{String}\n",
      "Vector{Vector{Int64}}\n"
     ]
    }
   ],
   "source": [
    "# To convert these into arrays, we need to use the 'collect' function.\n",
    "\n",
    "k = collect(keys(data))\n",
    "v = collect(values(data))\n",
    "println(typeof(k))\n",
    "println(typeof(v))"
   ]
  },
  {
   "cell_type": "markdown",
   "metadata": {},
   "source": [
    "## FUNCTIONS\n",
    "\n",
    "Julia is a funcional programming language. What that means is that everything is done through functions.\n",
    "As we will see later, there are objects called `struct` that have some similarities to classes in python,\n",
    "but Julia is not an object oriented programming language.\n",
    "\n",
    "To define your own function, use the `function` keyword. Use `return` to indicate what the function should return when called"
   ]
  },
  {
   "cell_type": "code",
   "execution_count": 101,
   "metadata": {},
   "outputs": [
    {
     "data": {
      "text/plain": [
       "52"
      ]
     },
     "metadata": {},
     "output_type": "display_data"
    }
   ],
   "source": [
    "function sum_across_subjects(data)\n",
    "    result = 0\n",
    "    for subj in keys(data)\n",
    "        result += sum(data[subj])\n",
    "    end\n",
    "    return result\n",
    "end\n",
    "sum_across_subjects(data)"
   ]
  },
  {
   "cell_type": "code",
   "execution_count": 102,
   "metadata": {},
   "outputs": [
    {
     "data": {
      "text/plain": [
       "974"
      ]
     },
     "metadata": {},
     "output_type": "display_data"
    }
   ],
   "source": [
    "# You can add optional arguments like so\n",
    "\n",
    "function sum_across_subjects(data; exponent=1)\n",
    "    result = 0\n",
    "    for subj in keys(data)\n",
    "        result += sum(data[subj])^exponent\n",
    "    end\n",
    "    return result\n",
    "end\n",
    "sum_across_subjects(data; exponent=2)"
   ]
  },
  {
   "cell_type": "markdown",
   "metadata": {},
   "source": [
    "If you want to bullet-proof your code, assigning a type to the input and outputs of your function\n",
    "makes sure that it takes in and spits out things in the correct format. \n",
    "\n",
    "We can assign a type to the inputs using the double colon notation `::` followed by the type\n",
    "\n",
    "To assign a type to the output, use the double colon after the name of the function"
   ]
  },
  {
   "cell_type": "code",
   "execution_count": 104,
   "metadata": {},
   "outputs": [
    {
     "ename": "TypeError",
     "evalue": "TypeError: in keyword argument exponent, expected Int64, got a value of type String",
     "output_type": "error",
     "traceback": [
      "TypeError: in keyword argument exponent, expected Int64, got a value of type String\n",
      "\n",
      "Stacktrace:\n",
      " [1] top-level scope\n",
      "   @ ~/Documents/PhD projects/talks/Julia workshop/julia-workshop/baics.ipynb:8"
     ]
    }
   ],
   "source": [
    "function sum_across_subjects(data::Dict{String, Vector{Int}}; exponent::Int=1)::Int\n",
    "    result = 0\n",
    "    for subj in keys(data)\n",
    "        result += sum(data[subj])^exponent\n",
    "    end\n",
    "    return result\n",
    "end\n",
    "sum_across_subjects(data; exponent=\"s\") # incorrect inputs"
   ]
  },
  {
   "cell_type": "markdown",
   "metadata": {},
   "source": [
    "Commenting your code is always a good idea. For functions, there's an extra bit you can do to improve your code.\n",
    "\n",
    "docstrings: explanations about how your function works, can be implemented using triple quotations `\"\"\"`\n",
    "\n",
    "The format in Julia is the have the docstring right above your function, and as first line, have the name of the function with some inputs with four space before, followed by a one-line explanation of what the function does in present tense.\n"
   ]
  },
  {
   "cell_type": "code",
   "execution_count": 114,
   "metadata": {},
   "outputs": [
    {
     "data": {
      "text/plain": [
       "sum_across_subjects"
      ]
     },
     "metadata": {},
     "output_type": "display_data"
    }
   ],
   "source": [
    "\"\"\"\n",
    "    sum_across_subjects(data; exponent=1)\n",
    "\n",
    "Sum data for each subject and raise to exponent.\n",
    "\"\"\"\n",
    "function sum_across_subjects(data::Dict{String, Vector{Int}}; exponent::Int=1)::Int\n",
    "    result = 0\n",
    "    for subj in keys(data)\n",
    "        result += sum(data[subj])^exponent\n",
    "    end\n",
    "    return result\n",
    "end"
   ]
  },
  {
   "cell_type": "markdown",
   "metadata": {},
   "source": [
    "One neat feature of Julia is that you can broadcast your function over arrays. What that means is that we can have a function (e.g. `sum`) and apply it to ever element of an array.\n",
    "\n",
    "To do this, write a dot/period after the function and before the parentheses `sum.(array)`."
   ]
  },
  {
   "cell_type": "code",
   "execution_count": 116,
   "metadata": {},
   "outputs": [
    {
     "data": {
      "text/plain": [
       "52"
      ]
     },
     "metadata": {},
     "output_type": "display_data"
    }
   ],
   "source": [
    "# Lets collect all the values of our data dict, \n",
    "# and broadcast the sum operator over it.\n",
    "\n",
    "v = collect(values(data))\n",
    "a = sum.(v)\n",
    "sum(a) # this now returns the same as our sum_across_subjects function!"
   ]
  },
  {
   "cell_type": "code",
   "execution_count": 117,
   "metadata": {},
   "outputs": [
    {
     "ename": "MethodError",
     "evalue": "MethodError: no method matching *(::Vector{Int64}, ::Vector{Int64})\n\nClosest candidates are:\n  *(::Any, ::Any, !Matched::Any, !Matched::Any...)\n   @ Base operators.jl:587\n  *(!Matched::Adjoint{<:Number, <:AbstractVector}, ::AbstractVector{<:Number})\n   @ LinearAlgebra ~/.julia/juliaup/julia-1.10.3/share/julia/stdlib/v1.10/LinearAlgebra/src/adjtrans.jl:462\n  *(!Matched::Union{Adjoint{<:Any, <:StridedMatrix{T}}, Transpose{<:Any, <:StridedMatrix{T}}, StridedMatrix{T}}, ::StridedVector{S}) where {T<:Union{Float32, Float64, ComplexF64, ComplexF32}, S<:Real}\n   @ LinearAlgebra ~/.julia/juliaup/julia-1.10.3/share/julia/stdlib/v1.10/LinearAlgebra/src/matmul.jl:50\n  ...\n",
     "output_type": "error",
     "traceback": [
      "MethodError: no method matching *(::Vector{Int64}, ::Vector{Int64})\n",
      "\n",
      "Closest candidates are:\n",
      "  *(::Any, ::Any, !Matched::Any, !Matched::Any...)\n",
      "   @ Base operators.jl:587\n",
      "  *(!Matched::Adjoint{<:Number, <:AbstractVector}, ::AbstractVector{<:Number})\n",
      "   @ LinearAlgebra ~/.julia/juliaup/julia-1.10.3/share/julia/stdlib/v1.10/LinearAlgebra/src/adjtrans.jl:462\n",
      "  *(!Matched::Union{Adjoint{<:Any, <:StridedMatrix{T}}, Transpose{<:Any, <:StridedMatrix{T}}, StridedMatrix{T}}, ::StridedVector{S}) where {T<:Union{Float32, Float64, ComplexF64, ComplexF32}, S<:Real}\n",
      "   @ LinearAlgebra ~/.julia/juliaup/julia-1.10.3/share/julia/stdlib/v1.10/LinearAlgebra/src/matmul.jl:50\n",
      "  ...\n",
      "\n",
      "\n",
      "Stacktrace:\n",
      " [1] top-level scope\n",
      "   @ ~/Documents/PhD projects/talks/Julia workshop/julia-workshop/baics.ipynb:6"
     ]
    }
   ],
   "source": [
    "# The broadcast operator is also used to operate vectors element wise\n",
    "# This code returns an error because it does not know how to multiply two row vectors together\n",
    "\n",
    "a = [3, 2, 1]\n",
    "b = [4, 5, 6]\n",
    "a * b"
   ]
  },
  {
   "cell_type": "code",
   "execution_count": 119,
   "metadata": {},
   "outputs": [
    {
     "name": "stdout",
     "output_type": "stream",
     "text": [
      "[12, 10, 6]\n"
     ]
    }
   ],
   "source": [
    "# The line below broadcasts the multiply operator over each element of the vector.\n",
    "\n",
    "println(a .* b)"
   ]
  },
  {
   "cell_type": "markdown",
   "metadata": {},
   "source": [
    "Some functions in Julia have an exclamation mark in them (like `push!` and `pop!` that we used earlier).\n",
    "The exclamation mark is a convention in Julia to indicate that these functions work in place.\n",
    "What this means is that these functions don't return anything: they modify their arguments.\n"
   ]
  },
  {
   "cell_type": "code",
   "execution_count": 122,
   "metadata": {},
   "outputs": [
    {
     "data": {
      "text/plain": [
       "Dict{String, Vector{Int64}} with 3 entries:\n",
       "  \"F4JK3\" => [0, 65536, 65536, 390625, 390625]\n",
       "  \"2HD7E\" => [1679616, 65536, 6561, 16777216, 256]\n",
       "  \"1A3CD\" => [1, 65536, 256, 65536]"
      ]
     },
     "metadata": {},
     "output_type": "display_data"
    },
    {
     "data": {
      "text/plain": [
       "Dict{String, Vector{Int64}} with 3 entries:\n",
       "  \"F4JK3\" => [0, 4294967296, 4294967296, 152587890625, 152587890625]\n",
       "  \"2HD7E\" => [2821109907456, 4294967296, 43046721, 281474976710656, 65536]\n",
       "  \"1A3CD\" => [1, 4294967296, 65536, 4294967296]"
      ]
     },
     "metadata": {},
     "output_type": "display_data"
    }
   ],
   "source": [
    "# Here is an example below (note that the type of return is 'Nothing')\n",
    "\n",
    "\"\"\"\n",
    "    square_subject_data!(data)\n",
    "\n",
    "Square data from each subject.\n",
    "\"\"\"\n",
    "function square_subject_data!(data::Dict{String, Vector{Int}})::Nothing\n",
    "    for subj in keys(data)\n",
    "        data[subj] = data[subj] .^ 2\n",
    "    end\n",
    "    return nothing\n",
    "end\n",
    "square_subject_data!(data)\n",
    "display(data)\n",
    "square_subject_data!(data)\n",
    "display(data)"
   ]
  },
  {
   "cell_type": "code",
   "execution_count": 125,
   "metadata": {},
   "outputs": [
    {
     "name": "stdout",
     "output_type": "stream",
     "text": [
      "4\n",
      "134217728\n"
     ]
    }
   ],
   "source": [
    "# Similar to Python's lambda functions, Julia also has 'anynonymous functions' (aka one line functions)\n",
    "# These functions use arrow notation. A simple example is shown below:\n",
    "\n",
    "square = x -> x^2\n",
    "println(square(2))\n",
    "power_power = (x, y) -> 2^x^y\n",
    "println(power_power(3, 3))"
   ]
  },
  {
   "cell_type": "markdown",
   "metadata": {},
   "source": [
    "These anonymous functions can be useful in a number of cases. The most obvious is to find the position of an element in an array. \n",
    "\n",
    "This uses the `findfirst` or `findall` functions. These functions take a 'check' function as first argument to tell them what to look for.\n",
    "\n",
    "This check is a statement that is applied to all elements, and those that satisfy it are returned"
   ]
  },
  {
   "cell_type": "code",
   "execution_count": 126,
   "metadata": {},
   "outputs": [
    {
     "name": "stdout",
     "output_type": "stream",
     "text": [
      "6\n",
      "[6, 8]\n"
     ]
    }
   ],
   "source": [
    "a = [0, 0, 1, 4, 3, 2, 4, 2]\n",
    "check = x -> x == 2 # this checks whether 'x' is equal to 2 or not\n",
    "println(findfirst(check, a)) # returns the index of the first element where check is satisfied\n",
    "println(findall(check, a)) # returns all indices where check is satisfied"
   ]
  },
  {
   "cell_type": "code",
   "execution_count": 127,
   "metadata": {},
   "outputs": [
    {
     "data": {
      "text/plain": [
       "3-element Vector{Vector{Int64}}:\n",
       " [1, 2, 3]\n",
       " [3, 3, 5, 6, 2]\n",
       " [2, 4, 6, 7]"
      ]
     },
     "metadata": {},
     "output_type": "display_data"
    }
   ],
   "source": [
    "# If we only want the values, but not the indices, we can use the broadcasting operator.\n",
    "# For example, in the following array, imagine we only want the lists with length greater than 2.\n",
    "\n",
    "a = [[1, 2, 3], [3, 3, 5, 6, 2], [2], [4, 2], [5, 2], [2], [2, 4, 6, 7]]\n",
    "\n",
    "# We fist generate an array with a 1 if the element satisfied our demand, and 0 otherwise\n",
    "\n",
    "b = length.(a) .> 2\n",
    "\n",
    "# Then we can index our original array with this 'BitVector' to get the same result\n",
    "a[b]"
   ]
  },
  {
   "cell_type": "markdown",
   "metadata": {},
   "source": [
    "## STRUCTS\n",
    "\n",
    "As I mentioned earlier, Julia is a functional programming language. \n",
    "If creating your own type (which you can do but we won't get into) is not enough, or you want a very custom data structure then structs may be useful. \n",
    "\n",
    "By default, structs are immutable, but they can be made mutable."
   ]
  },
  {
   "cell_type": "code",
   "execution_count": 129,
   "metadata": {},
   "outputs": [],
   "source": [
    "struct Car\n",
    "    license_plate::String\n",
    "    brand::String\n",
    "    year_built::Int\n",
    "    owners::Vector{String}\n",
    "end"
   ]
  },
  {
   "cell_type": "code",
   "execution_count": 131,
   "metadata": {},
   "outputs": [
    {
     "name": "stdout",
     "output_type": "stream",
     "text": [
      "2017\n",
      "[\"Judy\"]\n"
     ]
    }
   ],
   "source": [
    "my_car = Car(\"1BC6TF\", \"Audi\", 2017, [\"Judy\", \"Bob\"])\n",
    "println(my_car.year_built)\n",
    "pop!(my_car.owners)\n",
    "println(my_car.owners)"
   ]
  },
  {
   "cell_type": "code",
   "execution_count": 132,
   "metadata": {},
   "outputs": [
    {
     "ename": "ErrorException",
     "evalue": "setfield!: immutable struct of type Car cannot be changed",
     "output_type": "error",
     "traceback": [
      "setfield!: immutable struct of type Car cannot be changed\n",
      "\n",
      "Stacktrace:\n",
      " [1] setproperty!(x::Car, f::Symbol, v::String)\n",
      "   @ Base ./Base.jl:41\n",
      " [2] top-level scope\n",
      "   @ ~/Documents/PhD projects/talks/Julia workshop/julia-workshop/baics.ipynb:1"
     ]
    }
   ],
   "source": [
    "my_car.license_plate = \"1BC6TG\""
   ]
  },
  {
   "cell_type": "code",
   "execution_count": 133,
   "metadata": {},
   "outputs": [
    {
     "data": {
      "text/plain": [
       "\"1BC6TG\""
      ]
     },
     "metadata": {},
     "output_type": "display_data"
    }
   ],
   "source": [
    "mutable struct MCar\n",
    "    license_plate::String\n",
    "    brand::String\n",
    "    year_built::Int\n",
    "    owners::Vector{String}\n",
    "end\n",
    "my_car = MCar(\"1BC6TF\", \"Audi\", 2017, [\"Judy\", \"Bob\"])\n",
    "my_car.license_plate = \"1BC6TG\""
   ]
  },
  {
   "cell_type": "code",
   "execution_count": 134,
   "metadata": {},
   "outputs": [
    {
     "name": "stdout",
     "output_type": "stream",
     "text": [
      "Car <: Any\n",
      "  license_plate::String\n",
      "  brand::String\n",
      "  year_built::Int64\n",
      "  owners::Vector{String}\n",
      "MCar\n",
      "  license_plate: String \"1BC6TG\"\n",
      "  brand: String \"Audi\"\n",
      "  year_built: Int64 2017\n",
      "  owners: Array{String}((2,))\n",
      "    1: String \"Judy\"\n",
      "    2: String \"Bob\"\n"
     ]
    }
   ],
   "source": [
    "# You can view everything about a struct using 'dump'\n",
    "\n",
    "dump(Car)\n",
    "dump(my_car)"
   ]
  },
  {
   "cell_type": "code",
   "execution_count": null,
   "metadata": {},
   "outputs": [],
   "source": []
  }
 ],
 "metadata": {
  "kernelspec": {
   "display_name": "Julia 1.10.3",
   "language": "julia",
   "name": "julia-1.10"
  },
  "language_info": {
   "file_extension": ".jl",
   "mimetype": "application/julia",
   "name": "julia",
   "version": "1.10.3"
  }
 },
 "nbformat": 4,
 "nbformat_minor": 4
}
